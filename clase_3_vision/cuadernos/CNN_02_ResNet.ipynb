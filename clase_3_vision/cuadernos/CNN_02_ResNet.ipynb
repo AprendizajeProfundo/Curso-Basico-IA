{
 "cells": [
  {
   "cell_type": "markdown",
   "id": "e885d97f-d946-4597-b890-f48ccd7cc354",
   "metadata": {
    "slideshow": {
     "slide_type": "slide"
    },
    "tags": []
   },
   "source": [
    "<figure>\n",
    "<img src=\"../imagenes/logo-final-ap.png\"  width=\"80\" height=\"80\" align=\"left\"/> \n",
    "</figure>\n",
    "\n",
    "# <span style=\"color:blue\"><left>Aprendizaje Profundo</left></span>"
   ]
  },
  {
   "cell_type": "markdown",
   "id": "50c779ad-b38a-4f97-8780-661af08aa3d3",
   "metadata": {
    "tags": []
   },
   "source": [
    "# <span style=\"color:red\"><center>Minicurso  de Inteligencia Artificial<center></span>"
   ]
  },
  {
   "cell_type": "markdown",
   "id": "269f3eaf-a7d2-49ea-b88b-6b4e6ea4cc14",
   "metadata": {
    "tags": []
   },
   "source": [
    "## <span style=\"color:Green\"><center>Clasificación con ResNet<center></span>"
   ]
  },
  {
   "cell_type": "markdown",
   "id": "9235e43f-5b19-402e-be4b-d37f604d844c",
   "metadata": {
    "slideshow": {
     "slide_type": "slide"
    },
    "tags": []
   },
   "source": [
    "##   <span style=\"color:blue\">Profesores</span>"
   ]
  },
  {
   "cell_type": "markdown",
   "id": "6f5af7ac-7e6e-448f-9e72-d305e94d7ca1",
   "metadata": {},
   "source": [
    "1. Alvaro  Montenegro, PhD, ammontenegrod@unal.edu.co\n",
    "2. Daniel  Montenegro, Msc, dextronomo@gmail.com \n",
    "1. Oleg Jarma, Estadístico, ojarmam@unal.edu.co "
   ]
  },
  {
   "cell_type": "markdown",
   "id": "dacad007-a967-44af-a8b2-ca7bb67e03e2",
   "metadata": {
    "slideshow": {
     "slide_type": "slide"
    },
    "tags": []
   },
   "source": [
    "##   <span style=\"color:blue\">Asesora Medios y Marketing digital</span>\n",
    " "
   ]
  },
  {
   "cell_type": "markdown",
   "id": "da23eda8-18c4-4b9f-8e54-ede5deb5d8d2",
   "metadata": {
    "tags": []
   },
   "source": [
    "4. Maria del Pilar Montenegro, pmontenegro88@gmail.com "
   ]
  },
  {
   "cell_type": "markdown",
   "id": "d85b7263-f324-4f87-850b-eb88037a0007",
   "metadata": {
    "slideshow": {
     "slide_type": "slide"
    },
    "tags": []
   },
   "source": [
    "## <span style=\"color:blue\">Asistentes</span>"
   ]
  },
  {
   "cell_type": "markdown",
   "id": "b50cf73f-ddac-4048-b329-c31fafe9f248",
   "metadata": {},
   "source": [
    "1. Nayibe Yesenia Arias, naariasc@unal.edu.co\n",
    "1. Venus Celeste Puertas, vpuertasg@unal.edu.co "
   ]
  },
  {
   "cell_type": "code",
   "execution_count": 1,
   "id": "2f257fed-f31c-4b53-9435-80c1dca9d008",
   "metadata": {},
   "outputs": [
    {
     "name": "stdout",
     "output_type": "stream",
     "text": [
      "using cuda device\n"
     ]
    }
   ],
   "source": [
    "import torch\n",
    "from torch import nn\n",
    "from torch import optim\n",
    "from torch.utils.data import DataLoader\n",
    "\n",
    "import torchvision\n",
    "from torchvision import datasets\n",
    "from torchvision import transforms\n",
    "from torchvision.transforms import ToTensor, Lambda, Compose, Normalize\n",
    "\n",
    "from torchvision import models\n",
    "\n",
    "import time\n",
    "import tqdm as tqdm\n",
    "from torch.autograd import Variable\n",
    "\n",
    "device = 'cuda' if torch.cuda.is_available() else 'cpu'\n",
    "print('using {} device'.format(device))"
   ]
  },
  {
   "cell_type": "code",
   "execution_count": 2,
   "id": "137645e6-4ba8-4fa0-84d7-edea82667a37",
   "metadata": {},
   "outputs": [],
   "source": [
    "transform = Compose([ToTensor(),\n",
    "                    Lambda(lambda x: x.repeat(3, 1, 1))])\n",
    "\n",
    "batch_size = 256\n",
    "\n",
    "train_data = datasets.FashionMNIST(\n",
    "    root=\"/media/storage/Datasets\",\n",
    "    train=True,\n",
    "    download=True,\n",
    "    transform=transform\n",
    ")\n",
    "\n",
    "test_data = datasets.FashionMNIST(\n",
    "    root=\"/media/storage/Datasets\",\n",
    "    train=False,\n",
    "    download=True,\n",
    "    transform=transform\n",
    ")\n",
    "\n",
    "train_loader = torch.utils.data.DataLoader(train_data, batch_size=batch_size,\n",
    "    shuffle=True, num_workers=0)\n",
    "test_loader = torch.utils.data.DataLoader(test_data, batch_size=batch_size,\n",
    "    shuffle=True, num_workers=0)"
   ]
  },
  {
   "cell_type": "code",
   "execution_count": 3,
   "id": "646d0348-f57e-486c-b400-c48953214b52",
   "metadata": {},
   "outputs": [],
   "source": [
    "class ResNetFeatureExtract(nn.Module):\n",
    "    def __init__(self, pretrained = True):\n",
    "        super(ResNetFeatureExtract, self).__init__()\n",
    "        model_resnet18 = models.resnet18(pretrained=pretrained)\n",
    "        self.conv1 = model_resnet18.conv1\n",
    "        self.bn1 = model_resnet18.bn1\n",
    "        self.relu = model_resnet18.relu\n",
    "        self.maxpool = model_resnet18.maxpool\n",
    "        self.layer1 = model_resnet18.layer1\n",
    "        self.layer2 = model_resnet18.layer2\n",
    "        self.layer3 = model_resnet18.layer3\n",
    "        self.layer4 = model_resnet18.layer4\n",
    "        self.avgpool = model_resnet18.avgpool\n",
    "        \n",
    "    def forward(self, x):\n",
    "        x = self.relu(self.bn1(self.conv1(x)))\n",
    "        x = self.maxpool(x)\n",
    "        x = self.layer1(x)\n",
    "        x = self.layer2(x)\n",
    "        x = self.layer3(x)\n",
    "        x = self.layer4(x)\n",
    "        x = self.avgpool(x)\n",
    "        x = x.view(x.size(0), -1)\n",
    "        \n",
    "        return x\n",
    "\n",
    "class ResClassifier(nn.Module):\n",
    "    def __init__(self, dropout=0.5):\n",
    "        super(ResClassifier, self).__init__()\n",
    "        self.fc = nn.Linear(512, 10)\n",
    "    \n",
    "    def forward(self, x):\n",
    "        out = self.fc(x)\n",
    "        return out\n",
    "    \n",
    "def weights_init(m):\n",
    "    classname = m.__class__.__name__\n",
    "    if classname.find(\"Conv\") != -1:\n",
    "        torch.nn.init.xavier_uniform_(m.weight)\n",
    "    elif classname.find('Linear') != -1:\n",
    "        torch.nn.init.xavier_uniform_(m.weight)\n",
    "    elif classname.find('BatchNorm') != -1:\n",
    "        m.weight.data.normal_(1.0, 0.01)\n",
    "\n",
    "def test_accuracy(data_iter, netG, netF):\n",
    "    \"\"\"Evaluate testset accuracy of a model.\"\"\"\n",
    "    acc_sum,n = 0,0\n",
    "    for (imgs, labels) in data_iter:\n",
    "        imgs = imgs.to(device)\n",
    "        labels = labels.to(device)\n",
    "        netG.eval()\n",
    "        netF.eval()\n",
    "        with torch.no_grad():\n",
    "            labels = labels.long()\n",
    "            acc_sum += torch.sum((torch.argmax(netF(netG(imgs)), dim=1) == labels)).float()\n",
    "            n += labels.shape[0]\n",
    "    return acc_sum.item()/n"
   ]
  },
  {
   "cell_type": "code",
   "execution_count": 4,
   "id": "ac97588b-9680-47e7-9ca7-98a26512f6b3",
   "metadata": {},
   "outputs": [
    {
     "name": "stderr",
     "output_type": "stream",
     "text": [
      "235it [00:09, 23.62it/s]\n"
     ]
    },
    {
     "name": "stdout",
     "output_type": "stream",
     "text": [
      "epoch 1, loss 0.0020, train acc 0.822, test acc 0.875, time 10.9 sec\n"
     ]
    },
    {
     "name": "stderr",
     "output_type": "stream",
     "text": [
      "235it [00:09, 24.42it/s]\n"
     ]
    },
    {
     "name": "stdout",
     "output_type": "stream",
     "text": [
      "epoch 2, loss 0.0011, train acc 0.895, test acc 0.883, time 10.6 sec\n"
     ]
    },
    {
     "name": "stderr",
     "output_type": "stream",
     "text": [
      "235it [00:09, 24.29it/s]\n"
     ]
    },
    {
     "name": "stdout",
     "output_type": "stream",
     "text": [
      "epoch 3, loss 0.0009, train acc 0.915, test acc 0.885, time 10.7 sec\n"
     ]
    },
    {
     "name": "stderr",
     "output_type": "stream",
     "text": [
      "235it [00:09, 24.56it/s]\n"
     ]
    },
    {
     "name": "stdout",
     "output_type": "stream",
     "text": [
      "epoch 4, loss 0.0008, train acc 0.928, test acc 0.893, time 10.6 sec\n"
     ]
    },
    {
     "name": "stderr",
     "output_type": "stream",
     "text": [
      "235it [00:09, 24.47it/s]\n"
     ]
    },
    {
     "name": "stdout",
     "output_type": "stream",
     "text": [
      "epoch 5, loss 0.0006, train acc 0.939, test acc 0.893, time 10.7 sec\n"
     ]
    },
    {
     "name": "stderr",
     "output_type": "stream",
     "text": [
      "235it [00:09, 24.40it/s]\n"
     ]
    },
    {
     "name": "stdout",
     "output_type": "stream",
     "text": [
      "epoch 6, loss 0.0005, train acc 0.948, test acc 0.896, time 10.7 sec\n"
     ]
    },
    {
     "name": "stderr",
     "output_type": "stream",
     "text": [
      "235it [00:09, 24.29it/s]\n"
     ]
    },
    {
     "name": "stdout",
     "output_type": "stream",
     "text": [
      "epoch 7, loss 0.0005, train acc 0.955, test acc 0.895, time 10.7 sec\n"
     ]
    },
    {
     "name": "stderr",
     "output_type": "stream",
     "text": [
      "235it [00:09, 24.13it/s]\n"
     ]
    },
    {
     "name": "stdout",
     "output_type": "stream",
     "text": [
      "epoch 8, loss 0.0004, train acc 0.965, test acc 0.887, time 10.9 sec\n"
     ]
    },
    {
     "name": "stderr",
     "output_type": "stream",
     "text": [
      "235it [00:09, 24.30it/s]\n"
     ]
    },
    {
     "name": "stdout",
     "output_type": "stream",
     "text": [
      "epoch 9, loss 0.0003, train acc 0.969, test acc 0.884, time 10.8 sec\n"
     ]
    },
    {
     "name": "stderr",
     "output_type": "stream",
     "text": [
      "235it [00:09, 24.17it/s]\n"
     ]
    },
    {
     "name": "stdout",
     "output_type": "stream",
     "text": [
      "epoch 10, loss 0.0003, train acc 0.974, test acc 0.896, time 10.8 sec\n"
     ]
    }
   ],
   "source": [
    "netG = ResNetFeatureExtract(pretrained = True)\n",
    "netF = ResClassifier()\n",
    "\n",
    "netG = netG.to(device)\n",
    "netF = netF.to(device)\n",
    "\n",
    "opt_g = optim.SGD(netG.parameters(), lr=0.01, weight_decay=0.0005)\n",
    "opt_f = optim.SGD(netF.parameters(), lr=0.01, momentum=0.9, weight_decay=0.0005)\n",
    "\n",
    "criterion = nn.CrossEntropyLoss()\n",
    "\n",
    "for epoch in range(0,10):\n",
    "    n, start = 0, time.time()\n",
    "    train_l_sum = torch.tensor([0.0], dtype=torch.float32)\n",
    "    train_acc_sum = torch.tensor([0.0], dtype=torch.float32)\n",
    "    for i, (imgs, labels) in tqdm.tqdm(enumerate(iter(train_loader))):\n",
    "        netG.train()\n",
    "        netF.train()\n",
    "        imgs = Variable(imgs)\n",
    "        labels = Variable(labels)\n",
    "        \n",
    "        imgs = imgs.to(device)\n",
    "        labels = labels.to(device)\n",
    "        train_l_sum = train_l_sum.to(device)\n",
    "        train_acc_sum = train_acc_sum.to(device)\n",
    "        \n",
    "        opt_g.zero_grad()\n",
    "        opt_f.zero_grad()\n",
    "        \n",
    "        bottleneck = netG(imgs)\n",
    "        \n",
    "        labels_hat = netF(bottleneck)\n",
    "        \n",
    "        loss = criterion(labels_hat, labels)\n",
    "        loss.backward()\n",
    "        opt_g.step()\n",
    "        opt_f.step()\n",
    "        \n",
    "        netG.eval()\n",
    "        netF.eval()\n",
    "        labels = labels.long()\n",
    "        train_l_sum += loss.float()\n",
    "        train_acc_sum += (torch.sum((torch.argmax(labels_hat, dim=1) == labels))).float()\n",
    "        n += labels.shape[0]\n",
    "    test_acc = test_accuracy(iter(test_loader), netG, netF)\n",
    "    print('epoch %d, perdida %.4f, precisión train %.3f, precisión test  %.3f, tiempo %.1f seg'\\\n",
    "        % (epoch + 1, train_l_sum/n, train_acc_sum/n, test_acc, time.time() - start))"
   ]
  }
 ],
 "metadata": {
  "kernelspec": {
   "display_name": "Python 3 (ipykernel)",
   "language": "python",
   "name": "python3"
  },
  "language_info": {
   "codemirror_mode": {
    "name": "ipython",
    "version": 3
   },
   "file_extension": ".py",
   "mimetype": "text/x-python",
   "name": "python",
   "nbconvert_exporter": "python",
   "pygments_lexer": "ipython3",
   "version": "3.9.15"
  }
 },
 "nbformat": 4,
 "nbformat_minor": 5
}
