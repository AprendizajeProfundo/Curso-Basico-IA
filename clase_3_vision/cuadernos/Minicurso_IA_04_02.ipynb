{
 "cells": [
  {
   "cell_type": "markdown",
   "id": "eba733fb-82af-464b-a5cd-4eaca1ad3dc9",
   "metadata": {
    "slideshow": {
     "slide_type": "slide"
    },
    "tags": []
   },
   "source": [
    "<figure>\n",
    "<img src=\"../Imagenes/logo-final-ap.png\"  width=\"80\" height=\"80\" align=\"left\"/> \n",
    "</figure>\n",
    "\n",
    "# <span style=\"color:blue\"><left>Aprendizaje Profundo</left></span>"
   ]
  },
  {
   "cell_type": "markdown",
   "id": "62e66ec7-2417-42e5-88d7-c555491352ee",
   "metadata": {
    "tags": []
   },
   "source": [
    "# <span style=\"color:red\"><center>Minicurso  de Inteligencia Artificial<center></span>"
   ]
  },
  {
   "attachments": {},
   "cell_type": "markdown",
   "id": "d87dd845-d16b-46e9-9ce8-94c20bb8bf97",
   "metadata": {
    "tags": []
   },
   "source": [
    "## <span style=\"color:Green\"><center>Estructuras de visión modernas<center></span>"
   ]
  },
  {
   "cell_type": "markdown",
   "id": "ed128aa8-d7ba-43dd-a2f9-5baf448c9080",
   "metadata": {
    "slideshow": {
     "slide_type": "slide"
    },
    "tags": []
   },
   "source": [
    "##   <span style=\"color:blue\">Profesores</span>"
   ]
  },
  {
   "cell_type": "markdown",
   "id": "0e8cf2a7-dda7-4fd6-96b9-ceaf932c107b",
   "metadata": {},
   "source": [
    "1. Alvaro  Montenegro, PhD, ammontenegrod@unal.edu.co\n",
    "2. Daniel  Montenegro, Msc, dextronomo@gmail.com \n",
    "1. Oleg Jarma, Estadístico, ojarmam@unal.edu.co "
   ]
  },
  {
   "cell_type": "markdown",
   "id": "b0055857-6130-4d7a-8b5e-d6fb5b680094",
   "metadata": {
    "slideshow": {
     "slide_type": "slide"
    },
    "tags": []
   },
   "source": [
    "##   <span style=\"color:blue\">Asesora Medios y Marketing digital</span>\n",
    " "
   ]
  },
  {
   "cell_type": "markdown",
   "id": "901a5cb4-78b1-4d86-9cb2-4e69112d45d7",
   "metadata": {
    "tags": []
   },
   "source": [
    "4. Maria del Pilar Montenegro, pmontenegro88@gmail.com "
   ]
  },
  {
   "cell_type": "markdown",
   "id": "d33b4dd9-73a3-4d27-a829-a880e8b89de4",
   "metadata": {
    "slideshow": {
     "slide_type": "slide"
    },
    "tags": []
   },
   "source": [
    "## <span style=\"color:blue\">Asistentes</span>"
   ]
  },
  {
   "cell_type": "markdown",
   "id": "307c2f74-b8dd-4ff6-b6e4-2d09085329e3",
   "metadata": {},
   "source": [
    "1. Nayibe Yesenia Arias, naariasc@unal.edu.co\n",
    "1. Venus Celeste Puertas, vpuertasg@unal.edu.co "
   ]
  },
  {
   "cell_type": "markdown",
   "id": "ef365ca1-e725-4bc6-a43b-207946132d85",
   "metadata": {
    "slideshow": {
     "slide_type": "slide"
    },
    "tags": []
   },
   "source": [
    "## <span style=\"color:blue\">ResNet: Redes Residuales</span>"
   ]
  },
  {
   "cell_type": "markdown",
   "id": "ab93f2ed-46d0-46f5-a1cf-93b380bbb6b1",
   "metadata": {},
   "source": [
    "### <span style=\"color:blue\">Introducción</span>"
   ]
  },
  {
   "cell_type": "markdown",
   "id": "edb83250-37fc-4257-bfc7-0382c8255081",
   "metadata": {},
   "source": [
    "En las redes neuronales, como con casi todo en la vida, puede pensarse que \"entre más, mejor\". Si la red neuronal no está dando los resultados avanzados, podemos agregar más capas para que aprenda mejor. ¿Tiene sentido, no? Bueno, es poco más complicado\n",
    "\n",
    "<figure>\n",
    "<img src=\"../Imagenes/en_teoria.jpeg\"  width=\"400\" height=\"400\"/> \n",
    "</figure>"
   ]
  },
  {
   "cell_type": "markdown",
   "id": "6e8ab5ae-b733-4ae7-95d9-50c73c826f01",
   "metadata": {
    "slideshow": {
     "slide_type": "subslide"
    },
    "tags": []
   },
   "source": [
    "En realidad, es mucho más complicado.\n",
    "\n",
    "De hecho, se ha visto que, a partir de cierto punto, agregar más capas puede ser perjudicial para el proceso de entrenamiendo\n",
    "\n",
    "<figure>\n",
    "<img src=\"../Imagenes/resnet_comparison.png\"  width=\"600\" height=\"600\" align=\"left\"/> \n",
    "</figure>\n",
    "\n"
   ]
  },
  {
   "cell_type": "markdown",
   "id": "37413f08-6036-4b10-b45d-c48dddc23223",
   "metadata": {
    "slideshow": {
     "slide_type": "subslide"
    },
    "tags": []
   },
   "source": [
    "\n",
    "\n",
    "<figure>\n",
    "<img src=\"../Imagenes/ResBlock.png\"  width=\"400\" height=\"400\" align=\"right\"/> \n",
    "</figure>\n",
    "\n",
    "Pero algunas personas dijeron que esto no debería ser así, el practica debería asemejarse a la teoría. con esto llegaron a la idea de \"redes residuales\", redes que hacen trampa \"saltándose\" algunas capas regulares.\n",
    "\n",
    "Estos segmentos de redes son llamados \"bloques residuales\". Se le asigna una \"conexión de salto\" a la red, haciendo que el paso del ajuste en la capa no se haga, evitando crear más sesgo, y se aplique directamente la función de activación, intentando así mitigar los posibles daños hechos en casos pasados.\n",
    "\n",
    "Este proceso ha permitido la creación de capas muy profundas, llegando hasta 1000 capas sin mucho deterioro"
   ]
  },
  {
   "cell_type": "markdown",
   "id": "7712c147-74cf-4360-a80b-31bfed6ab189",
   "metadata": {
    "slideshow": {
     "slide_type": "subslide"
    },
    "tags": []
   },
   "source": [
    "### <span style=\"color:blue\">Ejemplo práctico: Clasificación con ResNet</span>"
   ]
  },
  {
   "cell_type": "markdown",
   "id": "cf1b05eb-3455-4cc3-a6b6-1bbbf51b5970",
   "metadata": {},
   "source": [
    "PEro no se necesitan altas cantidades de capas para ver los beneficios de los bloques residuales. Aquí hay un ejemplo para comparar con casos bases de Redes convolucionales"
   ]
  },
  {
   "cell_type": "markdown",
   "id": "ee5c0083-7831-4751-8b46-0e47a7f95172",
   "metadata": {
    "tags": []
   },
   "source": [
    "[Ejemplo de ResNet(html)](../Presentaciones/CNN_02_ResNet.html)"
   ]
  },
  {
   "cell_type": "markdown",
   "id": "9048e438-45a7-4282-a3d0-02cd89ce6cd5",
   "metadata": {
    "slideshow": {
     "slide_type": "skip"
    },
    "tags": []
   },
   "source": [
    "[Ejemplo de ResNet(cuaderno)](../Cuadernos/CNN_02_ResNet.ipynb)"
   ]
  },
  {
   "cell_type": "markdown",
   "id": "17ff88a2-824b-4e7d-82f9-eca251012274",
   "metadata": {
    "slideshow": {
     "slide_type": "slide"
    },
    "tags": []
   },
   "source": [
    "## <span style=\"color:blue\">Darknet y YOLO</span>"
   ]
  },
  {
   "cell_type": "markdown",
   "id": "41a72c98-6064-49bc-a0e0-de6908e10e48",
   "metadata": {},
   "source": [
    "La detección de objetos es de las tareas de mayor interés en el campo de visión artificial, y al mismo tiempo de las cosas más complejas, en especial cuando se despliega y se necesitan resultados en tiempo real.\n",
    "\n",
    "<figure>\n",
    "<img src=\"../Imagenes/recognition_detection.jpg\"  width=\"400\" height=\"600\"/> \n",
    "</figure>"
   ]
  },
  {
   "cell_type": "markdown",
   "id": "d76b7f58-5c8e-4201-8c30-4cbc24740ba5",
   "metadata": {
    "slideshow": {
     "slide_type": "subslide"
    },
    "tags": []
   },
   "source": [
    "Por supuesto, han habido muchas propuestas, pero la que más ha resonado ha sido la de Darknet y el algoritmo You Only Look Once"
   ]
  },
  {
   "cell_type": "markdown",
   "id": "cf969620-fc01-4fcc-8f34-e68909201dea",
   "metadata": {},
   "source": [
    "[![DLSS](https://img.youtube.com/vi/Cgxsv1riJhI/0.jpg)](https://www.youtube.com/watch?v=Cgxsv1riJhI)"
   ]
  },
  {
   "cell_type": "markdown",
   "id": "68ba5713-3d52-4f00-8421-94ba535172b8",
   "metadata": {
    "slideshow": {
     "slide_type": "subslide"
    },
    "tags": []
   },
   "source": [
    "YOLO aplica el concepto de \"Cajas ancla\" y \"cuadrícula de celdas\"\n",
    "\n",
    "<figure>\n",
    "<img src=\"../Imagenes/YOLO_1.png\"  width=\"800\" height=\"600\"/> \n",
    "</figure>\n",
    "\n",
    "corta la imágen en una cuadricula completa y hace un montón de cajas alrededorde la imagen. con base en la cuadrícula el contexto de esta, se van eliminando cajas que no tienen nada, cajas que no contienen todo el objeto y así sucesivamente para tener obtener el candidato perfecto"
   ]
  },
  {
   "cell_type": "markdown",
   "id": "409ea8f4-b475-4de1-abc4-df44e9758fbf",
   "metadata": {
    "slideshow": {
     "slide_type": "subslide"
    },
    "tags": []
   },
   "source": [
    "<figure>\n",
    "<img src=\"../Imagenes/anchor_box.png\"  width=\"600\" height=\"600\"/> \n",
    "</figure>"
   ]
  },
  {
   "cell_type": "code",
   "execution_count": null,
   "id": "82c24030-4fa8-4d3a-82c1-ae6c82585e1b",
   "metadata": {},
   "outputs": [],
   "source": []
  }
 ],
 "metadata": {
  "kernelspec": {
   "display_name": "Python 3 (ipykernel)",
   "language": "python",
   "name": "python3"
  },
  "language_info": {
   "codemirror_mode": {
    "name": "ipython",
    "version": 3
   },
   "file_extension": ".py",
   "mimetype": "text/x-python",
   "name": "python",
   "nbconvert_exporter": "python",
   "pygments_lexer": "ipython3",
   "version": "3.9.10"
  }
 },
 "nbformat": 4,
 "nbformat_minor": 5
}
