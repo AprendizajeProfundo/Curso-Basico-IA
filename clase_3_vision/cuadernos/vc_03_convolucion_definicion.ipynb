{
 "cells": [
  {
   "cell_type": "markdown",
   "id": "53210de2-fffe-42be-937c-b0cc1583a8c6",
   "metadata": {},
   "source": [
    "<figure>\n",
    "<img src=\"../imagenes/logo-final-ap.png\"  width=\"80\" height=\"80\" align=\"left\"/> \n",
    "</figure>\n",
    "\n",
    "# <span style=\"color:blue\"><left>Aprendizaje Profundo</left></span>"
   ]
  },
  {
   "cell_type": "markdown",
   "id": "1afe5ba1-79a3-4284-a317-22366ad917f6",
   "metadata": {},
   "source": [
    "# <span style=\"color:red\"><center>Visión por Computadora</center></span>"
   ]
  },
  {
   "cell_type": "markdown",
   "id": "aef9e883-1740-45dd-b8a4-43068608865b",
   "metadata": {
    "tags": []
   },
   "source": [
    "## <span style=\"color:Green\"><center>Convolución: Definiciones<center></span>"
   ]
  },
  {
   "cell_type": "markdown",
   "id": "e6681494-b62f-41a7-a3d4-269eac733a08",
   "metadata": {
    "slideshow": {
     "slide_type": "slide"
    },
    "tags": []
   },
   "source": [
    "## <span style=\"color:blue\">Profesores</span>"
   ]
  },
  {
   "cell_type": "markdown",
   "id": "4eab3916-9bf4-4398-a2c2-51d9ed445918",
   "metadata": {},
   "source": [
    "1. Alvaro  Montenegro, PhD, ammontenegrod@unal.edu.co\n",
    "1. Camilo José Torres Jiménez, Msc, cjtorresj@unal.edu.co\n",
    "1. Daniel  Montenegro, Msc, dextronomo@gmail.com "
   ]
  },
  {
   "cell_type": "markdown",
   "id": "cfaae849-ee7b-4c1f-99de-db8948195327",
   "metadata": {
    "slideshow": {
     "slide_type": "subslide"
    },
    "tags": []
   },
   "source": [
    "## <span style=\"color:blue\">Asesora Medios y Marketing digital</span>"
   ]
  },
  {
   "cell_type": "markdown",
   "id": "36f3ea48-01fd-4618-8441-b9c722c7b526",
   "metadata": {},
   "source": [
    "4. Maria del Pilar Montenegro, pmontenegro88@gmail.com\n",
    "5. Jessica López Mejía, jelopezme@unal.edu.co"
   ]
  },
  {
   "cell_type": "markdown",
   "id": "68c7a634-6bca-4182-9d24-4a8bfef66d8f",
   "metadata": {
    "slideshow": {
     "slide_type": "subslide"
    },
    "tags": []
   },
   "source": [
    "## <span style=\"color:blue\">Jefe Jurídica</span>"
   ]
  },
  {
   "cell_type": "markdown",
   "id": "3e5ac170-69a1-4539-8f11-95afcfccbd08",
   "metadata": {},
   "source": [
    "6. Paula Andrea Guzmán, guzmancruz.paula@gmail.com"
   ]
  },
  {
   "cell_type": "markdown",
   "id": "447a7876-e88b-4c30-8bdd-646d7c0952f0",
   "metadata": {
    "slideshow": {
     "slide_type": "fragment"
    },
    "tags": []
   },
   "source": [
    "## <span style=\"color:blue\">Coordinador Jurídico</span>"
   ]
  },
  {
   "cell_type": "markdown",
   "id": "a3ae98fe-e20f-4526-8669-172b660d227e",
   "metadata": {},
   "source": [
    "7. David Fuentes, fuentesd065@gmail.com"
   ]
  },
  {
   "cell_type": "markdown",
   "id": "980a6011-cf31-4813-a655-9dedd16b7cfe",
   "metadata": {
    "slideshow": {
     "slide_type": "subslide"
    },
    "tags": []
   },
   "source": [
    "## <span style=\"color:blue\">Desarrolladores Principales</span>"
   ]
  },
  {
   "cell_type": "markdown",
   "id": "2019c950-2c97-492a-ac5f-722447856d39",
   "metadata": {},
   "source": [
    "8. Dairo Moreno, damoralesj@unal.edu.co\n",
    "9. Joan Castro, jelopezme@unal.edu.co\n",
    "10. Bryan Riveros, briveros@unal.edu.co\n",
    "11. Rosmer Vargas, rovargasc@unal.edu.co\n",
    "12. Venus Puertas, vpuertasg@unal.edu.co"
   ]
  },
  {
   "cell_type": "markdown",
   "id": "27f33cdc-4d73-416e-acfa-c283bad4a4fb",
   "metadata": {
    "slideshow": {
     "slide_type": "fragment"
    },
    "tags": []
   },
   "source": [
    "## <span style=\"color:blue\">Expertos en Bases de Datos</span>"
   ]
  },
  {
   "cell_type": "markdown",
   "id": "38f09135-cb7e-4751-afc3-81c242b1289f",
   "metadata": {},
   "source": [
    "13. Giovvani Barrera, udgiovanni@gmail.com\n",
    "14. Camilo Chitivo, cchitivo@unal.edu.co"
   ]
  },
  {
   "cell_type": "markdown",
   "id": "014f38e3-879e-4c1f-9115-2bf399cdd3ba",
   "metadata": {},
   "source": [
    "## <span style=\"color:blue\">Contenido</span>\n",
    "- [Convolución en el calculo](#Convolución-en-el-calculo)\n",
    "- [Convolución en las imagenes](#Convolución-en-las-imagenes)\n",
    "- [Redes Neuronales Convolucionales](#Redes-Neuronales-Convolucionales)\n",
    "    - [Capa Convolucional](#Capa-Convolucional)\n",
    "    - [Padding y Stride](#Padding-y-Stride)\n",
    "    - [Pooling](#Pooling)\n",
    "    - [Capa completamente conectada (FCL)](#Capa-completamente-conectada-(FCL))\n",
    "    - [CNN completa](#CNN-completa)"
   ]
  },
  {
   "cell_type": "markdown",
   "id": "4d27dfe1-2e01-4183-b91a-81a11c7dc48c",
   "metadata": {},
   "source": [
    "## <span style=\"color:blue\">Convolución en el calculo</span>"
   ]
  },
  {
   "cell_type": "markdown",
   "id": "fdf08b55-5850-43d1-b5d8-07facfbc51e9",
   "metadata": {},
   "source": [
    "Empezaremos observando la convolución en su definición matemática. La \"convolución\" es una operación entre dos funciones\n",
    "\n",
    "\\begin{equation}\n",
    "    f(t)\\otimes g(t) = \\int^{\\infty}_{-\\infty}f(t)g(t-\\tau)d\\tau\n",
    "\\end{equation}\n",
    "\n",
    "¿Se entiende? ¿No? Busquemos un ejemplo\n",
    "\n"
   ]
  },
  {
   "cell_type": "markdown",
   "id": "0c72776d-247e-4713-b934-edd301356940",
   "metadata": {},
   "source": [
    "Imagine que está encargado de tratar varios pacientes con una misma enfermedad. Para tratar la enfermedad, un paciente necesita tres `[3]` unidades de antídoto.\n",
    "\n",
    "Los pacientes van llegando. tenemos: Un paciente el lunes, dos el martes, tres el miercoles, cuatro el jueves y cinco el viernes. Podemos resumirlo así: `[1 2 3 4 5]`\n",
    "\n",
    "Entonces tenemos:\n",
    "- Un plan de tratamiento `[3]`, llamemos esto $f$\n",
    "- Una lista de pacientes `[1 2 3 4 5]`, llamemos esto $g$\n",
    "\n",
    "Al final del día, el hospital pide un conteo de cuantas unidades de tratamiento se aplicaron. Encontrar esto es muy sencillo. solo hay que multiplicar $f*g$ y obtenemos el conteo `[3 6 9 12 15]`. Llamemos este resultado $c$"
   ]
  },
  {
   "cell_type": "markdown",
   "id": "9758438f-f055-4fc8-8311-72aebad0d4b7",
   "metadata": {},
   "source": [
    "Supongamos ahora que la enfermedad mutó y ahora el tratamiento es por múltiples días, y la dósis se va reduciendo con cada día. En este caso $f=$`[3 2 1]`. Ahora, para saber el conteo diario de unidades aplicadas tenemos que \"deslizar\" el tratamiento, e ir haciendo multiplicaciones.\n",
    "\n",
    "```\n",
    "Lunes:\n",
    "\n",
    "        [3 2 1]\n",
    "[5 4 3 2 1]     = 3*1 = 3\n",
    "\n",
    "Martes:\n",
    "\n",
    "      [3 2 1]\n",
    "[5 4 3 2 1]     = 3*2 + 2*1 = 8\n",
    "\n",
    "Miercoles:\n",
    "\n",
    "    [3 2 1]\n",
    "[5 4 3 2 1]     = 3*3 + 2*2 + 1*1 = 14\n",
    "\n",
    "Jueves:\n",
    "\n",
    "  [3 2 1]\n",
    "[5 4 3 2 1]     = 3*4 + 2*3 + 1*2 = 20\n",
    "\n",
    "Viernes:\n",
    "\n",
    "[3 2 1]\n",
    "[5 4 3 2 1]     = 3*5 + 2*4 + 1*3 = 26\n",
    "\n",
    "\n",
    "```\n",
    "\n",
    "agregamos también sábado y domingo por los pacientes que empezaron el viernes\n",
    "\n",
    "```\n",
    "\n",
    "Sábado:\n",
    "\n",
    "[3 2 1]\n",
    "  [5 4 3 2 1]     = 2*5 + 1*4 = 14\n",
    "\n",
    "Domingo:\n",
    "\n",
    "[3 2 1]\n",
    "    [5 4 3 2 1]     = 1*5 = 5\n",
    "```\n",
    "\n",
    "\n",
    "Así, podemos decir que el conteo de dósis por día es igual a $c=$`[3 8 14 20 26 14 5]`\n",
    "\n",
    "lo que acabamos de hacer fue un convolución del plan de tratamiento $f$ sobre los pacientes\n",
    "\n",
    "podemos hacer esto más rápido usando numpy"
   ]
  },
  {
   "cell_type": "code",
   "execution_count": 1,
   "id": "f18b54f1",
   "metadata": {},
   "outputs": [
    {
     "name": "stdout",
     "output_type": "stream",
     "text": [
      "[ 3  8 14 20 26 14  5]\n",
      "[14 20 26]\n"
     ]
    }
   ],
   "source": [
    "import numpy as np \n",
    "\n",
    "f = [3, 2, 1]\n",
    "g = [1, 2, 3, 4, 5]\n",
    "\n",
    "c = np.convolve(f,g)\n",
    "\n",
    "c2 = np.convolve(f,g, mode=\"valid\")\n",
    "\n",
    "print(c)\n",
    "print(c2)"
   ]
  },
  {
   "cell_type": "markdown",
   "id": "c8c3244a-1173-473e-b0f6-600b8808772d",
   "metadata": {},
   "source": [
    "Ya que entendemos la noción matemática de convolución, podemos cambiar algunos nombres.\n",
    "\n",
    "\n",
    "* El plan de tratamiento $f$ vamos a llamarlo el **Kernel**\n",
    "\n",
    "* los pacientes a través de la semana $g$ va a ser la **Señal de Entrada**\n",
    "\n",
    "Así que: ¿Qué es una convolución? en resumidas cuentas, es una operación donde, a partir de un **Kernel**, se obtiene información acerca de la **Señal de Entrada**.\n",
    "\n",
    "Esto por supuesto no se acaba con listas de una dimensión. Podemos aplicar este mismo concepto en N dimensiones"
   ]
  },
  {
   "cell_type": "code",
   "execution_count": 2,
   "id": "507ca1ea",
   "metadata": {},
   "outputs": [
    {
     "name": "stdout",
     "output_type": "stream",
     "text": [
      "[[1. 1. 1. 1. 1.]\n",
      " [1. 1. 1. 1. 1.]\n",
      " [1. 1. 1. 1. 1.]\n",
      " [1. 1. 1. 1. 1.]\n",
      " [1. 1. 1. 1. 1.]]\n",
      "[[ 1.  3.  6.  6.  6.  5.  3.]\n",
      " [ 5. 12. 21. 21. 21. 16.  9.]\n",
      " [ 5. 12. 21. 21. 21. 16.  9.]\n",
      " [ 5. 12. 21. 21. 21. 16.  9.]\n",
      " [ 5. 12. 21. 21. 21. 16.  9.]\n",
      " [ 4.  9. 15. 15. 15. 11.  6.]]\n",
      "[[21. 21. 21.]\n",
      " [21. 21. 21.]\n",
      " [21. 21. 21.]\n",
      " [21. 21. 21.]]\n"
     ]
    }
   ],
   "source": [
    "from scipy import signal\n",
    "\n",
    "g = np.ones((5,5))\n",
    "print(g)\n",
    "f = np.array([[1,2,3], #  [[6,5,4]\n",
    "              [4,5,6]]) #  [3,2,1]]\n",
    "\n",
    "c = signal.convolve2d(f,g)\n",
    "c2 = signal.convolve2d(f,g, mode = \"valid\")\n",
    "\n",
    "print(c)\n",
    "print(c2)"
   ]
  },
  {
   "cell_type": "markdown",
   "id": "cc3d820d-c451-44cd-9083-17b7d561aec0",
   "metadata": {},
   "source": [
    "## <span style=\"color:blue\">Convolución en las imagenes</span>"
   ]
  },
  {
   "cell_type": "markdown",
   "id": "50498a31-4a67-4eb2-8cc2-aa91a99b69c5",
   "metadata": {},
   "source": [
    "Se puede aplicar la convolución a cualquier tipo de dato que pueda representarse en forma de matriz. Particularmente, para nuestro interés, en las imagenes.\n",
    "\n",
    "Las imagenes tienen componentes los cuales vamos a llamar \"canales\", una imagen a color puede describirse con 3 canales: Rojo, Verde y Azul. Mientras que una imágen en tono de grises solo tiene un canal. Cada uno de estos canales puede representarse como una matriz, con cada número representando un pixel de la imágen. Estos pixeles están entre 0 y 255 para representar su escala de color.\n",
    "\n",
    "<figure>\n",
    "<center>\n",
    "<img src=\"../imagenes/imagematrix.png\" width=\"1000\" height=\"400\"/>\n",
    "</center>\n",
    "</figure>\n",
    "\n",
    "Esta forma de representación ya sería \"suficiente\" para que una red neuronal entienda el concepto de imagen y la logre procesar. Pero si las imagenes son grandes, o si se trabaja con color, serían demasiados datos para que trabaje la red. No es óptimo\n",
    "\n",
    "Aquí es donde las convoluciones brillan\n",
    "\n",
    "<figure>\n",
    "<center>\n",
    "<img src=\"../imagenes/convolution1.gif\" width=\"600\" height=\"400\"/>\n",
    "</center>\n",
    "</figure>"
   ]
  },
  {
   "cell_type": "markdown",
   "id": "7e4b7633-fc75-443a-8a0a-cebc23e35d89",
   "metadata": {},
   "source": [
    "Aplicamos una convolución a la imagen, de hecho podemos \"resumirla\".Depende de cómo definamos el kernel (el tamaño, los números dentro de este, y que tantos pasos se mueve), podemos obtener características particulares de la imagen. El resultado de la convolución se llamará un \"mapa de características\", y se pueden obtener varios de estos al aplicar diferentes kernel.\n",
    "\n",
    "Se tienen los siguientes hiperparámetros que definen la salida de la convolución y el mapa de características:\n",
    "\n",
    "- $i_j$: El tamaño de la señal de entrada en el eje $j$\n",
    "- $k_j$: El tamaño del kernel en el eje $j$\n",
    "- $s_j$: El \"stride\" o la distancia entre las posiciones del kernel en el eje $j$"
   ]
  },
  {
   "cell_type": "markdown",
   "id": "855fcea6-e31a-4e02-a116-a1cc6b84cff3",
   "metadata": {},
   "source": [
    "## <span style=\"color:blue\">Redes Neuronales Convolucionales</span>"
   ]
  },
  {
   "cell_type": "markdown",
   "id": "f02052d4-a281-4698-a5fe-74a3ee1032e1",
   "metadata": {},
   "source": [
    "¿Cómo se aplican entonces las convoluciones en una red neuronal? observemos la estructura de una CNN\n"
   ]
  },
  {
   "cell_type": "markdown",
   "id": "8b5db0a7-ac89-4848-a801-8a0b561e950b",
   "metadata": {},
   "source": [
    "### <span style=\"color:blue\">Capa Convolucional</span>"
   ]
  },
  {
   "cell_type": "markdown",
   "id": "3d71b2c8-e80f-4d0d-9efb-2c993f5e3d91",
   "metadata": {},
   "source": [
    "recordemos un poco cómo funcionan los perceptrones \n",
    "\n",
    "<figure>\n",
    "<center>\n",
    "<img src=\"../imagenes/perceptron.png\" width=\"600\" height=\"400\"/>\n",
    "</center>\n",
    "<figcaption>Fuente: Fouzia Altaf, researchgate.net</figcaption>\n",
    "</figure>\n",
    "\n",
    "Entran datos, se hace la suma de pesos y se aplica la función de activación. Lo que hace la red en cada entrenamiento es encontrar los pesos adecuados para obtener la mejor información posible.\n",
    "\n",
    "Es posible aplicar esta misma idea al hacer una convolución\n",
    "\n",
    "<figure>\n",
    "<center>\n",
    "<img src=\"../imagenes/conv_layer.png\" width=\"800\" height=\"400\"/>\n",
    "</center>\n",
    "<figcaption>Fuente: Fouzia Altaf, researchgate.net</figcaption>\n",
    "</figure>"
   ]
  },
  {
   "cell_type": "markdown",
   "id": "a5d9aa9a-c614-4b51-89be-b9141a5acec7",
   "metadata": {},
   "source": [
    "Los \"pesos\" que busca la red van a ser ahora los elementos del kernel. Así que, ahora, en el entrenamiento, la red busca definir un kernel que le de información importante de la imagen. Ahí en adelante podemos definir el número de kernel, con cada uno haciendo una convolución diferente y, potencialmente, encontrar características separadas de la imagen.\n"
   ]
  },
  {
   "cell_type": "markdown",
   "id": "7e6d800f-e013-4fd8-8057-79ac85709b1a",
   "metadata": {},
   "source": [
    "usualmente, la capa convolucional tendrá los siguientes parámetros:\n",
    "\n",
    "- número de canales de los datos de entrada (3 si es RGB, por ejemplo)\n",
    "- número de filtros o canales de salida\n",
    "- tamaño del kernel\n",
    "- stride\n",
    "- Padding, explicado más adelante."
   ]
  },
  {
   "cell_type": "markdown",
   "id": "726a5171-29d6-4c7c-becc-d72f116a43e2",
   "metadata": {},
   "source": [
    "### <span style=\"color:blue\">Padding y Stride</span>"
   ]
  },
  {
   "cell_type": "markdown",
   "id": "dc867593-1c76-4907-b743-1379100cdf50",
   "metadata": {},
   "source": [
    "En imágenes anteriores, hemos visto que, al aplicar la convolución, el mapa de características tiene un tamaño distinto al de la imagen de entrada. \n",
    "\n",
    "De hecho, el tamaño del mapa de características está definido como $i_j-k_j+1$, con $j$ siendo los ejes\n",
    "\n",
    "con esto podemos decir que, el tamaño del mapa va a depender del tamaño del kernel y los datos de entrada.\n",
    "\n",
    "Si aplicamos varias capas convolucionales, tal vez lleguemos a perder información importante, razón por la que necesitamos métodos para mitigar estas perdidas. De igual forma tal vez querramos reducir el tamaño de forma más drástica. Aquí entra el \"Padding\" y el \"Stride\"\n",
    "\n"
   ]
  },
  {
   "cell_type": "markdown",
   "id": "60ff32c2-afc5-4b77-9d38-5d1b6484c604",
   "metadata": {},
   "source": [
    "#### <span style=\"color:red\">Padding</span>"
   ]
  },
  {
   "cell_type": "markdown",
   "id": "2d3c0548-cceb-4c88-89f6-5fa3232c982e",
   "metadata": {},
   "source": [
    "En donde se pierden más pixeles es en el perímetro de la imagen. Usualmente no nos damos cuenta de esto ya que es despreciable, pero depende a los tamaños que usemos, y cuántas veces aplicamos convoluciones, la perdida puede ser más notoria. La forma de mantener los tamaños de la imagen, e incluso expandir o interpolarla, es agregando más pixeles a los bordes.\n",
    "\n",
    "<figure>\n",
    "<center>\n",
    "<img src=\"../imagenes/Same_padding_no_strides.gif\" width=\"400\" height=\"400\"/>\n",
    "</center>\n",
    "</figure>\n",
    "\n",
    "En el caso clásico obtendríamos un mapa tamaño $3*3$, pero al agregar una fila de pixeles de encolchamiento, mantenemos el tamaño de la imagen. reduciendo la información perdida.\n",
    "\n",
    "Si se quiere mantener el tamaño de la imagen, se puede definir el tamaño de acolchamiento $p_j=k_j-1$. Aunque claro, no siempre se querrá mantener, sino aumentar\n",
    "\n",
    "<figure>\n",
    "<center>\n",
    "<img src=\"../imagenes/No_padding_no_strides_transposed.gif\" width=\"400\" height=\"400\"/>\n",
    "</center>\n",
    "</figure>"
   ]
  },
  {
   "cell_type": "markdown",
   "id": "7f382698-6592-414d-9966-154ebe3c6260",
   "metadata": {},
   "source": [
    "¿Cómo definimos el acolchamiento? este se define en la capa convolucional. Es posible definirla usando un número, o con los strings \"valid\" y \"same\""
   ]
  },
  {
   "cell_type": "markdown",
   "id": "5c34bd8f-5d4a-4715-b5c8-7269946f524d",
   "metadata": {},
   "source": [
    "#### <span style=\"color:red\">Stride</span>"
   ]
  },
  {
   "cell_type": "markdown",
   "id": "da93f320-859a-49c5-b798-79dedb02c5c7",
   "metadata": {},
   "source": [
    "Ya definimos el stride como el número de unidades que se mueve el kernel a través de los datos de entrada. \n",
    "\n",
    "En un caso contrario al padding, podemos definir pasos más alargados del kernel para que haga un \"muestreo\" de la imagen. Logrando efectivamente reducir la resolución de la imagen.\n",
    "\n",
    "<figure>\n",
    "<center>\n",
    "<img src=\"../imagenes/No_padding_strides.gif\" width=\"400\" height=\"400\"/>\n",
    "</center>\n",
    "</figure>"
   ]
  },
  {
   "cell_type": "markdown",
   "id": "72d20d24-2977-4ef3-89ed-fc6e2b000e23",
   "metadata": {},
   "source": [
    "¿Por qué querríamos reducir la resolución?"
   ]
  },
  {
   "cell_type": "markdown",
   "id": "cb3dbfb1-1cb0-4f7b-a141-90768fde1f25",
   "metadata": {},
   "source": [
    "### <span style=\"color:blue\">Pooling</span>"
   ]
  },
  {
   "cell_type": "markdown",
   "id": "6cdf3b88-4827-4bef-84a5-adbe1acce5d1",
   "metadata": {},
   "source": [
    "Acabamos de ver un método para reducir tamaños en las imagenes. El problema es que no es tan poderoso. \n",
    "\n",
    "Además, trabajando con los datos como tal, con la definición pura y altamente sensible, corremos el riesgo de que la red no logre generalizar.\n",
    "\n",
    "Por eso es buena idea hacer una reducción de la resolución a partir de una agregación de la información. Haciendo la imagen menos detallada, pero teniendo la idea general de la información. Aquí presentamos las capas Pooling.\n",
    "\n"
   ]
  },
  {
   "cell_type": "markdown",
   "id": "5191d821-5e5e-4f93-86ca-59f3db1e77b4",
   "metadata": {},
   "source": [
    "El proceso de pooling es de hecho bastante similar a una convolución tradicional. Se define una ventana con cierto tamaño que se ira deslizando a través de los datos de entrada. En cada paso se aplica una operación sobre la ventana de datos para generalizar ese sector. Al final se obtiene una matriz resumida de menor tamaño.\n",
    "\n",
    "Aquí trabajamos con los mismos hiperparámetros que la capa convolucional: tamaño de la ventana, stride y padding. En este caso el stride predeterminado es del mismo tamaño que el kernel. \n",
    "\n",
    "¿Qué operaciones se aplican en esas ventanas?\n",
    "\n",
    "- Max Pooling\n",
    "\n",
    "<figure>\n",
    "<center>\n",
    "<img src=\"../imagenes/Max_pool.png\" width=\"1000\" height=\"400\"/>\n",
    "</center>\n",
    "</figure>\n",
    "\n",
    "- Average Pooling\n",
    "\n",
    "<figure>\n",
    "<center>\n",
    "<img src=\"../imagenes/Avg_pool.png\" width=\"1000\" height=\"400\"/>\n",
    "</center>\n",
    "</figure>"
   ]
  },
  {
   "cell_type": "markdown",
   "id": "56111500-7818-435a-8d5d-1b3a86ce142e",
   "metadata": {},
   "source": [
    "Resumamos el por qué de las capas pooling:\n",
    "\n",
    "- Mejorar la generalización del modelo\n",
    "    - El modelo aprende una representación global en lugar de cosas específicas\n",
    "    - Menos susceptible a fallos si los pixeles no tienen la misa posición\n",
    "- Reducir tamaños de los datos\n",
    "    - Menos parametros que aprender\n",
    "    - Menos operaciones computacionales"
   ]
  },
  {
   "cell_type": "markdown",
   "id": "1a59368a-4a84-4186-bb7f-67d0212b909c",
   "metadata": {},
   "source": [
    "Es una buena idea agregar una capa de pooling después de una capa convolucional"
   ]
  },
  {
   "cell_type": "markdown",
   "id": "9536fc05-ba95-4fc0-98a1-8c425cd5c313",
   "metadata": {},
   "source": [
    "### <span style=\"color:blue\">Capa completamente conectada (FCL)</span>"
   ]
  },
  {
   "cell_type": "markdown",
   "id": "3198264f-93ff-4ff6-8ca7-a06071fd55ea",
   "metadata": {},
   "source": [
    "A pesar de trabajar con imagenes, estas redes neuronales tienen las mismas intenciones que cualquiero otra: Clasificación, regresión, Etc. \n",
    "\n",
    "Así que, después de procesar las imagenes con las capas convolucionales y de pooling, necesitamos que la red aprenda la tarea con la información que obtuvo.\n",
    "\n",
    "Esto se puede hacer, por ejemplo aplicando una o más capas \"regulares\" para que hagan la tarea. \n",
    "\n",
    "Claro, las imágenes seguirán siendo bidimensionales, razón por la cuál \"Aplanamos\" los datos para que puedan pasar por esta sección"
   ]
  },
  {
   "cell_type": "markdown",
   "id": "c470b44b-c7d7-4364-9713-0eb00c52510c",
   "metadata": {},
   "source": [
    "<figure>\n",
    "<center>\n",
    "<img src=\"../imagenes/flatten.png\" width=\"800\" height=\"400\"/>\n",
    "</center>\n",
    "</figure>"
   ]
  },
  {
   "cell_type": "markdown",
   "id": "281754eb-5270-4e48-b515-146f285533c3",
   "metadata": {},
   "source": [
    "### <span style=\"color:blue\">CNN completa</span>"
   ]
  },
  {
   "cell_type": "markdown",
   "id": "6b5544b0-ad79-476c-8dee-f99fc4d24e04",
   "metadata": {},
   "source": [
    "<figure>\n",
    "<center>\n",
    "<img src=\"../imagenes/LeNet.png\" width=\"1000\" height=\"250\"/>\n",
    "</center>\n",
    "</figure>"
   ]
  },
  {
   "cell_type": "markdown",
   "id": "d712b79d-bf70-419f-a58c-abd10cbbbec5",
   "metadata": {},
   "source": [
    "Este es el modelo clásico de una red neuronal convolucional\n",
    "\n",
    "- Datos de entrada\n",
    "- Capa Convolucional 1\n",
    "- Capa de submuestreo 1(Pooling)\n",
    "- Capa Convolucional 2\n",
    "- Capa de submuestreo 2\n",
    "- Aplanamiento\n",
    "- Capa conectada 1\n",
    "- Capa conectada 2\n",
    "- Capa de salida"
   ]
  }
 ],
 "metadata": {
  "kernelspec": {
   "display_name": "Python 3 (ipykernel)",
   "language": "python",
   "name": "python3"
  },
  "language_info": {
   "codemirror_mode": {
    "name": "ipython",
    "version": 3
   },
   "file_extension": ".py",
   "mimetype": "text/x-python",
   "name": "python",
   "nbconvert_exporter": "python",
   "pygments_lexer": "ipython3",
   "version": "3.9.15"
  }
 },
 "nbformat": 4,
 "nbformat_minor": 5
}
