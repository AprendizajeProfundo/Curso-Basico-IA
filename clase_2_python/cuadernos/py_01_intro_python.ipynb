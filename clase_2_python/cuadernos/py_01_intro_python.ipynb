{
 "cells": [
  {
   "cell_type": "markdown",
   "id": "5ef865c3-ded9-4b34-9cf5-8295fb8290f9",
   "metadata": {
    "slideshow": {
     "slide_type": "slide"
    },
    "tags": []
   },
   "source": [
    "<figure> \n",
    "<img src=\"../imagenes/logo-final-ap.png\"  width=\"80\" height=\"80\" align=\"left\"/> \n",
    "</figure>\n",
    "\n",
    "# <span style=\"color:blue\"><left>Aprendizaje Profundo</left></span>"
   ]
  },
  {
   "cell_type": "markdown",
   "id": "7c8fd7b0-d5e7-4b7e-ae87-397c9b704ffd",
   "metadata": {},
   "source": [
    "# <span style=\"color:red\"><center>Minicurso de Inteligencia Artificial<center></span>"
   ]
  },
  {
   "cell_type": "markdown",
   "id": "ada7f63c-8726-46a0-a934-6d7513bba962",
   "metadata": {},
   "source": [
    "## <span style=\"color:Green\"><center>Introducción a Python<center></span>"
   ]
  },
  {
   "cell_type": "markdown",
   "id": "ae397e8f-15ab-432a-adc0-15a4f3fa1fcb",
   "metadata": {
    "slideshow": {
     "slide_type": "slide"
    },
    "tags": []
   },
   "source": [
    "## <span style=\"color:blue\">Profesores</span>"
   ]
  },
  {
   "cell_type": "markdown",
   "id": "2d53bcd0-cd8b-453d-842a-375c9ce5bf85",
   "metadata": {},
   "source": [
    "1. Alvaro  Montenegro, PhD, ammontenegrod@unal.edu.co\n",
    "1. Camilo José Torres Jiménez, Msc, cjtorresj@unal.edu.co\n",
    "1. Daniel  Montenegro, Msc, dextronomo@gmail.com "
   ]
  },
  {
   "cell_type": "markdown",
   "id": "6f2d4f88-8e19-4d13-be9e-748597c040a3",
   "metadata": {
    "slideshow": {
     "slide_type": "subslide"
    },
    "tags": []
   },
   "source": [
    "## <span style=\"color:blue\">Autores</span>"
   ]
  },
  {
   "cell_type": "markdown",
   "id": "734a058c-a283-4271-9d64-5a36ae7627e0",
   "metadata": {},
   "source": [
    "1. Alvaro  Montenegro, PhD, ammontenegrod@unal.edu.co\n",
    "1. Daniel  Montenegro, Msc, dextronomo@gmail.com \n",
    "1. Oleg Jarma, Estadístico, ojarmam@unal.edu.co"
   ]
  },
  {
   "cell_type": "markdown",
   "id": "cb57e3ed-17a5-418a-aa24-eba3bd676e49",
   "metadata": {
    "slideshow": {
     "slide_type": "subslide"
    },
    "tags": []
   },
   "source": [
    "## <span style=\"color:blue\">Asesora Medios y Marketing digital</span>"
   ]
  },
  {
   "cell_type": "markdown",
   "id": "a0ee494d-c452-430f-9a7d-13898e4f4945",
   "metadata": {},
   "source": [
    "4. Maria del Pilar Montenegro, pmontenegro88@gmail.com\n",
    "5. Jessica López Mejía, jelopezme@unal.edu.co"
   ]
  },
  {
   "cell_type": "markdown",
   "id": "9d430ccd-7364-4b0f-9751-804827f65a75",
   "metadata": {
    "slideshow": {
     "slide_type": "subslide"
    },
    "tags": []
   },
   "source": [
    "## <span style=\"color:blue\">Jefe Jurídica</span>"
   ]
  },
  {
   "cell_type": "markdown",
   "id": "b92f770b-479d-4003-a366-cb37270d51b9",
   "metadata": {},
   "source": [
    "6. Paula Andrea Guzmán, guzmancruz.paula@gmail.com"
   ]
  },
  {
   "cell_type": "markdown",
   "id": "7e9ceafe-8af4-4d76-b1aa-d8adda0ff005",
   "metadata": {
    "tags": []
   },
   "source": [
    "## <span style=\"color:blue\">Coordinador Jurídico</span>"
   ]
  },
  {
   "cell_type": "markdown",
   "id": "267ebb85-76d2-4180-99d5-b2372d74f54c",
   "metadata": {},
   "source": [
    "7. David Fuentes, fuentesd065@gmail.com"
   ]
  },
  {
   "cell_type": "markdown",
   "id": "7a0d3268-d71d-445c-b2d7-fb985fcca3b8",
   "metadata": {
    "slideshow": {
     "slide_type": "subslide"
    },
    "tags": []
   },
   "source": [
    "## <span style=\"color:blue\">Desarrolladores Principales</span>"
   ]
  },
  {
   "cell_type": "markdown",
   "id": "a11d0228-7497-4335-9c1a-ff2dd3098db8",
   "metadata": {},
   "source": [
    "8. Dairo Moreno, damoralesj@unal.edu.co\n",
    "9. Joan Castro, jelopezme@unal.edu.co\n",
    "10. Bryan Riveros, briveros@unal.edu.co\n",
    "11. Rosmer Vargas, rovargasc@unal.edu.co\n",
    "12. Venus Puertas, vpuertasg@unal.edu.co"
   ]
  },
  {
   "cell_type": "markdown",
   "id": "11776734-a144-4e7f-9ead-451135c98bc5",
   "metadata": {
    "slideshow": {
     "slide_type": "fragment"
    },
    "tags": []
   },
   "source": [
    "## <span style=\"color:blue\">Expertos en Bases de Datos</span>"
   ]
  },
  {
   "cell_type": "markdown",
   "id": "e897e125-25cc-493b-b8c9-57f0bf87d0c9",
   "metadata": {},
   "source": [
    "13. Giovvani Barrera, udgiovanni@gmail.com\n",
    "14. Camilo Chitivo, cchitivo@unal.edu.co"
   ]
  },
  {
   "cell_type": "markdown",
   "id": "5338b25c-1fce-4976-94cf-f38c0b81b57d",
   "metadata": {
    "slideshow": {
     "slide_type": "slide"
    },
    "tags": []
   },
   "source": [
    "##   <span style=\"color:blue\">Lenguajes de Programación</span>"
   ]
  },
  {
   "cell_type": "markdown",
   "id": "a4125b97-5576-4079-8fb9-bf996c21e855",
   "metadata": {},
   "source": [
    "Siempre hay que tener la herramienta adecuada para cada problema.\n",
    "En el caso de la programación, hay algunos lenguajes que tienen ciertas ventajas con respecto a los demás dependiendo de lo que se quiera hacer. \n",
    "\n",
    "![right tool for the Job](../imagenes/hammer.gif)\n",
    "\n",
    "Fuente: [Tumblr](https://64.media.tumblr.com/f07885ea54fdd1cc19461a5786a1d8fe/tumblr_inline_nv041bDxnI1raprkq_500.gifv)"
   ]
  },
  {
   "cell_type": "markdown",
   "id": "94168468-ff91-4ea0-a5a1-8ecbf91c1d2a",
   "metadata": {
    "slideshow": {
     "slide_type": "subslide"
    },
    "tags": []
   },
   "source": [
    "### <span style=\"color:blue\">¿Cuál sería un buen lenguaje de programación para nuestras necesidades? </span>\n",
    "\n",
    "Necesitamos:\n",
    "\n",
    "- Capacidad para manejar y procesar datos.\n",
    "- Sencillez para trabajar con tensores (vectores, matrices, etc.).\n",
    "- Técnicas de optimización.\n",
    "- Herramientas de visualización.\n",
    "- Entre otros.\n",
    "\n",
    "Además sería útil que:\n",
    "\n",
    "- El código fuera fácil de entender y reproducir.\n",
    "- La curva de aprendizaje no fuera demasiado empinada."
   ]
  },
  {
   "cell_type": "markdown",
   "id": "b1d642f2-9d57-4d9b-ad3d-d8da352e323a",
   "metadata": {
    "slideshow": {
     "slide_type": "subslide"
    },
    "tags": []
   },
   "source": [
    "No necesariamente hay una única opción...\n",
    "\n",
    "<p float=\"center\">\n",
    "    <img src=\"../imagenes/matlab_logo.png\"  width=\"200\" height=\"200\">\n",
    "    <img src=\"../imagenes/r_logo.png\"  width=\"200\" height=\"200\">\n",
    "    <img src=\"../imagenes/julia_logo.png\"  width=\"200\" height=\"200\">\n",
    "</p>"
   ]
  },
  {
   "cell_type": "markdown",
   "id": "6e572106-45ce-41fb-9b3a-39f690718bd7",
   "metadata": {
    "slideshow": {
     "slide_type": "slide"
    },
    "tags": []
   },
   "source": [
    "##   <span style=\"color:blue\">Una de las mejores es: Python</span>"
   ]
  },
  {
   "cell_type": "markdown",
   "id": "f87decbf-ea0c-42bd-8b05-a2d3c761c32c",
   "metadata": {},
   "source": [
    "![Logo Python](../imagenes/python_logo.png)"
   ]
  },
  {
   "cell_type": "markdown",
   "id": "5cf6a41f-be8f-40f4-bfa8-70804b24ab87",
   "metadata": {
    "slideshow": {
     "slide_type": "subslide"
    },
    "tags": []
   },
   "source": [
    "<p float=\"left\">\n",
    "    <img src=\"../imagenes/guido.jpg\" align=\"right\">\n",
    "</p>\n",
    "Python fue creado en 1991 por Guido Van Rossum con la intención de crear un lenguaje con un claro enfoque en la facilidad de escritura y lectura."
   ]
  },
  {
   "cell_type": "markdown",
   "id": "981f041d",
   "metadata": {
    "slideshow": {
     "slide_type": "subslide"
    }
   },
   "source": [
    "- Python es de **proposito general**, así que puede hacer una gran cantidad de software / aplicaciones.\n",
    "- Python es un lenguaje de **alto nivel**, así que usa elementos cercanos al \"lenguaje humano\" (comparado con otros lenguajes más cercanos al \"lenguaje de la máquina\").\n",
    "- Es posible extender su uso gracias a \"paquetes\", que dan funcionalidad y herramientas especializadas para muchos trabajos.\n",
    "* Funciona en diferentes **plataformas** (Windows, Mac, Linux, etc).\n",
    "* Tiene una sintáxis que permite escribir programas en **muy pocas líneas**, comparado con otros lenguajes de programación.\n",
    "* Python es un lenguaje **interpretado**. Es decir, que los códigos se pueden correr **justo después de ser escritos**; en otras palabras, no necesitan compilación previa.\n",
    "* Se puede usar bajo varios paradigmas de programación: **procedimental**, **orientado a objetos**, **funcional**."
   ]
  },
  {
   "cell_type": "markdown",
   "id": "e1953ce9-69aa-405c-8274-28efb8703d5b",
   "metadata": {
    "slideshow": {
     "slide_type": "subslide"
    },
    "tags": []
   },
   "source": [
    "La filosofía de python se resume en su **Zen**"
   ]
  },
  {
   "cell_type": "code",
   "execution_count": 1,
   "id": "8ed5e9ca-e1fa-4147-8749-bf835e394181",
   "metadata": {},
   "outputs": [
    {
     "name": "stdout",
     "output_type": "stream",
     "text": [
      "The Zen of Python, by Tim Peters\n",
      "\n",
      "Beautiful is better than ugly.\n",
      "Explicit is better than implicit.\n",
      "Simple is better than complex.\n",
      "Complex is better than complicated.\n",
      "Flat is better than nested.\n",
      "Sparse is better than dense.\n",
      "Readability counts.\n",
      "Special cases aren't special enough to break the rules.\n",
      "Although practicality beats purity.\n",
      "Errors should never pass silently.\n",
      "Unless explicitly silenced.\n",
      "In the face of ambiguity, refuse the temptation to guess.\n",
      "There should be one-- and preferably only one --obvious way to do it.\n",
      "Although that way may not be obvious at first unless you're Dutch.\n",
      "Now is better than never.\n",
      "Although never is often better than *right* now.\n",
      "If the implementation is hard to explain, it's a bad idea.\n",
      "If the implementation is easy to explain, it may be a good idea.\n",
      "Namespaces are one honking great idea -- let's do more of those!\n"
     ]
    }
   ],
   "source": [
    "import this"
   ]
  },
  {
   "cell_type": "markdown",
   "id": "3bad347c-ff88-4333-90e1-f005a9b4385a",
   "metadata": {
    "slideshow": {
     "slide_type": "slide"
    },
    "tags": []
   },
   "source": [
    "##  <span style=\"color:blue\">Cosas que se pueden hacer (y se han hecho) con Python</span>"
   ]
  },
  {
   "cell_type": "markdown",
   "id": "13849f1f-a449-48e5-8022-d1fb8b1d5ee9",
   "metadata": {
    "colab_type": "text",
    "id": "kzyZQ2syLu9O"
   },
   "source": [
    "* Puede ser usado en un servidor para crear **aplicaciones web**, o en diseñar **páginas web**\n",
    "* Puede crear **aplicaciones de escritorio**, desde su funcionamiento base hasta su diseño.\n",
    "* Puede conectarse a sistemas de **bases de datos** para leer y modificar archivos.\n",
    "* Puede ser usado para manejar **Big Data** y hacer cálculos matemáticos de alta complejidad.\n",
    "* Puede utilizarse para **prototipado rápido** en producción de Software."
   ]
  },
  {
   "cell_type": "markdown",
   "id": "36ba554e-e2e1-4bbd-9188-efeb0c49061f",
   "metadata": {},
   "source": [
    "\n",
    "##  <span style=\"color:blue\">¿Quiénes usan Python?</span>\n",
    "\n",
    "Grandes empresas como Facebook/Meta, Dropbox, Netflix, Google y Spotify usan Python para múltiples tareas en formas muy distintas."
   ]
  },
  {
   "cell_type": "markdown",
   "id": "b23f36de-861d-4635-a22a-dab50837177c",
   "metadata": {
    "slideshow": {
     "slide_type": "subslide"
    },
    "tags": []
   },
   "source": [
    "##  <span style=\"color:blue\">¿Por qué Python?</span>"
   ]
  },
  {
   "cell_type": "markdown",
   "id": "3a505905-1b77-4d58-93e0-095a9f54733e",
   "metadata": {},
   "source": [
    "### Fácil de comenzar\n",
    "Su estilo, su filosofía y su sintaxis hacen a python muy popular y fácil de aprender. Es sencillo encontrar documentación de los problemas que se presenten.\n",
    "\n",
    "### Paquetes especializados\n",
    "Aunque sea de propósito general, gracias a muchos paquetes, las capacidades de python pueden usarse directamente en un rango muy amplio de aplicaciones.\n",
    "\n",
    "### Popularidad\n",
    "Python y sus paquetes son muy usados y constantemente en desarrollo por grandes equipos de trabajo colaborativo"
   ]
  },
  {
   "cell_type": "markdown",
   "id": "b993c606",
   "metadata": {
    "slideshow": {
     "slide_type": "slide"
    }
   },
   "source": [
    "## <span style=\"color:blue\">Algunos paquetes de potencial interés</span>"
   ]
  },
  {
   "cell_type": "markdown",
   "id": "59db1c87",
   "metadata": {},
   "source": [
    "* **math** <https://docs.python.org/3/library/math.html>\n",
    "* **numpy** <https://numpy.org/doc/stable/user/quickstart.html>\n",
    "* **scipy** <https://docs.scipy.org/doc/scipy/tutorial/index.html#user-guide>\n",
    "* **sympy** <https://docs.sympy.org/latest/tutorials/index.html>\n",
    "* **pandas** <https://pandas.pydata.org/docs/getting_started/index.html#>\n",
    "* **scikit-learn** <https://scikit-learn.org/stable/>\n",
    "* **matplotlib** <https://matplotlib.org/stable/gallery/index>\n",
    "* **seaborn** <https://seaborn.pydata.org/examples/index.html>\n",
    "* **plotly** <https://plotly.com/python/>\n",
    "* **dash** <https://dash.gallery/Portal/>\n",
    "* **tensorflow** <https://www.tensorflow.org/learn>\n",
    "* **pytorch** <https://pytorch.org/tutorials/>\n",
    "* **keras** <https://keras.io/examples/>\n",
    "* **NLTK** <https://www.nltk.org/>"
   ]
  },
  {
   "cell_type": "markdown",
   "id": "ef587a71-6bf4-418f-80ff-5c0be326232c",
   "metadata": {
    "slideshow": {
     "slide_type": "slide"
    },
    "tags": []
   },
   "source": [
    "## <span style=\"color:blue\">Instalar Python</span>\n"
   ]
  },
  {
   "cell_type": "markdown",
   "id": "8a044cdf-5b46-4f02-a991-420f48e29325",
   "metadata": {},
   "source": [
    "Para usar Python, hay varias opciones que requerirán una mayor o menor atención en su instalación.\n",
    "\n",
    "Una de las formas más rápidas de empezar a trabajar con Python, sin casi preocuparse por la instalación podría ser mediante **Google Colaboratory** <https://colab.research.google.com/>.\n",
    "\n",
    "Otra opción similar es utilizando a modo de prueba **JupyterLab** o **Jupyter Notebook** <https://jupyter.org/try>.\n",
    "\n",
    "Para una instalación local, se puede optar por utilizar la distribución de **Anaconda** (en el siguiente video se el proceso de instalación:\n",
    " [https://www.youtube.com/watch?v=tXekbwrgxL0](https://www.youtube.com/watch?v=tXekbwrgxL0)) o se puede descargar Python directamente de la página oficial (https://www.python.org/), instalarlo y luego usar o instalar el IDE (Integrated Development Environment) de su preferencia.\n",
    "\n",
    "Esta última opción es la que da un mayor control da sobre la instalación de Python y los paquetes que se deseen usar (por ejemplo, se puede instalar **JupyterLab** o **Jupyter Notebook** localmente sin necesidad de instalar **Anaconda**), pero es la que requiere una mayor atención a la instalación."
   ]
  },
  {
   "cell_type": "markdown",
   "id": "0937059e-e19c-41a5-8bcd-93f6b0e194bf",
   "metadata": {
    "colab_type": "text",
    "id": "scclT03UHVrm",
    "slideshow": {
     "slide_type": "slide"
    },
    "tags": []
   },
   "source": [
    "##  <span style=\"color:blue\">Hello World!</span>"
   ]
  },
  {
   "cell_type": "markdown",
   "id": "577289b5-ec82-42e4-a8d1-d71749ed2c6f",
   "metadata": {
    "colab_type": "text",
    "id": "c3ntgbdgHbS-"
   },
   "source": [
    "El primer ejemplo clásico de programación es escribir el código para que el computador muestre un saludo. Para esto, se usa la función de Python llamada **print**. Para colocar un saludo (o un **texto cualquiera**), se debe colocar entre **comillas dobles o sencillas** dentro del comando print. Entonces, para que el computador muestre un saludo, por ejemplo **Hello, World!**, debemos escribir en ambiente de código como sigue"
   ]
  },
  {
   "cell_type": "code",
   "execution_count": 2,
   "id": "c635b263-a879-4fa0-84cb-9030c41ce9f7",
   "metadata": {
    "colab": {
     "base_uri": "https://localhost:8080/",
     "height": 34
    },
    "colab_type": "code",
    "executionInfo": {
     "elapsed": 995,
     "status": "ok",
     "timestamp": 1582034062236,
     "user": {
      "displayName": "Daniel Montenegro",
      "photoUrl": "",
      "userId": "07275166318289302366"
     },
     "user_tz": 300
    },
    "id": "8i6cS6oYA-Lv",
    "outputId": "005b250c-fdd8-459e-a1da-fab85c44f12d"
   },
   "outputs": [
    {
     "name": "stdout",
     "output_type": "stream",
     "text": [
      "Hello world!\n"
     ]
    }
   ],
   "source": [
    "print('Hello world!')"
   ]
  },
  {
   "cell_type": "markdown",
   "id": "d33ca53c-0950-4957-ab44-7581d7ea37e1",
   "metadata": {
    "colab_type": "text",
    "id": "IUFSujLR2-Rl",
    "slideshow": {
     "slide_type": "slide"
    },
    "tags": []
   },
   "source": [
    "## <span style=\"color:blue\">Variables en Python</span>"
   ]
  },
  {
   "cell_type": "markdown",
   "id": "37e8571c-7a6d-44e1-9e79-debf356ed19e",
   "metadata": {
    "colab_type": "text",
    "id": "ivDxEY5J3EXW"
   },
   "source": [
    "Una variable sirve para **guardar un valor específico**, ya sea **numérico**, **texto** u otro **tipo de dato** con el nombre con la que se nombre dicha variable. Observemos el siguiente ejemplo."
   ]
  },
  {
   "cell_type": "code",
   "execution_count": 3,
   "id": "073897f0-c219-4384-9304-a41b52527459",
   "metadata": {
    "colab": {
     "base_uri": "https://localhost:8080/",
     "height": 51
    },
    "colab_type": "code",
    "executionInfo": {
     "elapsed": 539,
     "status": "ok",
     "timestamp": 1581611283829,
     "user": {
      "displayName": "Daniel Montenegro",
      "photoUrl": "",
      "userId": "07275166318289302366"
     },
     "user_tz": 300
    },
    "id": "XlBRuUAD3ud4",
    "outputId": "e818e251-2a66-4556-d8b9-a81ebf0195af"
   },
   "outputs": [
    {
     "name": "stdout",
     "output_type": "stream",
     "text": [
      "El valor de la variable x es 1\n",
      "\n",
      "El valor de la variable y es ¡Vamos a programar!\n"
     ]
    }
   ],
   "source": [
    "# Asignamos 1 a la variable x\n",
    "x = 1\n",
    "\n",
    "print(\"El valor de la variable x es\", x)\n",
    "\n",
    "# Asignamos \"¡Vamos a programar!\" a la variable y\n",
    "y = \"¡Vamos a programar!\"\n",
    "\n",
    "print(\"\\nEl valor de la variable y es\", y)"
   ]
  },
  {
   "cell_type": "markdown",
   "id": "3acb5a51-04e6-47a9-ab97-19ddcd373424",
   "metadata": {
    "colab_type": "text",
    "id": "IUFSujLR2-Rl",
    "slideshow": {
     "slide_type": "subslide"
    },
    "tags": []
   },
   "source": [
    "## <span style=\"color:blue\">Asignación dinámica en Python </span>"
   ]
  },
  {
   "cell_type": "markdown",
   "id": "d5c6c972-9480-4508-a0f0-186288e6869f",
   "metadata": {},
   "source": [
    "En Python no es necesario declarar una variable de antemano, como ocurre en C, C++ y otros lenguajes de programación. \n",
    "La asignación dińamica implica que es posible cambiar el tipo de dato de una variable con tan solo reasignarle un valor. En Python, se delega al programador la responsabilidad de cuidarse de efectos no esperados al cambiar el tipo de una variable. Veamos el siguiente ejemplo."
   ]
  },
  {
   "cell_type": "code",
   "execution_count": 4,
   "id": "19dfe086-d8c9-494f-839f-21b6a239b2da",
   "metadata": {},
   "outputs": [
    {
     "name": "stdout",
     "output_type": "stream",
     "text": [
      "x es número un real (float): 5.6\n",
      "x es ahora un número complejo (complex): (3+4j)\n",
      "En cambio ahora x es una cadena (string): 25 de mayo\n"
     ]
    }
   ],
   "source": [
    "x = 5.6\n",
    "print('x es número un real (float):', x)\n",
    "\n",
    "x = 3+4j\n",
    "print('x es ahora un número complejo (complex):', x)\n",
    "\n",
    "x = '25 de mayo'\n",
    "print('En cambio ahora x es una cadena (string):', x)"
   ]
  },
  {
   "cell_type": "markdown",
   "id": "30517fca-ab92-455e-ac4f-a771f4601f24",
   "metadata": {
    "colab_type": "text",
    "id": "IUFSujLR2-Rl",
    "slideshow": {
     "slide_type": "subslide"
    },
    "tags": []
   },
   "source": [
    "##  <span style=\"color:blue\">Reglas para la creación de variables </span>"
   ]
  },
  {
   "cell_type": "markdown",
   "id": "c8cdf9bd-efb3-4e36-b677-3929587d543c",
   "metadata": {
    "colab_type": "text",
    "id": "6YvlIG-G6o2Z"
   },
   "source": [
    "* El nombre de una variable **debe comenzar** con una letra ó con _.\n",
    "* El nombre de una variable **no puede comenzar** con un número.\n",
    "* El nombre de una variable **sólo puede contener** carácteres alfa-numéricos.\n",
    "* El nombre de una variable tiene **sensibilidad** a **mayúsculas** y **minúsculas** (x es diferente de X)."
   ]
  },
  {
   "cell_type": "markdown",
   "id": "0d32a426-accc-4698-a8e8-19b404c240c4",
   "metadata": {
    "slideshow": {
     "slide_type": "slide"
    },
    "tags": []
   },
   "source": [
    "## <span style=\"color:blue\">Tipos de datos básicos en Python </span>"
   ]
  },
  {
   "cell_type": "markdown",
   "id": "2eb566fe-347b-41a0-b23b-3c74b5cd8aee",
   "metadata": {},
   "source": [
    "### Número enteros (int)"
   ]
  },
  {
   "cell_type": "markdown",
   "id": "8d849757-e77b-42eb-9c55-51334c738899",
   "metadata": {},
   "source": [
    "Vea el siguiente ejemplo"
   ]
  },
  {
   "cell_type": "code",
   "execution_count": 5,
   "id": "0e41f0b2-b083-4436-b4b0-13c49b218290",
   "metadata": {},
   "outputs": [
    {
     "name": "stdout",
     "output_type": "stream",
     "text": [
      "1\n",
      "<class 'int'>\n",
      "1000000000000000000000000000000000000000000000000000000000000000000000000000000000000000000001\n",
      "<class 'int'>\n"
     ]
    }
   ],
   "source": [
    "x = 1\n",
    "print(x)\n",
    "print(type(x))\n",
    "x = 1000000000000000000000000000000000000000000000000000000000000000000000000000000000000000000001\n",
    "print(x)\n",
    "print(type(x))"
   ]
  },
  {
   "cell_type": "markdown",
   "id": "68798d51-e3df-4a62-ba84-e7dee5b08b9c",
   "metadata": {
    "slideshow": {
     "slide_type": "subslide"
    },
    "tags": []
   },
   "source": [
    "Se observan dos cosas interesantes. \n",
    "\n",
    "Primero, el tipo de dato es una clase 'int'. Todas las variables en Pyhon son objetos, incluidas las variables simples. Por esta razón, para trabajar en Python con total propiedad es necesario aprender acerca de Clases y objetos (**Programación orientada a objetos**)\n",
    "\n",
    "Segundo, en Python los enteros pueden ser tan grandes como desee, a diferencia de otros lenguajes."
   ]
  },
  {
   "cell_type": "markdown",
   "id": "49c18e44-0e88-4c60-afc1-0568a98d51e0",
   "metadata": {
    "slideshow": {
     "slide_type": "subslide"
    },
    "tags": []
   },
   "source": [
    "### Números reales (float)"
   ]
  },
  {
   "cell_type": "markdown",
   "id": "774b45a6-4d63-452e-910f-4f93e556c09e",
   "metadata": {},
   "source": [
    "Lo número reales son representados usando el estándar IEEE 754 double precision."
   ]
  },
  {
   "cell_type": "code",
   "execution_count": 6,
   "id": "2b64208e-331e-43b3-a279-66c65ab522b5",
   "metadata": {},
   "outputs": [
    {
     "name": "stdout",
     "output_type": "stream",
     "text": [
      "1.56\n",
      "<class 'float'>\n"
     ]
    }
   ],
   "source": [
    "x = 1.56\n",
    "print(x)\n",
    "print(type(x))"
   ]
  },
  {
   "cell_type": "markdown",
   "id": "32eac278-e3bc-4092-a392-799e82af5ba7",
   "metadata": {},
   "source": [
    "### Números complejos (complex)"
   ]
  },
  {
   "cell_type": "markdown",
   "id": "5a6aa990-677f-4434-bda2-ed4bba434d84",
   "metadata": {},
   "source": [
    "Se representan en la forma $a + bj$, en donde $a$ es la parte real y $ b$ la parte imaginaria"
   ]
  },
  {
   "cell_type": "code",
   "execution_count": 7,
   "id": "a3e71170-af3d-4f22-8f4a-0c98c8dd8d43",
   "metadata": {},
   "outputs": [
    {
     "name": "stdout",
     "output_type": "stream",
     "text": [
      "(3.4+4j)\n",
      "<class 'complex'>\n"
     ]
    }
   ],
   "source": [
    "z = 3.4 + 4j\n",
    "print(z)\n",
    "print(type(z))"
   ]
  },
  {
   "cell_type": "markdown",
   "id": "478164d5-4209-427d-999e-c6ceaf017760",
   "metadata": {
    "slideshow": {
     "slide_type": "subslide"
    },
    "tags": []
   },
   "source": [
    "### Booleanas (bool)"
   ]
  },
  {
   "cell_type": "markdown",
   "id": "6751b704-8883-4c28-99b8-5bd6b0b1d597",
   "metadata": {},
   "source": [
    "El tipo booleano se utiliza para variables que solamente pueden ser 'True' o 'False', es decir, valores booleanos o lógicos. Por ejemplo:"
   ]
  },
  {
   "cell_type": "code",
   "execution_count": 8,
   "id": "0141471a-6e1d-40d5-9722-2d446a29c499",
   "metadata": {},
   "outputs": [
    {
     "name": "stdout",
     "output_type": "stream",
     "text": [
      "True\n",
      "<class 'bool'>\n"
     ]
    }
   ],
   "source": [
    "t = True \n",
    "print(t)\n",
    "print(type(t))"
   ]
  },
  {
   "cell_type": "markdown",
   "id": "18fae8c3-fa20-4863-a6e3-6cd941382589",
   "metadata": {
    "slideshow": {
     "slide_type": "subslide"
    },
    "tags": []
   },
   "source": [
    "### None"
   ]
  },
  {
   "cell_type": "markdown",
   "id": "065971e6-42ea-41b4-aa90-c893566fbe73",
   "metadata": {},
   "source": [
    "Este es un tipo especial de dato utilizado para indicar que una determinada variable no contiene ningún dato."
   ]
  },
  {
   "cell_type": "code",
   "execution_count": 9,
   "id": "44fe3646-edb5-4a60-aef9-baf3f96a4f45",
   "metadata": {},
   "outputs": [
    {
     "name": "stdout",
     "output_type": "stream",
     "text": [
      "None\n",
      "<class 'NoneType'>\n",
      "True\n"
     ]
    }
   ],
   "source": [
    "b = None\n",
    "\n",
    "print(b)\n",
    "\n",
    "print(type(b))\n",
    "\n",
    "print(b is None)"
   ]
  },
  {
   "cell_type": "markdown",
   "id": "b39d4b61-c46b-4492-8a83-252970b4b763",
   "metadata": {
    "colab_type": "text",
    "id": "i9HdDU49UzWK",
    "slideshow": {
     "slide_type": "slide"
    },
    "tags": []
   },
   "source": [
    "### Texto o Cadenas (Strings)"
   ]
  },
  {
   "cell_type": "markdown",
   "id": "847d46d8-35de-4f69-875f-3ab8efc1b07e",
   "metadata": {
    "colab_type": "text",
    "id": "Nhv2kU50RGVu"
   },
   "source": [
    "Las cadenas son variables que representan una secuencia de caracteres, es decir que en ellas se puede almacenar cualquier texto. Para escribir un texto en Python usamos comillas simples: `'...'` o comillas dobles: `\"...\"`."
   ]
  },
  {
   "cell_type": "markdown",
   "id": "d4083d68-0f36-4a33-8fa6-420b4d268a8f",
   "metadata": {
    "colab_type": "text",
    "id": "Z-RNqrFEUzWa"
   },
   "source": [
    "Como vimos, la función print es la que nos permite imprimir estos mensajes. El texto \\n indica una nueva linea en el texto:"
   ]
  },
  {
   "cell_type": "code",
   "execution_count": 10,
   "id": "8b7f7ac4-cce5-4c9f-ac2c-b088e6a8a16a",
   "metadata": {
    "colab": {},
    "colab_type": "code",
    "id": "bkQZpWAbUzWa"
   },
   "outputs": [
    {
     "name": "stdout",
     "output_type": "stream",
     "text": [
      "Una línea\n",
      "Otra línea\n"
     ]
    }
   ],
   "source": [
    "print(\"Una línea\\nOtra línea\")"
   ]
  },
  {
   "cell_type": "markdown",
   "id": "054e8b05-d067-4ceb-b56e-75b75e01dbb3",
   "metadata": {
    "colab_type": "text",
    "id": "DvFxzQq4UzWi",
    "slideshow": {
     "slide_type": "subslide"
    },
    "tags": []
   },
   "source": [
    "Podemos recorrer los caracteres de la cadena de texto de la siguiente forma:"
   ]
  },
  {
   "cell_type": "code",
   "execution_count": 11,
   "id": "2f10ed86-b132-44de-8439-83aeefa6ea10",
   "metadata": {
    "colab": {},
    "colab_type": "code",
    "id": "VfvvR1MaUzWj"
   },
   "outputs": [
    {
     "name": "stdout",
     "output_type": "stream",
     "text": [
      "cuidado_con_el_orden\n"
     ]
    }
   ],
   "source": [
    "texto=\"cuidado_con_el_orden\"\n",
    "print(texto)"
   ]
  },
  {
   "cell_type": "markdown",
   "id": "f6c96358-c562-45ad-a2b2-f956cdd4476d",
   "metadata": {
    "colab_type": "text",
    "id": "LGbUClMKKCLW"
   },
   "source": [
    "Extrayendo el elemento cero del texto (**primer caracter**):"
   ]
  },
  {
   "cell_type": "code",
   "execution_count": 12,
   "id": "8d882d21-d78e-4b7e-80f7-814ba48a3504",
   "metadata": {
    "colab": {
     "base_uri": "https://localhost:8080/",
     "height": 35
    },
    "colab_type": "code",
    "executionInfo": {
     "elapsed": 404,
     "status": "ok",
     "timestamp": 1581638433451,
     "user": {
      "displayName": "Daniel Montenegro",
      "photoUrl": "",
      "userId": "07275166318289302366"
     },
     "user_tz": 300
    },
    "id": "bENx-JazUzWm",
    "outputId": "bd761e20-92ec-44a8-8be4-558ec853e3d9",
    "tags": []
   },
   "outputs": [
    {
     "name": "stdout",
     "output_type": "stream",
     "text": [
      "c\n"
     ]
    }
   ],
   "source": [
    "print(texto[0])"
   ]
  },
  {
   "cell_type": "markdown",
   "id": "d9778a77-5874-454f-b661-5834ac4cd6a8",
   "metadata": {
    "colab_type": "text",
    "id": "j0L1L6d5Khbk"
   },
   "source": [
    "Extrayendo el elemento uno del texto (**segundo caracter**):"
   ]
  },
  {
   "cell_type": "code",
   "execution_count": 13,
   "id": "fee879aa-35c7-46c3-bf5b-727999f2a9c9",
   "metadata": {
    "colab": {
     "base_uri": "https://localhost:8080/",
     "height": 35
    },
    "colab_type": "code",
    "executionInfo": {
     "elapsed": 425,
     "status": "ok",
     "timestamp": 1581638241568,
     "user": {
      "displayName": "Daniel Montenegro",
      "photoUrl": "",
      "userId": "07275166318289302366"
     },
     "user_tz": 300
    },
    "id": "fWH_t7h8UzWp",
    "outputId": "6f9b3203-36e2-457b-ef02-426e650a6311"
   },
   "outputs": [
    {
     "name": "stdout",
     "output_type": "stream",
     "text": [
      "u\n"
     ]
    }
   ],
   "source": [
    "print(texto[1])"
   ]
  },
  {
   "cell_type": "markdown",
   "id": "880359d0-4afc-4fda-b048-713b7e996ca5",
   "metadata": {
    "colab_type": "text",
    "id": "SrY2k2XSKyfD",
    "slideshow": {
     "slide_type": "subslide"
    },
    "tags": []
   },
   "source": [
    "Extrayendo el elemento cinco hasta el elemento 9 del texto (**sin incluir el 9**):"
   ]
  },
  {
   "cell_type": "code",
   "execution_count": 14,
   "id": "45406077-05b2-4e8f-ae6f-2c8eb0545878",
   "metadata": {
    "colab": {
     "base_uri": "https://localhost:8080/",
     "height": 35
    },
    "colab_type": "code",
    "executionInfo": {
     "elapsed": 403,
     "status": "ok",
     "timestamp": 1581638663585,
     "user": {
      "displayName": "Daniel Montenegro",
      "photoUrl": "",
      "userId": "07275166318289302366"
     },
     "user_tz": 300
    },
    "id": "R9Py_A_IUzWw",
    "outputId": "d787e85d-d0cf-4991-acd6-6a3e23bfd809"
   },
   "outputs": [
    {
     "name": "stdout",
     "output_type": "stream",
     "text": [
      "do_c\n"
     ]
    }
   ],
   "source": [
    "print(texto[5:9])"
   ]
  },
  {
   "cell_type": "markdown",
   "id": "4cdd6862-531e-4a1c-a424-aab7bcff19b5",
   "metadata": {
    "colab_type": "text",
    "id": "VQMd1XUpLAAv"
   },
   "source": [
    "**También se pueden usar índices negativos** (Exclusivo de Python):"
   ]
  },
  {
   "cell_type": "code",
   "execution_count": 15,
   "id": "d58fddb1-63ad-4978-8547-0d929bde1586",
   "metadata": {
    "colab": {
     "base_uri": "https://localhost:8080/",
     "height": 35
    },
    "colab_type": "code",
    "executionInfo": {
     "elapsed": 458,
     "status": "ok",
     "timestamp": 1581638781357,
     "user": {
      "displayName": "Daniel Montenegro",
      "photoUrl": "",
      "userId": "07275166318289302366"
     },
     "user_tz": 300
    },
    "id": "AIcmHaNdUzWq",
    "outputId": "b5437600-70ed-4636-d7a9-af93e9bc798d"
   },
   "outputs": [
    {
     "name": "stdout",
     "output_type": "stream",
     "text": [
      "dado_con_el_orde\n"
     ]
    }
   ],
   "source": [
    "print(texto[3:-1])"
   ]
  },
  {
   "cell_type": "code",
   "execution_count": 16,
   "id": "bc3c9339-e780-4877-b043-a7da102cc1ff",
   "metadata": {},
   "outputs": [
    {
     "name": "stdout",
     "output_type": "stream",
     "text": [
      "n\n"
     ]
    }
   ],
   "source": [
    "print(texto[-1])"
   ]
  },
  {
   "cell_type": "markdown",
   "id": "6d3a236c-7d1d-4aba-ba65-d228c04d5080",
   "metadata": {
    "colab_type": "text",
    "id": "4y3X0kbfHXzW",
    "slideshow": {
     "slide_type": "slide"
    },
    "tags": []
   },
   "source": [
    "## <span style=\"color:blue\">Suma de variables y concatenación de variables</span>"
   ]
  },
  {
   "cell_type": "markdown",
   "id": "c04b4a38-42eb-4fab-ba27-489e793569be",
   "metadata": {
    "colab_type": "text",
    "id": "4y3X0kbfHXzW"
   },
   "source": [
    "Es posible sumar variables usando el símbolo **+**. Cuando las variables son numéricas, se **suman matemáticamente** y cuando son textos se **concatenan**."
   ]
  },
  {
   "cell_type": "code",
   "execution_count": 17,
   "id": "f5a1cd9e-5342-40f9-b182-5e615e9a3675",
   "metadata": {
    "colab": {
     "base_uri": "https://localhost:8080/",
     "height": 71
    },
    "colab_type": "code",
    "executionInfo": {
     "elapsed": 400,
     "status": "ok",
     "timestamp": 1581637247515,
     "user": {
      "displayName": "Daniel Montenegro",
      "photoUrl": "",
      "userId": "07275166318289302366"
     },
     "user_tz": 300
    },
    "id": "nMPQKB2jHxuk",
    "outputId": "b7d32507-cb5c-4cce-afd6-6504b205a9c6",
    "tags": []
   },
   "outputs": [
    {
     "name": "stdout",
     "output_type": "stream",
     "text": [
      "Python es asombroso\n",
      "6\n",
      "la suma de 1 y 5 es igual 6\n",
      "la suma de 1 y 5 es igual 6\n"
     ]
    }
   ],
   "source": [
    "# \"Sumar\" dos textos\n",
    "x = \"Python es \" \n",
    "y = \"asombroso\"\n",
    "z =  x + y\n",
    "print(z)\n",
    "# Sumar dos números\n",
    "n1 = 1\n",
    "n2 = 5\n",
    "suma = n1 + n2\n",
    "print(suma)\n",
    "# Escribir texto y números\n",
    "print(\"la suma de\", n1, \"y\", n2, \"es igual\", suma)\n",
    "print(\"la suma de \" + str(n1) + \" y \" + \n",
    "      str(n2) + \" es igual \" + str(suma))"
   ]
  },
  {
   "cell_type": "markdown",
   "id": "5e73c6b0-ea64-4b07-b9ee-5551c8219d99",
   "metadata": {
    "colab_type": "text",
    "id": "Tjq46qsVQ1F9",
    "slideshow": {
     "slide_type": "slide"
    },
    "tags": []
   },
   "source": [
    "## <span style=\"color:blue\">Operadores Aritméticos y redondeo</span>"
   ]
  },
  {
   "cell_type": "markdown",
   "id": "ec7b97dd-69a1-4ded-a9ec-0c8764935645",
   "metadata": {
    "colab_type": "text",
    "id": "GPiu4RLJUzVj"
   },
   "source": [
    "Podemos ejecutar operaciones muy sencillas teniendo en cuenta la siguiente tabla:\n",
    "\n",
    "| **Operador** | **Descripción** |\n",
    "| :---: | :---: |\n",
    "|`+`|Suma|\n",
    "|`-`|Resta|\n",
    "|`*`|Multiplicación|\n",
    "|`/`|División|\n",
    "|`**`|Potencia|\n"
   ]
  },
  {
   "cell_type": "markdown",
   "id": "352f8a1a-1588-4cda-932d-f42143284113",
   "metadata": {
    "colab_type": "text",
    "id": "mWcTFd6gUzVk",
    "slideshow": {
     "slide_type": "subslide"
    },
    "tags": []
   },
   "source": [
    "### Ejemplo "
   ]
  },
  {
   "cell_type": "markdown",
   "id": "b0ed2a1b-ed0e-4ae1-8aa7-ff8c190ead34",
   "metadata": {
    "colab_type": "text",
    "id": "mWcTFd6gUzVk"
   },
   "source": [
    " Si queremos operar:\n",
    " \n",
    " $$ 5\\times(3-5)^2-\\cfrac{6}{(9)^{1/3}}$$\n",
    " \n",
    " tenemos que escribir:"
   ]
  },
  {
   "cell_type": "code",
   "execution_count": 18,
   "id": "67a59f05-e57b-4dc7-9254-1b0bb747f559",
   "metadata": {
    "colab": {},
    "colab_type": "code",
    "id": "V285pz1XUzVl"
   },
   "outputs": [
    {
     "data": {
      "text/plain": [
       "17.115500859385183"
      ]
     },
     "execution_count": 18,
     "metadata": {},
     "output_type": "execute_result"
    }
   ],
   "source": [
    "5*(3-5)**2-(6)/(9**(1/3))"
   ]
  },
  {
   "cell_type": "markdown",
   "id": "3f95e972-bd7f-465d-91e3-7ee311afea7a",
   "metadata": {
    "colab_type": "text",
    "id": "TIkHNbN5UzV4",
    "slideshow": {
     "slide_type": "subslide"
    },
    "tags": []
   },
   "source": [
    "### División y residuo entre enteros"
   ]
  },
  {
   "cell_type": "markdown",
   "id": "f48a958a-1d2e-40f9-9cb1-a377ec651326",
   "metadata": {
    "colab_type": "text",
    "id": "TIkHNbN5UzV4"
   },
   "source": [
    "La división es una operación particularmente especial, cuando estábamos pequeños nos enseñaron a dividir enteros dando como respuesta un entero llamado cociente y un número llamado residuo. En Python podemos calcular esos valores con `\\\\` para el cociente y `%` para el residuo. Por ejemplo:"
   ]
  },
  {
   "cell_type": "code",
   "execution_count": 19,
   "id": "4dbff01f-2ccf-45bd-922a-90460027eafb",
   "metadata": {
    "colab": {},
    "colab_type": "code",
    "id": "VYj4u-axUzV5"
   },
   "outputs": [
    {
     "data": {
      "text/plain": [
       "6"
      ]
     },
     "execution_count": 19,
     "metadata": {},
     "output_type": "execute_result"
    }
   ],
   "source": [
    "20 // 3"
   ]
  },
  {
   "cell_type": "code",
   "execution_count": 20,
   "id": "08a5c45d-05a9-4865-a112-565babfbd550",
   "metadata": {
    "colab": {},
    "colab_type": "code",
    "id": "Rg9EebXCUzV7"
   },
   "outputs": [
    {
     "data": {
      "text/plain": [
       "2"
      ]
     },
     "execution_count": 20,
     "metadata": {},
     "output_type": "execute_result"
    }
   ],
   "source": [
    "20 % 3"
   ]
  },
  {
   "cell_type": "markdown",
   "id": "1a28fb56-0a8c-458c-a533-e0ae7b14b0ce",
   "metadata": {
    "colab_type": "text",
    "id": "2TGfXoLdUzWB",
    "slideshow": {
     "slide_type": "subslide"
    },
    "tags": []
   },
   "source": [
    "Finalmente, una función elemental y útil para el tratamiento de números decimales es `round`. Lo usamos para redondear los valores al número de cifras decimales que deseemos:"
   ]
  },
  {
   "cell_type": "code",
   "execution_count": 21,
   "id": "ae7677a5-92f7-41b6-998c-80e5b4af981d",
   "metadata": {
    "colab": {
     "base_uri": "https://localhost:8080/",
     "height": 35
    },
    "colab_type": "code",
    "executionInfo": {
     "elapsed": 434,
     "status": "ok",
     "timestamp": 1581637489662,
     "user": {
      "displayName": "Daniel Montenegro",
      "photoUrl": "",
      "userId": "07275166318289302366"
     },
     "user_tz": 300
    },
    "id": "F1JNJ-WPUzWC",
    "outputId": "071c09f0-9a01-4b30-998c-fdd6ddd0e663"
   },
   "outputs": [
    {
     "data": {
      "text/plain": [
       "15.666666666666666"
      ]
     },
     "execution_count": 21,
     "metadata": {},
     "output_type": "execute_result"
    }
   ],
   "source": [
    "n1 = 47 / 3\n",
    "n1"
   ]
  },
  {
   "cell_type": "code",
   "execution_count": 22,
   "id": "d97e12af-a7e0-4902-8990-0db64520b143",
   "metadata": {
    "colab": {
     "base_uri": "https://localhost:8080/",
     "height": 35
    },
    "colab_type": "code",
    "executionInfo": {
     "elapsed": 436,
     "status": "ok",
     "timestamp": 1581637500508,
     "user": {
      "displayName": "Daniel Montenegro",
      "photoUrl": "",
      "userId": "07275166318289302366"
     },
     "user_tz": 300
    },
    "id": "MRXeLGffUzWE",
    "outputId": "b7750137-0136-4a9f-a65a-9256d3b6fb7a"
   },
   "outputs": [
    {
     "data": {
      "text/plain": [
       "16"
      ]
     },
     "execution_count": 22,
     "metadata": {},
     "output_type": "execute_result"
    }
   ],
   "source": [
    "n2 = round(n1)\n",
    "n2"
   ]
  },
  {
   "cell_type": "code",
   "execution_count": 23,
   "id": "a2b8f948-c6d1-451b-8178-97b2a3df46e7",
   "metadata": {
    "colab": {
     "base_uri": "https://localhost:8080/",
     "height": 35
    },
    "colab_type": "code",
    "executionInfo": {
     "elapsed": 405,
     "status": "ok",
     "timestamp": 1581637541870,
     "user": {
      "displayName": "Daniel Montenegro",
      "photoUrl": "",
      "userId": "07275166318289302366"
     },
     "user_tz": 300
    },
    "id": "buhEFfx7UzWH",
    "outputId": "63c22886-f346-49b4-8e42-ac83f8e363a7"
   },
   "outputs": [
    {
     "data": {
      "text/plain": [
       "15.6667"
      ]
     },
     "execution_count": 23,
     "metadata": {},
     "output_type": "execute_result"
    }
   ],
   "source": [
    "n3 = round(n1,4)\n",
    "n3"
   ]
  },
  {
   "cell_type": "markdown",
   "id": "e7dda407-95a5-4cab-ae17-356c242824ef",
   "metadata": {
    "colab_type": "text",
    "id": "qAqnr4i70sLy",
    "slideshow": {
     "slide_type": "subslide"
    },
    "tags": []
   },
   "source": [
    "#### Operadores de comparación"
   ]
  },
  {
   "cell_type": "markdown",
   "id": "ef4e55d9-961b-4cca-9604-6cf5210e9bc4",
   "metadata": {},
   "source": [
    "| **Operador** | **Descripción** |**Ejemplo**|\n",
    "| :---: | :---: |:---: |\n",
    "|`==`|Prueba si dos valores son iguales| 3==3|\n",
    "|`!=`|Prueba si dos valores no son iguales entren si| 2!=3|\n",
    "|`<`|Prueba si el valor de la izquierza es menor que el de la derecha|4<3|\n",
    "|`>`|Prueba si el valor de la izquierza es mayor que el de la derecha|4<3|\n",
    "|`<=`|Prueba si el valor de la izquierza es menor o igual que el de la derecha|4<=3|\n",
    "|`>=`|Prueba si el valor de la izquierza es mayor igual que el de la derecha|4<=3|"
   ]
  },
  {
   "cell_type": "markdown",
   "id": "c02e45ac-013d-441a-a2bd-bba4ac290b13",
   "metadata": {
    "colab_type": "text",
    "id": "qAqnr4i70sLy"
   },
   "source": [
    "#### Operadores Lógicos"
   ]
  },
  {
   "cell_type": "markdown",
   "id": "2b0d67fd-b0d0-4e78-afbc-bde24a979f2e",
   "metadata": {},
   "source": [
    "| **Operador** | **Descripción** |**Ejemplo**|\n",
    "| :---: | :---: |:---: |\n",
    "|`and`|Regresa verdadero si el valor de las izquierda y el de la derecha son verdaderos| (3<4) and (5>1)|\n",
    "|`or`|Regresa verdadero si uno de los dos valores a(izquierda o derecha es verdadero, o ambos| (3<4) or (5<1)|\n",
    "|`not`|Regresa verdadero si el valor que se esta evaluado es falso|not 3>2|"
   ]
  },
  {
   "cell_type": "markdown",
   "id": "9f65e38f-e110-421e-8ac4-b3b8e26c6677",
   "metadata": {
    "colab_type": "text",
    "id": "qAqnr4i70sLy",
    "slideshow": {
     "slide_type": "slide"
    },
    "tags": []
   },
   "source": [
    "## <span style=\"color:blue\">Flujo de control</span>"
   ]
  },
  {
   "cell_type": "markdown",
   "id": "8cc51694-a153-453f-88c3-80eeb67ca701",
   "metadata": {},
   "source": [
    "El flujo de control de un programa se refiere al orden en el que el código se va ejecutando y qué se ejecuta exactamente. Podemos verlo de alguna manera como la jerarquía de operaciones.\n",
    "\n",
    "En Python, bajo el paradigma de programación imperativo estructurado, el flujo es regulado por tres estructuras de control:\n",
    "\n",
    "- Secuencial\n",
    "- Selección/Decisión\n",
    "- Repetición"
   ]
  },
  {
   "cell_type": "markdown",
   "id": "92c4c48d-c900-4b16-a85b-acf5071cd376",
   "metadata": {
    "slideshow": {
     "slide_type": "subslide"
    },
    "tags": []
   },
   "source": [
    "### Estructura Secuencial"
   ]
  },
  {
   "cell_type": "markdown",
   "id": "b16d4fa7-7638-4717-8044-b8578d845f42",
   "metadata": {},
   "source": [
    "La forma predeterminada para Python consiste en recibir y ejecutar **secuencialmente** las instrucciones que se le den."
   ]
  },
  {
   "cell_type": "markdown",
   "id": "1e79d6b8-9f7b-4397-b68a-3965c8c8df47",
   "metadata": {
    "colab_type": "text",
    "id": "qAqnr4i70sLy"
   },
   "source": [
    "#### Ejemplo"
   ]
  },
  {
   "cell_type": "markdown",
   "id": "6c99012f-2bad-44ff-abc3-603161d969b0",
   "metadata": {
    "colab_type": "text",
    "id": "qAqnr4i70sLy"
   },
   "source": [
    "Observemos el siguiente código Python"
   ]
  },
  {
   "cell_type": "code",
   "execution_count": 54,
   "id": "48403ff9-8e6b-4ab3-ad5d-2d2489beaf9f",
   "metadata": {},
   "outputs": [
    {
     "name": "stdout",
     "output_type": "stream",
     "text": [
      "`a` = 1  y `b` = 2\n"
     ]
    }
   ],
   "source": [
    "a = 1\n",
    "b = 2\n",
    "print(\"`a` =\", a,\" y `b` =\", b)"
   ]
  },
  {
   "cell_type": "markdown",
   "id": "81cf3c1e",
   "metadata": {},
   "source": [
    "En el ejemplo hay tres sentencias. Dos sentencias de asignación de valores y una sentencia de impresión. Se ejecuta estrictamente en el orden dado; si se escribe la sentencia de impresión primero, el código completo falla."
   ]
  },
  {
   "cell_type": "markdown",
   "id": "3d90feae-d5ab-4e2c-95f1-087a6a4f12bf",
   "metadata": {
    "slideshow": {
     "slide_type": "subslide"
    },
    "tags": []
   },
   "source": [
    "### Estructura de Selección"
   ]
  },
  {
   "cell_type": "markdown",
   "id": "31fdbff2-8359-4f8e-93cb-e04306ac4f7f",
   "metadata": {},
   "source": [
    "Estas sentencias permiten al programa probar diferentes condiciones y ejecutar código dependiendo de cuál condición es \"verdadera\"\n",
    "\n",
    "La estructura de selección clásica es el \"if\""
   ]
  },
  {
   "cell_type": "code",
   "execution_count": 25,
   "id": "7255bf93-2b95-488e-bcd3-21d185afccd3",
   "metadata": {},
   "outputs": [
    {
     "name": "stdout",
     "output_type": "stream",
     "text": [
      "Cinco es mayor que Tres\n",
      "lunes\n"
     ]
    }
   ],
   "source": [
    "# ejemplo if\n",
    "x = 5\n",
    "y = 3\n",
    "\n",
    "if x>y:\n",
    "    print(\"Cinco es mayor que Tres\")\n",
    "    print(\"lunes\")"
   ]
  },
  {
   "cell_type": "markdown",
   "id": "7b8bb17a-3da4-4dbd-afff-2f83cbd71ebc",
   "metadata": {},
   "source": [
    "La estructura empieza con la palabra clave **if**. Luego aparece una condición lógica que es evaluada (x>y). Si la condición es verdadera, como en este caso, se ejecutan las instrucciones escritas dentro de la estructura."
   ]
  },
  {
   "cell_type": "markdown",
   "id": "64767b7a-1541-48cc-8b9f-4f6c5de329b1",
   "metadata": {
    "slideshow": {
     "slide_type": "subslide"
    },
    "tags": []
   },
   "source": [
    "Podemos extender el uso del if con \"else if\" y \"else\""
   ]
  },
  {
   "cell_type": "code",
   "execution_count": 26,
   "id": "78f09eb8-ad6c-48c1-b51c-43c81eaf8e07",
   "metadata": {},
   "outputs": [
    {
     "name": "stdout",
     "output_type": "stream",
     "text": [
      "6 es mayor que 5\n"
     ]
    }
   ],
   "source": [
    "x = 5\n",
    "y = 6\n",
    "\n",
    "if x>y:\n",
    "    print(x, \" es mayor que \", y)\n",
    "elif y>x:\n",
    "    print(\"{} es mayor que {}\".format(y,x))\n",
    "else:\n",
    "    print(\"ambos números son iguales\")"
   ]
  },
  {
   "cell_type": "markdown",
   "id": "8720d7c7-8717-4f77-87f6-217ce6eae31e",
   "metadata": {
    "slideshow": {
     "slide_type": "slide"
    },
    "tags": []
   },
   "source": [
    "### Estructura de repetición [ciclos]"
   ]
  },
  {
   "cell_type": "markdown",
   "id": "9c5cd85c-d70f-43b9-8297-71f0d58b4b42",
   "metadata": {},
   "source": [
    "Este tercer tipo de estructura de control se usa para los casos en los cuales es necesario correr un proceso varas veces en forma continua."
   ]
  },
  {
   "cell_type": "markdown",
   "id": "04cba66d-147e-4671-9156-e09aef77dc37",
   "metadata": {},
   "source": [
    "#### Ciclo while"
   ]
  },
  {
   "cell_type": "markdown",
   "id": "2e8427a3-56d1-44da-a324-1e38473ef926",
   "metadata": {},
   "source": [
    "Al comienzo del ciclo se evalúa una condición. Si la condición es verdadera se ejecuta de nuevo el ciclo. En otro caso, termina. Corra y analice el siguiente código"
   ]
  },
  {
   "cell_type": "code",
   "execution_count": 27,
   "id": "cd14b559-fc2e-44da-947f-c0ab01cc0fe2",
   "metadata": {},
   "outputs": [
    {
     "name": "stdout",
     "output_type": "stream",
     "text": [
      "Starting\n",
      "0  1  2  3  4  5  6  7  8  9  \n",
      "Done\n"
     ]
    }
   ],
   "source": [
    "contador = 0\n",
    "\n",
    "print('Starting')\n",
    "while contador < 10:\n",
    "    #Instrucciones útiles\n",
    "    print(contador,' ', end='')\n",
    "    contador = contador + 1\n",
    "    \n",
    "print()\n",
    "print('Done')"
   ]
  },
  {
   "cell_type": "markdown",
   "id": "844d5082-3883-4a4f-abfd-a4ea2c642a7c",
   "metadata": {
    "slideshow": {
     "slide_type": "subslide"
    },
    "tags": []
   },
   "source": [
    "#### Ciclo for"
   ]
  },
  {
   "cell_type": "markdown",
   "id": "eb092c45-1e7d-4c22-9f14-90a5b9f76ddc",
   "metadata": {},
   "source": [
    "En este caso se usa una variable de salto que va recorriendo un conjunto de valores hasta terminar."
   ]
  },
  {
   "cell_type": "code",
   "execution_count": 28,
   "id": "eefd94cf-4907-4c0b-995f-0566ea2ae032",
   "metadata": {},
   "outputs": [
    {
     "name": "stdout",
     "output_type": "stream",
     "text": [
      "\n",
      "Start:\n",
      "0  1  2  3  4  5  6  7  8  9  10  11  12  13  14  15  16  17  18  19  \n",
      "Done.\n"
     ]
    }
   ],
   "source": [
    "print('\\nStart:')\n",
    "for i in range(20):\n",
    "    # Instrucciones útiles\n",
    "    print(i, ' ', end='')\n",
    "\n",
    "print('\\nDone.')"
   ]
  },
  {
   "cell_type": "markdown",
   "id": "f0ccb482-99a3-4d3b-a6ef-88e7ba59be51",
   "metadata": {
    "slideshow": {
     "slide_type": "subslide"
    },
    "tags": []
   },
   "source": [
    "#### Break"
   ]
  },
  {
   "cell_type": "markdown",
   "id": "9a14aa6c-b086-4f45-b906-e9594a2c0718",
   "metadata": {},
   "source": [
    "Se usa para terminar la ejecución de un ciclo while o for. Corra el siguiente ejemplo dadno difentes valores."
   ]
  },
  {
   "cell_type": "code",
   "execution_count": 29,
   "id": "c72aaeea-d4e1-4eb4-8543-b12dc85720cc",
   "metadata": {},
   "outputs": [
    {
     "name": "stdout",
     "output_type": "stream",
     "text": [
      "0\n",
      "1\n",
      "2\n",
      "3\n",
      "4\n",
      "5\n"
     ]
    }
   ],
   "source": [
    "for  i in range(10):\n",
    "    print(i)\n",
    "    if i==5:\n",
    "        break"
   ]
  },
  {
   "cell_type": "markdown",
   "id": "f7713815-440e-476e-86ce-ae71e846873a",
   "metadata": {
    "slideshow": {
     "slide_type": "subslide"
    },
    "tags": []
   },
   "source": [
    "### Estructuras de control anidadas"
   ]
  },
  {
   "cell_type": "markdown",
   "id": "04d1331e-4a9f-4b14-b2fd-f562c0cb79c3",
   "metadata": {},
   "source": [
    "Es posible incluir (o anidar) estructuras de control dentro de otras estructuras de control.\n",
    "\n",
    "Esto es de gran utilidad para realizar programas de mayor complejidad.\n",
    "\n",
    "**Ejemplo:**"
   ]
  },
  {
   "cell_type": "code",
   "execution_count": 30,
   "id": "7e43101a-544e-41fb-9850-873601b03939",
   "metadata": {
    "colab": {},
    "colab_type": "code",
    "id": "Q6UM2ujoztla"
   },
   "outputs": [
    {
     "name": "stdout",
     "output_type": "stream",
     "text": [
      "0\n",
      "1\n",
      "2\n",
      "3\n",
      "4\n",
      "9.9 2\n"
     ]
    }
   ],
   "source": [
    "x = 5\n",
    "y = 3\n",
    "if x>y:\n",
    "    for i in range(5):\n",
    "        print(i)\n",
    "    x = 9.9\n",
    "else:\n",
    "    for i in reversed(range(5)):\n",
    "        print(i)\n",
    "    x = False\n",
    "y = 2\n",
    "print(x, y)"
   ]
  },
  {
   "cell_type": "markdown",
   "id": "b5308c55-424a-4a4d-b910-71dbabda62e0",
   "metadata": {
    "slideshow": {
     "slide_type": "subslide"
    },
    "tags": []
   },
   "source": [
    "Podemos anidar el mismo tipo de estructura sin problema"
   ]
  },
  {
   "cell_type": "code",
   "execution_count": 31,
   "id": "1be18bae-a3f3-4e34-9b3c-5a6bf78e7f63",
   "metadata": {},
   "outputs": [
    {
     "name": "stdout",
     "output_type": "stream",
     "text": [
      "\n",
      "*\n",
      "**\n",
      "***\n",
      "****\n",
      "*****\n",
      "******\n",
      "*******\n",
      "********\n",
      "*********\n",
      "**********\n"
     ]
    }
   ],
   "source": [
    "for i in range(0,11):             \n",
    "    for j in range(i):            \n",
    "        print('*', end='')        \n",
    "    print('')                     "
   ]
  },
  {
   "cell_type": "markdown",
   "id": "d541b901-e798-4daa-ba0f-075cc69f7756",
   "metadata": {
    "slideshow": {
     "slide_type": "slide"
    },
    "tags": []
   },
   "source": [
    "## <span style=\"color:blue\">Estructuras de datos</span>"
   ]
  },
  {
   "cell_type": "markdown",
   "id": "b4417907-fd68-4d18-99de-b88b80b76e40",
   "metadata": {},
   "source": [
    "Las estructuras de datos son constructos esenciales en python y en la programación en general, ya que son la base de muchos programas o aplicaciones.\n",
    "\n",
    "Cada tipo de estructura nos muestra una forma de guardar, organizar y acceder a los datos. Cada una tiene sus ventajas particulares."
   ]
  },
  {
   "cell_type": "markdown",
   "id": "7a5d0d46-be47-4f63-91e5-87f37db248bf",
   "metadata": {
    "slideshow": {
     "slide_type": "subslide"
    },
    "tags": []
   },
   "source": [
    "### Listas"
   ]
  },
  {
   "cell_type": "markdown",
   "id": "a1ccb3cb-b807-4d96-9e0b-4c30ee6ec90d",
   "metadata": {},
   "source": [
    "La estructura más flexible en el nucleo de Python. Las llamamos con `[ ]`. Este puede guardar esencialmente cualquier tipo de elemento."
   ]
  },
  {
   "cell_type": "code",
   "execution_count": 32,
   "id": "625ffd59-3ff5-4227-a6ff-8abfb0a01cfc",
   "metadata": {},
   "outputs": [
    {
     "name": "stdout",
     "output_type": "stream",
     "text": [
      "[1, 2, 3, 4]\n"
     ]
    }
   ],
   "source": [
    "arr = [1, 2, 3, 4]\n",
    "print(arr)"
   ]
  },
  {
   "cell_type": "markdown",
   "id": "90df7a0d-85d9-4007-afe6-cbce8edb0ab8",
   "metadata": {},
   "source": [
    "Los objetos guardados no tienen que ser del mismo tipo. De hecho, no tiene que haber objetos dentro de la lista para crearla"
   ]
  },
  {
   "cell_type": "code",
   "execution_count": 33,
   "id": "a94defe4-31b1-4ee4-9dfe-44de6a4aff71",
   "metadata": {},
   "outputs": [
    {
     "name": "stdout",
     "output_type": "stream",
     "text": [
      "[1, 1.0, 'a', True, None]\n",
      "[]\n"
     ]
    }
   ],
   "source": [
    "arr = [1, 1.0, \"a\", True, None]\n",
    "print(arr)\n",
    "arr = []\n",
    "print(arr)"
   ]
  },
  {
   "cell_type": "markdown",
   "id": "17410330-e8f5-4a8e-9743-5c7c2a578143",
   "metadata": {
    "slideshow": {
     "slide_type": "subslide"
    },
    "tags": []
   },
   "source": [
    "De forma similar a los Strings, podemos obtener los elementos individuales de una lista a través de sus indices."
   ]
  },
  {
   "cell_type": "code",
   "execution_count": 34,
   "id": "59f62951-194e-4c01-90ce-b91bfc24de80",
   "metadata": {},
   "outputs": [
    {
     "name": "stdout",
     "output_type": "stream",
     "text": [
      "1\n",
      "[2, 3]\n",
      "4\n"
     ]
    }
   ],
   "source": [
    "arr = [1, 2, 3, 4]\n",
    "\n",
    "print(arr[0])\n",
    "print(arr[1:3])\n",
    "print(arr[-1])\n"
   ]
  },
  {
   "cell_type": "markdown",
   "id": "34be9f02-7236-4551-aa40-051b9157e414",
   "metadata": {
    "slideshow": {
     "slide_type": "subslide"
    },
    "tags": []
   },
   "source": [
    "Es posible hacer cambios en las listas, como agregar, sobreescribir y eliminar elementos"
   ]
  },
  {
   "cell_type": "code",
   "execution_count": 35,
   "id": "394ac49b-2e92-44c4-9094-d887dd5cda02",
   "metadata": {},
   "outputs": [
    {
     "name": "stdout",
     "output_type": "stream",
     "text": [
      "[1, 2, 3, 4, 7]\n",
      "[1, 2, 3.0, 4, 7]\n",
      "[2, 3.0, 4, 7]\n"
     ]
    }
   ],
   "source": [
    "arr.append(7)\n",
    "print(arr)\n",
    "arr[2] = 3.0\n",
    "print(arr)\n",
    "del arr[0]\n",
    "print(arr)"
   ]
  },
  {
   "cell_type": "markdown",
   "id": "0cbeeec8-3412-4f98-969b-1592466f8058",
   "metadata": {
    "slideshow": {
     "slide_type": "subslide"
    },
    "tags": []
   },
   "source": [
    "Las listas pueden incluso tener listas dentro!"
   ]
  },
  {
   "cell_type": "code",
   "execution_count": 36,
   "id": "214a736f-60ac-4e90-a53b-6e55f6928159",
   "metadata": {},
   "outputs": [
    {
     "name": "stdout",
     "output_type": "stream",
     "text": [
      "[[0], [0, 1], [0, 1, 2], [0, 1, 2, 3], [0, 1, 2, 3, 4], [0, 1, 2, 3, 4, 5], [0, 1, 2, 3, 4, 5, 6], [0, 1, 2, 3, 4, 5, 6, 7], [0, 1, 2, 3, 4, 5, 6, 7, 8], [0, 1, 2, 3, 4, 5, 6, 7, 8, 9]]\n"
     ]
    }
   ],
   "source": [
    "list_list = []\n",
    "\n",
    "x = 10\n",
    "\n",
    "for i in range(x):\n",
    "    inside_list = []\n",
    "    for j in range(i+1):\n",
    "        inside_list.append(j)\n",
    "    list_list.append(inside_list)\n",
    "print(list_list)"
   ]
  },
  {
   "cell_type": "markdown",
   "id": "48ef5034-dc5a-4379-9412-6ee38e12a37b",
   "metadata": {
    "slideshow": {
     "slide_type": "subslide"
    },
    "tags": []
   },
   "source": [
    "### Tuplas"
   ]
  },
  {
   "cell_type": "markdown",
   "id": "1f80c368-f176-426b-b4f7-92a61fe8230f",
   "metadata": {},
   "source": [
    "Similares a las listas, solo que no podemos aplicarles cambios. Son \"inmutables\". Las llamamos con `( )`"
   ]
  },
  {
   "cell_type": "code",
   "execution_count": 37,
   "id": "5916938a-bea4-4c5c-b59a-2a117e600049",
   "metadata": {},
   "outputs": [
    {
     "name": "stdout",
     "output_type": "stream",
     "text": [
      "('Hola mundo', (-1+4j), 3333333333333333, False)\n"
     ]
    }
   ],
   "source": [
    "t1 = (\"Hola mundo\", 4j-1, 3333333333333333, False)\n",
    "print(t1)"
   ]
  },
  {
   "cell_type": "markdown",
   "id": "384f7033-0fd9-4719-8bba-b2f46647a814",
   "metadata": {},
   "source": [
    "Es posible crear una tupla a partir de una lista"
   ]
  },
  {
   "cell_type": "code",
   "execution_count": 38,
   "id": "1781d1a5-d35c-45bf-aaff-d0c7e1533c0e",
   "metadata": {},
   "outputs": [
    {
     "name": "stdout",
     "output_type": "stream",
     "text": [
      "(2, 3.0, 4, 7)\n"
     ]
    }
   ],
   "source": [
    "lis_to_tup = tuple(arr)\n",
    "print(lis_to_tup)"
   ]
  },
  {
   "cell_type": "markdown",
   "id": "ec116257-974c-49e2-9cd2-37d770b12c9c",
   "metadata": {
    "slideshow": {
     "slide_type": "subslide"
    },
    "tags": []
   },
   "source": [
    "Tanto las lista como las tuplas pueden contener objetos muy complejos, hasta el punto que puede ser confuso."
   ]
  },
  {
   "cell_type": "code",
   "execution_count": 39,
   "id": "3b4a691b-bb8a-4f61-af85-4d6b0e5a8db1",
   "metadata": {},
   "outputs": [
    {
     "name": "stdout",
     "output_type": "stream",
     "text": [
      "t1= (1, 'Oleg', 24.5)\n",
      "l1= ['Maria', 'Bonita']\n",
      "l2= [(1, 'Oleg', 24.5), ['Maria', 'Bonita']]\n",
      "t2= ([(1, 'Oleg', 24.5), ['Maria', 'Bonita']], 'manzana')\n"
     ]
    }
   ],
   "source": [
    "t1 = (1, 'Oleg', 24.5)\n",
    "l1 = ['Maria', 'Bonita']\n",
    "l2 = [t1, l1]\n",
    "t2 = (l2,'manzana')\n",
    "\n",
    "print('t1=', t1)\n",
    "print('l1=', l1)\n",
    "print('l2=', l2)\n",
    "print('t2=', t2)"
   ]
  },
  {
   "cell_type": "markdown",
   "id": "49455277-b62d-441c-844f-395097671c06",
   "metadata": {
    "slideshow": {
     "slide_type": "subslide"
    },
    "tags": []
   },
   "source": [
    "### Diccionarios"
   ]
  },
  {
   "cell_type": "markdown",
   "id": "25a27c41-77ad-4d5f-b69c-54480d33eb68",
   "metadata": {},
   "source": [
    "Estos son estructuras muy distintas a las anteriores, ya que los datos guardados son indexados junto con un elemento especial llamado \"Llave\". Podemos verlo como una guía telefónica o una lista de contactos: el nombre es la llave del número de teléfono\n",
    "\n",
    "Estos se llaman usando `{}`"
   ]
  },
  {
   "cell_type": "code",
   "execution_count": 40,
   "id": "48508bb3-18dc-4df0-a471-6a6499f1371d",
   "metadata": {},
   "outputs": [
    {
     "name": "stdout",
     "output_type": "stream",
     "text": [
      "{'Juan': 6013335555, 'Ana': 6032224466, 'David': 6012556644}\n"
     ]
    }
   ],
   "source": [
    "contactos ={\n",
    "    \"Juan\": 6013335555,\n",
    "    \"Ana\": 6032224466,\n",
    "    \"David\": 6012556644\n",
    "}\n",
    "print(contactos)"
   ]
  },
  {
   "cell_type": "markdown",
   "id": "e979dbb3-b7f3-4305-a057-7db4e3180117",
   "metadata": {
    "slideshow": {
     "slide_type": "subslide"
    },
    "tags": []
   },
   "source": [
    "Cualquier elemento puede ser llave de cualquier elemento."
   ]
  },
  {
   "cell_type": "code",
   "execution_count": 41,
   "id": "54c7584a-26e1-4ade-ade1-92be3b80dba0",
   "metadata": {},
   "outputs": [
    {
     "name": "stdout",
     "output_type": "stream",
     "text": [
      "{33: 'Zapato', True: 44.1, 'Nombre': ['David', 'Lisa'], (25.5, 33.6): (33.6, 25.5)}\n"
     ]
    }
   ],
   "source": [
    "dic1 = {\n",
    "    33: \"Zapato\",\n",
    "    True: 44.1,\n",
    "    \"Nombre\": [\"David\", \"Lisa\"],\n",
    "    (25.5, 33.6): (33.6, 25.5)\n",
    "}\n",
    "print(dic1)"
   ]
  },
  {
   "cell_type": "markdown",
   "id": "77ed9724-d612-4a4c-b102-9a6d7d38e441",
   "metadata": {
    "slideshow": {
     "slide_type": "subslide"
    },
    "tags": []
   },
   "source": [
    "Los diccionarios pueden modificarse de las mismas maneras que una lista"
   ]
  },
  {
   "cell_type": "code",
   "execution_count": 42,
   "id": "ed05c931-3aea-4c3b-97bf-8aae7382a139",
   "metadata": {},
   "outputs": [
    {
     "name": "stdout",
     "output_type": "stream",
     "text": [
      "{'Juan': 6013335555, 'David': 6015224466, 'Pedro': 6016669999}\n"
     ]
    }
   ],
   "source": [
    "contactos[\"Pedro\"] = 6016669999\n",
    "\n",
    "contactos[\"David\"] = 6015224466\n",
    "\n",
    "del contactos[\"Ana\"]\n",
    "\n",
    "print(contactos)"
   ]
  },
  {
   "cell_type": "markdown",
   "id": "42ea033b-1817-4a13-bc26-928f701f9702",
   "metadata": {
    "slideshow": {
     "slide_type": "subslide"
    },
    "tags": []
   },
   "source": [
    "Los diccionarios son muy poderosos ya que podemos incrementar su tamaño sin generar error:"
   ]
  },
  {
   "cell_type": "code",
   "execution_count": 43,
   "id": "6f18a68c-698b-4840-a38c-9f1f4c375a00",
   "metadata": {},
   "outputs": [
    {
     "name": "stdout",
     "output_type": "stream",
     "text": [
      "<class 'dict'>\n",
      "{'Nombre': 'Gengis', 'Apellido': 'Khan', 'Edad': 23, 'Esposa': ['Börte Qatun', 'Yesugen', 'Qulan Qatun', 'Möge Qatun', 'Juerbiesu', 'Ibaqa Beki'], 'Hijos': 'En estudio', 'Mascotas': {'Perro': 'Wahadi', 'Gato': 'Gotze', 'Leon': 'Pichirilo'}}\n",
      "Hijos de Gengis : En estudio\n"
     ]
    }
   ],
   "source": [
    "#Generar diccionario vacío\n",
    "persona = {}\n",
    "print(type(persona))\n",
    "\n",
    "# Agregar llaves y sus definiciones (items)\n",
    "persona['Nombre'] = 'Gengis'\n",
    "persona['Apellido'] = 'Khan'\n",
    "persona['Edad'] = 23\n",
    "persona['Esposa'] = ['Börte Qatun','Yesugen','Qulan Qatun','Möge Qatun','Juerbiesu','Ibaqa Beki']\n",
    "persona['Hijos'] = 'En estudio'\n",
    "persona['Mascotas'] = {'Perro': 'Wahadi', 'Gato': 'Gotze','Leon':'Pichirilo'}\n",
    "\n",
    "print(persona)\n",
    "print('Hijos de',persona['Nombre'],':',persona['Hijos'])"
   ]
  },
  {
   "cell_type": "markdown",
   "id": "b91aa0fd-d103-4741-80cd-1ced3798fcd8",
   "metadata": {
    "slideshow": {
     "slide_type": "subslide"
    },
    "tags": []
   },
   "source": [
    "Del ejemplo anterior se puede observar que los diccionarios pueden contener diccionarios en su interior:"
   ]
  },
  {
   "cell_type": "code",
   "execution_count": 44,
   "id": "554e8ace-665b-4976-9edb-86234a5beb3a",
   "metadata": {},
   "outputs": [
    {
     "name": "stdout",
     "output_type": "stream",
     "text": [
      "{'Perro': 'Wahadi', 'Gato': 'Gotze', 'Leon': 'Pichirilo'}\n"
     ]
    }
   ],
   "source": [
    "print(persona['Mascotas'])"
   ]
  },
  {
   "cell_type": "code",
   "execution_count": 45,
   "id": "16c2a33b-e23d-4de1-b90f-1dc7338a52fe",
   "metadata": {},
   "outputs": [
    {
     "name": "stdout",
     "output_type": "stream",
     "text": [
      "Wahadi\n"
     ]
    }
   ],
   "source": [
    "print(persona['Mascotas']['Perro'])"
   ]
  },
  {
   "cell_type": "markdown",
   "id": "03ff73f4-b054-4c0f-80b6-96439183f03c",
   "metadata": {
    "slideshow": {
     "slide_type": "slide"
    },
    "tags": []
   },
   "source": [
    "## <span style=\"color:blue\">Funciones</span>"
   ]
  },
  {
   "cell_type": "markdown",
   "id": "ecf0a0d0-0d6b-4cd4-b2e2-ee76b7f8da6e",
   "metadata": {},
   "source": [
    "Todo el código que hemos visto antes tiene un pequeño problema: Ha sido escrito completamente manual. Si queríamos aplicar procesos parecidos, hubo que copiar y pegar el mismo código y actualizarlo. Incluso si queremos volver a definir variables, tuvimos que re escribirlo completamente.\n",
    "\n",
    "Las funciones en Python nos permiten re utilizar código de una forma sencilla y rápida. Definimos un código de manera premeditada y este únicamente corre en el momento que lo llamemos.\n",
    "\n",
    "para definir una función justamente usamos `def`. Hagamos una función \"Hello World\""
   ]
  },
  {
   "cell_type": "code",
   "execution_count": 46,
   "id": "f3af44c0-0f70-4f7f-ab5d-d8e06ab26967",
   "metadata": {},
   "outputs": [],
   "source": [
    "def hello_world(name):\n",
    "    print(\"Hola mundo, mi nombre es {}\".format(name))"
   ]
  },
  {
   "cell_type": "markdown",
   "id": "793617d5-9990-47a4-a509-95a0417df49e",
   "metadata": {},
   "source": [
    "Como se ve, no se imprime nada todavía, tenemos que llamar la nueva función."
   ]
  },
  {
   "cell_type": "code",
   "execution_count": 47,
   "id": "33a2ef20-dc2b-43a1-be14-b673fd343bb1",
   "metadata": {},
   "outputs": [
    {
     "name": "stdout",
     "output_type": "stream",
     "text": [
      "Hola mundo, mi nombre es Oleg\n"
     ]
    }
   ],
   "source": [
    "hello_world(\"Oleg\")"
   ]
  },
  {
   "cell_type": "markdown",
   "id": "52976a3b-1c70-4993-a1ff-cbb59ea4388d",
   "metadata": {
    "slideshow": {
     "slide_type": "subslide"
    },
    "tags": []
   },
   "source": [
    "Podemos definir cualquier tipo de código y utilizar cualquier estructura que hemos visto."
   ]
  },
  {
   "cell_type": "code",
   "execution_count": 48,
   "id": "7bdd3a4f-f17a-4d72-9916-b1611f608296",
   "metadata": {},
   "outputs": [
    {
     "name": "stdout",
     "output_type": "stream",
     "text": [
      "{'David': 2323, 'Sara': 55555, 'Santiago': 23497234, 'Diana': 68420342}\n"
     ]
    }
   ],
   "source": [
    "def create_contacts(name_list, phone_list):\n",
    "    contacts = {}\n",
    "    for name, number in zip(name_list, phone_list):\n",
    "        contacts[name] = number\n",
    "    print(contacts)\n",
    "    \n",
    "nombres = [\"David\", \"Sara\", \"Santiago\", \"Diana\"]\n",
    "numeros = [2323, 55555, 23497234, 68420342]\n",
    "\n",
    "create_contacts(nombres, numeros)"
   ]
  },
  {
   "cell_type": "markdown",
   "id": "2def489e-d82b-4275-bf1a-9da1eddfbac8",
   "metadata": {
    "slideshow": {
     "slide_type": "subslide"
    },
    "tags": []
   },
   "source": [
    "las funciones también pueden retornar variables cuando se llaman usando `return`"
   ]
  },
  {
   "cell_type": "code",
   "execution_count": 49,
   "id": "982aaa9f-0fa2-4069-a2df-b0d74e11b09d",
   "metadata": {},
   "outputs": [
    {
     "name": "stdout",
     "output_type": "stream",
     "text": [
      "56\n",
      "12394871434\n",
      "77777776\n",
      "12314\n"
     ]
    }
   ],
   "source": [
    "def get_evens(number_list):\n",
    "    even = []\n",
    "    for num in number_list:\n",
    "        if num%2 == 0:\n",
    "            even.append(num)\n",
    "    return(even)\n",
    "numbers = [12312341521, 33453125, 11, 23, 56, 12394871434, 77777776, 12314]\n",
    "\n",
    "for i in get_evens(numbers):\n",
    "    print(i)"
   ]
  },
  {
   "cell_type": "markdown",
   "id": "d911dcc9-e9e8-49f3-ae8b-31b59fd2b48f",
   "metadata": {
    "slideshow": {
     "slide_type": "subslide"
    },
    "tags": []
   },
   "source": [
    "Un ejemplo final de lo que podemos aplicar con las funciones"
   ]
  },
  {
   "cell_type": "code",
   "execution_count": 50,
   "id": "4dbefac3-804c-49fa-9d4f-1764662b6828",
   "metadata": {},
   "outputs": [],
   "source": [
    "import numpy as np\n",
    "import matplotlib.pyplot as plt\n",
    "\n",
    "plt.rcParams[\"figure.figsize\"] = [7.50, 3.50]\n",
    "plt.rcParams[\"figure.autolayout\"] = True\n",
    "\n",
    "\n",
    "\n",
    "def plot_function(f, bounds=(-10,10), color=\"blue\"):\n",
    "    x = np.linspace(bounds[0], bounds[1], 100)\n",
    "    plt.plot(x, f(x), color=color)\n",
    "    \n",
    "\n"
   ]
  },
  {
   "cell_type": "code",
   "execution_count": 51,
   "id": "4806a579-7d34-4221-9e32-70d3d3e74f23",
   "metadata": {
    "slideshow": {
     "slide_type": "subslide"
    },
    "tags": []
   },
   "outputs": [
    {
     "data": {
      "image/png": "[encoded data removed]",
      "text/plain": [
       "<Figure size 432x288 with 1 Axes>"
      ]
     },
     "metadata": {
      "needs_background": "light"
     },
     "output_type": "display_data"
    }
   ],
   "source": [
    "def f(x):\n",
    "    return np.sin(x) + x + x * np.sin(x)\n",
    "\n",
    "\n",
    "plot_function(np.sin, (-5,5))\n",
    "plot_function(f, color=\"red\")\n",
    "plt.show()"
   ]
  },
  {
   "cell_type": "markdown",
   "id": "772730e9-d39e-440a-bbb4-e048fca41fa1",
   "metadata": {},
   "source": [
    "Compliquemos un poco la situación"
   ]
  },
  {
   "cell_type": "markdown",
   "id": "6997f1f7-47f4-43e2-88f0-99f01361ba2d",
   "metadata": {
    "slideshow": {
     "slide_type": "subslide"
    },
    "tags": []
   },
   "source": [
    "¿Alguno conoce la \"ecuación de Batman\"?\n",
    "\n",
    "![Batman equation](../imagenes/batman.png)"
   ]
  },
  {
   "cell_type": "code",
   "execution_count": 52,
   "id": "c08de71c-d8b2-4619-918b-2851a3714b9a",
   "metadata": {
    "slideshow": {
     "slide_type": "subslide"
    },
    "tags": []
   },
   "outputs": [],
   "source": [
    "def plot_symmetric(f, bounds=(-10,10), color=\"blue\"):\n",
    "    x = np.linspace(bounds[0], bounds[1], 100)\n",
    "    plt.plot(x, f(x), color=color)\n",
    "    plt.plot(np.flip(-x), f(np.flip(-x)), color=color)\n",
    "    \n",
    "def y1(x):\n",
    "    return abs(x/2)- 0.09137*x**2 + np.sqrt(1-(abs(abs(x)-2)-1)**2) -3\n",
    "\n",
    "def y2(x):\n",
    "    return 3*np.sqrt(-(x/7)**2+1)\n",
    "\n",
    "def y3(x):\n",
    "    return -3*np.sqrt(-(x/7)**2+1)\n",
    "\n",
    "def y4(x):\n",
    "    return 9-8*abs(x)\n",
    "\n",
    "def y5(x):\n",
    "    return 1.5 - .5*abs(x) - 1.89736*(np.sqrt(3-x**2+2*abs(x))-2)\n",
    "\n",
    "def y6(x):\n",
    "    return 3*abs(x)+.75\n",
    "\n",
    "def y7(x):\n",
    "    return np.full(len(x), 2.25)\n"
   ]
  },
  {
   "cell_type": "code",
   "execution_count": 53,
   "id": "be9a7b9a-5c45-406b-8a63-50716bf039c4",
   "metadata": {
    "slideshow": {
     "slide_type": "subslide"
    },
    "tags": []
   },
   "outputs": [
    {
     "data": {
      "image/png": "[encoded data removed]",
      "text/plain": [
       "<Figure size 432x288 with 1 Axes>"
      ]
     },
     "metadata": {
      "needs_background": "light"
     },
     "output_type": "display_data"
    }
   ],
   "source": [
    "plt.rcParams[\"axes.facecolor\"] = 'black'\n",
    "\n",
    "plot_function(y1, (-4,4), color=\"yellow\")\n",
    "plot_function(y7, (-.5,.5), color=\"yellow\")\n",
    "plot_symmetric(y2, (3,7), color=\"yellow\")\n",
    "plot_symmetric(y3, (-7,-4), color=\"yellow\")\n",
    "plot_symmetric(y4, (-1,-.75), color=\"yellow\")\n",
    "plot_symmetric(y5, (-2.9,-1), color=\"yellow\")\n",
    "plot_symmetric(y6, (-.75,-.5), color=\"yellow\")"
   ]
  }
 ],
 "metadata": {
  "celltoolbar": "Slideshow",
  "kernelspec": {
   "display_name": "Python 3 (ipykernel)",
   "language": "python",
   "name": "python3"
  },
  "language_info": {
   "codemirror_mode": {
    "name": "ipython",
    "version": 3
   },
   "file_extension": ".py",
   "mimetype": "text/x-python",
   "name": "python",
   "nbconvert_exporter": "python",
   "pygments_lexer": "ipython3",
   "version": "3.10.6"
  }
 },
 "nbformat": 4,
 "nbformat_minor": 5
}
