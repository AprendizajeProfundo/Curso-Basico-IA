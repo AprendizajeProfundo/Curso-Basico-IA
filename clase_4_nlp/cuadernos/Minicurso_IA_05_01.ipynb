{
 "cells": [
  {
   "cell_type": "markdown",
   "id": "9b281640",
   "metadata": {
    "slideshow": {
     "slide_type": "slide"
    },
    "tags": []
   },
   "source": [
    "<figure> \n",
    "<img src=\"../imagenes/logo-final-ap.png\"  width=\"80\" height=\"80\" align=\"left\"/> \n",
    "</figure>\n",
    "\n",
    "# <span style=\"color:blue\"><left>Aprendizaje Profundo</left></span>"
   ]
  },
  {
   "cell_type": "markdown",
   "id": "271316b0",
   "metadata": {},
   "source": [
    "# <span style=\"color:red\"><center>Minicurso  de Inteligencia Artificial<center></span>"
   ]
  },
  {
   "cell_type": "markdown",
   "id": "7be75202",
   "metadata": {},
   "source": [
    "## <span style=\"color:green\"><center>Introducción a Modelos de Lenguaje Natural</center></span>"
   ]
  },
  {
   "cell_type": "markdown",
   "id": "8af6fd7a",
   "metadata": {
    "slideshow": {
     "slide_type": "slide"
    },
    "tags": []
   },
   "source": [
    "##   <span style=\"color:blue\">Profesores</span>"
   ]
  },
  {
   "cell_type": "markdown",
   "id": "df39784e",
   "metadata": {},
   "source": [
    "1. Alvaro  Montenegro, PhD, ammontenegrod@unal.edu.co\n",
    "2. Daniel  Montenegro, Msc, dextronomo@gmail.com \n",
    "1. Oleg Jarma, Estadístico, ojarmam@unal.edu.co "
   ]
  },
  {
   "cell_type": "markdown",
   "id": "9aa71ea0",
   "metadata": {},
   "source": [
    "##   <span style=\"color:blue\">Asesora Medios y Marketing digital</span>\n",
    " "
   ]
  },
  {
   "cell_type": "markdown",
   "id": "e5fdaff1",
   "metadata": {},
   "source": [
    "4. Maria del Pilar Montenegro, pmontenegro88@gmail.com "
   ]
  },
  {
   "cell_type": "markdown",
   "id": "67177bdf",
   "metadata": {
    "slideshow": {
     "slide_type": "slide"
    },
    "tags": []
   },
   "source": [
    "## <span style=\"color:blue\">Contenido</span>"
   ]
  },
  {
   "cell_type": "markdown",
   "id": "9588ae2d",
   "metadata": {},
   "source": [
    "- [**Introducción al Tratamiento clásico de Lenguaje Natural**](#Introducción-al-Tratamiento-clásico-de-Lenguaje-Natural)\n",
    "\n",
    "- [**Bolsa de palabras**]()\n",
    "\n",
    "- [**codificación tf-idf**]()\n",
    "\n",
    "- [**Análisis de Componentes Principales: semántica latente**]()\n",
    "\n",
    "- [**Tokenización**](#Tokenización)\n",
    "\n",
    "- [**Word Embedding \\(Incrustación de palabras\\)**](#Word-Embedding-\\(Incrustación-de-palabras\\))\n",
    "\n",
    "- [**Métodos CBOW y Skip-gram**](#Métodos-CBOW-y-Skip-gram)\n",
    "\n",
    "- [**Modelos pre-entrenados: Word2Vec, GloVe**](#Modelos-pre-entrenados:-Word2Vec,-GloVe)\n",
    "\n",
    "- [**FastText \\(Facebook \\)**](#FastText-\\(Facebook\\))\n",
    "\n",
    "- [**Aplicaciones**](#Aplicaciones)"
   ]
  },
  {
   "cell_type": "markdown",
   "id": "6c1f768e",
   "metadata": {
    "slideshow": {
     "slide_type": "slide"
    },
    "tags": []
   },
   "source": [
    "## <span style=\"color:blue\">Enlaces importantes</span>"
   ]
  },
  {
   "cell_type": "markdown",
   "id": "61f0f338",
   "metadata": {},
   "source": [
    "1. [Repositorio del mini curso](https://github.com/AprendizajeProfundo/Curso-Basico-IA)\n",
    "1. [Repositorio Aprendizaje Profundo](https://github.com/AprendizajeProfundo)\n",
    "1. [Clases en vivo](https://us02web.zoom.us/j/86057731334?pwd=MlgvU1cwZmtXbnBBSjVodmNaTDFLQT09), Meeting ID: 860 5773 1334, Passcode: 392083\n",
    "1. [Clases grabadas](https://aprendizajeprofundo.co/cursoslibres/)\n"
   ]
  },
  {
   "cell_type": "markdown",
   "id": "d15e5f88",
   "metadata": {
    "slideshow": {
     "slide_type": "slide"
    },
    "tags": []
   },
   "source": [
    "<figure>\n",
    "<img src=\"../imagenes/logo-final-ap.png\"  width=\"80\" height=\"80\" align=\"left\"/> \n",
    "</figure>\n",
    "\n",
    "# <span style=\"color:red\"><center>Introducción al Tratamiento clásico de Lenguaje Natural</center></span>"
   ]
  },
  {
   "cell_type": "markdown",
   "id": "41b0282c",
   "metadata": {
    "slideshow": {
     "slide_type": "subslide"
    },
    "tags": []
   },
   "source": [
    "## <span style=\"color:blue\">Caja de Herramientas Básica (Pre-procesamiento) </span>\n",
    "\n",
    "<br></br>"
   ]
  },
  {
   "cell_type": "markdown",
   "id": "fb125376",
   "metadata": {
    "tags": []
   },
   "source": [
    "1. **Limpieza inicial dependiendo de la forma de obtener los datos (Ej. HTML)**\n",
    "\n",
    "2. **Estandarización de la información**\n",
    "\n",
    "    - Lematización (palabras y sus flexiones morfológicas en una sola forma).\n",
    "    - Convertir a formato de minúsculas. (Ej. **Para = para**).\n",
    "    - Eliminar signos de puntuación.\n",
    "    - Eliminación de dígitos.\n",
    "    - Eliminación de palabras vacías (Stopwords)."
   ]
  },
  {
   "cell_type": "markdown",
   "id": "dae2dea9",
   "metadata": {
    "slideshow": {
     "slide_type": "subslide"
    },
    "tags": []
   },
   "source": [
    "## Ejemplo: \n",
    "![Frase](../imagenes/William_Blake.jpeg)\n",
    "\n",
    "William Blake, Fuente: [freepng](https://www.freepng.es/png-ojtpyn/)"
   ]
  },
  {
   "cell_type": "markdown",
   "id": "6baa0c60",
   "metadata": {
    "tags": []
   },
   "source": [
    "**Texto Minado de la Web:**\n",
    "\n",
    "`<div class=\"quoteText2\">“<a href=\"/frase/202124\" class=\"qlink\">Ver un mundo en un grano de arena y un cielo en una flor silvestre, tener el infinito en la palma de la mano y la Eternidad en una hora.</a> <br><div class=\"qauthor\">  ― <a href=\"/autor/william-blake\">William Blake</a></div></div>`"
   ]
  },
  {
   "cell_type": "markdown",
   "id": "ca50e912",
   "metadata": {
    "slideshow": {
     "slide_type": "subslide"
    },
    "tags": []
   },
   "source": [
    "**1. Limpieza Inicial**\n",
    "\n",
    "\n",
    "\n",
    "<center>Ver un mundo en un grano de arena y un cielo en una flor silvestre, tener el infinito en la palma de la mano y la Eternidad en una hora.</center>"
   ]
  },
  {
   "cell_type": "markdown",
   "id": "e5b3109e",
   "metadata": {
    "slideshow": {
     "slide_type": "subslide"
    },
    "tags": []
   },
   "source": [
    "**2. Estandarización de la información**\n",
    "\n",
    "- Lematización\n",
    "\n",
    "<center>Ver uno mundo en uno grano de arena y uno cielo en uno flor silvestre, tener el infinito en el palma de el mano y el Eternidad en uno hora .</center>"
   ]
  },
  {
   "cell_type": "markdown",
   "id": "a61d3b44",
   "metadata": {
    "slideshow": {
     "slide_type": "subslide"
    },
    "tags": []
   },
   "source": [
    "**2. Estandarización de la información**\n",
    "\n",
    "- Convertir Formato a Minúsculas\n",
    "\n",
    "<center>ver uno mundo en uno grano de arena y uno cielo en uno flor silvestre, tener el infinito en el palma de el mano y el eternidad en uno hora .</center>"
   ]
  },
  {
   "cell_type": "markdown",
   "id": "943e11cb",
   "metadata": {
    "slideshow": {
     "slide_type": "subslide"
    },
    "tags": []
   },
   "source": [
    "**2. Estandarización de la información**\n",
    "\n",
    "- Eliminar signos de Puntuación\n",
    "\n",
    "<center>ver uno mundo en uno grano de arena y uno cielo en uno flor silvestre tener el infinito en el palma de el mano y el eternidad en uno hora</center>"
   ]
  },
  {
   "cell_type": "markdown",
   "id": "d0843973",
   "metadata": {
    "slideshow": {
     "slide_type": "subslide"
    },
    "tags": []
   },
   "source": [
    "**2. Estandarización de la información**\n",
    "\n",
    "- Eliminar palabras Vacías (**StopWords**)\n",
    "\n",
    "<center>mundo grano arena cielo flor silvestre infinito palma mano eternidad hora</center>"
   ]
  },
  {
   "cell_type": "code",
   "execution_count": 14,
   "id": "5b6e67d9",
   "metadata": {
    "slideshow": {
     "slide_type": "skip"
    },
    "tags": []
   },
   "outputs": [
    {
     "name": "stderr",
     "output_type": "stream",
     "text": [
      "2022-07-20 18:58:28 INFO: Loading these models for language: es (Spanish):\n",
      "=======================\n",
      "| Processor | Package |\n",
      "-----------------------\n",
      "| tokenize  | ancora  |\n",
      "| mwt       | ancora  |\n",
      "| pos       | ancora  |\n",
      "| lemma     | ancora  |\n",
      "=======================\n",
      "\n",
      "2022-07-20 18:58:28 INFO: Use device: cpu\n",
      "2022-07-20 18:58:28 INFO: Loading: tokenize\n",
      "2022-07-20 18:58:28 INFO: Loading: mwt\n",
      "2022-07-20 18:58:28 INFO: Loading: pos\n",
      "2022-07-20 18:58:29 INFO: Loading: lemma\n",
      "2022-07-20 18:58:29 INFO: Done loading processors!\n"
     ]
    }
   ],
   "source": [
    "# import  Stanza. Herramienta de NLP de Standford\n",
    "import stanza\n",
    "nlp = stanza.Pipeline(lang='es', processors='tokenize,mwt,pos,lemma')"
   ]
  },
  {
   "cell_type": "code",
   "execution_count": 3,
   "id": "5761e170",
   "metadata": {
    "slideshow": {
     "slide_type": "skip"
    },
    "tags": []
   },
   "outputs": [
    {
     "name": "stdout",
     "output_type": "stream",
     "text": [
      "texto:  Ver un mundo en un grano de arena y un cielo en una flor silvestre, tener el infinito en la palma de la mano y la Eternidad en una hora.\n",
      "partes:  [\n",
      "  [\n",
      "    {\n",
      "      \"id\": 1,\n",
      "      \"text\": \"Ver\",\n",
      "      \"lemma\": \"ver\",\n",
      "      \"upos\": \"VERB\",\n",
      "      \"xpos\": \"VERB\",\n",
      "      \"feats\": \"VerbForm=Inf\",\n",
      "      \"start_char\": 0,\n",
      "      \"end_char\": 3\n",
      "    },\n",
      "    {\n",
      "      \"id\": 2,\n",
      "      \"text\": \"un\",\n",
      "      \"lemma\": \"uno\",\n",
      "      \"upos\": \"DET\",\n",
      "      \"xpos\": \"DET\",\n",
      "      \"feats\": \"Definite=Ind|Gender=Masc|Number=Sing|PronType=Art\",\n",
      "      \"start_char\": 4,\n",
      "      \"end_char\": 6\n",
      "    },\n",
      "    {\n",
      "      \"id\": 3,\n",
      "      \"text\": \"mundo\",\n",
      "      \"lemma\": \"mundo\",\n",
      "      \"upos\": \"NOUN\",\n",
      "      \"xpos\": \"NOUN\",\n",
      "      \"feats\": \"Gender=Masc|Number=Sing\",\n",
      "      \"start_char\": 7,\n",
      "      \"end_char\": 12\n",
      "    },\n",
      "    {\n",
      "      \"id\": 4,\n",
      "      \"text\": \"en\",\n",
      "      \"lemma\": \"en\",\n",
      "      \"upos\": \"ADP\",\n",
      "      \"xpos\": \"ADP\",\n",
      "      \"feats\": \"AdpType=Prep\",\n",
      "      \"start_char\": 13,\n",
      "      \"end_char\": 15\n",
      "    },\n",
      "    {\n",
      "      \"id\": 5,\n",
      "      \"text\": \"un\",\n",
      "      \"lemma\": \"uno\",\n",
      "      \"upos\": \"DET\",\n",
      "      \"xpos\": \"DET\",\n",
      "      \"feats\": \"Definite=Ind|Gender=Masc|Number=Sing|PronType=Art\",\n",
      "      \"start_char\": 16,\n",
      "      \"end_char\": 18\n",
      "    },\n",
      "    {\n",
      "      \"id\": 6,\n",
      "      \"text\": \"grano\",\n",
      "      \"lemma\": \"grano\",\n",
      "      \"upos\": \"NOUN\",\n",
      "      \"xpos\": \"NOUN\",\n",
      "      \"feats\": \"Gender=Masc|Number=Sing\",\n",
      "      \"start_char\": 19,\n",
      "      \"end_char\": 24\n",
      "    },\n",
      "    {\n",
      "      \"id\": 7,\n",
      "      \"text\": \"de\",\n",
      "      \"lemma\": \"de\",\n",
      "      \"upos\": \"ADP\",\n",
      "      \"xpos\": \"ADP\",\n",
      "      \"feats\": \"AdpType=Prep\",\n",
      "      \"start_char\": 25,\n",
      "      \"end_char\": 27\n",
      "    },\n",
      "    {\n",
      "      \"id\": 8,\n",
      "      \"text\": \"arena\",\n",
      "      \"lemma\": \"arena\",\n",
      "      \"upos\": \"NOUN\",\n",
      "      \"xpos\": \"NOUN\",\n",
      "      \"feats\": \"Gender=Fem|Number=Sing\",\n",
      "      \"start_char\": 28,\n",
      "      \"end_char\": 33\n",
      "    },\n",
      "    {\n",
      "      \"id\": 9,\n",
      "      \"text\": \"y\",\n",
      "      \"lemma\": \"y\",\n",
      "      \"upos\": \"CCONJ\",\n",
      "      \"xpos\": \"CCONJ\",\n",
      "      \"start_char\": 34,\n",
      "      \"end_char\": 35\n",
      "    },\n",
      "    {\n",
      "      \"id\": 10,\n",
      "      \"text\": \"un\",\n",
      "      \"lemma\": \"uno\",\n",
      "      \"upos\": \"DET\",\n",
      "      \"xpos\": \"DET\",\n",
      "      \"feats\": \"Definite=Ind|Gender=Masc|Number=Sing|PronType=Art\",\n",
      "      \"start_char\": 36,\n",
      "      \"end_char\": 38\n",
      "    },\n",
      "    {\n",
      "      \"id\": 11,\n",
      "      \"text\": \"cielo\",\n",
      "      \"lemma\": \"cielo\",\n",
      "      \"upos\": \"NOUN\",\n",
      "      \"xpos\": \"NOUN\",\n",
      "      \"feats\": \"Gender=Masc|Number=Sing\",\n",
      "      \"start_char\": 39,\n",
      "      \"end_char\": 44\n",
      "    },\n",
      "    {\n",
      "      \"id\": 12,\n",
      "      \"text\": \"en\",\n",
      "      \"lemma\": \"en\",\n",
      "      \"upos\": \"ADP\",\n",
      "      \"xpos\": \"ADP\",\n",
      "      \"feats\": \"AdpType=Prep\",\n",
      "      \"start_char\": 45,\n",
      "      \"end_char\": 47\n",
      "    },\n",
      "    {\n",
      "      \"id\": 13,\n",
      "      \"text\": \"una\",\n",
      "      \"lemma\": \"uno\",\n",
      "      \"upos\": \"DET\",\n",
      "      \"xpos\": \"DET\",\n",
      "      \"feats\": \"Definite=Ind|Gender=Fem|Number=Sing|PronType=Art\",\n",
      "      \"start_char\": 48,\n",
      "      \"end_char\": 51\n",
      "    },\n",
      "    {\n",
      "      \"id\": 14,\n",
      "      \"text\": \"flor\",\n",
      "      \"lemma\": \"flor\",\n",
      "      \"upos\": \"NOUN\",\n",
      "      \"xpos\": \"NOUN\",\n",
      "      \"feats\": \"Gender=Fem|Number=Sing\",\n",
      "      \"start_char\": 52,\n",
      "      \"end_char\": 56\n",
      "    },\n",
      "    {\n",
      "      \"id\": 15,\n",
      "      \"text\": \"silvestre\",\n",
      "      \"lemma\": \"silvestre\",\n",
      "      \"upos\": \"ADJ\",\n",
      "      \"xpos\": \"ADJ\",\n",
      "      \"feats\": \"Number=Sing\",\n",
      "      \"start_char\": 57,\n",
      "      \"end_char\": 66\n",
      "    },\n",
      "    {\n",
      "      \"id\": 16,\n",
      "      \"text\": \",\",\n",
      "      \"lemma\": \",\",\n",
      "      \"upos\": \"PUNCT\",\n",
      "      \"xpos\": \"PUNCT\",\n",
      "      \"feats\": \"PunctType=Comm\",\n",
      "      \"start_char\": 66,\n",
      "      \"end_char\": 67\n",
      "    },\n",
      "    {\n",
      "      \"id\": 17,\n",
      "      \"text\": \"tener\",\n",
      "      \"lemma\": \"tener\",\n",
      "      \"upos\": \"VERB\",\n",
      "      \"xpos\": \"VERB\",\n",
      "      \"feats\": \"VerbForm=Inf\",\n",
      "      \"start_char\": 68,\n",
      "      \"end_char\": 73\n",
      "    },\n",
      "    {\n",
      "      \"id\": 18,\n",
      "      \"text\": \"el\",\n",
      "      \"lemma\": \"el\",\n",
      "      \"upos\": \"DET\",\n",
      "      \"xpos\": \"DET\",\n",
      "      \"feats\": \"Definite=Def|Gender=Masc|Number=Sing|PronType=Art\",\n",
      "      \"start_char\": 74,\n",
      "      \"end_char\": 76\n",
      "    },\n",
      "    {\n",
      "      \"id\": 19,\n",
      "      \"text\": \"infinito\",\n",
      "      \"lemma\": \"infinito\",\n",
      "      \"upos\": \"NOUN\",\n",
      "      \"xpos\": \"NOUN\",\n",
      "      \"feats\": \"Gender=Masc|Number=Sing\",\n",
      "      \"start_char\": 77,\n",
      "      \"end_char\": 85\n",
      "    },\n",
      "    {\n",
      "      \"id\": 20,\n",
      "      \"text\": \"en\",\n",
      "      \"lemma\": \"en\",\n",
      "      \"upos\": \"ADP\",\n",
      "      \"xpos\": \"ADP\",\n",
      "      \"feats\": \"AdpType=Prep\",\n",
      "      \"start_char\": 86,\n",
      "      \"end_char\": 88\n",
      "    },\n",
      "    {\n",
      "      \"id\": 21,\n",
      "      \"text\": \"la\",\n",
      "      \"lemma\": \"el\",\n",
      "      \"upos\": \"DET\",\n",
      "      \"xpos\": \"DET\",\n",
      "      \"feats\": \"Definite=Def|Gender=Fem|Number=Sing|PronType=Art\",\n",
      "      \"start_char\": 89,\n",
      "      \"end_char\": 91\n",
      "    },\n",
      "    {\n",
      "      \"id\": 22,\n",
      "      \"text\": \"palma\",\n",
      "      \"lemma\": \"palma\",\n",
      "      \"upos\": \"NOUN\",\n",
      "      \"xpos\": \"NOUN\",\n",
      "      \"feats\": \"Gender=Fem|Number=Sing\",\n",
      "      \"start_char\": 92,\n",
      "      \"end_char\": 97\n",
      "    },\n",
      "    {\n",
      "      \"id\": 23,\n",
      "      \"text\": \"de\",\n",
      "      \"lemma\": \"de\",\n",
      "      \"upos\": \"ADP\",\n",
      "      \"xpos\": \"ADP\",\n",
      "      \"feats\": \"AdpType=Prep\",\n",
      "      \"start_char\": 98,\n",
      "      \"end_char\": 100\n",
      "    },\n",
      "    {\n",
      "      \"id\": 24,\n",
      "      \"text\": \"la\",\n",
      "      \"lemma\": \"el\",\n",
      "      \"upos\": \"DET\",\n",
      "      \"xpos\": \"DET\",\n",
      "      \"feats\": \"Definite=Def|Gender=Fem|Number=Sing|PronType=Art\",\n",
      "      \"start_char\": 101,\n",
      "      \"end_char\": 103\n",
      "    },\n",
      "    {\n",
      "      \"id\": 25,\n",
      "      \"text\": \"mano\",\n",
      "      \"lemma\": \"mano\",\n",
      "      \"upos\": \"NOUN\",\n",
      "      \"xpos\": \"NOUN\",\n",
      "      \"feats\": \"Gender=Fem|Number=Sing\",\n",
      "      \"start_char\": 104,\n",
      "      \"end_char\": 108\n",
      "    },\n",
      "    {\n",
      "      \"id\": 26,\n",
      "      \"text\": \"y\",\n",
      "      \"lemma\": \"y\",\n",
      "      \"upos\": \"CCONJ\",\n",
      "      \"xpos\": \"CCONJ\",\n",
      "      \"start_char\": 109,\n",
      "      \"end_char\": 110\n",
      "    },\n",
      "    {\n",
      "      \"id\": 27,\n",
      "      \"text\": \"la\",\n",
      "      \"lemma\": \"el\",\n",
      "      \"upos\": \"DET\",\n",
      "      \"xpos\": \"DET\",\n",
      "      \"feats\": \"Definite=Def|Gender=Fem|Number=Sing|PronType=Art\",\n",
      "      \"start_char\": 111,\n",
      "      \"end_char\": 113\n",
      "    },\n",
      "    {\n",
      "      \"id\": 28,\n",
      "      \"text\": \"Eternidad\",\n",
      "      \"lemma\": \"Eternidad\",\n",
      "      \"upos\": \"PROPN\",\n",
      "      \"xpos\": \"PROPN\",\n",
      "      \"start_char\": 114,\n",
      "      \"end_char\": 123\n",
      "    },\n",
      "    {\n",
      "      \"id\": 29,\n",
      "      \"text\": \"en\",\n",
      "      \"lemma\": \"en\",\n",
      "      \"upos\": \"ADP\",\n",
      "      \"xpos\": \"ADP\",\n",
      "      \"feats\": \"AdpType=Prep\",\n",
      "      \"start_char\": 124,\n",
      "      \"end_char\": 126\n",
      "    },\n",
      "    {\n",
      "      \"id\": 30,\n",
      "      \"text\": \"una\",\n",
      "      \"lemma\": \"uno\",\n",
      "      \"upos\": \"DET\",\n",
      "      \"xpos\": \"DET\",\n",
      "      \"feats\": \"Definite=Ind|Gender=Fem|Number=Sing|PronType=Art\",\n",
      "      \"start_char\": 127,\n",
      "      \"end_char\": 130\n",
      "    },\n",
      "    {\n",
      "      \"id\": 31,\n",
      "      \"text\": \"hora\",\n",
      "      \"lemma\": \"hora\",\n",
      "      \"upos\": \"NOUN\",\n",
      "      \"xpos\": \"NOUN\",\n",
      "      \"feats\": \"Gender=Fem|Number=Sing\",\n",
      "      \"start_char\": 131,\n",
      "      \"end_char\": 135\n",
      "    },\n",
      "    {\n",
      "      \"id\": 32,\n",
      "      \"text\": \".\",\n",
      "      \"lemma\": \".\",\n",
      "      \"upos\": \"PUNCT\",\n",
      "      \"xpos\": \"PUNCT\",\n",
      "      \"feats\": \"PunctType=Peri\",\n",
      "      \"start_char\": 135,\n",
      "      \"end_char\": 136\n",
      "    }\n",
      "  ]\n",
      "]\n"
     ]
    }
   ],
   "source": [
    "texto = 'Ver un mundo en un grano de arena y un cielo en una flor silvestre, tener el infinito en la palma de la mano y la Eternidad en una hora.'\n",
    "print('texto: ', texto)\n",
    "partes = nlp(texto)\n",
    "print('partes: ', partes)"
   ]
  },
  {
   "cell_type": "code",
   "execution_count": 10,
   "id": "ae080f5c",
   "metadata": {
    "slideshow": {
     "slide_type": "skip"
    },
    "tags": []
   },
   "outputs": [
    {
     "name": "stdout",
     "output_type": "stream",
     "text": [
      "ver uno mundo en uno grano de arena y uno cielo en uno flor silvestre , tener el infinito en el palma de el mano y el Eternidad en uno hora .\n"
     ]
    }
   ],
   "source": [
    "texto_lema = ' '.join([lema.lemma for lema in partes.sentences[0].words])\n",
    "print(texto_lema)"
   ]
  },
  {
   "cell_type": "code",
   "execution_count": 11,
   "id": "04b59b99",
   "metadata": {
    "slideshow": {
     "slide_type": "skip"
    },
    "tags": []
   },
   "outputs": [
    {
     "name": "stdout",
     "output_type": "stream",
     "text": [
      "ver uno mundo en uno grano de arena y uno cielo en uno flor silvestre , tener el infinito en el palma de el mano y el eternidad en uno hora .\n"
     ]
    }
   ],
   "source": [
    "texto_lema = texto_lema.lower()\n",
    "print(texto_lema)"
   ]
  },
  {
   "cell_type": "code",
   "execution_count": 12,
   "id": "1dd913c3",
   "metadata": {
    "slideshow": {
     "slide_type": "skip"
    },
    "tags": []
   },
   "outputs": [
    {
     "name": "stdout",
     "output_type": "stream",
     "text": [
      "ver uno mundo en uno grano de arena y uno cielo en uno flor silvestre   tener el infinito en el palma de el mano y el eternidad en uno hora  \n"
     ]
    }
   ],
   "source": [
    "import re\n",
    "texto_lema_limpio = re.sub('[^\\w\\s]',' ',texto_lema)\n",
    "print(texto_lema_limpio)"
   ]
  },
  {
   "cell_type": "code",
   "execution_count": 1,
   "id": "d3780df7",
   "metadata": {
    "slideshow": {
     "slide_type": "skip"
    },
    "tags": []
   },
   "outputs": [
    {
     "name": "stderr",
     "output_type": "stream",
     "text": [
      "/home/alvaro/anaconda3/envs/nlp/lib/python3.8/site-packages/spacy/util.py:837: UserWarning: [W095] Model 'es_core_news_sm' (3.1.0) was trained with spaCy v3.1 and may not be 100% compatible with the current version (3.3.1). If you see errors or degraded performance, download a newer compatible model or retrain your custom model with the current spaCy version. For more details and available updates, run: python -m spacy validate\n",
      "  warnings.warn(warn_msg)\n"
     ]
    }
   ],
   "source": [
    "# Importar librerias de nlp y stopwords con nltk y un modelo de lenguaje en Español\n",
    "\n",
    "import spacy\n",
    "import nltk\n",
    "from nltk.corpus import stopwords\n",
    "import es_core_news_sm # conda install -c conda-forge spacy-model-es_core_news_sm"
   ]
  },
  {
   "cell_type": "code",
   "execution_count": 13,
   "id": "ce51395e",
   "metadata": {
    "slideshow": {
     "slide_type": "skip"
    },
    "tags": []
   },
   "outputs": [
    {
     "data": {
      "text/plain": [
       "'mundo grano arena cielo flor silvestre infinito palma mano eternidad hora'"
      ]
     },
     "execution_count": 13,
     "metadata": {},
     "output_type": "execute_result"
    }
   ],
   "source": [
    "# Número de stopwords en nltk\n",
    "stop_nltk = stopwords.words('spanish')\n",
    "#print(\"nltk :\",len(stop_nltk))\n",
    "\n",
    "# Número de stopwords en spacy\n",
    "nlp_sp = es_core_news_sm.load()\n",
    "stop_spacy = nlp.Defaults.stop_words\n",
    "#print(\"spacy:\", len(stop_spacy))\n",
    "\n",
    "# Sacar lo mejor de todas las librerías (sin duplicados)\n",
    "stop_todas = list(stop_spacy.union(set(stop_nltk)))\n",
    "\n",
    "# Número de stopwords en nltk + spacy\n",
    "#print(\"Todas:\", len(stop_todas),'\\n')\n",
    "\n",
    "#print('Palabras:\\n')\n",
    "# Organizar en orden alfabético\n",
    "#bstop_todas.sort()\n",
    "#print(stop_todas)\n",
    "' '.join([word for word in texto_lema_limpio.split() if word not in (stop_todas)])"
   ]
  },
  {
   "cell_type": "markdown",
   "id": "b72cec76",
   "metadata": {
    "slideshow": {
     "slide_type": "subslide"
    },
    "tags": []
   },
   "source": [
    "**Resumen**\n",
    "\n",
    "Hemos convertido\n",
    "\n",
    "`<div class=\"quoteText2\">“<a href=\"/frase/202124\" class=\"qlink\">Ver un mundo en un grano de arena y un cielo en una flor silvestre, tener el infinito en la palma de la mano y la Eternidad en una hora.</a> <br><div class=\"qauthor\">  ― <a href=\"/autor/william-blake\">William Blake</a></div></div>`\n",
    "\n",
    "En:\n",
    "\n",
    "<center>mundo grano arena cielo flor silvestre infinito palma mano eternidad hora</center>"
   ]
  },
  {
   "cell_type": "code",
   "execution_count": 16,
   "id": "cce7a614",
   "metadata": {
    "slideshow": {
     "slide_type": "skip"
    },
    "tags": []
   },
   "outputs": [
    {
     "name": "stderr",
     "output_type": "stream",
     "text": [
      "<ipython-input-16-4f79fd9f97cf>:15: FutureWarning: The default value of regex will change from True to False in a future version.\n",
      "  df['documento preprocesado'] = df['documento preprocesado'].str.replace('[^\\w\\s]','')\n"
     ]
    }
   ],
   "source": [
    "import pandas as pd\n",
    "\n",
    "corpus = ['Ver un mundo en un grano de arena y un cielo en una flor silvestre, tener el infinito en la palma de la mano y la Eternidad en una hora.',\\\n",
    "          'Hola, estoy aquí buscando un árbol dónde vivir.',\\\n",
    "          'La noche está constelada y tu no estàs conmigo.',\\\n",
    "          'Eres toda mi verdad, eclipsada por el mar.',\\\n",
    "          'En mi diario de nostalgìas, buscábamos el desvanecimiento espiritual.',\\\n",
    "          'La ama de llaves está muy frita.']\n",
    "\n",
    "df=pd.DataFrame(corpus,columns=['documento'])\n",
    "\n",
    "df['documento preprocesado'] = df.apply(lambda row:  ' '.join(lema.lemma for lema in nlp(row['documento']).sentences[0].words), axis=1)\n",
    "df['documento preprocesado'] = df['documento preprocesado'].str.lower()\n",
    "df['documento preprocesado'] = df['documento preprocesado'].replace(list('áéíóú'),list('aeiou'),regex=True)\n",
    "df['documento preprocesado'] = df['documento preprocesado'].str.replace('[^\\w\\s]','')\n",
    "df['documento preprocesado']=df['documento preprocesado'].apply(lambda x: ' '.join([word for word in x.split() if word not in (stop_todas)]))\n"
   ]
  },
  {
   "cell_type": "markdown",
   "id": "111a0791",
   "metadata": {
    "slideshow": {
     "slide_type": "subslide"
    },
    "tags": []
   },
   "source": [
    "**Imagen General**\n",
    "\n",
    "Minemos más textos:"
   ]
  },
  {
   "cell_type": "code",
   "execution_count": 17,
   "id": "283020fd",
   "metadata": {},
   "outputs": [
    {
     "data": {
      "text/html": [
       "<div>\n",
       "<style scoped>\n",
       "    .dataframe tbody tr th:only-of-type {\n",
       "        vertical-align: middle;\n",
       "    }\n",
       "\n",
       "    .dataframe tbody tr th {\n",
       "        vertical-align: top;\n",
       "    }\n",
       "\n",
       "    .dataframe thead th {\n",
       "        text-align: right;\n",
       "    }\n",
       "</style>\n",
       "<table border=\"1\" class=\"dataframe\">\n",
       "  <thead>\n",
       "    <tr style=\"text-align: right;\">\n",
       "      <th></th>\n",
       "      <th>documento</th>\n",
       "      <th>documento preprocesado</th>\n",
       "    </tr>\n",
       "  </thead>\n",
       "  <tbody>\n",
       "    <tr>\n",
       "      <th>0</th>\n",
       "      <td>Ver un mundo en un grano de arena y un cielo e...</td>\n",
       "      <td>mundo grano arena cielo flor silvestre infinit...</td>\n",
       "    </tr>\n",
       "    <tr>\n",
       "      <th>1</th>\n",
       "      <td>Hola, estoy aquí buscando un árbol dónde vivir.</td>\n",
       "      <td>hola buscar arbol vivir</td>\n",
       "    </tr>\n",
       "    <tr>\n",
       "      <th>2</th>\n",
       "      <td>La noche está constelada y tu no estàs conmigo.</td>\n",
       "      <td>noche constelado</td>\n",
       "    </tr>\n",
       "    <tr>\n",
       "      <th>3</th>\n",
       "      <td>Eres toda mi verdad, eclipsada por el mar.</td>\n",
       "      <td>eclipsado mar</td>\n",
       "    </tr>\n",
       "    <tr>\n",
       "      <th>4</th>\n",
       "      <td>En mi diario de nostalgìas, buscábamos el desv...</td>\n",
       "      <td>diario nostalgia buscar desvanecimiento espiri...</td>\n",
       "    </tr>\n",
       "    <tr>\n",
       "      <th>5</th>\n",
       "      <td>La ama de llaves está muy frita.</td>\n",
       "      <td>ama llave frito</td>\n",
       "    </tr>\n",
       "  </tbody>\n",
       "</table>\n",
       "</div>"
      ],
      "text/plain": [
       "                                           documento  \\\n",
       "0  Ver un mundo en un grano de arena y un cielo e...   \n",
       "1    Hola, estoy aquí buscando un árbol dónde vivir.   \n",
       "2    La noche está constelada y tu no estàs conmigo.   \n",
       "3         Eres toda mi verdad, eclipsada por el mar.   \n",
       "4  En mi diario de nostalgìas, buscábamos el desv...   \n",
       "5                   La ama de llaves está muy frita.   \n",
       "\n",
       "                              documento preprocesado  \n",
       "0  mundo grano arena cielo flor silvestre infinit...  \n",
       "1                            hola buscar arbol vivir  \n",
       "2                                   noche constelado  \n",
       "3                                      eclipsado mar  \n",
       "4  diario nostalgia buscar desvanecimiento espiri...  \n",
       "5                                    ama llave frito  "
      ]
     },
     "execution_count": 17,
     "metadata": {},
     "output_type": "execute_result"
    }
   ],
   "source": [
    "df"
   ]
  },
  {
   "cell_type": "markdown",
   "id": "ac69fce9",
   "metadata": {
    "slideshow": {
     "slide_type": "slide"
    },
    "tags": []
   },
   "source": [
    "<figure>\n",
    "<img src=\"../imagenes/logo-final-ap.png\"  width=\"80\" height=\"80\" align=\"left\"/> \n",
    "</figure>\n",
    "\n",
    "# <span style=\"color:red\"><center>Bolsa de Palabras (BOW)</center></span>"
   ]
  },
  {
   "cell_type": "code",
   "execution_count": 18,
   "id": "5acc29ce",
   "metadata": {
    "slideshow": {
     "slide_type": "skip"
    },
    "tags": []
   },
   "outputs": [
    {
     "data": {
      "text/html": [
       "<div>\n",
       "<style scoped>\n",
       "    .dataframe tbody tr th:only-of-type {\n",
       "        vertical-align: middle;\n",
       "    }\n",
       "\n",
       "    .dataframe tbody tr th {\n",
       "        vertical-align: top;\n",
       "    }\n",
       "\n",
       "    .dataframe thead th {\n",
       "        text-align: right;\n",
       "    }\n",
       "</style>\n",
       "<table border=\"1\" class=\"dataframe\">\n",
       "  <thead>\n",
       "    <tr style=\"text-align: right;\">\n",
       "      <th></th>\n",
       "      <th>ama</th>\n",
       "      <th>arbol</th>\n",
       "      <th>arena</th>\n",
       "      <th>buscar</th>\n",
       "      <th>cielo</th>\n",
       "      <th>constelado</th>\n",
       "      <th>desvanecimiento</th>\n",
       "      <th>diario</th>\n",
       "      <th>eclipsado</th>\n",
       "      <th>espiritual</th>\n",
       "      <th>...</th>\n",
       "      <th>infinito</th>\n",
       "      <th>llave</th>\n",
       "      <th>mano</th>\n",
       "      <th>mar</th>\n",
       "      <th>mundo</th>\n",
       "      <th>noche</th>\n",
       "      <th>nostalgia</th>\n",
       "      <th>palma</th>\n",
       "      <th>silvestre</th>\n",
       "      <th>vivir</th>\n",
       "    </tr>\n",
       "  </thead>\n",
       "  <tbody>\n",
       "    <tr>\n",
       "      <th>0</th>\n",
       "      <td>0</td>\n",
       "      <td>0</td>\n",
       "      <td>1</td>\n",
       "      <td>0</td>\n",
       "      <td>1</td>\n",
       "      <td>0</td>\n",
       "      <td>0</td>\n",
       "      <td>0</td>\n",
       "      <td>0</td>\n",
       "      <td>0</td>\n",
       "      <td>...</td>\n",
       "      <td>1</td>\n",
       "      <td>0</td>\n",
       "      <td>1</td>\n",
       "      <td>0</td>\n",
       "      <td>1</td>\n",
       "      <td>0</td>\n",
       "      <td>0</td>\n",
       "      <td>1</td>\n",
       "      <td>1</td>\n",
       "      <td>0</td>\n",
       "    </tr>\n",
       "    <tr>\n",
       "      <th>1</th>\n",
       "      <td>0</td>\n",
       "      <td>1</td>\n",
       "      <td>0</td>\n",
       "      <td>1</td>\n",
       "      <td>0</td>\n",
       "      <td>0</td>\n",
       "      <td>0</td>\n",
       "      <td>0</td>\n",
       "      <td>0</td>\n",
       "      <td>0</td>\n",
       "      <td>...</td>\n",
       "      <td>0</td>\n",
       "      <td>0</td>\n",
       "      <td>0</td>\n",
       "      <td>0</td>\n",
       "      <td>0</td>\n",
       "      <td>0</td>\n",
       "      <td>0</td>\n",
       "      <td>0</td>\n",
       "      <td>0</td>\n",
       "      <td>1</td>\n",
       "    </tr>\n",
       "    <tr>\n",
       "      <th>2</th>\n",
       "      <td>0</td>\n",
       "      <td>0</td>\n",
       "      <td>0</td>\n",
       "      <td>0</td>\n",
       "      <td>0</td>\n",
       "      <td>1</td>\n",
       "      <td>0</td>\n",
       "      <td>0</td>\n",
       "      <td>0</td>\n",
       "      <td>0</td>\n",
       "      <td>...</td>\n",
       "      <td>0</td>\n",
       "      <td>0</td>\n",
       "      <td>0</td>\n",
       "      <td>0</td>\n",
       "      <td>0</td>\n",
       "      <td>1</td>\n",
       "      <td>0</td>\n",
       "      <td>0</td>\n",
       "      <td>0</td>\n",
       "      <td>0</td>\n",
       "    </tr>\n",
       "    <tr>\n",
       "      <th>3</th>\n",
       "      <td>0</td>\n",
       "      <td>0</td>\n",
       "      <td>0</td>\n",
       "      <td>0</td>\n",
       "      <td>0</td>\n",
       "      <td>0</td>\n",
       "      <td>0</td>\n",
       "      <td>0</td>\n",
       "      <td>1</td>\n",
       "      <td>0</td>\n",
       "      <td>...</td>\n",
       "      <td>0</td>\n",
       "      <td>0</td>\n",
       "      <td>0</td>\n",
       "      <td>1</td>\n",
       "      <td>0</td>\n",
       "      <td>0</td>\n",
       "      <td>0</td>\n",
       "      <td>0</td>\n",
       "      <td>0</td>\n",
       "      <td>0</td>\n",
       "    </tr>\n",
       "    <tr>\n",
       "      <th>4</th>\n",
       "      <td>0</td>\n",
       "      <td>0</td>\n",
       "      <td>0</td>\n",
       "      <td>1</td>\n",
       "      <td>0</td>\n",
       "      <td>0</td>\n",
       "      <td>1</td>\n",
       "      <td>1</td>\n",
       "      <td>0</td>\n",
       "      <td>1</td>\n",
       "      <td>...</td>\n",
       "      <td>0</td>\n",
       "      <td>0</td>\n",
       "      <td>0</td>\n",
       "      <td>0</td>\n",
       "      <td>0</td>\n",
       "      <td>0</td>\n",
       "      <td>1</td>\n",
       "      <td>0</td>\n",
       "      <td>0</td>\n",
       "      <td>0</td>\n",
       "    </tr>\n",
       "    <tr>\n",
       "      <th>5</th>\n",
       "      <td>1</td>\n",
       "      <td>0</td>\n",
       "      <td>0</td>\n",
       "      <td>0</td>\n",
       "      <td>0</td>\n",
       "      <td>0</td>\n",
       "      <td>0</td>\n",
       "      <td>0</td>\n",
       "      <td>0</td>\n",
       "      <td>0</td>\n",
       "      <td>...</td>\n",
       "      <td>0</td>\n",
       "      <td>1</td>\n",
       "      <td>0</td>\n",
       "      <td>0</td>\n",
       "      <td>0</td>\n",
       "      <td>0</td>\n",
       "      <td>0</td>\n",
       "      <td>0</td>\n",
       "      <td>0</td>\n",
       "      <td>0</td>\n",
       "    </tr>\n",
       "  </tbody>\n",
       "</table>\n",
       "<p>6 rows × 26 columns</p>\n",
       "</div>"
      ],
      "text/plain": [
       "   ama  arbol  arena  buscar  cielo  constelado  desvanecimiento  diario  \\\n",
       "0    0      0      1       0      1           0                0       0   \n",
       "1    0      1      0       1      0           0                0       0   \n",
       "2    0      0      0       0      0           1                0       0   \n",
       "3    0      0      0       0      0           0                0       0   \n",
       "4    0      0      0       1      0           0                1       1   \n",
       "5    1      0      0       0      0           0                0       0   \n",
       "\n",
       "   eclipsado  espiritual  ...  infinito  llave  mano  mar  mundo  noche  \\\n",
       "0          0           0  ...         1      0     1    0      1      0   \n",
       "1          0           0  ...         0      0     0    0      0      0   \n",
       "2          0           0  ...         0      0     0    0      0      1   \n",
       "3          1           0  ...         0      0     0    1      0      0   \n",
       "4          0           1  ...         0      0     0    0      0      0   \n",
       "5          0           0  ...         0      1     0    0      0      0   \n",
       "\n",
       "   nostalgia  palma  silvestre  vivir  \n",
       "0          0      1          1      0  \n",
       "1          0      0          0      1  \n",
       "2          0      0          0      0  \n",
       "3          0      0          0      0  \n",
       "4          1      0          0      0  \n",
       "5          0      0          0      0  \n",
       "\n",
       "[6 rows x 26 columns]"
      ]
     },
     "execution_count": 18,
     "metadata": {},
     "output_type": "execute_result"
    }
   ],
   "source": [
    "from sklearn.feature_extraction.text import CountVectorizer\n",
    "\n",
    "vectorizer = CountVectorizer(binary=True)\n",
    "\n",
    "X = vectorizer.fit_transform(df['documento preprocesado'].values)\n",
    "\n",
    "dtm = pd.DataFrame(X.toarray(),columns = vectorizer.get_feature_names())\n",
    "\n",
    "dtm"
   ]
  },
  {
   "cell_type": "markdown",
   "id": "f480616c",
   "metadata": {
    "slideshow": {
     "slide_type": "subslide"
    },
    "tags": []
   },
   "source": [
    "## <span style=\"color:blue\"> Matriz de Documento-Término (DTM) </span>"
   ]
  },
  {
   "cell_type": "markdown",
   "id": "895c66f0",
   "metadata": {
    "slideshow": {
     "slide_type": "subslide"
    },
    "tags": []
   },
   "source": [
    "Recordemos nuestros documentos:"
   ]
  },
  {
   "cell_type": "code",
   "execution_count": 19,
   "id": "08873b01",
   "metadata": {
    "tags": []
   },
   "outputs": [
    {
     "data": {
      "text/html": [
       "<div>\n",
       "<style scoped>\n",
       "    .dataframe tbody tr th:only-of-type {\n",
       "        vertical-align: middle;\n",
       "    }\n",
       "\n",
       "    .dataframe tbody tr th {\n",
       "        vertical-align: top;\n",
       "    }\n",
       "\n",
       "    .dataframe thead th {\n",
       "        text-align: right;\n",
       "    }\n",
       "</style>\n",
       "<table border=\"1\" class=\"dataframe\">\n",
       "  <thead>\n",
       "    <tr style=\"text-align: right;\">\n",
       "      <th></th>\n",
       "      <th>documento</th>\n",
       "      <th>documento preprocesado</th>\n",
       "    </tr>\n",
       "  </thead>\n",
       "  <tbody>\n",
       "    <tr>\n",
       "      <th>0</th>\n",
       "      <td>Ver un mundo en un grano de arena y un cielo e...</td>\n",
       "      <td>mundo grano arena cielo flor silvestre infinit...</td>\n",
       "    </tr>\n",
       "    <tr>\n",
       "      <th>1</th>\n",
       "      <td>Hola, estoy aquí buscando un árbol dónde vivir.</td>\n",
       "      <td>hola buscar arbol vivir</td>\n",
       "    </tr>\n",
       "    <tr>\n",
       "      <th>2</th>\n",
       "      <td>La noche está constelada y tu no estàs conmigo.</td>\n",
       "      <td>noche constelado</td>\n",
       "    </tr>\n",
       "    <tr>\n",
       "      <th>3</th>\n",
       "      <td>Eres toda mi verdad, eclipsada por el mar.</td>\n",
       "      <td>eclipsado mar</td>\n",
       "    </tr>\n",
       "    <tr>\n",
       "      <th>4</th>\n",
       "      <td>En mi diario de nostalgìas, buscábamos el desv...</td>\n",
       "      <td>diario nostalgia buscar desvanecimiento espiri...</td>\n",
       "    </tr>\n",
       "    <tr>\n",
       "      <th>5</th>\n",
       "      <td>La ama de llaves está muy frita.</td>\n",
       "      <td>ama llave frito</td>\n",
       "    </tr>\n",
       "  </tbody>\n",
       "</table>\n",
       "</div>"
      ],
      "text/plain": [
       "                                           documento  \\\n",
       "0  Ver un mundo en un grano de arena y un cielo e...   \n",
       "1    Hola, estoy aquí buscando un árbol dónde vivir.   \n",
       "2    La noche está constelada y tu no estàs conmigo.   \n",
       "3         Eres toda mi verdad, eclipsada por el mar.   \n",
       "4  En mi diario de nostalgìas, buscábamos el desv...   \n",
       "5                   La ama de llaves está muy frita.   \n",
       "\n",
       "                              documento preprocesado  \n",
       "0  mundo grano arena cielo flor silvestre infinit...  \n",
       "1                            hola buscar arbol vivir  \n",
       "2                                   noche constelado  \n",
       "3                                      eclipsado mar  \n",
       "4  diario nostalgia buscar desvanecimiento espiri...  \n",
       "5                                    ama llave frito  "
      ]
     },
     "execution_count": 19,
     "metadata": {},
     "output_type": "execute_result"
    }
   ],
   "source": [
    "df"
   ]
  },
  {
   "cell_type": "markdown",
   "id": "6081358a",
   "metadata": {},
   "source": [
    "Podemos determinar (**Luego del preprocesamiento**) si una palabra aparece o no en cada texto:"
   ]
  },
  {
   "cell_type": "code",
   "execution_count": 20,
   "id": "f1b4470d",
   "metadata": {
    "tags": []
   },
   "outputs": [
    {
     "data": {
      "text/html": [
       "<div>\n",
       "<style scoped>\n",
       "    .dataframe tbody tr th:only-of-type {\n",
       "        vertical-align: middle;\n",
       "    }\n",
       "\n",
       "    .dataframe tbody tr th {\n",
       "        vertical-align: top;\n",
       "    }\n",
       "\n",
       "    .dataframe thead th {\n",
       "        text-align: right;\n",
       "    }\n",
       "</style>\n",
       "<table border=\"1\" class=\"dataframe\">\n",
       "  <thead>\n",
       "    <tr style=\"text-align: right;\">\n",
       "      <th></th>\n",
       "      <th>ama</th>\n",
       "      <th>arbol</th>\n",
       "      <th>arena</th>\n",
       "      <th>buscar</th>\n",
       "      <th>cielo</th>\n",
       "      <th>constelado</th>\n",
       "      <th>desvanecimiento</th>\n",
       "      <th>diario</th>\n",
       "      <th>eclipsado</th>\n",
       "      <th>espiritual</th>\n",
       "      <th>...</th>\n",
       "      <th>infinito</th>\n",
       "      <th>llave</th>\n",
       "      <th>mano</th>\n",
       "      <th>mar</th>\n",
       "      <th>mundo</th>\n",
       "      <th>noche</th>\n",
       "      <th>nostalgia</th>\n",
       "      <th>palma</th>\n",
       "      <th>silvestre</th>\n",
       "      <th>vivir</th>\n",
       "    </tr>\n",
       "  </thead>\n",
       "  <tbody>\n",
       "    <tr>\n",
       "      <th>0</th>\n",
       "      <td>0</td>\n",
       "      <td>0</td>\n",
       "      <td>1</td>\n",
       "      <td>0</td>\n",
       "      <td>1</td>\n",
       "      <td>0</td>\n",
       "      <td>0</td>\n",
       "      <td>0</td>\n",
       "      <td>0</td>\n",
       "      <td>0</td>\n",
       "      <td>...</td>\n",
       "      <td>1</td>\n",
       "      <td>0</td>\n",
       "      <td>1</td>\n",
       "      <td>0</td>\n",
       "      <td>1</td>\n",
       "      <td>0</td>\n",
       "      <td>0</td>\n",
       "      <td>1</td>\n",
       "      <td>1</td>\n",
       "      <td>0</td>\n",
       "    </tr>\n",
       "    <tr>\n",
       "      <th>1</th>\n",
       "      <td>0</td>\n",
       "      <td>1</td>\n",
       "      <td>0</td>\n",
       "      <td>1</td>\n",
       "      <td>0</td>\n",
       "      <td>0</td>\n",
       "      <td>0</td>\n",
       "      <td>0</td>\n",
       "      <td>0</td>\n",
       "      <td>0</td>\n",
       "      <td>...</td>\n",
       "      <td>0</td>\n",
       "      <td>0</td>\n",
       "      <td>0</td>\n",
       "      <td>0</td>\n",
       "      <td>0</td>\n",
       "      <td>0</td>\n",
       "      <td>0</td>\n",
       "      <td>0</td>\n",
       "      <td>0</td>\n",
       "      <td>1</td>\n",
       "    </tr>\n",
       "    <tr>\n",
       "      <th>2</th>\n",
       "      <td>0</td>\n",
       "      <td>0</td>\n",
       "      <td>0</td>\n",
       "      <td>0</td>\n",
       "      <td>0</td>\n",
       "      <td>1</td>\n",
       "      <td>0</td>\n",
       "      <td>0</td>\n",
       "      <td>0</td>\n",
       "      <td>0</td>\n",
       "      <td>...</td>\n",
       "      <td>0</td>\n",
       "      <td>0</td>\n",
       "      <td>0</td>\n",
       "      <td>0</td>\n",
       "      <td>0</td>\n",
       "      <td>1</td>\n",
       "      <td>0</td>\n",
       "      <td>0</td>\n",
       "      <td>0</td>\n",
       "      <td>0</td>\n",
       "    </tr>\n",
       "    <tr>\n",
       "      <th>3</th>\n",
       "      <td>0</td>\n",
       "      <td>0</td>\n",
       "      <td>0</td>\n",
       "      <td>0</td>\n",
       "      <td>0</td>\n",
       "      <td>0</td>\n",
       "      <td>0</td>\n",
       "      <td>0</td>\n",
       "      <td>1</td>\n",
       "      <td>0</td>\n",
       "      <td>...</td>\n",
       "      <td>0</td>\n",
       "      <td>0</td>\n",
       "      <td>0</td>\n",
       "      <td>1</td>\n",
       "      <td>0</td>\n",
       "      <td>0</td>\n",
       "      <td>0</td>\n",
       "      <td>0</td>\n",
       "      <td>0</td>\n",
       "      <td>0</td>\n",
       "    </tr>\n",
       "    <tr>\n",
       "      <th>4</th>\n",
       "      <td>0</td>\n",
       "      <td>0</td>\n",
       "      <td>0</td>\n",
       "      <td>1</td>\n",
       "      <td>0</td>\n",
       "      <td>0</td>\n",
       "      <td>1</td>\n",
       "      <td>1</td>\n",
       "      <td>0</td>\n",
       "      <td>1</td>\n",
       "      <td>...</td>\n",
       "      <td>0</td>\n",
       "      <td>0</td>\n",
       "      <td>0</td>\n",
       "      <td>0</td>\n",
       "      <td>0</td>\n",
       "      <td>0</td>\n",
       "      <td>1</td>\n",
       "      <td>0</td>\n",
       "      <td>0</td>\n",
       "      <td>0</td>\n",
       "    </tr>\n",
       "    <tr>\n",
       "      <th>5</th>\n",
       "      <td>1</td>\n",
       "      <td>0</td>\n",
       "      <td>0</td>\n",
       "      <td>0</td>\n",
       "      <td>0</td>\n",
       "      <td>0</td>\n",
       "      <td>0</td>\n",
       "      <td>0</td>\n",
       "      <td>0</td>\n",
       "      <td>0</td>\n",
       "      <td>...</td>\n",
       "      <td>0</td>\n",
       "      <td>1</td>\n",
       "      <td>0</td>\n",
       "      <td>0</td>\n",
       "      <td>0</td>\n",
       "      <td>0</td>\n",
       "      <td>0</td>\n",
       "      <td>0</td>\n",
       "      <td>0</td>\n",
       "      <td>0</td>\n",
       "    </tr>\n",
       "  </tbody>\n",
       "</table>\n",
       "<p>6 rows × 26 columns</p>\n",
       "</div>"
      ],
      "text/plain": [
       "   ama  arbol  arena  buscar  cielo  constelado  desvanecimiento  diario  \\\n",
       "0    0      0      1       0      1           0                0       0   \n",
       "1    0      1      0       1      0           0                0       0   \n",
       "2    0      0      0       0      0           1                0       0   \n",
       "3    0      0      0       0      0           0                0       0   \n",
       "4    0      0      0       1      0           0                1       1   \n",
       "5    1      0      0       0      0           0                0       0   \n",
       "\n",
       "   eclipsado  espiritual  ...  infinito  llave  mano  mar  mundo  noche  \\\n",
       "0          0           0  ...         1      0     1    0      1      0   \n",
       "1          0           0  ...         0      0     0    0      0      0   \n",
       "2          0           0  ...         0      0     0    0      0      1   \n",
       "3          1           0  ...         0      0     0    1      0      0   \n",
       "4          0           1  ...         0      0     0    0      0      0   \n",
       "5          0           0  ...         0      1     0    0      0      0   \n",
       "\n",
       "   nostalgia  palma  silvestre  vivir  \n",
       "0          0      1          1      0  \n",
       "1          0      0          0      1  \n",
       "2          0      0          0      0  \n",
       "3          0      0          0      0  \n",
       "4          1      0          0      0  \n",
       "5          0      0          0      0  \n",
       "\n",
       "[6 rows x 26 columns]"
      ]
     },
     "execution_count": 20,
     "metadata": {},
     "output_type": "execute_result"
    }
   ],
   "source": [
    "dtm"
   ]
  },
  {
   "cell_type": "markdown",
   "id": "a4f800e9",
   "metadata": {
    "slideshow": {
     "slide_type": "subslide"
    },
    "tags": []
   },
   "source": [
    "**<center>¡Hemos convertido documentos en números!</center>**\n",
    "\n",
    "**<center>¿Será esto suficiente?</center>**"
   ]
  },
  {
   "cell_type": "markdown",
   "id": "0883823a",
   "metadata": {
    "slideshow": {
     "slide_type": "slide"
    },
    "tags": []
   },
   "source": [
    "<figure>\n",
    "<img src=\"../imagenes/logo-final-ap.png\"  width=\"80\" height=\"80\" align=\"left\"/> \n",
    "</figure>\n",
    "\n",
    "# <span style=\"color:red\"><center>Codificación tf-idf</center></span>"
   ]
  },
  {
   "cell_type": "markdown",
   "id": "b8fccf3b",
   "metadata": {
    "slideshow": {
     "slide_type": "subslide"
    },
    "tags": []
   },
   "source": [
    "**Tf-idf** es el producto de dos medidas, *frecuencia de término* y *frecuencia inversa de documento*. Existen varias maneras de determinar el valor de ambas.  \n",
    "\n",
    "\n",
    "Algunas posibilidades son:\n",
    "\n",
    "- *frecuencias booleanas*: $\\text{tf}(t,d) = 1$ si t ocurre en d, y 0 si no;\n",
    "- *frecuencia escalada logarítmicamente*: $\\text{tf}(t,d) =  \\log (1 +f(t,d))$ (y 0 si f(t,d)=0);\n",
    "- *frecuencia normalizada*, para evitar una predisposición hacia los documentos largos. Por ejemplo, se divide la frecuencia bruta por la frecuencia máxima de algún término en el documento:\n",
    "\n",
    "$$\n",
    "{\\displaystyle \\mathrm {tf} (t,d)={\\frac {\\mathrm {f} (t,d)}{\\max\\{\\mathrm {f} (t,d):t\\in d\\}}}}\n",
    "$$"
   ]
  },
  {
   "cell_type": "markdown",
   "id": "f3ea07ea",
   "metadata": {
    "slideshow": {
     "slide_type": "subslide"
    },
    "tags": []
   },
   "source": [
    "La **frecuencia inversa de documento** es una medida de si el término es común o no, en el corpus de documentos. Se obtiene dividiendo el número total de documentos por el número de documentos que contienen el término, y se toma el logaritmo de ese cociente:\n",
    "\n",
    "$$\n",
    "{\\displaystyle \\mathrm {idf} (t,D)=\\log {\\frac {|D|}{|\\{d\\in D:t\\in d\\}|}}}\n",
    "$$\n",
    "\n",
    "donde\n",
    "\n",
    "- ${\\displaystyle |D|}$: cardinalidad de $D$, o número de documentos en el corpus.\n",
    "- ${\\displaystyle |\\{d\\in D:t\\in d\\}|}$ : número de documentos donde aparece el término $t$. Si el término no está en la colección se producirá una división-por-cero. Por lo tanto, es común ajustar esta fórmula a ${\\displaystyle 1+|\\{d\\in D:t\\in d\\}|}$."
   ]
  },
  {
   "cell_type": "markdown",
   "id": "ee2aef62",
   "metadata": {
    "slideshow": {
     "slide_type": "subslide"
    },
    "tags": []
   },
   "source": [
    "# **tf-idf**\n",
    "\n",
    "$$\n",
    "{\\displaystyle \\text{tf-idf} (t,d,D)=\\mathrm {tf} (t,d)\\times \\mathrm {idf} (t,D)}\n",
    "$$\n",
    "\n",
    "Un peso alto en *tf-idf* se alcanza con una elevada frecuencia de término (en el documento dado) y una pequeña frecuencia de ocurrencia del término en corpus de documentos. \n",
    "\n",
    "Como el cociente dentro de la función logaritmo del idf es siempre mayor o igual que 1, el valor del *idf* (y del *tf-idf*) es mayor o igual que 0. \n",
    "\n",
    "Cuando un término aparece en muchos documentos, el cociente dentro del logaritmo se acerca a 1, ofreciendo un valor de *idf* y de *tf-idf* cercano a 0."
   ]
  },
  {
   "cell_type": "code",
   "execution_count": 21,
   "id": "f0ae1dba",
   "metadata": {
    "slideshow": {
     "slide_type": "skip"
    },
    "tags": []
   },
   "outputs": [
    {
     "data": {
      "text/html": [
       "<div>\n",
       "<style scoped>\n",
       "    .dataframe tbody tr th:only-of-type {\n",
       "        vertical-align: middle;\n",
       "    }\n",
       "\n",
       "    .dataframe tbody tr th {\n",
       "        vertical-align: top;\n",
       "    }\n",
       "\n",
       "    .dataframe thead th {\n",
       "        text-align: right;\n",
       "    }\n",
       "</style>\n",
       "<table border=\"1\" class=\"dataframe\">\n",
       "  <thead>\n",
       "    <tr style=\"text-align: right;\">\n",
       "      <th></th>\n",
       "      <th>ama</th>\n",
       "      <th>arbol</th>\n",
       "      <th>arena</th>\n",
       "      <th>buscar</th>\n",
       "      <th>cielo</th>\n",
       "      <th>constelado</th>\n",
       "      <th>desvanecimiento</th>\n",
       "      <th>diario</th>\n",
       "      <th>eclipsado</th>\n",
       "      <th>espiritual</th>\n",
       "      <th>...</th>\n",
       "      <th>infinito</th>\n",
       "      <th>llave</th>\n",
       "      <th>mano</th>\n",
       "      <th>mar</th>\n",
       "      <th>mundo</th>\n",
       "      <th>noche</th>\n",
       "      <th>nostalgia</th>\n",
       "      <th>palma</th>\n",
       "      <th>silvestre</th>\n",
       "      <th>vivir</th>\n",
       "    </tr>\n",
       "  </thead>\n",
       "  <tbody>\n",
       "    <tr>\n",
       "      <th>0</th>\n",
       "      <td>0.00000</td>\n",
       "      <td>0.000000</td>\n",
       "      <td>0.301511</td>\n",
       "      <td>0.000000</td>\n",
       "      <td>0.301511</td>\n",
       "      <td>0.000000</td>\n",
       "      <td>0.000000</td>\n",
       "      <td>0.000000</td>\n",
       "      <td>0.000000</td>\n",
       "      <td>0.000000</td>\n",
       "      <td>...</td>\n",
       "      <td>0.301511</td>\n",
       "      <td>0.00000</td>\n",
       "      <td>0.301511</td>\n",
       "      <td>0.000000</td>\n",
       "      <td>0.301511</td>\n",
       "      <td>0.000000</td>\n",
       "      <td>0.000000</td>\n",
       "      <td>0.301511</td>\n",
       "      <td>0.301511</td>\n",
       "      <td>0.000000</td>\n",
       "    </tr>\n",
       "    <tr>\n",
       "      <th>1</th>\n",
       "      <td>0.00000</td>\n",
       "      <td>0.521823</td>\n",
       "      <td>0.000000</td>\n",
       "      <td>0.427903</td>\n",
       "      <td>0.000000</td>\n",
       "      <td>0.000000</td>\n",
       "      <td>0.000000</td>\n",
       "      <td>0.000000</td>\n",
       "      <td>0.000000</td>\n",
       "      <td>0.000000</td>\n",
       "      <td>...</td>\n",
       "      <td>0.000000</td>\n",
       "      <td>0.00000</td>\n",
       "      <td>0.000000</td>\n",
       "      <td>0.000000</td>\n",
       "      <td>0.000000</td>\n",
       "      <td>0.000000</td>\n",
       "      <td>0.000000</td>\n",
       "      <td>0.000000</td>\n",
       "      <td>0.000000</td>\n",
       "      <td>0.521823</td>\n",
       "    </tr>\n",
       "    <tr>\n",
       "      <th>2</th>\n",
       "      <td>0.00000</td>\n",
       "      <td>0.000000</td>\n",
       "      <td>0.000000</td>\n",
       "      <td>0.000000</td>\n",
       "      <td>0.000000</td>\n",
       "      <td>0.707107</td>\n",
       "      <td>0.000000</td>\n",
       "      <td>0.000000</td>\n",
       "      <td>0.000000</td>\n",
       "      <td>0.000000</td>\n",
       "      <td>...</td>\n",
       "      <td>0.000000</td>\n",
       "      <td>0.00000</td>\n",
       "      <td>0.000000</td>\n",
       "      <td>0.000000</td>\n",
       "      <td>0.000000</td>\n",
       "      <td>0.707107</td>\n",
       "      <td>0.000000</td>\n",
       "      <td>0.000000</td>\n",
       "      <td>0.000000</td>\n",
       "      <td>0.000000</td>\n",
       "    </tr>\n",
       "    <tr>\n",
       "      <th>3</th>\n",
       "      <td>0.00000</td>\n",
       "      <td>0.000000</td>\n",
       "      <td>0.000000</td>\n",
       "      <td>0.000000</td>\n",
       "      <td>0.000000</td>\n",
       "      <td>0.000000</td>\n",
       "      <td>0.000000</td>\n",
       "      <td>0.000000</td>\n",
       "      <td>0.707107</td>\n",
       "      <td>0.000000</td>\n",
       "      <td>...</td>\n",
       "      <td>0.000000</td>\n",
       "      <td>0.00000</td>\n",
       "      <td>0.000000</td>\n",
       "      <td>0.707107</td>\n",
       "      <td>0.000000</td>\n",
       "      <td>0.000000</td>\n",
       "      <td>0.000000</td>\n",
       "      <td>0.000000</td>\n",
       "      <td>0.000000</td>\n",
       "      <td>0.000000</td>\n",
       "    </tr>\n",
       "    <tr>\n",
       "      <th>4</th>\n",
       "      <td>0.00000</td>\n",
       "      <td>0.000000</td>\n",
       "      <td>0.000000</td>\n",
       "      <td>0.379359</td>\n",
       "      <td>0.000000</td>\n",
       "      <td>0.000000</td>\n",
       "      <td>0.462625</td>\n",
       "      <td>0.462625</td>\n",
       "      <td>0.000000</td>\n",
       "      <td>0.462625</td>\n",
       "      <td>...</td>\n",
       "      <td>0.000000</td>\n",
       "      <td>0.00000</td>\n",
       "      <td>0.000000</td>\n",
       "      <td>0.000000</td>\n",
       "      <td>0.000000</td>\n",
       "      <td>0.000000</td>\n",
       "      <td>0.462625</td>\n",
       "      <td>0.000000</td>\n",
       "      <td>0.000000</td>\n",
       "      <td>0.000000</td>\n",
       "    </tr>\n",
       "    <tr>\n",
       "      <th>5</th>\n",
       "      <td>0.57735</td>\n",
       "      <td>0.000000</td>\n",
       "      <td>0.000000</td>\n",
       "      <td>0.000000</td>\n",
       "      <td>0.000000</td>\n",
       "      <td>0.000000</td>\n",
       "      <td>0.000000</td>\n",
       "      <td>0.000000</td>\n",
       "      <td>0.000000</td>\n",
       "      <td>0.000000</td>\n",
       "      <td>...</td>\n",
       "      <td>0.000000</td>\n",
       "      <td>0.57735</td>\n",
       "      <td>0.000000</td>\n",
       "      <td>0.000000</td>\n",
       "      <td>0.000000</td>\n",
       "      <td>0.000000</td>\n",
       "      <td>0.000000</td>\n",
       "      <td>0.000000</td>\n",
       "      <td>0.000000</td>\n",
       "      <td>0.000000</td>\n",
       "    </tr>\n",
       "  </tbody>\n",
       "</table>\n",
       "<p>6 rows × 26 columns</p>\n",
       "</div>"
      ],
      "text/plain": [
       "       ama     arbol     arena    buscar     cielo  constelado  \\\n",
       "0  0.00000  0.000000  0.301511  0.000000  0.301511    0.000000   \n",
       "1  0.00000  0.521823  0.000000  0.427903  0.000000    0.000000   \n",
       "2  0.00000  0.000000  0.000000  0.000000  0.000000    0.707107   \n",
       "3  0.00000  0.000000  0.000000  0.000000  0.000000    0.000000   \n",
       "4  0.00000  0.000000  0.000000  0.379359  0.000000    0.000000   \n",
       "5  0.57735  0.000000  0.000000  0.000000  0.000000    0.000000   \n",
       "\n",
       "   desvanecimiento    diario  eclipsado  espiritual  ...  infinito    llave  \\\n",
       "0         0.000000  0.000000   0.000000    0.000000  ...  0.301511  0.00000   \n",
       "1         0.000000  0.000000   0.000000    0.000000  ...  0.000000  0.00000   \n",
       "2         0.000000  0.000000   0.000000    0.000000  ...  0.000000  0.00000   \n",
       "3         0.000000  0.000000   0.707107    0.000000  ...  0.000000  0.00000   \n",
       "4         0.462625  0.462625   0.000000    0.462625  ...  0.000000  0.00000   \n",
       "5         0.000000  0.000000   0.000000    0.000000  ...  0.000000  0.57735   \n",
       "\n",
       "       mano       mar     mundo     noche  nostalgia     palma  silvestre  \\\n",
       "0  0.301511  0.000000  0.301511  0.000000   0.000000  0.301511   0.301511   \n",
       "1  0.000000  0.000000  0.000000  0.000000   0.000000  0.000000   0.000000   \n",
       "2  0.000000  0.000000  0.000000  0.707107   0.000000  0.000000   0.000000   \n",
       "3  0.000000  0.707107  0.000000  0.000000   0.000000  0.000000   0.000000   \n",
       "4  0.000000  0.000000  0.000000  0.000000   0.462625  0.000000   0.000000   \n",
       "5  0.000000  0.000000  0.000000  0.000000   0.000000  0.000000   0.000000   \n",
       "\n",
       "      vivir  \n",
       "0  0.000000  \n",
       "1  0.521823  \n",
       "2  0.000000  \n",
       "3  0.000000  \n",
       "4  0.000000  \n",
       "5  0.000000  \n",
       "\n",
       "[6 rows x 26 columns]"
      ]
     },
     "execution_count": 21,
     "metadata": {},
     "output_type": "execute_result"
    }
   ],
   "source": [
    "from sklearn.feature_extraction.text import TfidfVectorizer\n",
    "\n",
    "tfidf = TfidfVectorizer().fit_transform(df['documento preprocesado'].values)\n",
    "\n",
    "tfidf_dtm = pd.DataFrame(tfidf.toarray(),columns = vectorizer.get_feature_names())\n",
    "\n",
    "tfidf_dtm"
   ]
  },
  {
   "cell_type": "markdown",
   "id": "2e201b4d",
   "metadata": {
    "slideshow": {
     "slide_type": "subslide"
    },
    "tags": []
   },
   "source": [
    "## DTM "
   ]
  },
  {
   "cell_type": "code",
   "execution_count": 56,
   "id": "53be150d",
   "metadata": {
    "tags": []
   },
   "outputs": [
    {
     "data": {
      "text/html": [
       "<div>\n",
       "<style scoped>\n",
       "    .dataframe tbody tr th:only-of-type {\n",
       "        vertical-align: middle;\n",
       "    }\n",
       "\n",
       "    .dataframe tbody tr th {\n",
       "        vertical-align: top;\n",
       "    }\n",
       "\n",
       "    .dataframe thead th {\n",
       "        text-align: right;\n",
       "    }\n",
       "</style>\n",
       "<table border=\"1\" class=\"dataframe\">\n",
       "  <thead>\n",
       "    <tr style=\"text-align: right;\">\n",
       "      <th></th>\n",
       "      <th>ama</th>\n",
       "      <th>arbol</th>\n",
       "      <th>arena</th>\n",
       "      <th>buscar</th>\n",
       "      <th>cielo</th>\n",
       "      <th>constelado</th>\n",
       "      <th>desvanecimiento</th>\n",
       "      <th>diario</th>\n",
       "      <th>eclipsado</th>\n",
       "      <th>espiritual</th>\n",
       "      <th>...</th>\n",
       "      <th>infinito</th>\n",
       "      <th>llave</th>\n",
       "      <th>mano</th>\n",
       "      <th>mar</th>\n",
       "      <th>mundo</th>\n",
       "      <th>noche</th>\n",
       "      <th>nostalgìas</th>\n",
       "      <th>palma</th>\n",
       "      <th>silvestre</th>\n",
       "      <th>vivir</th>\n",
       "    </tr>\n",
       "  </thead>\n",
       "  <tbody>\n",
       "    <tr>\n",
       "      <th>0</th>\n",
       "      <td>0</td>\n",
       "      <td>0</td>\n",
       "      <td>1</td>\n",
       "      <td>0</td>\n",
       "      <td>1</td>\n",
       "      <td>0</td>\n",
       "      <td>0</td>\n",
       "      <td>0</td>\n",
       "      <td>0</td>\n",
       "      <td>0</td>\n",
       "      <td>...</td>\n",
       "      <td>1</td>\n",
       "      <td>0</td>\n",
       "      <td>1</td>\n",
       "      <td>0</td>\n",
       "      <td>1</td>\n",
       "      <td>0</td>\n",
       "      <td>0</td>\n",
       "      <td>1</td>\n",
       "      <td>1</td>\n",
       "      <td>0</td>\n",
       "    </tr>\n",
       "    <tr>\n",
       "      <th>1</th>\n",
       "      <td>0</td>\n",
       "      <td>1</td>\n",
       "      <td>0</td>\n",
       "      <td>1</td>\n",
       "      <td>0</td>\n",
       "      <td>0</td>\n",
       "      <td>0</td>\n",
       "      <td>0</td>\n",
       "      <td>0</td>\n",
       "      <td>0</td>\n",
       "      <td>...</td>\n",
       "      <td>0</td>\n",
       "      <td>0</td>\n",
       "      <td>0</td>\n",
       "      <td>0</td>\n",
       "      <td>0</td>\n",
       "      <td>0</td>\n",
       "      <td>0</td>\n",
       "      <td>0</td>\n",
       "      <td>0</td>\n",
       "      <td>1</td>\n",
       "    </tr>\n",
       "    <tr>\n",
       "      <th>2</th>\n",
       "      <td>0</td>\n",
       "      <td>0</td>\n",
       "      <td>0</td>\n",
       "      <td>0</td>\n",
       "      <td>0</td>\n",
       "      <td>1</td>\n",
       "      <td>0</td>\n",
       "      <td>0</td>\n",
       "      <td>0</td>\n",
       "      <td>0</td>\n",
       "      <td>...</td>\n",
       "      <td>0</td>\n",
       "      <td>0</td>\n",
       "      <td>0</td>\n",
       "      <td>0</td>\n",
       "      <td>0</td>\n",
       "      <td>1</td>\n",
       "      <td>0</td>\n",
       "      <td>0</td>\n",
       "      <td>0</td>\n",
       "      <td>0</td>\n",
       "    </tr>\n",
       "    <tr>\n",
       "      <th>3</th>\n",
       "      <td>0</td>\n",
       "      <td>0</td>\n",
       "      <td>0</td>\n",
       "      <td>0</td>\n",
       "      <td>0</td>\n",
       "      <td>0</td>\n",
       "      <td>0</td>\n",
       "      <td>0</td>\n",
       "      <td>1</td>\n",
       "      <td>0</td>\n",
       "      <td>...</td>\n",
       "      <td>0</td>\n",
       "      <td>0</td>\n",
       "      <td>0</td>\n",
       "      <td>1</td>\n",
       "      <td>0</td>\n",
       "      <td>0</td>\n",
       "      <td>0</td>\n",
       "      <td>0</td>\n",
       "      <td>0</td>\n",
       "      <td>0</td>\n",
       "    </tr>\n",
       "    <tr>\n",
       "      <th>4</th>\n",
       "      <td>0</td>\n",
       "      <td>0</td>\n",
       "      <td>0</td>\n",
       "      <td>1</td>\n",
       "      <td>0</td>\n",
       "      <td>0</td>\n",
       "      <td>1</td>\n",
       "      <td>1</td>\n",
       "      <td>0</td>\n",
       "      <td>1</td>\n",
       "      <td>...</td>\n",
       "      <td>0</td>\n",
       "      <td>0</td>\n",
       "      <td>0</td>\n",
       "      <td>0</td>\n",
       "      <td>0</td>\n",
       "      <td>0</td>\n",
       "      <td>1</td>\n",
       "      <td>0</td>\n",
       "      <td>0</td>\n",
       "      <td>0</td>\n",
       "    </tr>\n",
       "    <tr>\n",
       "      <th>5</th>\n",
       "      <td>1</td>\n",
       "      <td>0</td>\n",
       "      <td>0</td>\n",
       "      <td>0</td>\n",
       "      <td>0</td>\n",
       "      <td>0</td>\n",
       "      <td>0</td>\n",
       "      <td>0</td>\n",
       "      <td>0</td>\n",
       "      <td>0</td>\n",
       "      <td>...</td>\n",
       "      <td>0</td>\n",
       "      <td>1</td>\n",
       "      <td>0</td>\n",
       "      <td>0</td>\n",
       "      <td>0</td>\n",
       "      <td>0</td>\n",
       "      <td>0</td>\n",
       "      <td>0</td>\n",
       "      <td>0</td>\n",
       "      <td>0</td>\n",
       "    </tr>\n",
       "  </tbody>\n",
       "</table>\n",
       "<p>6 rows × 26 columns</p>\n",
       "</div>"
      ],
      "text/plain": [
       "   ama  arbol  arena  buscar  cielo  constelado  desvanecimiento  diario  \\\n",
       "0    0      0      1       0      1           0                0       0   \n",
       "1    0      1      0       1      0           0                0       0   \n",
       "2    0      0      0       0      0           1                0       0   \n",
       "3    0      0      0       0      0           0                0       0   \n",
       "4    0      0      0       1      0           0                1       1   \n",
       "5    1      0      0       0      0           0                0       0   \n",
       "\n",
       "   eclipsado  espiritual  ...  infinito  llave  mano  mar  mundo  noche  \\\n",
       "0          0           0  ...         1      0     1    0      1      0   \n",
       "1          0           0  ...         0      0     0    0      0      0   \n",
       "2          0           0  ...         0      0     0    0      0      1   \n",
       "3          1           0  ...         0      0     0    1      0      0   \n",
       "4          0           1  ...         0      0     0    0      0      0   \n",
       "5          0           0  ...         0      1     0    0      0      0   \n",
       "\n",
       "   nostalgìas  palma  silvestre  vivir  \n",
       "0           0      1          1      0  \n",
       "1           0      0          0      1  \n",
       "2           0      0          0      0  \n",
       "3           0      0          0      0  \n",
       "4           1      0          0      0  \n",
       "5           0      0          0      0  \n",
       "\n",
       "[6 rows x 26 columns]"
      ]
     },
     "execution_count": 56,
     "metadata": {},
     "output_type": "execute_result"
    }
   ],
   "source": [
    "dtm"
   ]
  },
  {
   "cell_type": "markdown",
   "id": "38d9b08e",
   "metadata": {},
   "source": [
    "## tf-idf"
   ]
  },
  {
   "cell_type": "code",
   "execution_count": 71,
   "id": "811571e8",
   "metadata": {
    "tags": []
   },
   "outputs": [
    {
     "data": {
      "text/html": [
       "<div>\n",
       "<style scoped>\n",
       "    .dataframe tbody tr th:only-of-type {\n",
       "        vertical-align: middle;\n",
       "    }\n",
       "\n",
       "    .dataframe tbody tr th {\n",
       "        vertical-align: top;\n",
       "    }\n",
       "\n",
       "    .dataframe thead th {\n",
       "        text-align: right;\n",
       "    }\n",
       "</style>\n",
       "<table border=\"1\" class=\"dataframe\">\n",
       "  <thead>\n",
       "    <tr style=\"text-align: right;\">\n",
       "      <th></th>\n",
       "      <th>ama</th>\n",
       "      <th>arbol</th>\n",
       "      <th>arena</th>\n",
       "      <th>buscar</th>\n",
       "      <th>cielo</th>\n",
       "      <th>constelado</th>\n",
       "      <th>desvanecimiento</th>\n",
       "      <th>diario</th>\n",
       "      <th>eclipsado</th>\n",
       "      <th>espiritual</th>\n",
       "      <th>...</th>\n",
       "      <th>infinito</th>\n",
       "      <th>llave</th>\n",
       "      <th>mano</th>\n",
       "      <th>mar</th>\n",
       "      <th>mundo</th>\n",
       "      <th>noche</th>\n",
       "      <th>nostalgìas</th>\n",
       "      <th>palma</th>\n",
       "      <th>silvestre</th>\n",
       "      <th>vivir</th>\n",
       "    </tr>\n",
       "  </thead>\n",
       "  <tbody>\n",
       "    <tr>\n",
       "      <th>0</th>\n",
       "      <td>0.00</td>\n",
       "      <td>0.00</td>\n",
       "      <td>0.3</td>\n",
       "      <td>0.00</td>\n",
       "      <td>0.3</td>\n",
       "      <td>0.00</td>\n",
       "      <td>0.00</td>\n",
       "      <td>0.00</td>\n",
       "      <td>0.00</td>\n",
       "      <td>0.00</td>\n",
       "      <td>...</td>\n",
       "      <td>0.3</td>\n",
       "      <td>0.00</td>\n",
       "      <td>0.3</td>\n",
       "      <td>0.00</td>\n",
       "      <td>0.3</td>\n",
       "      <td>0.00</td>\n",
       "      <td>0.00</td>\n",
       "      <td>0.3</td>\n",
       "      <td>0.3</td>\n",
       "      <td>0.00</td>\n",
       "    </tr>\n",
       "    <tr>\n",
       "      <th>1</th>\n",
       "      <td>0.00</td>\n",
       "      <td>0.52</td>\n",
       "      <td>0.0</td>\n",
       "      <td>0.43</td>\n",
       "      <td>0.0</td>\n",
       "      <td>0.00</td>\n",
       "      <td>0.00</td>\n",
       "      <td>0.00</td>\n",
       "      <td>0.00</td>\n",
       "      <td>0.00</td>\n",
       "      <td>...</td>\n",
       "      <td>0.0</td>\n",
       "      <td>0.00</td>\n",
       "      <td>0.0</td>\n",
       "      <td>0.00</td>\n",
       "      <td>0.0</td>\n",
       "      <td>0.00</td>\n",
       "      <td>0.00</td>\n",
       "      <td>0.0</td>\n",
       "      <td>0.0</td>\n",
       "      <td>0.52</td>\n",
       "    </tr>\n",
       "    <tr>\n",
       "      <th>2</th>\n",
       "      <td>0.00</td>\n",
       "      <td>0.00</td>\n",
       "      <td>0.0</td>\n",
       "      <td>0.00</td>\n",
       "      <td>0.0</td>\n",
       "      <td>0.71</td>\n",
       "      <td>0.00</td>\n",
       "      <td>0.00</td>\n",
       "      <td>0.00</td>\n",
       "      <td>0.00</td>\n",
       "      <td>...</td>\n",
       "      <td>0.0</td>\n",
       "      <td>0.00</td>\n",
       "      <td>0.0</td>\n",
       "      <td>0.00</td>\n",
       "      <td>0.0</td>\n",
       "      <td>0.71</td>\n",
       "      <td>0.00</td>\n",
       "      <td>0.0</td>\n",
       "      <td>0.0</td>\n",
       "      <td>0.00</td>\n",
       "    </tr>\n",
       "    <tr>\n",
       "      <th>3</th>\n",
       "      <td>0.00</td>\n",
       "      <td>0.00</td>\n",
       "      <td>0.0</td>\n",
       "      <td>0.00</td>\n",
       "      <td>0.0</td>\n",
       "      <td>0.00</td>\n",
       "      <td>0.00</td>\n",
       "      <td>0.00</td>\n",
       "      <td>0.71</td>\n",
       "      <td>0.00</td>\n",
       "      <td>...</td>\n",
       "      <td>0.0</td>\n",
       "      <td>0.00</td>\n",
       "      <td>0.0</td>\n",
       "      <td>0.71</td>\n",
       "      <td>0.0</td>\n",
       "      <td>0.00</td>\n",
       "      <td>0.00</td>\n",
       "      <td>0.0</td>\n",
       "      <td>0.0</td>\n",
       "      <td>0.00</td>\n",
       "    </tr>\n",
       "    <tr>\n",
       "      <th>4</th>\n",
       "      <td>0.00</td>\n",
       "      <td>0.00</td>\n",
       "      <td>0.0</td>\n",
       "      <td>0.38</td>\n",
       "      <td>0.0</td>\n",
       "      <td>0.00</td>\n",
       "      <td>0.46</td>\n",
       "      <td>0.46</td>\n",
       "      <td>0.00</td>\n",
       "      <td>0.46</td>\n",
       "      <td>...</td>\n",
       "      <td>0.0</td>\n",
       "      <td>0.00</td>\n",
       "      <td>0.0</td>\n",
       "      <td>0.00</td>\n",
       "      <td>0.0</td>\n",
       "      <td>0.00</td>\n",
       "      <td>0.46</td>\n",
       "      <td>0.0</td>\n",
       "      <td>0.0</td>\n",
       "      <td>0.00</td>\n",
       "    </tr>\n",
       "    <tr>\n",
       "      <th>5</th>\n",
       "      <td>0.58</td>\n",
       "      <td>0.00</td>\n",
       "      <td>0.0</td>\n",
       "      <td>0.00</td>\n",
       "      <td>0.0</td>\n",
       "      <td>0.00</td>\n",
       "      <td>0.00</td>\n",
       "      <td>0.00</td>\n",
       "      <td>0.00</td>\n",
       "      <td>0.00</td>\n",
       "      <td>...</td>\n",
       "      <td>0.0</td>\n",
       "      <td>0.58</td>\n",
       "      <td>0.0</td>\n",
       "      <td>0.00</td>\n",
       "      <td>0.0</td>\n",
       "      <td>0.00</td>\n",
       "      <td>0.00</td>\n",
       "      <td>0.0</td>\n",
       "      <td>0.0</td>\n",
       "      <td>0.00</td>\n",
       "    </tr>\n",
       "  </tbody>\n",
       "</table>\n",
       "<p>6 rows × 26 columns</p>\n",
       "</div>"
      ],
      "text/plain": [
       "    ama  arbol  arena  buscar  cielo  constelado  desvanecimiento  diario  \\\n",
       "0  0.00   0.00    0.3    0.00    0.3        0.00             0.00    0.00   \n",
       "1  0.00   0.52    0.0    0.43    0.0        0.00             0.00    0.00   \n",
       "2  0.00   0.00    0.0    0.00    0.0        0.71             0.00    0.00   \n",
       "3  0.00   0.00    0.0    0.00    0.0        0.00             0.00    0.00   \n",
       "4  0.00   0.00    0.0    0.38    0.0        0.00             0.46    0.46   \n",
       "5  0.58   0.00    0.0    0.00    0.0        0.00             0.00    0.00   \n",
       "\n",
       "   eclipsado  espiritual  ...  infinito  llave  mano   mar  mundo  noche  \\\n",
       "0       0.00        0.00  ...       0.3   0.00   0.3  0.00    0.3   0.00   \n",
       "1       0.00        0.00  ...       0.0   0.00   0.0  0.00    0.0   0.00   \n",
       "2       0.00        0.00  ...       0.0   0.00   0.0  0.00    0.0   0.71   \n",
       "3       0.71        0.00  ...       0.0   0.00   0.0  0.71    0.0   0.00   \n",
       "4       0.00        0.46  ...       0.0   0.00   0.0  0.00    0.0   0.00   \n",
       "5       0.00        0.00  ...       0.0   0.58   0.0  0.00    0.0   0.00   \n",
       "\n",
       "   nostalgìas  palma  silvestre  vivir  \n",
       "0        0.00    0.3        0.3   0.00  \n",
       "1        0.00    0.0        0.0   0.52  \n",
       "2        0.00    0.0        0.0   0.00  \n",
       "3        0.00    0.0        0.0   0.00  \n",
       "4        0.46    0.0        0.0   0.00  \n",
       "5        0.00    0.0        0.0   0.00  \n",
       "\n",
       "[6 rows x 26 columns]"
      ]
     },
     "execution_count": 71,
     "metadata": {},
     "output_type": "execute_result"
    }
   ],
   "source": [
    "tfidf_dtm.round(2)"
   ]
  },
  {
   "cell_type": "markdown",
   "id": "370e762e",
   "metadata": {
    "slideshow": {
     "slide_type": "slide"
    },
    "tags": []
   },
   "source": [
    "<figure>\n",
    "<img src=\"../imagenes/logo-final-ap.png\"  width=\"80\" height=\"80\" align=\"left\"/> \n",
    "</figure>\n",
    "\n",
    "# <span style=\"color:red\"><center>Análisis de Componentes Principales: semántica latente</center></span>"
   ]
  },
  {
   "cell_type": "markdown",
   "id": "7f7d3764",
   "metadata": {
    "slideshow": {
     "slide_type": "subslide"
    },
    "tags": []
   },
   "source": [
    "**<center>¿Cómo usar DTM para asociar documentos semejantes?</center>**\n",
    "<figure>\n",
    "<img src=\"../imagenes/pca.png\" width=\"800\" height=\"400\" align=\"center\"/>\n",
    "<figcaption>\n",
    "<p style=\"text-align:center\">Arquitectura del modelo Semática Latente</p>\n",
    "</figcaption>\n",
    "</figure>\n",
    "\n",
    "Fuente: Alvaro Montenegro"
   ]
  },
  {
   "cell_type": "markdown",
   "id": "38420555",
   "metadata": {
    "slideshow": {
     "slide_type": "subslide"
    },
    "tags": []
   },
   "source": [
    "## **<center> LDA (Latent Dirichlet Allocation)</center>**\n",
    "\n",
    "![Blei](../imagenes/Diagram_Blei.png)\n",
    "\n",
    "<figcaption>\n",
    "<p style=\"text-align:center\">Intuición detrás de LDA</p>\n",
    "</figcaption>\n",
    "\n",
    "Fuente: [Intuition behind LDA](http://www.cs.cornell.edu/courses/cs6784/2010sp/lecture/30-BleiEtAl03.pdf)"
   ]
  },
  {
   "cell_type": "markdown",
   "id": "3384a6e7",
   "metadata": {
    "slideshow": {
     "slide_type": "subslide"
    },
    "tags": []
   },
   "source": [
    "## <span style=\"color:blue\"> ¿Qué significa Tokenizar? </span>\n",
    "<br></br>\n",
    "\n",
    "Tokenizar es el **proceso** de dividir textos en palabras, frases, párrafos u otros simbolos que tengan significado\n",
    "\n",
    "La unidad fundamental de la tokenización de un texto se llama **Token**."
   ]
  },
  {
   "cell_type": "markdown",
   "id": "12375ce7",
   "metadata": {
    "slideshow": {
     "slide_type": "subslide"
    },
    "tags": []
   },
   "source": [
    "**<center>La belleza del pensamiento es su constante lucha con el Doblepensar. El resto es ceguera y sumisión.</center>**"
   ]
  },
  {
   "cell_type": "markdown",
   "id": "df27e713",
   "metadata": {
    "slideshow": {
     "slide_type": "subslide"
    },
    "tags": []
   },
   "source": [
    "**Tokens (Por frase):**\n",
    "\n",
    "<center>La belleza del pensamiento es su constante lucha con el Doblepensar.</center>\n",
    "<br></br>\n",
    "<center>El resto es ceguera y sumisión.</center>"
   ]
  },
  {
   "cell_type": "markdown",
   "id": "15baf0cd",
   "metadata": {
    "slideshow": {
     "slide_type": "subslide"
    },
    "tags": []
   },
   "source": [
    "**Tokens (Por palabras):**\n",
    "\n",
    "<center>[La, belleza, del, pensamiento, es, su, ... , y, sumisión,.]</center>"
   ]
  },
  {
   "cell_type": "markdown",
   "id": "dd93289e",
   "metadata": {
    "slideshow": {
     "slide_type": "subslide"
    },
    "tags": []
   },
   "source": [
    "**Tokens (Por caracteres):**\n",
    "\n",
    "<center>[L, a, b, e, l, l, e, z, a, ... , s, i, ó, n, .]</center>"
   ]
  },
  {
   "cell_type": "markdown",
   "id": "a939bd3e",
   "metadata": {
    "slideshow": {
     "slide_type": "subslide"
    },
    "tags": []
   },
   "source": [
    "**Tokens (Por bi-gramas, palabras):**\n",
    "\n",
    "<center>[La belleza, belleza del, del pensamiento, ... , y sumisión, sumisión.]</center>"
   ]
  },
  {
   "cell_type": "markdown",
   "id": "fa8b2306",
   "metadata": {
    "slideshow": {
     "slide_type": "subslide"
    },
    "tags": []
   },
   "source": [
    "**<center>¡No es un problema fácil!</center>**\n",
    "**<center>Cada modelo tiene su propio tokenizador.</center>**"
   ]
  },
  {
   "cell_type": "markdown",
   "id": "cc9b126a",
   "metadata": {
    "slideshow": {
     "slide_type": "subslide"
    },
    "tags": []
   },
   "source": [
    "**BERT:**\n",
    "\n",
    "<img src=\"../imagenes/BERT-Arquitectura.png\" width=\"800\" height=\"400\" align=\"center\"/>"
   ]
  },
  {
   "cell_type": "markdown",
   "id": "5612c0ce",
   "metadata": {
    "slideshow": {
     "slide_type": "slide"
    },
    "tags": []
   },
   "source": [
    "<figure>\n",
    "<img src=\"../imagenes/logo-final-ap.png\"  width=\"80\" height=\"80\" align=\"left\"/> \n",
    "</figure>\n",
    "\n",
    "# <span style=\"color:red\"><center>Word Embedding (Incrustación de palabras)</center></span>"
   ]
  },
  {
   "cell_type": "markdown",
   "id": "9261f356",
   "metadata": {
    "slideshow": {
     "slide_type": "subslide"
    },
    "tags": []
   },
   "source": [
    "## <span style=\"color:blue\">Problemas con los métodos clásicos de conteo</span>\n",
    "\n",
    "<br></br>"
   ]
  },
  {
   "cell_type": "markdown",
   "id": "44598110",
   "metadata": {
    "tags": []
   },
   "source": [
    "Baroni, Marco, Dinu Georgiana, Kruszewki Germán, (2014),[ Don’t count, predict! A systematic comparison of context-counting vs. context-predicting semantic vectors.](https://aclanthology.org/P14-1023.pdf)"
   ]
  },
  {
   "cell_type": "markdown",
   "id": "b06473df",
   "metadata": {
    "slideshow": {
     "slide_type": "subslide"
    },
    "tags": []
   },
   "source": [
    "*Hipótesis distributiva*: \n",
    "\n",
    "**Palabras que ocurren y se usan en el mismo contexto, son semánticamente similares entre sí y tienen significados similares**. "
   ]
  },
  {
   "cell_type": "markdown",
   "id": "c2a378cd",
   "metadata": {
    "slideshow": {
     "slide_type": "subslide"
    },
    "tags": []
   },
   "source": [
    "## Ejemplo de un Embedding\n",
    "\n",
    "<br></br>"
   ]
  },
  {
   "cell_type": "markdown",
   "id": "7d48a1b9",
   "metadata": {
    "tags": []
   },
   "source": [
    "![Frase](../imagenes/word_embeddings.jpg)\n",
    "\n",
    "Fuente: [Hypotheses](https://corpling.hypotheses.org/495)"
   ]
  },
  {
   "cell_type": "markdown",
   "id": "9db4ed90",
   "metadata": {
    "slideshow": {
     "slide_type": "subslide"
    },
    "tags": []
   },
   "source": [
    "**<center>¿Cómo medimos similitud entre palabras?</center>**"
   ]
  },
  {
   "cell_type": "markdown",
   "id": "ca354e88",
   "metadata": {
    "slideshow": {
     "slide_type": "subslide"
    },
    "tags": []
   },
   "source": [
    "![Frase](../imagenes/word_similarity.jpg)\n",
    "\n",
    "Fuente: [Hypotheses](https://corpling.hypotheses.org/495)"
   ]
  },
  {
   "cell_type": "markdown",
   "id": "316cbc96",
   "metadata": {
    "slideshow": {
     "slide_type": "subslide"
    },
    "tags": []
   },
   "source": [
    "**Matemáticamente hablando,**\n",
    "\n",
    "$$\\cos(\\theta)=\\frac{\\vec{a} \\cdot \\vec{b}}{\\|\\vec{a}\\| \\| \\vec{b} \\|}$$"
   ]
  },
  {
   "cell_type": "markdown",
   "id": "8746fb43",
   "metadata": {
    "slideshow": {
     "slide_type": "slide"
    },
    "tags": []
   },
   "source": [
    "<figure>\n",
    "<img src=\"../imagenes/logo-final-ap.png\"  width=\"80\" height=\"80\" align=\"left\"/> \n",
    "</figure>\n",
    "\n",
    "# <span style=\"color:red\"><center>Métodos CBOW y Skip-gram</center></span>"
   ]
  },
  {
   "cell_type": "markdown",
   "id": "73b74bd0",
   "metadata": {
    "slideshow": {
     "slide_type": "subslide"
    },
    "tags": []
   },
   "source": [
    "## <span style=\"color:blue\">CBOW (Continuous Bag of Words)</span>\n",
    "\n",
    "<br></br>"
   ]
  },
  {
   "cell_type": "markdown",
   "id": "c29bf626",
   "metadata": {},
   "source": [
    "Se intenta **predecir la palabra objetivo actual** - target word- (la palabra central) basándose en las palabras del contexto de origen (palabras circundantes)"
   ]
  },
  {
   "cell_type": "markdown",
   "id": "83be763b",
   "metadata": {
    "slideshow": {
     "slide_type": "subslide"
    },
    "tags": []
   },
   "source": [
    "\"A veces son las mismísimas personas de las que nadie puede imaginarse algo, aquellas que hacen las cosas que nadie puede se imaginar\".\n",
    "\n",
    "– Alan Turing"
   ]
  },
  {
   "cell_type": "markdown",
   "id": "e3a49bf5",
   "metadata": {
    "slideshow": {
     "slide_type": "subslide"
    },
    "tags": []
   },
   "source": [
    "Considerando los pares (**ventana de contexto**, **palabra objetivo**), podemos construir las siguientes asociaciones (ventana de tamaño 2):\n",
    "<br></br>\n",
    "\"A veces son las mismísimas personas de las que nadie puede imaginarse algo, aquellas que hacen las cosas que nadie puede se imaginar\".\n",
    "<br></br>\n",
    "([A, son], veces)\n",
    "\n",
    "([veces, las], son)\n",
    "\n",
    "...\n",
    "\n",
    "([puede, algo], imaginarse)\n",
    "\n",
    "([aquellas, hacen], que)\n",
    "\n",
    "...\n",
    "\n",
    "Y así sucesivamente."
   ]
  },
  {
   "cell_type": "markdown",
   "id": "cd672b74",
   "metadata": {
    "slideshow": {
     "slide_type": "subslide"
    },
    "tags": []
   },
   "source": [
    "**<center>Es decir, el modelo intenta predecir una palabra objetivo a partir de su contexto.</center>**"
   ]
  },
  {
   "cell_type": "markdown",
   "id": "366f5728",
   "metadata": {
    "slideshow": {
     "slide_type": "subslide"
    },
    "tags": []
   },
   "source": [
    "![cbow_1](../imagenes/cbow_1_palabra.png)\n",
    "\n",
    "Fuente: Álvaro Montenegro"
   ]
  },
  {
   "cell_type": "markdown",
   "id": "522e2e04",
   "metadata": {
    "slideshow": {
     "slide_type": "subslide"
    },
    "tags": []
   },
   "source": [
    "<center> Arquitectura General de CBOW</center>\n",
    "\n",
    "<center><img src=\"../imagenes/CBOW.png\"></center>\n",
    "\n",
    "Fuente: \n",
    "[Efficient Estimation of Word Representations in Vector space](https://arxiv.org/pdf/1301.3781.pdf)"
   ]
  },
  {
   "cell_type": "markdown",
   "id": "f02adea9",
   "metadata": {
    "slideshow": {
     "slide_type": "subslide"
    },
    "tags": []
   },
   "source": [
    "\n",
    "<figure>\n",
    "<center>\n",
    "<img src=\"../imagenes/CBOW_net_arq.png\" width=\"400\" height=\"300\" align=\"center\"/>\n",
    "</center>\n",
    "<figcaption>\n",
    "<p style=\"text-align:center\">Arquitectura de la red para el modelo CBOW</p>\n",
    "</figcaption>\n",
    "</figure>\n",
    "\n",
    "Fuente: \n",
    "[Dipanjan (DJ) Sarkar](https://towardsdatascience.com/understanding-feature-engineering-part-4-deep-learning-methods-for-text-data-96c44370bbfa)"
   ]
  },
  {
   "cell_type": "markdown",
   "id": "2ba9b182",
   "metadata": {
    "slideshow": {
     "slide_type": "subslide"
    },
    "tags": []
   },
   "source": [
    "## <span style=\"color:blue\">Skip-gram</span>\n",
    "\n",
    "<br></br>"
   ]
  },
  {
   "cell_type": "markdown",
   "id": "4274e4eb",
   "metadata": {},
   "source": [
    "Se intenta **predecir el contexto** - target word- (palabras circundantes) basándose en una palabra destino (palabra central)"
   ]
  },
  {
   "cell_type": "markdown",
   "id": "695cf0ac",
   "metadata": {
    "slideshow": {
     "slide_type": "subslide"
    },
    "tags": []
   },
   "source": [
    "\"A veces son las mismísimas personas de las que nadie puede imaginarse algo, aquellas que hacen las cosas que nadie puede se imaginar\"."
   ]
  },
  {
   "cell_type": "markdown",
   "id": "2abe57ff",
   "metadata": {
    "tags": []
   },
   "source": [
    "**Ejemplo:**\n",
    "\n",
    "\n",
    "(veces, [A, son])\n",
    "\n",
    "(son, [veces, las])\n",
    "\n",
    "...\n",
    "\n",
    "(imaginarse, [puede, algo])\n",
    "\n",
    "(que, [aquellas, hacen])\n",
    "\n",
    "...\n",
    "\n",
    "Y así sucesivamente."
   ]
  },
  {
   "cell_type": "markdown",
   "id": "0b9c7fa6",
   "metadata": {
    "slideshow": {
     "slide_type": "subslide"
    },
    "tags": []
   },
   "source": [
    "**<center>Es decir, el modelo intenta predecir un contexto a partir de una palabra destino.</center>**"
   ]
  },
  {
   "cell_type": "markdown",
   "id": "3f693a90",
   "metadata": {
    "slideshow": {
     "slide_type": "subslide"
    },
    "tags": []
   },
   "source": [
    "<center> Arquitectura General de CBOW</center>\n",
    "\n",
    "<center><img src=\"../imagenes/SKIP_gram.png\"></center>\n",
    "\n",
    "Fuente: \n",
    "[Efficient Estimation of Word Representations in Vector space](https://arxiv.org/pdf/1301.3781.pdf)"
   ]
  },
  {
   "cell_type": "markdown",
   "id": "0dd4cbbe",
   "metadata": {
    "slideshow": {
     "slide_type": "subslide"
    },
    "tags": []
   },
   "source": [
    "\n",
    "<figure>\n",
    "<center>\n",
    "<img src=\"../imagenes/skip-gramar_plot.png\" width=\"400\" height=\"300\" align=\"center\"/>\n",
    "</center>\n",
    "<figcaption>\n",
    "<p style=\"text-align:center\">Arquitectura de la red para el modelo CBOW</p>\n",
    "</figcaption>\n",
    "</figure>\n",
    "\n",
    "Fuente: \n",
    "[Dipanjan (DJ) Sarkar](https://towardsdatascience.com/understanding-feature-engineering-part-4-deep-learning-methods-for-text-data-96c44370bbfa)"
   ]
  },
  {
   "cell_type": "markdown",
   "id": "f041bc16",
   "metadata": {
    "slideshow": {
     "slide_type": "slide"
    },
    "tags": []
   },
   "source": [
    "<figure>\n",
    "<img src=\"../imagenes/logo-final-ap.png\"  width=\"80\" height=\"80\" align=\"left\"/> \n",
    "</figure>\n",
    "\n",
    "# <span style=\"color:red\"><center>Modelos pre-entrenados: Word2Vec, GloVe, FastText</center></span>"
   ]
  },
  {
   "cell_type": "markdown",
   "id": "d1bb0b82",
   "metadata": {
    "slideshow": {
     "slide_type": "subslide"
    },
    "tags": []
   },
   "source": [
    "## <span style=\"color:blue\">Word2Vec</span>"
   ]
  },
  {
   "cell_type": "markdown",
   "id": "4906eded",
   "metadata": {
    "slideshow": {
     "slide_type": "subslide"
    },
    "tags": []
   },
   "source": [
    "![w2v](../imagenes/word2vec.png)\n",
    "Fuente: [Training Word2vec using gensim](https://swatimeena989.medium.com/training-word2vec-using-gensim-14433890e8e4)"
   ]
  },
  {
   "cell_type": "markdown",
   "id": "f5570073",
   "metadata": {
    "slideshow": {
     "slide_type": "subslide"
    },
    "tags": []
   },
   "source": [
    "## <span style=\"color:blue\">GloVe</span>"
   ]
  },
  {
   "cell_type": "markdown",
   "id": "8b8e43ba",
   "metadata": {
    "slideshow": {
     "slide_type": "subslide"
    },
    "tags": []
   },
   "source": [
    "![w2v](../imagenes/glove_matrix.png)\n",
    "\n",
    "Fuente: [GloVe: Global Vectors for Word Representation](https://nlp.stanford.edu/pubs/glove.pdf)"
   ]
  },
  {
   "cell_type": "markdown",
   "id": "ae054d5c",
   "metadata": {
    "slideshow": {
     "slide_type": "slide"
    },
    "tags": []
   },
   "source": [
    "<figure>\n",
    "<img src=\"../imagenes/logo-final-ap.png\"  width=\"80\" height=\"80\" align=\"left\"/> \n",
    "</figure>\n",
    "\n",
    "# <span style=\"color:red\"><center>FastText (Facebook)</center></span>"
   ]
  },
  {
   "cell_type": "markdown",
   "id": "b260b75a",
   "metadata": {
    "slideshow": {
     "slide_type": "subslide"
    },
    "tags": []
   },
   "source": [
    "**<center>¿Buscando Eficiencia?</center>**"
   ]
  },
  {
   "cell_type": "markdown",
   "id": "fbd3b5bf",
   "metadata": {
    "slideshow": {
     "slide_type": "subslide"
    },
    "tags": []
   },
   "source": [
    "<figure>\n",
    "<img src=\"../imagenes/fasttext-logo-color-web.png\" width=\"800\" height=\"400\" align=\"center\"/>\n",
    "</figure>\n",
    "\n",
    "Fuente: [FastText](https://fasttext.cc/)"
   ]
  },
  {
   "cell_type": "code",
   "execution_count": 4,
   "id": "83a8dd58",
   "metadata": {
    "slideshow": {
     "slide_type": "subslide"
    },
    "tags": []
   },
   "outputs": [
    {
     "data": {
      "text/plain": [
       "[(0.9132910370826721, 'personar'),\n",
       " (0.9068970084190369, 'persona'),\n",
       " (0.8679944276809692, 'personita'),\n",
       " (0.8662665486335754, 'personal'),\n",
       " (0.8557455539703369, 'spersona'),\n",
       " (0.8324379324913025, 'persna'),\n",
       " (0.8065141439437866, 'persar'),\n",
       " (0.7967663407325745, 'personalmente'),\n",
       " (0.7958793640136719, 'personalizado'),\n",
       " (0.7871550917625427, 'persoan'),\n",
       " (0.7720642685890198, 'querer'),\n",
       " (0.7576236128807068, 'personalida'),\n",
       " (0.7519052624702454, 'perosona'),\n",
       " (0.7363068461418152, 'quere'),\n",
       " (0.7361247539520264, 'pesona'),\n",
       " (0.7349685430526733, 'debrer'),\n",
       " (0.7303863763809204, 'prematuro'),\n",
       " (0.7287424206733704, 'dde'),\n",
       " (0.726275622844696, 'caundo'),\n",
       " (0.7247213125228882, 'razòn')]"
      ]
     },
     "execution_count": 4,
     "metadata": {},
     "output_type": "execute_result"
    }
   ],
   "source": [
    "ft_model.get_nearest_neighbors('personas',k=20)"
   ]
  },
  {
   "cell_type": "code",
   "execution_count": 5,
   "id": "38c3b5e9",
   "metadata": {
    "slideshow": {
     "slide_type": "subslide"
    },
    "tags": []
   },
   "outputs": [
    {
     "name": "stdout",
     "output_type": "stream",
     "text": [
      "Dimensión de cada palabra: 300 \n",
      "\n",
      "[ 5.24799526e-02  9.15666297e-02  3.97484303e-02 -6.31197989e-02\n",
      "  5.07091433e-02 -4.31895442e-02  7.48612210e-02  1.57487899e-01\n",
      " -4.47557046e-04 -2.66112462e-02  7.72181004e-02 -8.77558589e-02\n",
      "  1.44190416e-01  6.08691983e-02  7.24870488e-02  1.34591535e-01\n",
      "  4.80714254e-02  1.02717467e-01 -1.65887475e-01 -7.34485462e-02\n",
      " -7.70898312e-02  3.12843353e-01 -7.42845163e-02  8.65012407e-02\n",
      "  9.27838162e-02 -1.11677237e-01  3.49321961e-01  4.53560054e-02\n",
      " -3.87068540e-02 -1.48777112e-01 -1.52624473e-01  3.16525936e-01\n",
      " -1.90377478e-02  7.65117779e-02 -4.04428989e-02  7.98542518e-03\n",
      " -2.73854584e-01 -3.61466818e-02 -2.04677321e-02  1.27188370e-01\n",
      "  2.35081464e-01 -6.66056499e-02  1.02620669e-01  7.48200193e-02\n",
      "  6.60037622e-02  1.00959092e-01 -1.76436678e-01  2.66944677e-01\n",
      " -4.28780913e-02 -2.13320721e-02 -2.34207902e-02  1.06124006e-01\n",
      "  1.96991324e-01 -9.32689980e-02  1.33505702e-01 -2.21246541e-01\n",
      " -2.66178191e-01 -8.39941278e-02 -6.15192519e-04  8.78470689e-02\n",
      "  4.23219576e-02 -1.92235291e-01  1.29888162e-01  1.07743368e-01\n",
      "  1.59951136e-01  1.60280973e-01 -4.18361574e-02 -8.61715749e-02\n",
      "  2.31133699e-01  5.71853071e-02  1.66871920e-01  1.03985675e-01\n",
      "  2.98737269e-02  1.02985054e-01  1.14707299e-01 -4.47212346e-02\n",
      " -2.22821191e-01 -1.39559433e-01 -2.11502552e-01 -4.75678556e-02\n",
      " -1.84836164e-01 -3.15176211e-02  2.65918691e-02 -1.17193414e-02\n",
      " -1.33980319e-01 -8.06756839e-02  2.40550954e-02  1.93196663e-03\n",
      " -1.52128441e-02  6.17859066e-02 -6.40573427e-02  1.33018394e-03\n",
      " -1.17561184e-01 -7.43099377e-02 -1.79671451e-01 -1.60949379e-01\n",
      " -4.95714173e-02 -1.27502605e-01 -2.99894251e-02 -1.40175223e-02\n",
      "  1.34737894e-03  4.71354797e-02  4.23890911e-02  2.79361140e-02\n",
      " -8.87208655e-02 -9.57543179e-02  1.63124248e-01  5.84070422e-02\n",
      "  6.81627728e-03 -1.30261689e-01  3.63674238e-02  9.07225609e-02\n",
      " -4.39060368e-02  9.06281993e-02 -7.72138266e-03  1.51165009e-01\n",
      "  9.62707475e-02  3.35088484e-02 -3.22040282e-02  1.37364849e-01\n",
      "  2.81820633e-02 -3.08740195e-02 -2.02313587e-02 -1.01186961e-01\n",
      "  1.72733247e-01  8.76564458e-02 -3.14652547e-02  1.41510889e-01\n",
      " -7.23000169e-02  1.32630005e-01 -1.94975939e-02 -1.00228973e-01\n",
      " -7.88610801e-02 -3.16495657e-01  2.12819017e-02 -1.71729714e-01\n",
      " -8.83882865e-02 -8.68360177e-02 -1.41904518e-01 -8.65067542e-02\n",
      " -1.76924076e-02  6.58080876e-02 -1.92414016e-01  3.47453505e-02\n",
      " -3.61692905e-03 -8.70659649e-02  7.86490962e-02  8.33094493e-03\n",
      " -3.17850232e-01 -1.51938833e-02 -6.20346330e-02 -6.64604530e-02\n",
      "  2.77439147e-01 -8.73912591e-03 -6.03523999e-02  1.90035984e-01\n",
      "  7.90233817e-03 -2.02465042e-01 -1.14850275e-01  3.99961276e-03\n",
      " -6.85938075e-02 -1.56790271e-01  1.97982341e-01 -3.46294953e-03\n",
      " -8.39912891e-02 -4.40762304e-02  9.13099349e-02 -3.56688723e-02\n",
      " -9.94093344e-02  3.76131013e-02 -1.06315218e-01  1.27028614e-01\n",
      " -6.55859560e-02 -5.92799298e-02 -2.12412834e-01  7.35279992e-02\n",
      " -6.34157956e-02 -2.28086323e-03 -2.18996704e-02 -8.67727473e-02\n",
      "  3.19884135e-03 -1.48297161e-01 -9.99149866e-03  5.26882298e-02\n",
      " -4.20790985e-02 -1.11322574e-01  4.00090218e-03  9.49732214e-02\n",
      "  1.56512000e-02  3.58194904e-03 -1.62761495e-01  3.44549976e-02\n",
      "  4.41147909e-02  3.37007828e-02  1.65453210e-01 -1.03963539e-02\n",
      "  1.36528119e-01 -1.73845127e-01  2.99894810e-02  1.95415914e-01\n",
      "  1.64505854e-01  1.58594981e-01  4.23930213e-02 -3.70294265e-02\n",
      " -9.33052972e-03 -6.29975200e-02 -3.52863148e-02  8.76879916e-02\n",
      " -9.41523910e-02  2.24974155e-02 -5.59113286e-02  1.18585072e-01\n",
      "  1.19041391e-01  1.52518570e-01  5.77507280e-02 -1.41589539e-04\n",
      " -9.08652171e-02 -7.87489191e-02 -6.25383854e-03  3.18288547e-03\n",
      "  1.00194983e-01  6.69848621e-02  1.04300432e-01  2.25197092e-01\n",
      " -1.12078451e-02 -8.93331841e-02  2.21903056e-01  1.95945892e-02\n",
      "  1.44801646e-01 -1.98350623e-01 -5.76124415e-02  1.06810912e-01\n",
      " -1.01136461e-01 -5.57082705e-02 -4.71765064e-02 -2.27710214e-02\n",
      "  4.22155336e-02  1.35813445e-01 -1.01012833e-01  5.61818406e-02\n",
      " -1.85557816e-03 -1.34610564e-01  2.09606756e-02  7.52321854e-02\n",
      "  8.02275538e-03  1.14765726e-01  6.51405007e-02 -1.52398869e-02\n",
      "  9.37117785e-02  6.09592870e-02  5.24922498e-02  2.01582052e-02\n",
      "  1.14851762e-02 -2.23667309e-01  1.46928608e-01  1.05938025e-01\n",
      "  2.06365120e-02  1.62585974e-01  1.60172984e-01  5.45519926e-02\n",
      " -5.83597943e-02  9.23366994e-02  1.07022442e-01  8.97938311e-02\n",
      "  1.30357044e-02  1.03451662e-01 -2.44069770e-02  7.09723681e-02\n",
      "  1.00608900e-01  8.87738466e-02 -3.94218117e-02  1.17261559e-01\n",
      " -4.07370590e-02  1.21892244e-01 -1.56515121e-01  2.56299204e-03\n",
      "  1.78215817e-01 -3.49422395e-02 -7.97148943e-02 -1.39361918e-01\n",
      "  1.27802566e-01  4.49165590e-02 -1.49758637e-01  1.36126921e-01\n",
      "  2.97668576e-02 -9.15807635e-02  2.06201915e-02  3.45607772e-02\n",
      "  2.01696500e-01  1.84640437e-01 -8.84667188e-02 -1.29202396e-01\n",
      "  4.75032404e-02  6.40575141e-02  6.45425245e-02  5.94188087e-03\n",
      "  1.69136554e-01 -7.58974850e-02 -5.31887449e-02 -1.04609132e-02]\n"
     ]
    }
   ],
   "source": [
    "print(\"Dimensión de cada palabra:\",ft_model.dim,'\\n')\n",
    "print(ft_model.get_word_vector('persona'))"
   ]
  },
  {
   "cell_type": "markdown",
   "id": "884b3348",
   "metadata": {
    "slideshow": {
     "slide_type": "slide"
    },
    "tags": []
   },
   "source": [
    "<figure>\n",
    "<img src=\"../imagenes/logo-final-ap.png\"  width=\"80\" height=\"80\" align=\"left\"/> \n",
    "</figure>\n",
    "\n",
    "# <span style=\"color:red\"><center>Aplicaciones</center></span>"
   ]
  },
  {
   "cell_type": "markdown",
   "id": "88c6cc1c",
   "metadata": {
    "slideshow": {
     "slide_type": "subslide"
    },
    "tags": []
   },
   "source": [
    "<figure>\n",
    "<center>\n",
    "<img src=\"../imagenes/cluster_kmeans_10.png\" width=\"700\" height=\"600\" align=\"center\"/>\n",
    "</center>\n",
    "<figcaption>\n",
    "<p style=\"text-align:center\">Areas de conocimiento Astrofísica, a partir de artículos científicos</p>\n",
    "</figcaption>\n",
    "</figure>\n",
    "\n",
    "Fuente: Alvaro Montenegro"
   ]
  },
  {
   "cell_type": "code",
   "execution_count": 27,
   "id": "3ef4e4d7",
   "metadata": {
    "slideshow": {
     "slide_type": "subslide"
    },
    "tags": []
   },
   "outputs": [
    {
     "data": {
      "text/html": [
       "<div>\n",
       "<style scoped>\n",
       "    .dataframe tbody tr th:only-of-type {\n",
       "        vertical-align: middle;\n",
       "    }\n",
       "\n",
       "    .dataframe tbody tr th {\n",
       "        vertical-align: top;\n",
       "    }\n",
       "\n",
       "    .dataframe thead th {\n",
       "        text-align: right;\n",
       "    }\n",
       "</style>\n",
       "<table border=\"1\" class=\"dataframe\">\n",
       "  <thead>\n",
       "    <tr style=\"text-align: right;\">\n",
       "      <th></th>\n",
       "      <th>0</th>\n",
       "      <th>1</th>\n",
       "      <th>2</th>\n",
       "      <th>3</th>\n",
       "      <th>4</th>\n",
       "      <th>5</th>\n",
       "      <th>6</th>\n",
       "      <th>7</th>\n",
       "      <th>8</th>\n",
       "      <th>9</th>\n",
       "      <th>...</th>\n",
       "      <th>290</th>\n",
       "      <th>291</th>\n",
       "      <th>292</th>\n",
       "      <th>293</th>\n",
       "      <th>294</th>\n",
       "      <th>295</th>\n",
       "      <th>296</th>\n",
       "      <th>297</th>\n",
       "      <th>298</th>\n",
       "      <th>299</th>\n",
       "    </tr>\n",
       "  </thead>\n",
       "  <tbody>\n",
       "    <tr>\n",
       "      <th>0</th>\n",
       "      <td>0.241418</td>\n",
       "      <td>-0.232559</td>\n",
       "      <td>-0.085683</td>\n",
       "      <td>0.299351</td>\n",
       "      <td>0.109705</td>\n",
       "      <td>0.331151</td>\n",
       "      <td>-0.080337</td>\n",
       "      <td>-0.197136</td>\n",
       "      <td>-0.427341</td>\n",
       "      <td>-0.573067</td>\n",
       "      <td>...</td>\n",
       "      <td>-0.225016</td>\n",
       "      <td>-0.815326</td>\n",
       "      <td>0.043260</td>\n",
       "      <td>0.105106</td>\n",
       "      <td>0.041180</td>\n",
       "      <td>0.060379</td>\n",
       "      <td>0.018453</td>\n",
       "      <td>-0.366959</td>\n",
       "      <td>0.137687</td>\n",
       "      <td>0.080184</td>\n",
       "    </tr>\n",
       "    <tr>\n",
       "      <th>1</th>\n",
       "      <td>0.255045</td>\n",
       "      <td>-0.256232</td>\n",
       "      <td>-0.044591</td>\n",
       "      <td>0.315665</td>\n",
       "      <td>0.108994</td>\n",
       "      <td>0.323116</td>\n",
       "      <td>-0.106720</td>\n",
       "      <td>-0.222000</td>\n",
       "      <td>-0.435245</td>\n",
       "      <td>-0.577258</td>\n",
       "      <td>...</td>\n",
       "      <td>-0.216122</td>\n",
       "      <td>-0.807650</td>\n",
       "      <td>0.000162</td>\n",
       "      <td>0.149000</td>\n",
       "      <td>0.030914</td>\n",
       "      <td>0.069198</td>\n",
       "      <td>-0.006865</td>\n",
       "      <td>-0.365532</td>\n",
       "      <td>0.120305</td>\n",
       "      <td>0.078757</td>\n",
       "    </tr>\n",
       "    <tr>\n",
       "      <th>2</th>\n",
       "      <td>0.239668</td>\n",
       "      <td>-0.254680</td>\n",
       "      <td>-0.070638</td>\n",
       "      <td>0.303795</td>\n",
       "      <td>0.120087</td>\n",
       "      <td>0.324071</td>\n",
       "      <td>-0.091249</td>\n",
       "      <td>-0.192964</td>\n",
       "      <td>-0.422978</td>\n",
       "      <td>-0.589075</td>\n",
       "      <td>...</td>\n",
       "      <td>-0.225875</td>\n",
       "      <td>-0.816348</td>\n",
       "      <td>0.015498</td>\n",
       "      <td>0.131911</td>\n",
       "      <td>0.036075</td>\n",
       "      <td>0.064224</td>\n",
       "      <td>0.017920</td>\n",
       "      <td>-0.373993</td>\n",
       "      <td>0.126668</td>\n",
       "      <td>0.082288</td>\n",
       "    </tr>\n",
       "    <tr>\n",
       "      <th>3</th>\n",
       "      <td>0.233435</td>\n",
       "      <td>-0.230949</td>\n",
       "      <td>-0.081912</td>\n",
       "      <td>0.309704</td>\n",
       "      <td>0.110778</td>\n",
       "      <td>0.327595</td>\n",
       "      <td>-0.112487</td>\n",
       "      <td>-0.204670</td>\n",
       "      <td>-0.420729</td>\n",
       "      <td>-0.566931</td>\n",
       "      <td>...</td>\n",
       "      <td>-0.222017</td>\n",
       "      <td>-0.822799</td>\n",
       "      <td>0.025876</td>\n",
       "      <td>0.108496</td>\n",
       "      <td>0.034860</td>\n",
       "      <td>0.070980</td>\n",
       "      <td>0.019631</td>\n",
       "      <td>-0.360372</td>\n",
       "      <td>0.130671</td>\n",
       "      <td>0.072055</td>\n",
       "    </tr>\n",
       "    <tr>\n",
       "      <th>4</th>\n",
       "      <td>0.243229</td>\n",
       "      <td>-0.243130</td>\n",
       "      <td>-0.095961</td>\n",
       "      <td>0.292602</td>\n",
       "      <td>0.104921</td>\n",
       "      <td>0.330812</td>\n",
       "      <td>-0.077533</td>\n",
       "      <td>-0.209971</td>\n",
       "      <td>-0.430416</td>\n",
       "      <td>-0.587449</td>\n",
       "      <td>...</td>\n",
       "      <td>-0.232541</td>\n",
       "      <td>-0.829176</td>\n",
       "      <td>0.029503</td>\n",
       "      <td>0.128189</td>\n",
       "      <td>0.018461</td>\n",
       "      <td>0.060638</td>\n",
       "      <td>-0.011216</td>\n",
       "      <td>-0.365519</td>\n",
       "      <td>0.143600</td>\n",
       "      <td>0.074325</td>\n",
       "    </tr>\n",
       "    <tr>\n",
       "      <th>...</th>\n",
       "      <td>...</td>\n",
       "      <td>...</td>\n",
       "      <td>...</td>\n",
       "      <td>...</td>\n",
       "      <td>...</td>\n",
       "      <td>...</td>\n",
       "      <td>...</td>\n",
       "      <td>...</td>\n",
       "      <td>...</td>\n",
       "      <td>...</td>\n",
       "      <td>...</td>\n",
       "      <td>...</td>\n",
       "      <td>...</td>\n",
       "      <td>...</td>\n",
       "      <td>...</td>\n",
       "      <td>...</td>\n",
       "      <td>...</td>\n",
       "      <td>...</td>\n",
       "      <td>...</td>\n",
       "      <td>...</td>\n",
       "      <td>...</td>\n",
       "    </tr>\n",
       "    <tr>\n",
       "      <th>7457</th>\n",
       "      <td>0.244309</td>\n",
       "      <td>-0.263245</td>\n",
       "      <td>-0.090281</td>\n",
       "      <td>0.291332</td>\n",
       "      <td>0.107840</td>\n",
       "      <td>0.307374</td>\n",
       "      <td>-0.031982</td>\n",
       "      <td>-0.228151</td>\n",
       "      <td>-0.417979</td>\n",
       "      <td>-0.612873</td>\n",
       "      <td>...</td>\n",
       "      <td>-0.229120</td>\n",
       "      <td>-0.793140</td>\n",
       "      <td>0.041920</td>\n",
       "      <td>0.162498</td>\n",
       "      <td>0.015015</td>\n",
       "      <td>0.035492</td>\n",
       "      <td>-0.004617</td>\n",
       "      <td>-0.390809</td>\n",
       "      <td>0.152601</td>\n",
       "      <td>0.095524</td>\n",
       "    </tr>\n",
       "    <tr>\n",
       "      <th>7458</th>\n",
       "      <td>0.244283</td>\n",
       "      <td>-0.237519</td>\n",
       "      <td>-0.030111</td>\n",
       "      <td>0.291326</td>\n",
       "      <td>0.116971</td>\n",
       "      <td>0.323677</td>\n",
       "      <td>-0.053814</td>\n",
       "      <td>-0.238688</td>\n",
       "      <td>-0.426710</td>\n",
       "      <td>-0.584561</td>\n",
       "      <td>...</td>\n",
       "      <td>-0.206920</td>\n",
       "      <td>-0.785080</td>\n",
       "      <td>0.023295</td>\n",
       "      <td>0.126629</td>\n",
       "      <td>0.024351</td>\n",
       "      <td>0.071057</td>\n",
       "      <td>-0.005939</td>\n",
       "      <td>-0.393282</td>\n",
       "      <td>0.141215</td>\n",
       "      <td>0.068864</td>\n",
       "    </tr>\n",
       "    <tr>\n",
       "      <th>7459</th>\n",
       "      <td>0.248388</td>\n",
       "      <td>-0.247243</td>\n",
       "      <td>-0.062380</td>\n",
       "      <td>0.288513</td>\n",
       "      <td>0.108986</td>\n",
       "      <td>0.326835</td>\n",
       "      <td>-0.022564</td>\n",
       "      <td>-0.233088</td>\n",
       "      <td>-0.427388</td>\n",
       "      <td>-0.609371</td>\n",
       "      <td>...</td>\n",
       "      <td>-0.227900</td>\n",
       "      <td>-0.821805</td>\n",
       "      <td>0.026147</td>\n",
       "      <td>0.168068</td>\n",
       "      <td>0.027383</td>\n",
       "      <td>0.020774</td>\n",
       "      <td>0.025495</td>\n",
       "      <td>-0.389975</td>\n",
       "      <td>0.142002</td>\n",
       "      <td>0.083954</td>\n",
       "    </tr>\n",
       "    <tr>\n",
       "      <th>7460</th>\n",
       "      <td>0.291054</td>\n",
       "      <td>-0.261208</td>\n",
       "      <td>-0.042859</td>\n",
       "      <td>0.281592</td>\n",
       "      <td>0.112613</td>\n",
       "      <td>0.312341</td>\n",
       "      <td>-0.043446</td>\n",
       "      <td>-0.256389</td>\n",
       "      <td>-0.448102</td>\n",
       "      <td>-0.611017</td>\n",
       "      <td>...</td>\n",
       "      <td>-0.206487</td>\n",
       "      <td>-0.823019</td>\n",
       "      <td>-0.021799</td>\n",
       "      <td>0.135237</td>\n",
       "      <td>0.031224</td>\n",
       "      <td>0.012056</td>\n",
       "      <td>0.009856</td>\n",
       "      <td>-0.370721</td>\n",
       "      <td>0.153655</td>\n",
       "      <td>0.102042</td>\n",
       "    </tr>\n",
       "    <tr>\n",
       "      <th>7461</th>\n",
       "      <td>0.238826</td>\n",
       "      <td>-0.259780</td>\n",
       "      <td>-0.079581</td>\n",
       "      <td>0.294706</td>\n",
       "      <td>0.105108</td>\n",
       "      <td>0.307628</td>\n",
       "      <td>-0.024828</td>\n",
       "      <td>-0.229253</td>\n",
       "      <td>-0.416846</td>\n",
       "      <td>-0.598813</td>\n",
       "      <td>...</td>\n",
       "      <td>-0.235458</td>\n",
       "      <td>-0.807307</td>\n",
       "      <td>-0.000835</td>\n",
       "      <td>0.172921</td>\n",
       "      <td>0.020978</td>\n",
       "      <td>0.023366</td>\n",
       "      <td>-0.007098</td>\n",
       "      <td>-0.396306</td>\n",
       "      <td>0.137284</td>\n",
       "      <td>0.086243</td>\n",
       "    </tr>\n",
       "  </tbody>\n",
       "</table>\n",
       "<p>7462 rows × 300 columns</p>\n",
       "</div>"
      ],
      "text/plain": [
       "           0         1         2         3         4         5         6    \\\n",
       "0     0.241418 -0.232559 -0.085683  0.299351  0.109705  0.331151 -0.080337   \n",
       "1     0.255045 -0.256232 -0.044591  0.315665  0.108994  0.323116 -0.106720   \n",
       "2     0.239668 -0.254680 -0.070638  0.303795  0.120087  0.324071 -0.091249   \n",
       "3     0.233435 -0.230949 -0.081912  0.309704  0.110778  0.327595 -0.112487   \n",
       "4     0.243229 -0.243130 -0.095961  0.292602  0.104921  0.330812 -0.077533   \n",
       "...        ...       ...       ...       ...       ...       ...       ...   \n",
       "7457  0.244309 -0.263245 -0.090281  0.291332  0.107840  0.307374 -0.031982   \n",
       "7458  0.244283 -0.237519 -0.030111  0.291326  0.116971  0.323677 -0.053814   \n",
       "7459  0.248388 -0.247243 -0.062380  0.288513  0.108986  0.326835 -0.022564   \n",
       "7460  0.291054 -0.261208 -0.042859  0.281592  0.112613  0.312341 -0.043446   \n",
       "7461  0.238826 -0.259780 -0.079581  0.294706  0.105108  0.307628 -0.024828   \n",
       "\n",
       "           7         8         9    ...       290       291       292  \\\n",
       "0    -0.197136 -0.427341 -0.573067  ... -0.225016 -0.815326  0.043260   \n",
       "1    -0.222000 -0.435245 -0.577258  ... -0.216122 -0.807650  0.000162   \n",
       "2    -0.192964 -0.422978 -0.589075  ... -0.225875 -0.816348  0.015498   \n",
       "3    -0.204670 -0.420729 -0.566931  ... -0.222017 -0.822799  0.025876   \n",
       "4    -0.209971 -0.430416 -0.587449  ... -0.232541 -0.829176  0.029503   \n",
       "...        ...       ...       ...  ...       ...       ...       ...   \n",
       "7457 -0.228151 -0.417979 -0.612873  ... -0.229120 -0.793140  0.041920   \n",
       "7458 -0.238688 -0.426710 -0.584561  ... -0.206920 -0.785080  0.023295   \n",
       "7459 -0.233088 -0.427388 -0.609371  ... -0.227900 -0.821805  0.026147   \n",
       "7460 -0.256389 -0.448102 -0.611017  ... -0.206487 -0.823019 -0.021799   \n",
       "7461 -0.229253 -0.416846 -0.598813  ... -0.235458 -0.807307 -0.000835   \n",
       "\n",
       "           293       294       295       296       297       298       299  \n",
       "0     0.105106  0.041180  0.060379  0.018453 -0.366959  0.137687  0.080184  \n",
       "1     0.149000  0.030914  0.069198 -0.006865 -0.365532  0.120305  0.078757  \n",
       "2     0.131911  0.036075  0.064224  0.017920 -0.373993  0.126668  0.082288  \n",
       "3     0.108496  0.034860  0.070980  0.019631 -0.360372  0.130671  0.072055  \n",
       "4     0.128189  0.018461  0.060638 -0.011216 -0.365519  0.143600  0.074325  \n",
       "...        ...       ...       ...       ...       ...       ...       ...  \n",
       "7457  0.162498  0.015015  0.035492 -0.004617 -0.390809  0.152601  0.095524  \n",
       "7458  0.126629  0.024351  0.071057 -0.005939 -0.393282  0.141215  0.068864  \n",
       "7459  0.168068  0.027383  0.020774  0.025495 -0.389975  0.142002  0.083954  \n",
       "7460  0.135237  0.031224  0.012056  0.009856 -0.370721  0.153655  0.102042  \n",
       "7461  0.172921  0.020978  0.023366 -0.007098 -0.396306  0.137284  0.086243  \n",
       "\n",
       "[7462 rows x 300 columns]"
      ]
     },
     "execution_count": 27,
     "metadata": {},
     "output_type": "execute_result"
    }
   ],
   "source": [
    "embedding"
   ]
  },
  {
   "cell_type": "markdown",
   "id": "4442907a",
   "metadata": {
    "slideshow": {
     "slide_type": "subslide"
    },
    "tags": []
   },
   "source": [
    "<center>\n",
    "<img src=\"../imagenes/sentiment_analysis.jpg\" width=\"700\" height=\"600\" align=\"center\"/>\n",
    "</center>\n",
    "\n",
    "Fuente: [Altexsoft](https://www.altexsoft.com/blog/business/sentiment-analysis-types-tools-and-use-cases/)"
   ]
  },
  {
   "cell_type": "markdown",
   "id": "b3d71342",
   "metadata": {
    "origin_pos": 0,
    "slideshow": {
     "slide_type": "slide"
    },
    "tags": []
   },
   "source": [
    "## <span style=\"color:blue\">Modelos de Atención</span>"
   ]
  },
  {
   "cell_type": "markdown",
   "id": "6b3805a4",
   "metadata": {
    "origin_pos": 0,
    "tags": []
   },
   "source": [
    "### <center> Gracias por su atención a esta presentación. </center> \n",
    "<center> La atención es un recurso escaso</center>\n",
    "\n",
    "\n",
    "* En la era de la economía de la atención, donde el cuidado humano es tratado como un bien limitado, valioso y escaso\n",
    "que se puede intercambiar, numerosos modelos de negocio se han desarrollado para capitalizarlo.\n",
    "\n",
    "\n",
    "* Al inspeccionar una escena visual, nuestro nervio óptico recibe información del orden de $ 10 ^ 8 $ bits por segundo, superando con creces lo que nuestro cerebro puede procesar por completo.\n",
    "\n",
    "* Nuestros antepasados `habían aprendido de la experiencia` (también conocidos como datos) que `no todas las entradas sensoriales son iguales`.\n",
    "\n",
    "* A lo largo de la historia de la humanidad, la capacidad de dirigir la atención solo una fracción de la información de interés ha habilitado nuestro cerebro para asignar recursos de manera más inteligente.\n"
   ]
  },
  {
   "cell_type": "markdown",
   "id": "8c35c4f0",
   "metadata": {
    "origin_pos": 0,
    "slideshow": {
     "slide_type": "subslide"
    },
    "tags": []
   },
   "source": [
    "## <span style=\"color:blue\">Señales de atención en Biología</span>"
   ]
  },
  {
   "cell_type": "markdown",
   "id": "4e5f6cfe",
   "metadata": {
    "origin_pos": 0
   },
   "source": [
    "\n",
    "* Estas ideas se remontan  a William James en la década de 1890.\n",
    "* Llos sujetos dirigen selectivamente el foco de atención usando tanto la `señal no volitiva`(no voluntaria) como la `señal volitiva` (voluntaria).\n",
    "\n",
    " \n",
    "* La señal no volitiva se basa en la prominencia y la visibilidad de los objetos en el entorno.\n",
    "\n",
    "\n",
    "<figure>\n",
    "<center>\n",
    "<img src=\"../imagenes/eye-coffee.svg\" width=\"400\" height=\"400\" align=\"center\"/>\n",
    "</center>\n",
    "<figcaption>\n",
    "<p style=\"text-align:center\">Auto-atención visual</p>\n",
    "</figcaption>\n",
    "</figure>\n",
    "\n",
    "\n",
    "\n",
    "Fuente [Dive into Deep learning](https://d2l.ai/)"
   ]
  },
  {
   "cell_type": "markdown",
   "id": "283d1d9d",
   "metadata": {
    "origin_pos": 0,
    "slideshow": {
     "slide_type": "subslide"
    },
    "tags": []
   },
   "source": [
    "## <span style=\"color:blue\">Señales de atención en Biología II</span>"
   ]
  },
  {
   "cell_type": "markdown",
   "id": "e541f9f8",
   "metadata": {
    "origin_pos": 0
   },
   "source": [
    "* Después de tomar café, usted está cafeinado y quiere leer un libro. Entonces gira la cabeza, reenfoca sus ojos.\n",
    "* En este caso dependiente de la tarea, selecciona el libro en control cognitivo y volitivo.\n",
    "\n",
    "<figure>\n",
    "<center>\n",
    "<img src=\"../imagenes/eye-book.svg\" width=\"400\" height=\"400\" align=\"center\"/>\n",
    "</center>\n",
    "<figcaption>\n",
    "<p style=\"text-align:center\">Auto-atención visual</p>\n",
    "</figcaption>\n",
    "</figure>\n",
    "\n",
    "\n",
    "Fuente [Dive into Deep learning](https://d2l.ai/)"
   ]
  },
  {
   "cell_type": "markdown",
   "id": "1c666b7b",
   "metadata": {
    "origin_pos": 0,
    "slideshow": {
     "slide_type": "subslide"
    },
    "tags": []
   },
   "source": [
    "## <span style=\"color:blue\">Consultas, claves y valores</span>"
   ]
  },
  {
   "cell_type": "markdown",
   "id": "d36b7371",
   "metadata": {
    "origin_pos": 0
   },
   "source": [
    "* Lo que fija los mecanismos de atención  la inclusión de las señales volitivas. En el contexto de los mecanismos de atención, nos referimos a las señales volitivas como *consultas*(`queries`).\n",
    "* Dada cualquier consulta, los mecanismos de atención sesgan la atención sobre las entradas sensoriales (por ejemplo, representaciones de características intermedias) a través de `atención conjunta` (*pooling attention*).\n",
    "* Estas entradas sensoriales se denominan `valores` (*values*) en el contexto de los mecanismos de atención. \n",
    "* Más generalmente, cada `valor` está emparejado con una `clave`, que se puede pensar en la señal no volitiva de esa entrada sensorial.\n",
    "\n",
    "<figure>\n",
    "<center>\n",
    "<img src=\"../imagenes/qkv.png\" width=\"600\" height=\"600\" align=\"center\"/>\n",
    "</center>\n",
    "<figcaption>\n",
    "<p style=\"text-align:center\">Diagrama de atención</p>\n",
    "</figcaption>\n",
    "</figure>\n",
    "\n",
    "Fuente [Dive into Deep learning](https://d2l.ai/)"
   ]
  },
  {
   "cell_type": "markdown",
   "id": "5d75febc",
   "metadata": {
    "slideshow": {
     "slide_type": "slide"
    },
    "tags": []
   },
   "source": [
    "## <span style=\"color:blue\">Transformers, La Revolución </span>"
   ]
  },
  {
   "cell_type": "markdown",
   "id": "fb77f332",
   "metadata": {},
   "source": [
    "<figure>\n",
    "<center>\n",
    "<img src=\"../imagenes/Transformer_original.png\" width=\"350\" height=\"350\" align=\"center\"/>\n",
    "</center>\n",
    "<figcaption>\n",
    "<p style=\"text-align:center\">Transformer</p>\n",
    "</figcaption>\n",
    "</figure>\n",
    "\n",
    "Fuente: [Attention Is All You Need (Vaswani et. al, 2017)](https://arxiv.org/pdf/1706.03762.pdf)"
   ]
  },
  {
   "cell_type": "markdown",
   "id": "5c2cd20e",
   "metadata": {
    "slideshow": {
     "slide_type": "subslide"
    },
    "tags": []
   },
   "source": [
    "## <span style=\"color:blue\">BERT</span>"
   ]
  },
  {
   "cell_type": "markdown",
   "id": "4b78fd06",
   "metadata": {
    "tags": []
   },
   "source": [
    "\n",
    "<figure>\n",
    "<center>\n",
    "<img src=\"../imagenes/BERT-EL-NUEVO-ALGORITMO-DE-GOOGLE.jpg\" width=\"600\" height=\"600\" align=\"center\"/>\n",
    "</center>\n",
    "<figcaption>\n",
    "<p style=\"text-align:center\">BERT-Transformer</p>\n",
    "</figcaption>\n",
    "</figure>\n",
    "\n",
    "Fuente:[Bert el nuevo algoritmo de Google](https://blog.sinapsis.agency/bert-el-nuevo-algoritmo-de-google/)"
   ]
  },
  {
   "cell_type": "markdown",
   "id": "117ef262",
   "metadata": {
    "slideshow": {
     "slide_type": "subslide"
    },
    "tags": []
   },
   "source": [
    "## <span style=\"color:blue\">MUM?</span>"
   ]
  },
  {
   "cell_type": "markdown",
   "id": "913eb73f",
   "metadata": {},
   "source": [
    "[RIP BERT: Google’s MUM is coming](https://towardsdatascience.com/rip-bert-googles-mum-is-coming-cb3becd9670f)"
   ]
  },
  {
   "cell_type": "markdown",
   "id": "77bc2a7d",
   "metadata": {
    "slideshow": {
     "slide_type": "slide"
    },
    "tags": []
   },
   "source": [
    "## <span style=\"color:blue\">Hugging Face: Acercando la IA a las Personas</span>"
   ]
  },
  {
   "cell_type": "markdown",
   "id": "b6fafed4",
   "metadata": {},
   "source": [
    "[¿Qué puede hacer un transformer?](https://colab.research.google.com/github/huggingface/notebooks/blob/master/course/chapter1/section3.ipynb)\n",
    "\n",
    "![hf](https://bucketeer-e05bbc84-baa3-437e-9518-adb32be77984.s3.amazonaws.com/public/images/be1e7f35-4bd9-4271-a9b2-9cb5efbc4a17_835x556.jpeg)"
   ]
  }
 ],
 "metadata": {
  "kernelspec": {
   "display_name": "Python 3 (ipykernel)",
   "language": "python",
   "name": "python3"
  },
  "language_info": {
   "codemirror_mode": {
    "name": "ipython",
    "version": 3
   },
   "file_extension": ".py",
   "mimetype": "text/x-python",
   "name": "python",
   "nbconvert_exporter": "python",
   "pygments_lexer": "ipython3",
   "version": "3.9.16"
  }
 },
 "nbformat": 4,
 "nbformat_minor": 5
}
