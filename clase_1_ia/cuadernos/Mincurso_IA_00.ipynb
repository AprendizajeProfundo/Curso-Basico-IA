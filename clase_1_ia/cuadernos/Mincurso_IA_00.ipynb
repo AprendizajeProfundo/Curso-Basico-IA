{
 "cells": [
  {
   "cell_type": "markdown",
   "id": "c85a1a92-0540-42bd-a192-5150c6b41593",
   "metadata": {
    "slideshow": {
     "slide_type": "slide"
    },
    "tags": []
   },
   "source": [
    "<figure> \n",
    "<img src=\"../Imagenes/logo-final-ap.png\"  width=\"80\" height=\"80\" align=\"left\"/> \n",
    "</figure>\n",
    "\n",
    "# <span style=\"color:blue\"><left>Aprendizaje Profundo</left></span>"
   ]
  },
  {
   "cell_type": "markdown",
   "id": "86e332c4-96f0-402a-a3ac-3cbf0338e27e",
   "metadata": {},
   "source": [
    "# <span style=\"color:red\"><center>Minicurso  de Inteligencia Artificial<center></span>"
   ]
  },
  {
   "cell_type": "markdown",
   "id": "f106c143-2d3c-43d5-aab3-ff006da81f3d",
   "metadata": {},
   "source": [
    "## <span style=\"color:Green\"><center>El ciclo de  la Inteligencia Artificial<center></span>"
   ]
  },
  {
   "cell_type": "markdown",
   "id": "4f9fd625-a761-4d0f-a511-5f782f3da2a8",
   "metadata": {
    "slideshow": {
     "slide_type": "slide"
    },
    "tags": []
   },
   "source": [
    "## <span style=\"color:blue\">Profesores</span>"
   ]
  },
  {
   "cell_type": "markdown",
   "id": "caf5bfc0-3a98-493e-b42c-8ebd351e2e2a",
   "metadata": {},
   "source": [
    "1. Alvaro  Montenegro, PhD, ammontenegrod@unal.edu.co\n",
    "1. Camilo José Torres Jiménez, Msc, cjtorresj@unal.edu.co\n",
    "1. Daniel  Montenegro, Msc, dextronomo@gmail.com "
   ]
  },
  {
   "cell_type": "markdown",
   "id": "902167ee-1d96-483c-8276-8024155df089",
   "metadata": {
    "slideshow": {
     "slide_type": "subslide"
    },
    "tags": []
   },
   "source": [
    "## <span style=\"color:blue\">Asesora Medios y Marketing digital</span>"
   ]
  },
  {
   "cell_type": "markdown",
   "id": "6d5a05ea-321d-4ea0-9cc8-a8bd6b51a3df",
   "metadata": {},
   "source": [
    "4. Maria del Pilar Montenegro, pmontenegro88@gmail.com\n",
    "5. Jessica López Mejía, jelopezme@unal.edu.co"
   ]
  },
  {
   "cell_type": "markdown",
   "id": "388a7f1b-4b35-49fb-a211-c81febb62bd4",
   "metadata": {
    "slideshow": {
     "slide_type": "subslide"
    },
    "tags": []
   },
   "source": [
    "## <span style=\"color:blue\">Jefe Jurídica</span>"
   ]
  },
  {
   "cell_type": "markdown",
   "id": "a9df0126-4d22-4dee-99f3-1f2073c8c0f8",
   "metadata": {},
   "source": [
    "6. Paula Andrea Guzmán, guzmancruz.paula@gmail.com"
   ]
  },
  {
   "cell_type": "markdown",
   "id": "302507c6-4fb7-4e31-bfbb-63f0e4e28031",
   "metadata": {
    "slideshow": {
     "slide_type": "fragment"
    },
    "tags": []
   },
   "source": [
    "## <span style=\"color:blue\">Coordinador Jurídico</span>"
   ]
  },
  {
   "cell_type": "markdown",
   "id": "f321d84b-e4dd-487e-98ea-d3640cb26269",
   "metadata": {},
   "source": [
    "7. David Fuentes"
   ]
  },
  {
   "cell_type": "markdown",
   "id": "3e91a244-3261-403d-a6df-114e8901a5c0",
   "metadata": {
    "slideshow": {
     "slide_type": "subslide"
    },
    "tags": []
   },
   "source": [
    "## <span style=\"color:blue\">Desarrolladores Principales</span>"
   ]
  },
  {
   "cell_type": "markdown",
   "id": "adebcba2-be4f-423a-b46e-cbd95f537160",
   "metadata": {},
   "source": [
    "8. Dairo Moreno, damoralesj@unal.edu.co\n",
    "9. Joan Castro, jelopezme@unal.edu.co\n",
    "10. Bryan Riveros, briveros@unal.edu.co\n",
    "11. Rosmer Vargas, rovargasc@unal.edu.co\n",
    "12. Venus Puertas, vpuertasg@unal.edu.co"
   ]
  },
  {
   "cell_type": "markdown",
   "id": "df22360f-ba9f-4f5f-b216-5f5173f7dc4e",
   "metadata": {
    "slideshow": {
     "slide_type": "fragment"
    },
    "tags": []
   },
   "source": [
    "## <span style=\"color:blue\">Expertos en Bases de Datos</span>"
   ]
  },
  {
   "cell_type": "markdown",
   "id": "ada985cc-f0cb-4413-ad72-3ba241d8cdfb",
   "metadata": {},
   "source": [
    "13. Giovvani Barrera, udgiovanni@gmail.com\n",
    "14. Camilo Chitivo, cchitivo@unal.edu.co"
   ]
  },
  {
   "cell_type": "markdown",
   "id": "76eb366f-6a47-4f98-b0c4-80c0e07657fe",
   "metadata": {
    "slideshow": {
     "slide_type": "slide"
    },
    "tags": []
   },
   "source": [
    "## <span style=\"color:blue\">Contenido</span>"
   ]
  },
  {
   "cell_type": "markdown",
   "id": "59070880-b78b-435f-80da-755e8b16811a",
   "metadata": {},
   "source": [
    "* [¿Qué es la IA moderna?](#¿Qué-es-la-IA-moderna?)\n",
    "* [El ciclo de la IA](#El-ciclo-de-la-IA)"
   ]
  },
  {
   "cell_type": "markdown",
   "id": "5bf575cf-f7de-4c35-97c4-a561da89125a",
   "metadata": {
    "slideshow": {
     "slide_type": "slide"
    },
    "tags": []
   },
   "source": [
    "## <span style=\"color:blue\">Enlaces importantes</span>"
   ]
  },
  {
   "cell_type": "markdown",
   "id": "663089d0-e6e3-4e99-9725-aee9b2c9c29e",
   "metadata": {},
   "source": [
    "1. [Repositorio del mini curso](https://github.com/AprendizajeProfundo/Curso-Basico-IA)\n",
    "1. [Repositorio Aprendizaje Profundo](https://github.com/AprendizajeProfundo)\n",
    "1. [Clases en vivo](https://us02web.zoom.us/j/86057731334?pwd=MlgvU1cwZmtXbnBBSjVodmNaTDFLQT09), Meeting ID: 860 5773 1334, Passcode: 392083\n",
    "1. [Clases grabadas](https://aprendizajeprofundo.co/cursoslibres/)\n"
   ]
  },
  {
   "cell_type": "markdown",
   "id": "f8e110ce-8c81-4eda-8978-7f99ef4bf944",
   "metadata": {
    "slideshow": {
     "slide_type": "slide"
    },
    "tags": []
   },
   "source": [
    "## <span style=\"color:blue\">¿Qué es la IA moderna?</span>"
   ]
  },
  {
   "cell_type": "markdown",
   "id": "29543d9c-e7f0-44aa-9971-045f2b6cb0e4",
   "metadata": {},
   "source": [
    "1. Una Inteligencia Artificial es un objeto de software que es capaz de\n",
    "    + Recibir entrenamiento\n",
    "    + Recibir y transformar señales sensoriales de un ambiente (entrada sensorial)\n",
    "    + Procesar las entrada recibidas y entregar una respuesta discreta o continua, multidimenisional (cerebro)\n",
    "    + Tomar decisiones con base en las respuestas recibidas"
   ]
  },
  {
   "cell_type": "markdown",
   "id": "434d9de4-ce57-46e8-870a-a3ad6f4f0a1a",
   "metadata": {
    "slideshow": {
     "slide_type": "slide"
    },
    "tags": []
   },
   "source": [
    "\n",
    "## <span style=\"color:blue\">El ciclo de la IA</span>"
   ]
  },
  {
   "cell_type": "markdown",
   "id": "d5f12a48-b47a-414b-8fd0-e65c2ae4108b",
   "metadata": {},
   "source": [
    "<figure> \n",
    "<img src=\"../Imagenes/Ciclo IA.png\"  width=\"1200\" height=\"1000\" align=\"center\"/> \n",
    "</figure>"
   ]
  }
 ],
 "metadata": {
  "kernelspec": {
   "display_name": "Python 3 (ipykernel)",
   "language": "python",
   "name": "python3"
  },
  "language_info": {
   "codemirror_mode": {
    "name": "ipython",
    "version": 3
   },
   "file_extension": ".py",
   "mimetype": "text/x-python",
   "name": "python",
   "nbconvert_exporter": "python",
   "pygments_lexer": "ipython3",
   "version": "3.9.15"
  }
 },
 "nbformat": 4,
 "nbformat_minor": 5
}
