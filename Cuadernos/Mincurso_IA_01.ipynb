{
 "cells": [
  {
   "cell_type": "markdown",
   "id": "c85a1a92-0540-42bd-a192-5150c6b41593",
   "metadata": {
    "slideshow": {
     "slide_type": "slide"
    },
    "tags": []
   },
   "source": [
    "<figure> \n",
    "<img src=\"../Imagenes/logo-final-ap.png\"  width=\"80\" height=\"80\" align=\"left\"/> \n",
    "</figure>\n",
    "\n",
    "# <span style=\"color:blue\"><left>Aprendizaje Profundo</left></span>"
   ]
  },
  {
   "cell_type": "markdown",
   "id": "86e332c4-96f0-402a-a3ac-3cbf0338e27e",
   "metadata": {},
   "source": [
    "# <span style=\"color:red\"><center>Minicurso  de Inteligencia Artificial<center></span>"
   ]
  },
  {
   "cell_type": "markdown",
   "id": "f106c143-2d3c-43d5-aab3-ff006da81f3d",
   "metadata": {},
   "source": [
    "## <span style=\"color:Green\"><center>Introducción a Python<center></span>"
   ]
  },
  {
   "cell_type": "markdown",
   "id": "4f9fd625-a761-4d0f-a511-5f782f3da2a8",
   "metadata": {
    "slideshow": {
     "slide_type": "slide"
    },
    "tags": []
   },
   "source": [
    "##   <span style=\"color:blue\">Profesores</span>"
   ]
  },
  {
   "cell_type": "markdown",
   "id": "caf5bfc0-3a98-493e-b42c-8ebd351e2e2a",
   "metadata": {},
   "source": [
    "1. Alvaro  Montenegro, PhD, ammontenegrod@unal.edu.co\n",
    "2. Daniel  Montenegro, Msc, dextronomo@gmail.com \n",
    "1. Oleg Jarma, Estadístico, ojarmam@unal.edu.co "
   ]
  },
  {
   "cell_type": "markdown",
   "id": "902167ee-1d96-483c-8276-8024155df089",
   "metadata": {},
   "source": [
    "##   <span style=\"color:blue\">Asesora Medios y Marketing digital</span>\n",
    " "
   ]
  },
  {
   "cell_type": "markdown",
   "id": "6d5a05ea-321d-4ea0-9cc8-a8bd6b51a3df",
   "metadata": {},
   "source": [
    "4. Maria del Pilar Montenegro, pmontenegro88@gmail.com "
   ]
  },
  {
   "cell_type": "markdown",
   "id": "76eb366f-6a47-4f98-b0c4-80c0e07657fe",
   "metadata": {
    "slideshow": {
     "slide_type": "slide"
    },
    "tags": []
   },
   "source": [
    "## <span style=\"color:blue\">Contenido</span>"
   ]
  },
  {
   "cell_type": "markdown",
   "id": "24df6d6d-b9f3-4d0c-a3ec-dd85a652744f",
   "metadata": {},
   "source": [
    "* ¿Qué es python?\n",
    "* Colecciones\n",
    "* Numpy\n",
    "* pandas\n",
    "* procesamiento paralelo"
   ]
  },
  {
   "cell_type": "markdown",
   "id": "5bed87e6-fbe3-4079-8e19-11624569fe82",
   "metadata": {
    "colab_type": "text",
    "id": "kzyZQ2syLu9O",
    "slideshow": {
     "slide_type": "slide"
    },
    "tags": []
   },
   "source": [
    "##  <span style=\"color:blue\">¿Qué es Python?</span>"
   ]
  },
  {
   "cell_type": "markdown",
   "id": "b79045ca-2baf-4138-9939-e13260d3b7ab",
   "metadata": {
    "colab_type": "text",
    "id": "kzyZQ2syLu9O"
   },
   "source": [
    "![Logo Python](https://www.python.org/static/community_logos/python-logo-master-v3-TM.png)\n",
    "\n",
    "\n",
    "\n",
    "Python es un lenguaje de programación (¿Qué es un programa?) popular que se usa normalmente para:\n",
    "\n",
    "* Desarrollo web en servidores,\n",
    "* Desarrollo de Software,\n",
    "* Cálculos Matemáticos,\n",
    "* Desarrollo de Scripts."
   ]
  },
  {
   "cell_type": "markdown",
   "id": "846ef43e-7f8a-48c2-8aff-5a6f38a3628d",
   "metadata": {
    "slideshow": {
     "slide_type": "slide"
    },
    "tags": []
   },
   "source": [
    "## <span style=\"color:blue\">¿Qué puede hacer Python?</span>"
   ]
  },
  {
   "cell_type": "markdown",
   "id": "83f28fa0-5a56-4b9a-85a5-651e3bbac5f1",
   "metadata": {
    "colab_type": "text",
    "id": "kzyZQ2syLu9O"
   },
   "source": [
    "* Puede ser usado en un servidor para crear **aplicaciones web**,\n",
    "* Puede conectarse a sistemas de **bases de datos**. Puede leer y modificar archivos.\n",
    "* Puede ser usado para manejar **Big Data** y hacer cálculos matemáticos de alta complejidad.\n",
    "* **Prototipo rápido** para producción de Software."
   ]
  },
  {
   "cell_type": "markdown",
   "id": "cc75d7ad-77fd-4c6e-bc5c-dabcd715d224",
   "metadata": {
    "slideshow": {
     "slide_type": "skip"
    },
    "tags": []
   },
   "source": [
    "[[Volver al inicio]](#Contenido)"
   ]
  },
  {
   "cell_type": "markdown",
   "id": "d93dc793-a025-4baa-9e07-870e97ba7647",
   "metadata": {
    "slideshow": {
     "slide_type": "slide"
    },
    "tags": []
   },
   "source": [
    "## <span style=\"color:blue\">¿Por qué Python?</span>"
   ]
  },
  {
   "cell_type": "markdown",
   "id": "16982157-1189-4618-ae42-2ef66a330088",
   "metadata": {
    "colab_type": "text",
    "id": "kzyZQ2syLu9O"
   },
   "source": [
    "* Funciona en diferentes **plataformas** (Windows, Mac, Linux, etc).\n",
    "* Tiene una **sintaxis** (forma de escribir) simple, similar al idioma inglés.\n",
    "* Tiene una sintáxis que permite escribir programas en **muy pocas líneas**, comparado con otros lenguajes de programación.\n",
    "* Pyhton se ejecuta en un **sistema interpretado**. Es decir, que los códigos se pueden correr **justo después de ser escritos**; en otras palabras, no necesitan compilación previa.\n",
    "* Se puede usar como un lenguaje **clásico**, como un lenguaje **orientado a objetos**, o como un lenguaje **funcional**.\n",
    "* Es el principal lenguaje de la **Ciencia de Datos**."
   ]
  },
  {
   "cell_type": "markdown",
   "id": "9198da2f-f10b-493d-9c2a-ec4fdbc16105",
   "metadata": {
    "slideshow": {
     "slide_type": "skip"
    },
    "tags": []
   },
   "source": [
    "[[Volver al inicio]](#Contenido)"
   ]
  },
  {
   "cell_type": "markdown",
   "id": "da795db5-80f5-46c8-b5a2-7e7d1808d7aa",
   "metadata": {
    "colab_type": "text",
    "id": "scclT03UHVrm",
    "slideshow": {
     "slide_type": "slide"
    },
    "tags": []
   },
   "source": [
    "## <span style=\"color:blue\">Hello World!</span>"
   ]
  },
  {
   "cell_type": "markdown",
   "id": "0adbfdcb-50d0-4764-838c-7a711a725b24",
   "metadata": {
    "colab_type": "text",
    "id": "c3ntgbdgHbS-"
   },
   "source": [
    "El primer ejemplo clásico de programación es saludar, o sea, decirle al computador que muestre un saludo. Para esto, se usa la función de Python llamada **print**. Para colocar un saludo (o un **texto cualquiera**), se debe colocar entre **comillas dobles o sencillas** dentro del comando print. Entonces, para que el computador muestre un saludo, por ejemplo **Hello, World!**, debemos escribir en ambiente de código como sigue\n"
   ]
  },
  {
   "cell_type": "code",
   "execution_count": 1,
   "id": "925bc3a1-b36a-4b62-a23f-08b771f9b129",
   "metadata": {
    "colab": {
     "base_uri": "https://localhost:8080/",
     "height": 34
    },
    "colab_type": "code",
    "executionInfo": {
     "elapsed": 995,
     "status": "ok",
     "timestamp": 1582034062236,
     "user": {
      "displayName": "Daniel Montenegro",
      "photoUrl": "",
      "userId": "07275166318289302366"
     },
     "user_tz": 300
    },
    "id": "8i6cS6oYA-Lv",
    "outputId": "005b250c-fdd8-459e-a1da-fab85c44f12d"
   },
   "outputs": [
    {
     "name": "stdout",
     "output_type": "stream",
     "text": [
      "Hello friend. Hello friend?\n"
     ]
    }
   ],
   "source": [
    "print('Hello friend. Hello friend?')"
   ]
  },
  {
   "cell_type": "markdown",
   "id": "e5abad19-0863-4c02-946a-06e0b795db5f",
   "metadata": {
    "colab_type": "text",
    "id": "IUFSujLR2-Rl",
    "slideshow": {
     "slide_type": "slide"
    },
    "tags": []
   },
   "source": [
    "##   <span style=\"color:blue\">Variables en Python</span>"
   ]
  },
  {
   "cell_type": "markdown",
   "id": "b2c9f539-be87-4450-bf4d-9b5e885f891d",
   "metadata": {
    "colab_type": "text",
    "id": "ivDxEY5J3EXW"
   },
   "source": [
    "Una variable sirve para **guardar un valor específico**, ya sea **numérico**, **texto** u otro **tipo de Dato** con el nombre con la que se nombre dicha variable. Observe el siguiente ejemplo."
   ]
  },
  {
   "cell_type": "code",
   "execution_count": 2,
   "id": "f6a37de5-a983-4a49-8bab-aae21fa94e7a",
   "metadata": {
    "colab": {
     "base_uri": "https://localhost:8080/",
     "height": 51
    },
    "colab_type": "code",
    "executionInfo": {
     "elapsed": 539,
     "status": "ok",
     "timestamp": 1581611283829,
     "user": {
      "displayName": "Daniel Montenegro",
      "photoUrl": "",
      "userId": "07275166318289302366"
     },
     "user_tz": 300
    },
    "id": "XlBRuUAD3ud4",
    "outputId": "e818e251-2a66-4556-d8b9-a81ebf0195af"
   },
   "outputs": [
    {
     "name": "stdout",
     "output_type": "stream",
     "text": [
      "El valor de la variable x es 1\n",
      "\n",
      "El valor de la variable y es ¡Vamos a programar!\n"
     ]
    }
   ],
   "source": [
    "# Asignamos 1 a la variable x\n",
    "\n",
    "x = 1\n",
    "\n",
    "print(\"El valor de la variable x es\", x)\n",
    "\n",
    "# Asignamos \"¡Vamos a programar!\" a la variable y\n",
    "\n",
    "y = \"¡Vamos a programar!\"\n",
    "\n",
    "print(\"\\nEl valor de la variable y es\", y)"
   ]
  },
  {
   "cell_type": "markdown",
   "id": "3001b588-4685-4cd4-8bd2-0f3d0b615924",
   "metadata": {},
   "source": [
    "[[Volver al inicio]](#Contenido)"
   ]
  },
  {
   "cell_type": "markdown",
   "id": "b95c0a36-f821-4617-a880-b105d12ceac1",
   "metadata": {
    "colab_type": "text",
    "id": "IUFSujLR2-Rl",
    "slideshow": {
     "slide_type": "subslide"
    },
    "tags": []
   },
   "source": [
    "##   <span style=\"color:blue\">Asignación dinámica en Python</span>"
   ]
  },
  {
   "cell_type": "markdown",
   "id": "bd953f27-fd2c-44ad-b15e-6f6f77a403b3",
   "metadata": {},
   "source": [
    "En Python, como en R, Julia, Matlab y otros lenguajes no es necesario declarar una variable de antemano, como ocurre en otros lenguajes como C, C++ y muchos otros lenguajes de bajo nivel. \n",
    "La asignación dińamica implica que es posible cambiar el tipo de dato de una variable con tan solo reasignarle un valor. En Python, se delega al programador la responsabilidad de cuidarse de efectos no esperados al cambiar el tipo de una variable. Vea el sigueinte ejemplo."
   ]
  },
  {
   "cell_type": "code",
   "execution_count": 3,
   "id": "a37c25a4-5a75-4474-9d45-66d90a383529",
   "metadata": {},
   "outputs": [
    {
     "name": "stdout",
     "output_type": "stream",
     "text": [
      "x es número un real: 5.6\n",
      "x es ahora un número complejo: (3+4j)\n",
      "En cambio ahora x es un string: 25 de mayo\n"
     ]
    }
   ],
   "source": [
    "x = 5.6\n",
    "print('x es número un real:', x)\n",
    "\n",
    "x = 3+4j\n",
    "print('x es ahora un número complejo:', x)\n",
    "\n",
    "x = '25 de mayo'\n",
    "print('En cambio ahora x es un string:', x)"
   ]
  },
  {
   "cell_type": "markdown",
   "id": "51601a60-d9f4-4657-bfa6-8694acc13c46",
   "metadata": {},
   "source": [
    "[[Volver al inicio]](#Contenido)"
   ]
  },
  {
   "cell_type": "markdown",
   "id": "4bd2f0ff-a2b0-4b98-8453-f1c6ca638328",
   "metadata": {
    "colab_type": "text",
    "id": "IUFSujLR2-Rl",
    "slideshow": {
     "slide_type": "subslide"
    },
    "tags": []
   },
   "source": [
    "##   <span style=\"color:blue\">Reglas para la creación de variables</span>"
   ]
  },
  {
   "cell_type": "markdown",
   "id": "e0a7c39f-5816-47d1-a229-48d8f46663dc",
   "metadata": {
    "colab_type": "text",
    "id": "6YvlIG-G6o2Z"
   },
   "source": [
    "* El nombre de una variable **debe comenzar** con una letra ó con _.\n",
    "* El nombre de una variable **no puede comenzar** con un número.\n",
    "* El nombre de una variable **sólo puede contener** carácteres alfa-numéricos.\n",
    "* El nombre de una variable tiene **sensibilidad** a **mayúsculas** y **minúsculas** (x es diferente de X)."
   ]
  },
  {
   "cell_type": "markdown",
   "id": "4a7246f2-73c6-428e-b87f-23b2a6586e85",
   "metadata": {
    "slideshow": {
     "slide_type": "slide"
    },
    "tags": []
   },
   "source": [
    "##  <span style=\"color:blue\">Tipos de datos básicos en Python</span>"
   ]
  },
  {
   "cell_type": "markdown",
   "id": "97bccbad-6664-45ac-93d8-8d2a5280e02f",
   "metadata": {},
   "source": [
    "###  <span style=\"color:blue\">Enteros (int)</span>"
   ]
  },
  {
   "cell_type": "markdown",
   "id": "da7399ff-4dea-4b4b-b08d-4d95feb6c67d",
   "metadata": {},
   "source": [
    "Vea el siguiente ejemplo"
   ]
  },
  {
   "cell_type": "code",
   "execution_count": 4,
   "id": "514e9d39-92b8-4c53-bdaa-5dcd4854f58b",
   "metadata": {},
   "outputs": [
    {
     "name": "stdout",
     "output_type": "stream",
     "text": [
      "1\n",
      "<class 'int'>\n",
      "1000000000000000000000000000000000000000000000000000000000000000000000000000000000000000000001\n",
      "<class 'int'>\n"
     ]
    }
   ],
   "source": [
    "x = 1\n",
    "print(x)\n",
    "print(type(x))\n",
    "x = 1000000000000000000000000000000000000000000000000000000000000000000000000000000000000000000001\n",
    "print(x)\n",
    "print(type(x))"
   ]
  },
  {
   "cell_type": "markdown",
   "id": "e24d62c8-d8b6-47c9-b42b-e4c903a9a563",
   "metadata": {},
   "source": [
    "Se observan dos cosas interesantes. Primero, el tipo de dato es una clase 'int'. Todo en Pyhon son objetos, incluidos la variables simples. En otro cuaderno estudiaremos las clases y objetos en detalle. \n",
    "\n",
    "Segundo, En pyhton puede tener números enteros tan grandes como desee, a diferencia de otros lenguajes. de otros lenguajes."
   ]
  },
  {
   "cell_type": "markdown",
   "id": "3c09caf2-7310-4995-98d2-62b516d28c4f",
   "metadata": {
    "slideshow": {
     "slide_type": "subslide"
    },
    "tags": []
   },
   "source": [
    "###  <span style=\"color:blue\">Punto Flotante (float)</span>"
   ]
  },
  {
   "cell_type": "markdown",
   "id": "f2a37c99-af26-4ab7-a707-97b1c3e73a1d",
   "metadata": {},
   "source": [
    "Lo número reales son representados usando el estándar IEEE 754 double precision."
   ]
  },
  {
   "cell_type": "code",
   "execution_count": 5,
   "id": "cf698785-62ca-46aa-8176-4ebfe26536da",
   "metadata": {},
   "outputs": [
    {
     "name": "stdout",
     "output_type": "stream",
     "text": [
      "1.56\n",
      "<class 'float'>\n"
     ]
    }
   ],
   "source": [
    "x = 1.56\n",
    "print(x)\n",
    "print(type(x))"
   ]
  },
  {
   "cell_type": "markdown",
   "id": "164954db-f73a-49ce-8ec4-fcadfcd6ba3f",
   "metadata": {},
   "source": [
    "###  <span style=\"color:blue\">Números complejos (complex)</span>"
   ]
  },
  {
   "cell_type": "markdown",
   "id": "c9bfbb34-7517-498d-8c66-06273dd1631e",
   "metadata": {},
   "source": [
    "Se representan en la forma $a + bj$, en donde $a$ es la parte real y $ b$ la parte imaginaria"
   ]
  },
  {
   "cell_type": "code",
   "execution_count": 6,
   "id": "30f65a9c-1b92-4aae-9265-62805ea2edd9",
   "metadata": {},
   "outputs": [
    {
     "name": "stdout",
     "output_type": "stream",
     "text": [
      "(3.4+4j)\n",
      "<class 'complex'>\n"
     ]
    }
   ],
   "source": [
    "z = 3.4 + 4j\n",
    "print(z)\n",
    "print(type(z))"
   ]
  },
  {
   "cell_type": "markdown",
   "id": "09d2e20e-a7ca-4ad2-8f43-11b95102a797",
   "metadata": {
    "slideshow": {
     "slide_type": "subslide"
    },
    "tags": []
   },
   "source": [
    "###  <span style=\"color:blue\">Booleanas (bool)</span>"
   ]
  },
  {
   "cell_type": "markdown",
   "id": "bd141b41-7a80-4a12-8aff-73d1e7e8a8d7",
   "metadata": {},
   "source": [
    "El tipo booleano se utiliza para variables que solamente pueden ser 'True' o 'False', es decir, valores booleanos o lógicos. Por ejemplo:"
   ]
  },
  {
   "cell_type": "code",
   "execution_count": 7,
   "id": "40fc2384-332e-45c1-93b3-3285414dbfc5",
   "metadata": {},
   "outputs": [
    {
     "name": "stdout",
     "output_type": "stream",
     "text": [
      "True\n",
      "<class 'bool'>\n"
     ]
    }
   ],
   "source": [
    "t = True \n",
    "print(t)\n",
    "print(type(t))"
   ]
  },
  {
   "cell_type": "markdown",
   "id": "a66f3537-b939-4c8a-b11c-3eeafe0fc5f4",
   "metadata": {},
   "source": [
    "###  <span style=\"color:blue\">None</span>"
   ]
  },
  {
   "cell_type": "markdown",
   "id": "f0d92830-533e-4ced-ae18-bdf073f4b60c",
   "metadata": {},
   "source": [
    "Este es un tipo especial de dato utilizado para indicar que una determinada variable no contiene ningún dato. Es muy útil en el control de muchas situaciones, porque sirve para saber si algún objeto a llegado a ser None. Mire el siguiente ejemplo."
   ]
  },
  {
   "cell_type": "code",
   "execution_count": 8,
   "id": "c3ae5630-2dd5-4a67-9f46-4ae2d4471c86",
   "metadata": {},
   "outputs": [
    {
     "name": "stdout",
     "output_type": "stream",
     "text": [
      "None\n",
      "<class 'NoneType'>\n"
     ]
    },
    {
     "data": {
      "text/plain": [
       "True"
      ]
     },
     "execution_count": 8,
     "metadata": {},
     "output_type": "execute_result"
    }
   ],
   "source": [
    "b = None\n",
    "print(b)\n",
    "print(type(b))\n",
    "\n",
    "z = 5\n",
    "\n",
    "b is None\n"
   ]
  },
  {
   "cell_type": "markdown",
   "id": "2f4f0122-a63c-46b0-993d-7ecf768e83e1",
   "metadata": {
    "colab_type": "text",
    "id": "i9HdDU49UzWK",
    "slideshow": {
     "slide_type": "slide"
    },
    "tags": []
   },
   "source": [
    "###  <span style=\"color:blue\"> Textos: strings</span>"
   ]
  },
  {
   "cell_type": "markdown",
   "id": "4478e925-b537-46e9-a83f-41aee0966f3f",
   "metadata": {
    "colab_type": "text",
    "id": "Nhv2kU50RGVu"
   },
   "source": [
    "\n",
    "Los string son expresiones que representan una cadena de caracteres, útiles para escribir mensajes y combinarlos con valores que generemos en nuestros procesamientos. Para escribir un texto en Python usamos comillas simples: `'...'` o comillas dobles: `\"...\"`. Combinamos comillas para poner comillas adentro:"
   ]
  },
  {
   "cell_type": "markdown",
   "id": "b9d5367d-33d5-4954-a004-e2eed79e8e1a",
   "metadata": {
    "colab_type": "text",
    "id": "Z-RNqrFEUzWa"
   },
   "source": [
    "Como vimos, la función print es la que nos permite imprimir estos mensajes. El texto \\n indica una nueva linea en el texto:"
   ]
  },
  {
   "cell_type": "code",
   "execution_count": 9,
   "id": "a60cb110-e945-474a-bcd8-593306ea77b2",
   "metadata": {
    "colab": {},
    "colab_type": "code",
    "id": "bkQZpWAbUzWa"
   },
   "outputs": [
    {
     "name": "stdout",
     "output_type": "stream",
     "text": [
      "Una línea\n",
      "Otra línea\n"
     ]
    }
   ],
   "source": [
    "print(\"Una línea\\nOtra línea\")"
   ]
  },
  {
   "cell_type": "markdown",
   "id": "f9b20351-4c94-4e5f-88cd-8cb8db741e3e",
   "metadata": {
    "colab_type": "text",
    "id": "DvFxzQq4UzWi",
    "slideshow": {
     "slide_type": "subslide"
    },
    "tags": []
   },
   "source": [
    "Podemos recorrer los valores de la cadena de texto de la siguiente forma:"
   ]
  },
  {
   "cell_type": "code",
   "execution_count": 10,
   "id": "89055319-03b7-425e-9c1d-064f734b9d57",
   "metadata": {
    "colab": {},
    "colab_type": "code",
    "id": "VfvvR1MaUzWj"
   },
   "outputs": [
    {
     "data": {
      "text/plain": [
       "'cuidado_con_el_orden'"
      ]
     },
     "execution_count": 10,
     "metadata": {},
     "output_type": "execute_result"
    }
   ],
   "source": [
    "texto=\"cuidado_con_el_orden\"\n",
    "texto"
   ]
  },
  {
   "cell_type": "markdown",
   "id": "d8057621-2c10-480b-a237-1e289645cb83",
   "metadata": {
    "colab_type": "text",
    "id": "LGbUClMKKCLW"
   },
   "source": [
    "Extrayendo el elemento cero del texto (**primer caracter**):"
   ]
  },
  {
   "cell_type": "code",
   "execution_count": 11,
   "id": "cdf7b321-033c-473b-8dc0-5966a7d69cd0",
   "metadata": {
    "colab": {
     "base_uri": "https://localhost:8080/",
     "height": 35
    },
    "colab_type": "code",
    "executionInfo": {
     "elapsed": 404,
     "status": "ok",
     "timestamp": 1581638433451,
     "user": {
      "displayName": "Daniel Montenegro",
      "photoUrl": "",
      "userId": "07275166318289302366"
     },
     "user_tz": 300
    },
    "id": "bENx-JazUzWm",
    "outputId": "bd761e20-92ec-44a8-8be4-558ec853e3d9"
   },
   "outputs": [
    {
     "name": "stdout",
     "output_type": "stream",
     "text": [
      "c\n"
     ]
    }
   ],
   "source": [
    "print(texto[0])"
   ]
  },
  {
   "cell_type": "markdown",
   "id": "50cdd4b3-c8fe-4d79-bafe-234103f92621",
   "metadata": {
    "colab_type": "text",
    "id": "j0L1L6d5Khbk"
   },
   "source": [
    "Extrayendo el elemento uno del texto (**segundo caracter**):"
   ]
  },
  {
   "cell_type": "code",
   "execution_count": 12,
   "id": "0e8d02db-5e71-4b5a-ada8-837ee7dc25d3",
   "metadata": {
    "colab": {
     "base_uri": "https://localhost:8080/",
     "height": 35
    },
    "colab_type": "code",
    "executionInfo": {
     "elapsed": 425,
     "status": "ok",
     "timestamp": 1581638241568,
     "user": {
      "displayName": "Daniel Montenegro",
      "photoUrl": "",
      "userId": "07275166318289302366"
     },
     "user_tz": 300
    },
    "id": "fWH_t7h8UzWp",
    "outputId": "6f9b3203-36e2-457b-ef02-426e650a6311"
   },
   "outputs": [
    {
     "data": {
      "text/plain": [
       "'u'"
      ]
     },
     "execution_count": 12,
     "metadata": {},
     "output_type": "execute_result"
    }
   ],
   "source": [
    "texto[1]"
   ]
  },
  {
   "cell_type": "markdown",
   "id": "95a02d96-d3cb-43c0-bf1d-0b0c0908dbc8",
   "metadata": {
    "colab_type": "text",
    "id": "SrY2k2XSKyfD",
    "slideshow": {
     "slide_type": "subslide"
    },
    "tags": []
   },
   "source": [
    "Extrayendo el elemento cinco hasta el elemento 9 del texto (**sin incluir el 9**):"
   ]
  },
  {
   "cell_type": "code",
   "execution_count": 13,
   "id": "434656a4-8293-45ea-8f6a-6e39c015c2c8",
   "metadata": {
    "colab": {
     "base_uri": "https://localhost:8080/",
     "height": 35
    },
    "colab_type": "code",
    "executionInfo": {
     "elapsed": 403,
     "status": "ok",
     "timestamp": 1581638663585,
     "user": {
      "displayName": "Daniel Montenegro",
      "photoUrl": "",
      "userId": "07275166318289302366"
     },
     "user_tz": 300
    },
    "id": "R9Py_A_IUzWw",
    "outputId": "d787e85d-d0cf-4991-acd6-6a3e23bfd809"
   },
   "outputs": [
    {
     "data": {
      "text/plain": [
       "'do_c'"
      ]
     },
     "execution_count": 13,
     "metadata": {},
     "output_type": "execute_result"
    }
   ],
   "source": [
    "texto[5:9]"
   ]
  },
  {
   "cell_type": "markdown",
   "id": "461842ab-9ec3-4c7f-82ed-9034a0d52c36",
   "metadata": {
    "colab_type": "text",
    "id": "VQMd1XUpLAAv"
   },
   "source": [
    "**También se pueden usar índices negativos** (Python exclusive):"
   ]
  },
  {
   "cell_type": "code",
   "execution_count": 14,
   "id": "7e6f2ab9-2e7b-44ab-8b9d-738253abab82",
   "metadata": {
    "colab": {
     "base_uri": "https://localhost:8080/",
     "height": 35
    },
    "colab_type": "code",
    "executionInfo": {
     "elapsed": 458,
     "status": "ok",
     "timestamp": 1581638781357,
     "user": {
      "displayName": "Daniel Montenegro",
      "photoUrl": "",
      "userId": "07275166318289302366"
     },
     "user_tz": 300
    },
    "id": "AIcmHaNdUzWq",
    "outputId": "b5437600-70ed-4636-d7a9-af93e9bc798d"
   },
   "outputs": [
    {
     "data": {
      "text/plain": [
       "'dado_con_el_orde'"
      ]
     },
     "execution_count": 14,
     "metadata": {},
     "output_type": "execute_result"
    }
   ],
   "source": [
    "texto[3:-1]"
   ]
  },
  {
   "cell_type": "code",
   "execution_count": 15,
   "id": "5cdef046-8401-4732-9258-662c3824133b",
   "metadata": {},
   "outputs": [
    {
     "data": {
      "text/plain": [
       "'n'"
      ]
     },
     "execution_count": 15,
     "metadata": {},
     "output_type": "execute_result"
    }
   ],
   "source": [
    "texto[-1]"
   ]
  },
  {
   "cell_type": "markdown",
   "id": "9c094875-0e56-4969-a4f3-7e98f2bb1fa5",
   "metadata": {
    "colab_type": "text",
    "id": "4y3X0kbfHXzW",
    "slideshow": {
     "slide_type": "slide"
    },
    "tags": []
   },
   "source": [
    "## <span style=\"color:blue\">Suma de variables y concatenación de variables</span>"
   ]
  },
  {
   "cell_type": "markdown",
   "id": "6dfcaafa-eabe-4c4f-a7c5-f0e99a1c2fc3",
   "metadata": {
    "colab_type": "text",
    "id": "4y3X0kbfHXzW"
   },
   "source": [
    "Python es tan sencillo e intuitivo, que es posible sumar diferentes variables y sumarlas con el símbolo **+**. Cuando las variables son numéricas, se **suman matemáticamente** y cuando es texto se **concatenan**."
   ]
  },
  {
   "cell_type": "code",
   "execution_count": 16,
   "id": "111e8b80-6e0d-42fb-b3c5-828153060f60",
   "metadata": {
    "colab": {
     "base_uri": "https://localhost:8080/",
     "height": 71
    },
    "colab_type": "code",
    "executionInfo": {
     "elapsed": 400,
     "status": "ok",
     "timestamp": 1581637247515,
     "user": {
      "displayName": "Daniel Montenegro",
      "photoUrl": "",
      "userId": "07275166318289302366"
     },
     "user_tz": 300
    },
    "id": "nMPQKB2jHxuk",
    "outputId": "b7d32507-cb5c-4cce-afd6-6504b205a9c6"
   },
   "outputs": [
    {
     "name": "stdout",
     "output_type": "stream",
     "text": [
      "Python is awesome\n",
      "6\n",
      "Python is the number 1\n"
     ]
    }
   ],
   "source": [
    "# Sumar dos textos\n",
    "\n",
    "x = \"Python is \"; \n",
    "y = \"awesome\";\n",
    "z =  x + str(y);\n",
    "print(z);\n",
    "\n",
    "# Sumar dos números\n",
    "\n",
    "n1 = 1;\n",
    "n2 = 5;\n",
    "suma = n1 + n2;\n",
    "print(suma);\n",
    "\n",
    "# Escribir texto y números\n",
    "print(x+\"the number\",n1);"
   ]
  },
  {
   "cell_type": "markdown",
   "id": "7fbbb781-6f97-4bb5-833e-fd546173682b",
   "metadata": {
    "colab_type": "text",
    "id": "Tjq46qsVQ1F9",
    "slideshow": {
     "slide_type": "slide"
    },
    "tags": []
   },
   "source": [
    "## <span style=\"color:blue\">Operadores Aritméticos y redondeo</span>"
   ]
  },
  {
   "cell_type": "markdown",
   "id": "63597b97-0d0a-4b39-9656-51a04b99dd73",
   "metadata": {
    "colab_type": "text",
    "id": "GPiu4RLJUzVj"
   },
   "source": [
    "La fortuna de que Python reconozca variables numéricas nos permite usarla como una calculadora simple, podemos ejecutar operaciones muy sencillas teniendo en cuenta la siguiente tabla:\n",
    "\n",
    "| **Operador** | **Descripción** |\n",
    "| :---: | :---: |\n",
    "|`+`|Suma|\n",
    "|`-`|Resta|\n",
    "|`*`|Multiplicación|\n",
    "|`/`|División|\n",
    "|`**`|Potencia|\n"
   ]
  },
  {
   "cell_type": "markdown",
   "id": "86652ae5-44ce-4a0e-afe8-65cddee2216d",
   "metadata": {
    "colab_type": "text",
    "id": "mWcTFd6gUzVk"
   },
   "source": [
    "### Ejemplo "
   ]
  },
  {
   "cell_type": "markdown",
   "id": "f8eb2b14-a508-452b-925d-b9097b57c0d6",
   "metadata": {
    "colab_type": "text",
    "id": "mWcTFd6gUzVk"
   },
   "source": [
    " Si queremos operar:\n",
    " \n",
    " $$ 5\\times(3-5)^2-\\cfrac{6}{(9)^{1/2}}$$\n",
    " \n",
    " tenemos que escribir:"
   ]
  },
  {
   "cell_type": "code",
   "execution_count": 17,
   "id": "9e723523-6217-49bb-a135-1f96b2b7b5f7",
   "metadata": {
    "colab": {},
    "colab_type": "code",
    "id": "V285pz1XUzVl"
   },
   "outputs": [
    {
     "data": {
      "text/plain": [
       "18.0"
      ]
     },
     "execution_count": 17,
     "metadata": {},
     "output_type": "execute_result"
    }
   ],
   "source": [
    "5*(3-5)**2-(6)/(9**(1/2))"
   ]
  },
  {
   "cell_type": "markdown",
   "id": "539d71dd-99e2-4913-bbca-9c51391fe907",
   "metadata": {
    "colab_type": "text",
    "id": "TIkHNbN5UzV4",
    "slideshow": {
     "slide_type": "subslide"
    },
    "tags": []
   },
   "source": [
    "### <span style=\"color:blue\"> Divsión y residuo entre enteros</span>"
   ]
  },
  {
   "cell_type": "markdown",
   "id": "5c5deb94-2f26-488c-9cdf-8b618f1488dd",
   "metadata": {
    "colab_type": "text",
    "id": "TIkHNbN5UzV4"
   },
   "source": [
    "La división es una operación bien especial pues la mayoría de ocasiones produce un número con parte fraccionaria. Sin embargo, cuando estábamos pequeños nos enseñaron a dividir enteros dando como respuesta un entero llamado cociente y lo que hacia falta para completar la división, un número llamado residuo. En Python podemos calcular esos valores con `\\\\` para el cociente y `%`para el residuo. Por ejemplo, sabemos que:\n",
    "\n",
    "$$ 20 \\div 3 = 6 \\ \\ \\ \\text{ con residuo } 2$$\n",
    "tenemos:"
   ]
  },
  {
   "cell_type": "code",
   "execution_count": 18,
   "id": "7e5bc60f-203b-4349-89e9-25398574a9a5",
   "metadata": {
    "colab": {},
    "colab_type": "code",
    "id": "VYj4u-axUzV5"
   },
   "outputs": [
    {
     "data": {
      "text/plain": [
       "6"
      ]
     },
     "execution_count": 18,
     "metadata": {},
     "output_type": "execute_result"
    }
   ],
   "source": [
    "20//3"
   ]
  },
  {
   "cell_type": "code",
   "execution_count": 19,
   "id": "6b48bfe1-e90b-47dd-8442-fbc96b061428",
   "metadata": {
    "colab": {},
    "colab_type": "code",
    "id": "Rg9EebXCUzV7"
   },
   "outputs": [
    {
     "data": {
      "text/plain": [
       "2"
      ]
     },
     "execution_count": 19,
     "metadata": {},
     "output_type": "execute_result"
    }
   ],
   "source": [
    "20%3"
   ]
  },
  {
   "cell_type": "markdown",
   "id": "d4c161db-dfa4-4e5c-b03d-15a54a9e2607",
   "metadata": {
    "colab_type": "text",
    "id": "2TGfXoLdUzWB",
    "slideshow": {
     "slide_type": "subslide"
    },
    "tags": []
   },
   "source": [
    "Finalmente, una función elemental y útil para el tratamiento de números decimales es `round`. Lo usamos para redondear los valores a uno con el decimal que escojamos. Tenemos:"
   ]
  },
  {
   "cell_type": "code",
   "execution_count": 20,
   "id": "6bb74cd0-0317-40bd-beec-66fa173534f6",
   "metadata": {
    "colab": {
     "base_uri": "https://localhost:8080/",
     "height": 35
    },
    "colab_type": "code",
    "executionInfo": {
     "elapsed": 434,
     "status": "ok",
     "timestamp": 1581637489662,
     "user": {
      "displayName": "Daniel Montenegro",
      "photoUrl": "",
      "userId": "07275166318289302366"
     },
     "user_tz": 300
    },
    "id": "F1JNJ-WPUzWC",
    "outputId": "071c09f0-9a01-4b30-998c-fdd6ddd0e663"
   },
   "outputs": [
    {
     "data": {
      "text/plain": [
       "15.666666666666666"
      ]
     },
     "execution_count": 20,
     "metadata": {},
     "output_type": "execute_result"
    }
   ],
   "source": [
    "n1=47/3\n",
    "n1"
   ]
  },
  {
   "cell_type": "code",
   "execution_count": 21,
   "id": "3448a6a2-baca-4f73-9dac-2f0430265abe",
   "metadata": {
    "colab": {
     "base_uri": "https://localhost:8080/",
     "height": 35
    },
    "colab_type": "code",
    "executionInfo": {
     "elapsed": 436,
     "status": "ok",
     "timestamp": 1581637500508,
     "user": {
      "displayName": "Daniel Montenegro",
      "photoUrl": "",
      "userId": "07275166318289302366"
     },
     "user_tz": 300
    },
    "id": "MRXeLGffUzWE",
    "outputId": "b7750137-0136-4a9f-a65a-9256d3b6fb7a"
   },
   "outputs": [
    {
     "data": {
      "text/plain": [
       "16"
      ]
     },
     "execution_count": 21,
     "metadata": {},
     "output_type": "execute_result"
    }
   ],
   "source": [
    "n2=round(n1)\n",
    "n2"
   ]
  },
  {
   "cell_type": "code",
   "execution_count": 22,
   "id": "572d347f-ef6c-4432-af8c-e975e125ca3e",
   "metadata": {
    "colab": {
     "base_uri": "https://localhost:8080/",
     "height": 35
    },
    "colab_type": "code",
    "executionInfo": {
     "elapsed": 405,
     "status": "ok",
     "timestamp": 1581637541870,
     "user": {
      "displayName": "Daniel Montenegro",
      "photoUrl": "",
      "userId": "07275166318289302366"
     },
     "user_tz": 300
    },
    "id": "buhEFfx7UzWH",
    "outputId": "63c22886-f346-49b4-8e42-ac83f8e363a7"
   },
   "outputs": [
    {
     "data": {
      "text/plain": [
       "15.667"
      ]
     },
     "execution_count": 22,
     "metadata": {},
     "output_type": "execute_result"
    }
   ],
   "source": [
    "n3=round(n1,3)\n",
    "n3"
   ]
  },
  {
   "cell_type": "markdown",
   "id": "22bd309b-aae5-4369-8b6b-78f75b4e82c8",
   "metadata": {
    "colab_type": "text",
    "id": "qAqnr4i70sLy",
    "slideshow": {
     "slide_type": "slide"
    },
    "tags": []
   },
   "source": [
    "## <span style=\"color:blue\">Estructuras de control</span>"
   ]
  },
  {
   "cell_type": "markdown",
   "id": "289fddf9-3c12-4fc6-9fa7-08c865dd57f0",
   "metadata": {
    "colab_type": "text",
    "id": "qAqnr4i70sLy"
   },
   "source": [
    "En cualquier lenguaje de programación existen tres estructuras de control básicas que corresponden a \n",
    "\n",
    "- Secuencia\n",
    "- Selección (o decisión)\n",
    "- Iteración (repetición)"
   ]
  },
  {
   "cell_type": "markdown",
   "id": "867dce2c-f7dc-4bf5-8e20-813db9249333",
   "metadata": {
    "colab_type": "text",
    "id": "qAqnr4i70sLy",
    "slideshow": {
     "slide_type": "subslide"
    },
    "tags": []
   },
   "source": [
    "### Secuencia"
   ]
  },
  {
   "cell_type": "markdown",
   "id": "6a2d0c74-44d1-42c5-908b-018c3ea7c111",
   "metadata": {
    "colab_type": "text",
    "id": "qAqnr4i70sLy"
   },
   "source": [
    "La ejecución de cualquier programa (algoritmo codificado en algún lenguaje de programación) se realiza en orden de aparición de las sentencias. Una **sentencia** puede ser **simple** (solamente una instrucción) o **compuesta** (varias instrucciones)."
   ]
  },
  {
   "cell_type": "markdown",
   "id": "86cb0f10-8085-4887-bf6f-2b770e350960",
   "metadata": {
    "colab_type": "text",
    "id": "qAqnr4i70sLy"
   },
   "source": [
    "#### Ejemplo"
   ]
  },
  {
   "cell_type": "markdown",
   "id": "663f7a15-7f8e-41aa-bdac-ae9b13a6b711",
   "metadata": {
    "colab_type": "text",
    "id": "qAqnr4i70sLy"
   },
   "source": [
    "Observe el siguiente código Python"
   ]
  },
  {
   "cell_type": "code",
   "execution_count": 23,
   "id": "aa096524-afac-4474-ba4c-cb66666f88b2",
   "metadata": {},
   "outputs": [
    {
     "name": "stdout",
     "output_type": "stream",
     "text": [
      "1 2\n"
     ]
    }
   ],
   "source": [
    "x = 1; \n",
    "y = 2;\n",
    "\n",
    "print(x,y)"
   ]
  },
  {
   "cell_type": "markdown",
   "id": "faf08d95-c37d-4d14-a7fc-2e221fdeb913",
   "metadata": {},
   "source": [
    "En el ejemplo hay tres sentencias. Dos sentencias de asignación de valores y una sentencia de impresión. Se ejecuta una después de la otra."
   ]
  },
  {
   "cell_type": "markdown",
   "id": "ff4e0098-0011-494f-b709-77ace003b131",
   "metadata": {
    "slideshow": {
     "slide_type": "subslide"
    },
    "tags": []
   },
   "source": [
    "### Selección (if)"
   ]
  },
  {
   "cell_type": "markdown",
   "id": "1771ef54-939e-4d9a-8bc7-57365461b395",
   "metadata": {},
   "source": [
    "Esta estructura de control está diseñada para que un programa pueda seguir diferentes caminos de ejecución, dependiendo de la evaluación de una expresión lógica. Observe el siguiente ejemplo."
   ]
  },
  {
   "cell_type": "code",
   "execution_count": 24,
   "id": "d6bd284c-59a7-4cb5-8d6a-ba3368f8648e",
   "metadata": {},
   "outputs": [
    {
     "name": "stdout",
     "output_type": "stream",
     "text": [
      "Cinco es mayor que Tres\n",
      "lunes\n"
     ]
    }
   ],
   "source": [
    "# ejemplo if\n",
    "x = 5\n",
    "y = 3\n",
    "\n",
    "if x>y:\n",
    "    print(\"Cinco es mayor que Tres\")\n",
    "    print(\"lunes\")"
   ]
  },
  {
   "cell_type": "markdown",
   "id": "e90085b2-ff99-43ce-9943-38599eb14fe7",
   "metadata": {},
   "source": [
    "La estructura empieza con la palabra clave **if**. Luego aparece una condición lógica que es evaluada (x>y). Si la condición es verdadera, como en este caso, se ejecutan las instrucciones escritas dentro de la estructura."
   ]
  },
  {
   "cell_type": "markdown",
   "id": "63088419-8cf4-4b76-9b60-7863cc6278c8",
   "metadata": {
    "colab_type": "text",
    "id": "qAqnr4i70sLy",
    "slideshow": {
     "slide_type": "subslide"
    },
    "tags": []
   },
   "source": [
    "### <span style=\"color:blue\">Operadores de comparación</span>"
   ]
  },
  {
   "cell_type": "markdown",
   "id": "ddee6cc4-de0d-4491-bbe2-edf4cf31b8c2",
   "metadata": {},
   "source": [
    "| **Operador** | **Descripción** |**Ejemplo**|\n",
    "| :---: | :---: |:---: |\n",
    "|`==`|Prueba si dos valores son iguales| 3==3|\n",
    "|`!=`|Prueba si dos valores no son iguales entren si| 2!=3|\n",
    "|`<`|Prueba si el valor de la izquierza es menor que el de la derecha|4<3|\n",
    "|`>`|Prueba si el valor de la izquierza es mayor que el de la derecha|4<3|\n",
    "|`<=`|Prueba si el valor de la izquierza es menor o igual que el de la derecha|4<=3|\n",
    "|`>=`|Prueba si el valor de la izquierza es mayor igual que el de la derecha|4<=3|"
   ]
  },
  {
   "cell_type": "markdown",
   "id": "c45d01a3-adda-4669-9658-7c7d9200f6b8",
   "metadata": {
    "colab_type": "text",
    "id": "qAqnr4i70sLy"
   },
   "source": [
    "### <span style=\"color:blue\">Operadores Lógicos</span>"
   ]
  },
  {
   "cell_type": "markdown",
   "id": "959c4ad1-8e4c-44ea-85a7-ddea5bafe84c",
   "metadata": {},
   "source": [
    "| **Operador** | **Descripción** |**Ejemplo**|\n",
    "| :---: | :---: |:---: |\n",
    "|`and`|Regresa verdadero si el valor de las izquierda y el de la derecha son verdaderos| (3<4) and (5>1)|\n",
    "|`or`|Regresa verdadero si uno de los dos valores a(izquierda o derecha es verdadero, o ambos| (3<4) or (5<1)|\n",
    "|`not`|Regresa verdadero si el valor que se esta evaluado es falso|not 3>2|"
   ]
  },
  {
   "cell_type": "markdown",
   "id": "e057fe18-cd34-493e-92c0-f9aa726f1cdc",
   "metadata": {
    "slideshow": {
     "slide_type": "slide"
    },
    "tags": []
   },
   "source": [
    "## <span style=\"color:blue\">Estructura de repetición [ciclos]</span>"
   ]
  },
  {
   "cell_type": "markdown",
   "id": "a089dd74-f094-45f4-b837-c9d43cb67b61",
   "metadata": {},
   "source": [
    "Este tercer tipo de estructura de control se usa para los casos en los cuales es necesario correr un proceso varas veces en forma continua."
   ]
  },
  {
   "cell_type": "markdown",
   "id": "faeebef2-86fe-44e1-9f54-0d292bf237ea",
   "metadata": {},
   "source": [
    "### Ciclo while"
   ]
  },
  {
   "cell_type": "markdown",
   "id": "6d0342ee-d154-42aa-b35f-b71be31c761b",
   "metadata": {},
   "source": [
    "Al comienzo del ciclo se evalúa una condición. Si la condición es verdadera se ejecuta de nuevo el ciclo. En otro caso, termina. Corra y analice el siguiente fragmento (snippet) de código"
   ]
  },
  {
   "cell_type": "code",
   "execution_count": 25,
   "id": "6c784f8b-83fc-4b6f-b521-7b4613ed83b1",
   "metadata": {},
   "outputs": [
    {
     "name": "stdout",
     "output_type": "stream",
     "text": [
      "Starting\n",
      "0  1  2  3  4  5  6  7  8  9  \n",
      "Done\n"
     ]
    }
   ],
   "source": [
    "contador = 0\n",
    "\n",
    "print('Starting')\n",
    "while contador < 10:\n",
    "    #Instrucciones útiles\n",
    "    print(contador,' ', end='')\n",
    "    contador = contador + 1\n",
    "    \n",
    "print()\n",
    "print('Done')"
   ]
  },
  {
   "cell_type": "markdown",
   "id": "e4fba1a1-6d16-4547-98f2-90c9964158e7",
   "metadata": {
    "slideshow": {
     "slide_type": "subslide"
    },
    "tags": []
   },
   "source": [
    "### Ciclo for"
   ]
  },
  {
   "cell_type": "markdown",
   "id": "bb1ce16d-ec20-458b-970e-a57c55e97af7",
   "metadata": {},
   "source": [
    "En este caso se usa una variable de salto que va recorriendo un conjunto de valores hasta terminar. Revise el siguiente snippet."
   ]
  },
  {
   "cell_type": "code",
   "execution_count": 26,
   "id": "b8aeb18c-c48b-4eee-9d72-4ba22dfa25b5",
   "metadata": {},
   "outputs": [
    {
     "name": "stdout",
     "output_type": "stream",
     "text": [
      "\n",
      "Start:\n",
      "0  1  2  3  4  5  6  7  8  9  10  11  12  13  14  15  16  17  18  19  \n",
      "Done.\n"
     ]
    }
   ],
   "source": [
    "print('\\nStart:')\n",
    "for i in range(20):\n",
    "    # Instrucciones útiles\n",
    "    print(i, ' ', end='')\n",
    "\n",
    "print('\\nDone.')"
   ]
  },
  {
   "cell_type": "markdown",
   "id": "8a7c371c-bc46-428d-ab0d-82d09821e3e6",
   "metadata": {
    "slideshow": {
     "slide_type": "subslide"
    },
    "tags": []
   },
   "source": [
    "### Break"
   ]
  },
  {
   "cell_type": "markdown",
   "id": "88f47560-f728-44e3-b1d5-1ce86adaf22c",
   "metadata": {},
   "source": [
    "Se usa para terminar la ejecución de un ciclo while o for. Corra el siguiente ejemplo dadno difentes valores."
   ]
  },
  {
   "cell_type": "code",
   "execution_count": 27,
   "id": "b5761f59-ee47-4bb0-a79a-ae52c7c8584a",
   "metadata": {},
   "outputs": [
    {
     "name": "stdout",
     "output_type": "stream",
     "text": [
      "0\n",
      "1\n",
      "2\n",
      "3\n",
      "4\n",
      "5\n"
     ]
    }
   ],
   "source": [
    "for  i in range(10):\n",
    "    print(i)\n",
    "    if i==5:\n",
    "        break"
   ]
  },
  {
   "cell_type": "markdown",
   "id": "f872c891-e56b-455a-a3ae-db0d177eb975",
   "metadata": {
    "slideshow": {
     "slide_type": "slide"
    },
    "tags": []
   },
   "source": [
    "## <span style=\"color:blue\">Estructuras de control anidadas</span>"
   ]
  },
  {
   "cell_type": "markdown",
   "id": "32110e7e-a273-4e56-8d55-248911086173",
   "metadata": {},
   "source": [
    "Es posible incluir (o anidar) estructuras de control dentro de otras estructuras de control.\n",
    "\n",
    "Esto es de gran utilidad para realizar programas de mayor complejidad.\n",
    "\n",
    "**Ejemplo:**"
   ]
  },
  {
   "cell_type": "code",
   "execution_count": 28,
   "id": "35d916bd-83af-4cdb-b3a9-a89dc0f1d15c",
   "metadata": {
    "colab": {},
    "colab_type": "code",
    "id": "Q6UM2ujoztla"
   },
   "outputs": [
    {
     "name": "stdout",
     "output_type": "stream",
     "text": [
      "5 3\n"
     ]
    }
   ],
   "source": [
    "x = 5\n",
    "y = 3\n",
    "print(x,y)"
   ]
  },
  {
   "cell_type": "code",
   "execution_count": 29,
   "id": "a676c6ef-6001-40a5-ac0a-77ba09582dfc",
   "metadata": {
    "colab": {},
    "colab_type": "code",
    "id": "Q6UM2ujoztla"
   },
   "outputs": [
    {
     "name": "stdout",
     "output_type": "stream",
     "text": [
      "Cinco es mayor que tres\n",
      "0\n",
      "1\n",
      "2\n",
      "3\n",
      "4\n",
      "9.9 2\n"
     ]
    }
   ],
   "source": [
    "if x>y:\n",
    "    print(\"Cinco es mayor que tres\")\n",
    "    for i in range(5):\n",
    "        print(i)\n",
    "    x = 9.9\n",
    "\n",
    "y = 2\n",
    "print(x, y)"
   ]
  },
  {
   "cell_type": "markdown",
   "id": "670fad5d-7c61-415a-bff3-8de0d1aad173",
   "metadata": {
    "slideshow": {
     "slide_type": "subslide"
    },
    "tags": []
   },
   "source": [
    "### Ciclos anidados"
   ]
  },
  {
   "cell_type": "code",
   "execution_count": 30,
   "id": "3eb1f234-1dce-4e5f-9929-18f181aa0542",
   "metadata": {},
   "outputs": [
    {
     "name": "stdout",
     "output_type": "stream",
     "text": [
      "\n",
      "*\n",
      "**\n",
      "***\n",
      "****\n",
      "*****\n",
      "******\n",
      "*******\n",
      "********\n",
      "*********\n",
      "**********\n"
     ]
    }
   ],
   "source": [
    "for i in range(0,11):             #line 1\n",
    "    for j in range(i):            #line 2\n",
    "        print('*', end='')        #line 3\n",
    "    print('')                     #line 4c"
   ]
  },
  {
   "cell_type": "markdown",
   "id": "ce736d82-7c88-4db4-9be7-b77855492b51",
   "metadata": {
    "slideshow": {
     "slide_type": "slide"
    },
    "tags": []
   },
   "source": [
    "## <span style=\"color:blue\">Funciones en Python</span> "
   ]
  },
  {
   "cell_type": "markdown",
   "id": "2b0f8d04-2171-4e93-bdd4-d6f379908a27",
   "metadata": {},
   "source": [
    "Para entender funciones en Python (Paquetes dentro de módulos de Python), debemos pensar en actos reales para poder hacer una **analogía** en el ambiente de programación.\n",
    "\n",
    "Imagínese cuando se levanta.\n",
    "\n",
    "Lo que ocurre primero, es que uno se siente vivo, se abren los ojos (no siempre), se hace pereza un rato, se levanta de la cama y luego se inicia el día (cada persona tiene sus maneras diferentes de lograrlo).\n",
    "\n",
    "Esta serie de **pasos consecutivos** conforman lo que se llama una **función**.\n",
    "\n",
    "En el común, una **función es en realidad una acción** o una serie de acciones que generan un resultado a través de un proceso intermedio.\n",
    "\n",
    "Para poder distinguir funciones, unas de otras, se le dan dotado de nombres diferentes.\n",
    "\n",
    "Por ejemplo, la función antes descrita podría nombrarse como **Levantarse**:\n",
    "\n",
    "Está función se compone de los siguientes pasos:\n",
    "\n",
    "1. **Sentirse vivo.**\n",
    "2. **Abrir los ojos.**\n",
    "3. **Hacer pereza.**\n",
    "4. **Levantarse.**"
   ]
  },
  {
   "cell_type": "markdown",
   "id": "9378082c-73d0-4a3c-8fb4-d683a6fb1b7f",
   "metadata": {
    "slideshow": {
     "slide_type": "subslide"
    },
    "tags": []
   },
   "source": [
    "En el lenguaje de programación, ésto se podría escribir como\n",
    "\n",
    "```Levantarse(x)```\n",
    "\n",
    "donde $x$ representa el individuo que hace la acción y los paréntesis significan que se habla de una función, y por lo tanto, **no se confunde** con una variable."
   ]
  },
  {
   "cell_type": "markdown",
   "id": "568a2403-f4bb-4f34-90b2-68f2a2c03ecd",
   "metadata": {
    "slideshow": {
     "slide_type": "subslide"
    },
    "tags": []
   },
   "source": [
    "### Creación de Funciones"
   ]
  },
  {
   "cell_type": "markdown",
   "id": "57d03ed5-9424-426e-9dcf-7512dd7bc9e2",
   "metadata": {},
   "source": [
    "Es posible crear funciones para generar rutinas específicas.\n",
    "\n",
    "Hay dos maneras de generar funciones en Python:\n",
    "\n",
    "1. **def**\n",
    "2. **lambda**\n",
    "\n",
    "**Ejemplo:**"
   ]
  },
  {
   "cell_type": "code",
   "execution_count": 31,
   "id": "6e9aefe0-afa5-49f5-be45-6a49f619e302",
   "metadata": {},
   "outputs": [],
   "source": [
    "# Explicar las siguientes líneas de código\n",
    "def mysum_prod(x,y):\n",
    "    s=x+y\n",
    "    p=x*y\n",
    "    return s,p"
   ]
  },
  {
   "cell_type": "code",
   "execution_count": 32,
   "id": "8b5f8831-547f-4f6a-b71b-7741775a3467",
   "metadata": {
    "slideshow": {
     "slide_type": "subslide"
    },
    "tags": []
   },
   "outputs": [
    {
     "name": "stdout",
     "output_type": "stream",
     "text": [
      "El suma es: 7\n",
      "El producto es: 12\n"
     ]
    }
   ],
   "source": [
    "suma, prod = mysum_prod(3,4)\n",
    "print(\"El suma es:\", suma)\n",
    "print(\"El producto es:\", prod)"
   ]
  },
  {
   "cell_type": "code",
   "execution_count": 33,
   "id": "41f73513-d6c1-41bf-b8f3-0d6c82b4b487",
   "metadata": {},
   "outputs": [
    {
     "name": "stdout",
     "output_type": "stream",
     "text": [
      "la suma es: 71\n"
     ]
    }
   ],
   "source": [
    "# Explique qué diferencias hay entre éste método y el anterior\n",
    "\n",
    "sumita = lambda arg1,arg2: arg1+arg2\n",
    "\n",
    "a=6\n",
    "b=65\n",
    "s = sumita(a,b)\n",
    "print(\"la suma es:\", s)"
   ]
  },
  {
   "cell_type": "markdown",
   "id": "31f3ba15-2818-4fae-8bf5-7f23671fc89a",
   "metadata": {
    "slideshow": {
     "slide_type": "slide"
    },
    "tags": []
   },
   "source": [
    "# <span style=\"color:red\"><center> Listas, Tuplas y Diccionarios en Python</center></span>"
   ]
  },
  {
   "cell_type": "markdown",
   "id": "9e6e8e84-314a-48ea-9ef0-5a4ce2928e52",
   "metadata": {},
   "source": [
    "Una colección es un contenedor de objetos del mismo tipo. Por defecto en Python existen cuatro tipos de contenedores:\n",
    "\n",
    "- **Listas (list).** Son colecciones de objetos que están ordenado y son mutables, es decir, sus contenidos pueden ser modificados. Los elementos son indexados y permite duplicados.\n",
    "\n",
    "- **Tuplas (tuple).** Esta es una colección de objetos que están ordenados y son inmutables (no pueden modificarse). Las tuplas admiten elementos repetidos y sus miembros son indexados.\n",
    "\n",
    "- **Diccionarios (dictionary)** Son contendores no ordenados, que son indexados mediante una clave, la cual referencia a un valor. El valor es retornado cuando se le solicita con la clave. No se admiten claves repetidas, pero si valores repetidos.\n",
    "\n",
    "Recuerde que todo en Python es realmente un tipo de objeto."
   ]
  },
  {
   "cell_type": "markdown",
   "id": "f1df9c74-dd36-48fb-b0c7-470c08e8835b",
   "metadata": {
    "slideshow": {
     "slide_type": "slide"
    },
    "tags": []
   },
   "source": [
    "## <span style=\"color:blue\">Listas</span>"
   ]
  },
  {
   "cell_type": "markdown",
   "id": "fa710962-9d29-4bf7-a6eb-51cbdee07bd8",
   "metadata": {},
   "source": [
    "Las listas son contenedores mutables y ordenados de objetos. Las listas se distingen porque sus elementos están encerrados entre paréntesis cuadrados. Por ejemplo:"
   ]
  },
  {
   "cell_type": "code",
   "execution_count": 34,
   "id": "1374ed6b-3bcb-4def-9393-1c37fa2ca780",
   "metadata": {},
   "outputs": [
    {
     "name": "stdout",
     "output_type": "stream",
     "text": [
      "Alvaro Daniel Pilar Beatriz \n"
     ]
    }
   ],
   "source": [
    "lista1 = ['Alvaro', 'Daniel', 'Pilar', 'Beatriz']\n",
    "\n",
    "for i in lista1:\n",
    "    print(i, end=' ')\n",
    "print('')"
   ]
  },
  {
   "cell_type": "markdown",
   "id": "3a6166ce-d9b0-4e6b-b493-66c3003ba1ef",
   "metadata": {
    "slideshow": {
     "slide_type": "subslide"
    },
    "tags": []
   },
   "source": [
    "## <span style=\"color:blue\">Tuplas</span>"
   ]
  },
  {
   "cell_type": "markdown",
   "id": "5dfb0bac-9814-4279-8f2f-f059ab86e25e",
   "metadata": {},
   "source": [
    "Las tuplas se crean y se reconocen porque los elementos se escriben entre paréntesis circulares: '()'. Por ejemplo tupla1 en la siguiente línea define una tupla."
   ]
  },
  {
   "cell_type": "code",
   "execution_count": 35,
   "id": "b5086435-3191-493f-a62a-fbaac45dd764",
   "metadata": {},
   "outputs": [],
   "source": [
    "tupla1 = (1,3,5,7)"
   ]
  },
  {
   "cell_type": "markdown",
   "id": "6ac5b845-86f7-4644-9da3-d539b99b28d1",
   "metadata": {},
   "source": [
    "Cada elemento de la tupla está indexado. Por ejemplo, discuta el siguiente snippet de código."
   ]
  },
  {
   "cell_type": "code",
   "execution_count": 36,
   "id": "ec049a39-5d32-40c8-a33b-ba9ffda0fd6b",
   "metadata": {},
   "outputs": [
    {
     "name": "stdout",
     "output_type": "stream",
     "text": [
      "Acceso a la tupla con iterator\n",
      "1\n",
      "3\n",
      "5\n",
      "7\n",
      "Acceso al tupla con índices\n",
      "0 1\n",
      "1 3\n",
      "2 5\n",
      "3 7\n"
     ]
    }
   ],
   "source": [
    "print ('Acceso a la tupla con iterator')\n",
    "for i in tupla1:\n",
    "    print(i)\n",
    "\n",
    "print('Acceso al tupla con índices')\n",
    "for i in range(len(tupla1)):\n",
    "    print(i, tupla1[i] )"
   ]
  },
  {
   "cell_type": "markdown",
   "id": "103b9a7b-0157-4c45-8a64-e367d4b69d6c",
   "metadata": {
    "slideshow": {
     "slide_type": "subslide"
    },
    "tags": []
   },
   "source": [
    "#### Constructor de tuplas: tuple(iterable)"
   ]
  },
  {
   "cell_type": "markdown",
   "id": "f374db5c-81ee-4097-b1ee-89a589eeec32",
   "metadata": {},
   "source": [
    "Una tupla puede crearse a partir de cualquier objeto iterable. Por ejemplo:"
   ]
  },
  {
   "cell_type": "code",
   "execution_count": 37,
   "id": "b0d92099-82cd-46c2-b294-b96218605bf3",
   "metadata": {},
   "outputs": [
    {
     "name": "stdout",
     "output_type": "stream",
     "text": [
      "(1, 2, 3)\n"
     ]
    }
   ],
   "source": [
    "lista1 = [1,2,3]\n",
    "tupla2 = tuple(lista1)\n",
    "print(tupla2)"
   ]
  },
  {
   "cell_type": "markdown",
   "id": "300b2edf-268e-4cd6-8b8c-332bb485cec1",
   "metadata": {},
   "source": [
    "Observe como los valores de la lista pueden modificarse pero no los de la tupla"
   ]
  },
  {
   "cell_type": "markdown",
   "id": "54baa6ea-0fc2-4c4e-85be-4588d16b7651",
   "metadata": {
    "slideshow": {
     "slide_type": "subslide"
    },
    "tags": []
   },
   "source": [
    "Las tuplas pueden contener diferentes tipos.\n",
    "Por ejemplo en el siguiente fragmento *tup2* es una tupla que contiene un entero, un string, un tupla y un float."
   ]
  },
  {
   "cell_type": "code",
   "execution_count": 38,
   "id": "bb7e03f8-b8fb-4cd4-990b-6a05d23ef854",
   "metadata": {},
   "outputs": [
    {
     "name": "stdout",
     "output_type": "stream",
     "text": [
      "1\n",
      "John\n",
      "(1, 3, 5, 7)\n",
      "True\n",
      "-23.1\n"
     ]
    }
   ],
   "source": [
    "tup2 = (1,\"John\", tupla1, True, -23.1)\n",
    "\n",
    "for i in tup2:\n",
    "    print(i)"
   ]
  },
  {
   "cell_type": "markdown",
   "id": "05244efa-269a-4f14-85cb-624dff911651",
   "metadata": {
    "slideshow": {
     "slide_type": "slide"
    },
    "tags": []
   },
   "source": [
    "### Listas de listas y listas de tuplas\n",
    "\n",
    "Una lista puede contener objetos muy complejos. Por ejemplo observe detenidamente la siguiente construcción."
   ]
  },
  {
   "cell_type": "code",
   "execution_count": 39,
   "id": "576c760f-f9f7-44f9-a7a6-a05d14cde72f",
   "metadata": {},
   "outputs": [
    {
     "name": "stdout",
     "output_type": "stream",
     "text": [
      "t1= (1, 'Oleg', 24.5)\n",
      "l1= ['Maria', 'Bonita']\n",
      "l2= [(1, 'Oleg', 24.5), ['Maria', 'Bonita']]\n",
      "t2= ([(1, 'Oleg', 24.5), ['Maria', 'Bonita']], 'manzana')\n"
     ]
    }
   ],
   "source": [
    "t1 = (1, 'Oleg', 24.5)\n",
    "l1 = ['Maria', 'Bonita']\n",
    "l2 = [t1, l1]\n",
    "t2 = (l2,'manzana')\n",
    "\n",
    "print('t1=', t1)\n",
    "print('l1=', l1)\n",
    "print('l2=', l2)\n",
    "print('t2=', t2)"
   ]
  },
  {
   "cell_type": "markdown",
   "id": "827396ea-25e2-42ca-9989-e2dc34e43a6a",
   "metadata": {
    "slideshow": {
     "slide_type": "slide"
    },
    "tags": []
   },
   "source": [
    "## Funciones útiles de las listas"
   ]
  },
  {
   "cell_type": "markdown",
   "id": "c7f3c5ce-1f68-4b03-8956-6ab176a00fd1",
   "metadata": {},
   "source": [
    "### Adicionar elementos a una lista"
   ]
  },
  {
   "cell_type": "markdown",
   "id": "31b223d8-3991-4f64-9442-446029dc8e40",
   "metadata": {},
   "source": [
    "`lista.append(objeto)`"
   ]
  },
  {
   "cell_type": "code",
   "execution_count": 42,
   "id": "0c9808af-ede6-4484-8740-da0e3f8cef5e",
   "metadata": {},
   "outputs": [
    {
     "name": "stdout",
     "output_type": "stream",
     "text": [
      "alfabeto es un objeto string:  <class 'str'>\n"
     ]
    }
   ],
   "source": [
    "alfabeto = 'abcdefghijklmnñopqrstuvwxyz'\n",
    "print( 'alfabeto es un objeto string: ',type(alfabeto))"
   ]
  },
  {
   "cell_type": "markdown",
   "id": "c5ea3877-36b3-43f2-bf87-ccff0ee599af",
   "metadata": {},
   "source": [
    "Vamos a crear una lista vacia y la vamos a llenar con cada uno de los elementos de *alpfabeto*"
   ]
  },
  {
   "cell_type": "code",
   "execution_count": 43,
   "id": "fde54779-068f-4f5a-b696-4395d61ec4bc",
   "metadata": {},
   "outputs": [
    {
     "name": "stdout",
     "output_type": "stream",
     "text": [
      "['a', 'b', 'c', 'd', 'e', 'f', 'g', 'h', 'i', 'j', 'k', 'l', 'm', 'n', 'ñ', 'o', 'p', 'q', 'r', 's', 't', 'u', 'v', 'w', 'x', 'y', 'z']\n"
     ]
    }
   ],
   "source": [
    "alfaL = []\n",
    "\n",
    "for i in alfabeto:\n",
    "    alfaL.append(i)\n",
    "\n",
    "print(alfaL)"
   ]
  },
  {
   "cell_type": "markdown",
   "id": "94ae5bbd-3f23-4722-8ec9-964fa11f4859",
   "metadata": {
    "slideshow": {
     "slide_type": "subslide"
    },
    "tags": []
   },
   "source": [
    "### Concatenar dos listas"
   ]
  },
  {
   "cell_type": "code",
   "execution_count": 127,
   "id": "8d845519-c1fb-4465-9d46-3c1d2bd116a2",
   "metadata": {},
   "outputs": [
    {
     "name": "stdout",
     "output_type": "stream",
     "text": [
      "alfaL =  ['a', 'b', 'd', 'e', 'f', 'g', 'h', 'i', 'j', 'k', 'l', 'm', 'n', 'ñ', 'o', 'p', 'q', 'r', 's', 't', 'u', 'v', 'w', 'x', 'y', 'z']\n",
      "\n",
      "\n",
      "numL =  [0, 1, 2, 3, 4, 5, 6, 7, 8, 9, 10, 11, 12, 13, 14, 15, 16, 17, 18, 19, 20, 21, 22, 23, 24, 25]\n",
      "\n",
      "\n",
      "alfanumL =  ['a', 'b', 'd', 'e', 'f', 'g', 'h', 'i', 'j', 'k', 'l', 'm', 'n', 'ñ', 'o', 'p', 'q', 'r', 's', 't', 'u', 'v', 'w', 'x', 'y', 'z', 0, 1, 2, 3, 4, 5, 6, 7, 8, 9, 10, 11, 12, 13, 14, 15, 16, 17, 18, 19, 20, 21, 22, 23, 24, 25]\n"
     ]
    }
   ],
   "source": [
    "N = len(alfaL)\n",
    "\n",
    "numL = []\n",
    "\n",
    "for i in range(N):\n",
    "    numL.append(i)\n",
    "\n",
    "print('alfaL = ',alfaL) \n",
    "print('\\n')\n",
    "print('numL = ',numL)\n",
    "print('\\n')\n",
    "\n",
    "alfanumL = alfaL + numL\n",
    "\n",
    "print('alfanumL = ',alfanumL) "
   ]
  },
  {
   "cell_type": "markdown",
   "id": "9d91002e-316d-4e27-acd0-88141af53ec4",
   "metadata": {
    "slideshow": {
     "slide_type": "subslide"
    },
    "tags": []
   },
   "source": [
    "### Eliminar elementos de una lista"
   ]
  },
  {
   "cell_type": "markdown",
   "id": "ea1f53ef-4619-46aa-8b94-9195a519edc5",
   "metadata": {},
   "source": [
    "`lista.remove(objeto)`"
   ]
  },
  {
   "cell_type": "code",
   "execution_count": 45,
   "id": "9c42caf8-0113-4a45-8e38-82d330fdc9cc",
   "metadata": {},
   "outputs": [
    {
     "name": "stdout",
     "output_type": "stream",
     "text": [
      "['a', 'b', 'd', 'e', 'f', 'g', 'h', 'i', 'j', 'k', 'l', 'm', 'n', 'ñ', 'o', 'p', 'q', 'r', 's', 't', 'u', 'v', 'w', 'x', 'y', 'z']\n"
     ]
    }
   ],
   "source": [
    "alfaL.remove('c')\n",
    "print(alfaL)"
   ]
  },
  {
   "cell_type": "markdown",
   "id": "442a11bc-c03c-470c-8503-ec629207a4d6",
   "metadata": {
    "slideshow": {
     "slide_type": "subslide"
    },
    "tags": []
   },
   "source": [
    "### Métodos para manipulación de listas"
   ]
  },
  {
   "cell_type": "markdown",
   "id": "d95ae214-884c-4360-b98e-e375132df221",
   "metadata": {},
   "source": [
    "|Method| Description|\n",
    "|---|---|\n",
    "|append()| Agrega un elemento al final de la lista|\n",
    "|clear()| Remueve todo los elementos de la lista|\n",
    "|copy()| Regresa una copia de la lista|\n",
    "|count()| Regresa el número de elementos con el valor especificado|\n",
    "|extend()| Agrega elementos de una lista (o cualquier iterable) al final de esta lista|\n",
    "|index()|Regresa el índice del primer elemento con el valor especificado|\n",
    "|insert()|  Addiciona un elemento en la posición especificada|\n",
    "|pop()| Remueve un elemento en la posición especificada y puede retornarlo si se hce una asignación|\n",
    "|remove()| Remueve el item con este valor específico|\n",
    "|reverse()| Invierte el orden de la lista|\n",
    "|sort() | Ordena la lista|\n",
    "\n",
    "\n",
    "Por favor pruebe cada uno de estos métodos. Veamos unos pocos ejemplos."
   ]
  },
  {
   "cell_type": "markdown",
   "id": "14bd7542-15f7-4f0a-88f4-fdaff81abc7a",
   "metadata": {
    "slideshow": {
     "slide_type": "slide"
    },
    "tags": []
   },
   "source": [
    "## <span style=\"color:blue\">Diccionarios </span>"
   ]
  },
  {
   "cell_type": "markdown",
   "id": "1be39e7d-7ca0-4867-86b6-1fa71b0a35c4",
   "metadata": {},
   "source": [
    "Los diccionarios se distinguen por dos conceptos claves: están encapsulado en {} y poseeen el concepto de llave e ítem.\n",
    "\n",
    "**Consideraciones importantes:**\n",
    "\n",
    "En **contraste con las listas**, los elementos del diccionario no se acceden vía índices, sino vía llaves (**keys**) que se definen.\n",
    "\n",
    "Miremos el siguiente ejemplo:"
   ]
  },
  {
   "cell_type": "code",
   "execution_count": 46,
   "id": "5a3c42ff-775a-4630-a2b2-ac1cf1330681",
   "metadata": {},
   "outputs": [
    {
     "name": "stdout",
     "output_type": "stream",
     "text": [
      "{'Leticia': 'Amazonas', 'Montería': 'Sinu', 'Bogotá': 'Bogotá', 'San Gil': 'Fonce', 'Honda': 'Magladena'}\n"
     ]
    }
   ],
   "source": [
    "Rios = {\n",
    "...     'Leticia' : 'Amazonas',\n",
    "...     'Montería': 'Sinu',\n",
    "...     'Bogotá'  : 'Bogotá',\n",
    "...     'San Gil': 'Fonce',\n",
    "...     'Honda'  : 'Magladena'\n",
    "... }\n",
    "\n",
    "print(Rios)"
   ]
  },
  {
   "cell_type": "code",
   "execution_count": 47,
   "id": "a3e35c93-ec62-474a-88f5-537b085a65d9",
   "metadata": {},
   "outputs": [
    {
     "name": "stdout",
     "output_type": "stream",
     "text": [
      "Sinu\n"
     ]
    }
   ],
   "source": [
    "print(Rios['Montería'])"
   ]
  },
  {
   "cell_type": "markdown",
   "id": "a54e38ce-02fe-4b2c-b27e-2cbcd6e5f269",
   "metadata": {
    "slideshow": {
     "slide_type": "subslide"
    },
    "tags": []
   },
   "source": [
    "También es posible crear un diccionario usando la función por defecto (built-in) `dict()`, usando una lista de tuplas:"
   ]
  },
  {
   "cell_type": "code",
   "execution_count": 48,
   "id": "e9c5a957-68e0-459f-a2a6-80b4fc12ed20",
   "metadata": {},
   "outputs": [
    {
     "name": "stdout",
     "output_type": "stream",
     "text": [
      "{'Colores': ['Negro', 'Rojo', 'Azul'], 'Animales': 'Gato', 'Calzado': ['Botas', 'Botines', 'Deportivos', 'Sanadalias']}\n"
     ]
    }
   ],
   "source": [
    "my_dic=dict([\n",
    "             ('Colores', ['Negro','Rojo','Azul']),\n",
    "             ('Animales', 'Gato'),\n",
    "             ('Calzado', ['Botas','Botines','Deportivos','Sanadalias'])\n",
    "            ])\n",
    "\n",
    "print(my_dic)"
   ]
  },
  {
   "cell_type": "markdown",
   "id": "dd771cb8-fa85-4e18-991b-6066b9a4cffd",
   "metadata": {},
   "source": [
    "Veamos por ejemplo, los ítems que pertenecen a la llave **Colores**"
   ]
  },
  {
   "cell_type": "code",
   "execution_count": 49,
   "id": "74cd5a80-43ec-4053-8a55-45749782174a",
   "metadata": {},
   "outputs": [
    {
     "name": "stdout",
     "output_type": "stream",
     "text": [
      "['Negro', 'Rojo', 'Azul']\n"
     ]
    }
   ],
   "source": [
    "print(my_dic['Colores'])\n"
   ]
  },
  {
   "cell_type": "markdown",
   "id": "a3ee9e78-a3d4-4457-8745-6095ffbf7c51",
   "metadata": {},
   "source": [
    "Una vez ingresado a los ítem del diccionario, en caso de ser listas, podemos acceder a sus elementos tal cual lo hacemos con las listas (por sus índices)"
   ]
  },
  {
   "cell_type": "code",
   "execution_count": 50,
   "id": "086f8a95-b002-4809-a518-79c763d7d278",
   "metadata": {},
   "outputs": [
    {
     "name": "stdout",
     "output_type": "stream",
     "text": [
      "Rojo\n"
     ]
    }
   ],
   "source": [
    "print(my_dic['Colores'][1])"
   ]
  },
  {
   "cell_type": "code",
   "execution_count": 51,
   "id": "6880c5b3-2874-43a2-9c49-a0e80b03dd52",
   "metadata": {},
   "outputs": [
    {
     "name": "stdout",
     "output_type": "stream",
     "text": [
      "Ví pasar un Gato con Botas de color Negro\n"
     ]
    }
   ],
   "source": [
    "print('Ví pasar un',my_dic['Animales'],'con',my_dic['Calzado'][0],'de color',my_dic['Colores'][0])"
   ]
  },
  {
   "cell_type": "markdown",
   "id": "f3e0792f-1c0c-467f-bbb3-9a666c320c14",
   "metadata": {
    "slideshow": {
     "slide_type": "slide"
    },
    "tags": []
   },
   "source": [
    "####  Manejo de diccionarios:"
   ]
  },
  {
   "cell_type": "markdown",
   "id": "3c293899-97b9-4b50-b62a-fcee549d0c66",
   "metadata": {},
   "source": [
    "Podemos agregar, modificar y eliminar valores de un diccionario:"
   ]
  },
  {
   "cell_type": "markdown",
   "id": "c8d83966-e1a0-4d94-bb65-ea124fc30524",
   "metadata": {},
   "source": [
    "##### Agregar valores:"
   ]
  },
  {
   "cell_type": "code",
   "execution_count": 52,
   "id": "23f8b198-6e7c-4520-b045-c30ed54535f2",
   "metadata": {},
   "outputs": [
    {
     "name": "stdout",
     "output_type": "stream",
     "text": [
      "{'Colores': ['Negro', 'Rojo', 'Azul'], 'Animales': 'Gato', 'Calzado': ['Botas', 'Botines', 'Deportivos', 'Sanadalias'], 'Valor': ['20', '50', '12']}\n"
     ]
    }
   ],
   "source": [
    "my_dic['Valor']=['20','50','12']\n",
    "print(my_dic)"
   ]
  },
  {
   "cell_type": "markdown",
   "id": "14edd347-b75c-484f-b530-8e6f7834719d",
   "metadata": {},
   "source": [
    "##### Modificar valores:"
   ]
  },
  {
   "cell_type": "code",
   "execution_count": 53,
   "id": "b18fc409-df65-484f-9f0c-826e45aefff6",
   "metadata": {},
   "outputs": [
    {
     "name": "stdout",
     "output_type": "stream",
     "text": [
      "{'Colores': 'Negro', 'Animales': 'Gato', 'Calzado': ['Botas', 'Botines', 'Deportivos', 'Sanadalias'], 'Valor': ['20', '50', '12']}\n"
     ]
    }
   ],
   "source": [
    "my_dic['Colores']='Negro'\n",
    "print(my_dic)"
   ]
  },
  {
   "cell_type": "markdown",
   "id": "4dee5e91-c060-47d4-a6f6-50a85d049209",
   "metadata": {},
   "source": [
    "##### Eliminar valores:"
   ]
  },
  {
   "cell_type": "code",
   "execution_count": 54,
   "id": "5d041c44-93c7-4f68-9d98-14e2956d97d3",
   "metadata": {},
   "outputs": [
    {
     "name": "stdout",
     "output_type": "stream",
     "text": [
      "{'Colores': 'Negro', 'Animales': 'Gato', 'Calzado': ['Botas', 'Botines', 'Deportivos', 'Sanadalias']}\n"
     ]
    }
   ],
   "source": [
    "del my_dic['Valor']\n",
    "print(my_dic)"
   ]
  },
  {
   "cell_type": "markdown",
   "id": "975e69bd-95d6-4b9c-9601-ed31ec522a98",
   "metadata": {},
   "source": [
    "Este concepto es muy importante, pues resalta la capacidad de un diccionario en incrementar su tamaño sin generar error:"
   ]
  },
  {
   "cell_type": "code",
   "execution_count": 55,
   "id": "ecba7fb2-1fdd-4066-88f3-777c3bcadffa",
   "metadata": {},
   "outputs": [
    {
     "name": "stdout",
     "output_type": "stream",
     "text": [
      "<class 'dict'>\n",
      "{'Nombre': 'Gengis', 'Apellido': 'Khan', 'Edad': 23, 'Esposa': ['Börte Qatun', 'Yesugen', 'Qulan Qatun', 'Möge Qatun', 'Juerbiesu', 'Ibaqa Beki'], 'Hijos': 'En estudio', 'Mascotas': {'Perro': 'Wahadi', 'Gato': 'Gotze', 'Leon': 'Pichirilo'}}\n",
      "Hijos de Gengis : En estudio\n"
     ]
    }
   ],
   "source": [
    "#Generar diccionario vacío\n",
    "persona = {}\n",
    "print(type(persona))\n",
    "\n",
    "# Agregar llaves y sus definiciones (items)\n",
    "persona['Nombre'] = 'Gengis'\n",
    "persona['Apellido'] = 'Khan'\n",
    "persona['Edad'] = 23\n",
    "persona['Esposa'] = ['Börte Qatun','Yesugen','Qulan Qatun','Möge Qatun','Juerbiesu','Ibaqa Beki']\n",
    "persona['Hijos'] = 'En estudio'\n",
    "persona['Mascotas'] = {'Perro': 'Wahadi', 'Gato': 'Gotze','Leon':'Pichirilo'}\n",
    "\n",
    "print(persona)\n",
    "print('Hijos de',persona['Nombre'],':',persona['Hijos'])"
   ]
  },
  {
   "cell_type": "markdown",
   "id": "6032eed0-1b69-4bdd-9b6f-a83b18d4d092",
   "metadata": {
    "slideshow": {
     "slide_type": "subslide"
    },
    "tags": []
   },
   "source": [
    "Del ejemplo anterior se puede observar que los diccionarios pueden contener diccionarios en su interior:"
   ]
  },
  {
   "cell_type": "code",
   "execution_count": 56,
   "id": "04b79c5d-94c2-4ae2-a955-36817b86d658",
   "metadata": {},
   "outputs": [
    {
     "name": "stdout",
     "output_type": "stream",
     "text": [
      "{'Perro': 'Wahadi', 'Gato': 'Gotze', 'Leon': 'Pichirilo'}\n"
     ]
    }
   ],
   "source": [
    "print(persona['Mascotas'])"
   ]
  },
  {
   "cell_type": "code",
   "execution_count": 57,
   "id": "2c837c89-4d3c-42d9-ac77-2d330d70243d",
   "metadata": {},
   "outputs": [
    {
     "name": "stdout",
     "output_type": "stream",
     "text": [
      "Wahadi\n"
     ]
    }
   ],
   "source": [
    "print(persona['Mascotas']['Perro'])"
   ]
  },
  {
   "cell_type": "markdown",
   "id": "1b6cea2f-09a8-4703-9dc2-ddb227093e9f",
   "metadata": {
    "slideshow": {
     "slide_type": "subslide"
    },
    "tags": []
   },
   "source": [
    "### Métodos de los diccionarios"
   ]
  },
  {
   "cell_type": "markdown",
   "id": "d565035e-67e6-4e61-8a00-c1d183e68f9c",
   "metadata": {},
   "source": [
    "|Método|Descripción                  |\n",
    "|---|---|\n",
    "|clear()|Elimina todos los elementos del diccionario.|\n",
    "|copy()|Devuelve una copia poco profunda del diccionario.|\n",
    "|get(clave[,valor])|Devuelve el valor de la clave. Si no existe, devuelve el valor valor si se indica y si no, None.|\n",
    "|items()|Devuelve una vista de los pares clave: valor del diccionario.|\n",
    "|keys()|Devuelve una vista de las claves del diccionario.|\n",
    "|pop(clave[,valor])|Devuelve el valor del elemento cuya clave es clave y elimina el elemento del diccionario. Si la clave no se encuentra, devuelve valor si se proporciona. Si la clave no se encuentra y no se indica valor, lanza la excepción KeyError.|\n",
    "|popitem()|Devuelve un par (clave, valor) aleatorio del diccionario. Si el diccionario está vacío, lanza la excepción KeyError.|\n",
    "|setdefault(clave[,valor])|Si la clave está en el diccionario, devuelve su valor. Si no lo está, inserta la clave con el valor valor y lo devuelve (si no se especifica valor, por defecto es None).|\n",
    "|update(iterable)|Actualiza el diccionario con los pares clave: valor del iterable.|\n",
    "|values()|Devuelve una vista de los valores del diccionario.|"
   ]
  },
  {
   "cell_type": "markdown",
   "id": "587a6e7f-4b00-42a3-ae37-732118e297b5",
   "metadata": {
    "slideshow": {
     "slide_type": "slide"
    },
    "tags": []
   },
   "source": [
    "# <span style=\"color:red\"><center>numpy</center></span>"
   ]
  },
  {
   "cell_type": "markdown",
   "id": "8f2687f6-1d8b-4084-bab7-2f778ef85b22",
   "metadata": {
    "id": "--yl3E28USV0"
   },
   "source": [
    "## ¿Qué es?"
   ]
  },
  {
   "cell_type": "markdown",
   "id": "a1b9f002-b282-445f-9dc2-66aaa92f87cd",
   "metadata": {},
   "source": [
    "Numpy es un paquete de python dedicado principalmente al manejo de conjuntos o \"arrays\". Extendiendose luego al álgebra lineal, matrices y probabilidad."
   ]
  },
  {
   "cell_type": "markdown",
   "id": "1ddf22eb-d65d-4797-9328-c78ef7420e4f",
   "metadata": {},
   "source": [
    "### ¿Por qué usar arrays de numpy y no listas o tuplas de python?"
   ]
  },
  {
   "cell_type": "markdown",
   "id": "50efc2be-c063-49c9-a102-b2e7ac14214e",
   "metadata": {},
   "source": [
    "Aunque python base tiene listas, el usar arrays es más rápido y consume menos memoria. Algo altamente necesario cuando se hacen operaciones de gran tamaño como puede ser el algebra matricial, por ejemplo."
   ]
  },
  {
   "cell_type": "code",
   "execution_count": 58,
   "id": "1532a50f-701e-493b-b2aa-706debf6da15",
   "metadata": {},
   "outputs": [],
   "source": [
    "import numpy as np"
   ]
  },
  {
   "cell_type": "markdown",
   "id": "82f6cf5a-d8e0-476c-b71d-de07c22573f3",
   "metadata": {
    "slideshow": {
     "slide_type": "slide"
    },
    "tags": []
   },
   "source": [
    "## Creación básica de arrays"
   ]
  },
  {
   "cell_type": "markdown",
   "id": "9eeecb4b-b35d-451b-a78c-ca6216b62d03",
   "metadata": {
    "tags": []
   },
   "source": [
    "Vamos a crear arrays de distintas dimensiones. Para esto podemos usar números, listas o tuplas."
   ]
  },
  {
   "cell_type": "code",
   "execution_count": 59,
   "id": "75ce9a38-e48e-4bf1-b05f-bbf9ef415c84",
   "metadata": {},
   "outputs": [
    {
     "name": "stdout",
     "output_type": "stream",
     "text": [
      "a = 13 \n",
      "\n",
      "b = [1 2 3 4] \n",
      "\n",
      "c = [[1 2 3 4]\n",
      " [5 6 7 8]] \n",
      "\n",
      "d = [[[ 1  2  3  4]\n",
      "  [ 5  6  7  8]]\n",
      "\n",
      " [[ 9 10 11 12]\n",
      "  [13 14 15 16]]] \n",
      "\n"
     ]
    }
   ],
   "source": [
    "a=np.array(13) #array de dimensión 0\n",
    "b=np.array([1,2,3,4]) #array de dimensión 1\n",
    "c=np.array([[1,2,3,4],[5,6,7,8]]) #array de dimensión 2\n",
    "d=np.array([[[1,2,3,4],[5,6,7,8]],[[9,10,11,12],[13,14,15,16]]]) #array de dimensión 3\n",
    "\n",
    "print(\"a =\",a,\"\\n\")\n",
    "print(\"b =\",b,\"\\n\")\n",
    "print(\"c =\",c,\"\\n\")\n",
    "print(\"d =\",d,\"\\n\")"
   ]
  },
  {
   "cell_type": "markdown",
   "id": "2ce8b47c-b395-4cc1-9bc9-6b6b5f29afdf",
   "metadata": {
    "slideshow": {
     "slide_type": "subslide"
    },
    "tags": []
   },
   "source": [
    "Para revisar el número de dimensiones, usamos `ndim`"
   ]
  },
  {
   "cell_type": "code",
   "execution_count": 60,
   "id": "dded5b92-26d9-4dce-9d02-9ab7b10e28cc",
   "metadata": {},
   "outputs": [
    {
     "name": "stdout",
     "output_type": "stream",
     "text": [
      "0\n",
      "1\n",
      "2\n",
      "3\n"
     ]
    }
   ],
   "source": [
    "print(a.ndim)\n",
    "print(b.ndim)\n",
    "print(c.ndim)\n",
    "print(d.ndim)"
   ]
  },
  {
   "cell_type": "markdown",
   "id": "45c34bcd-15ef-4a61-8543-6eefdfaa0062",
   "metadata": {
    "slideshow": {
     "slide_type": "slide"
    },
    "tags": []
   },
   "source": [
    "## Indexación básica"
   ]
  },
  {
   "cell_type": "markdown",
   "id": "378f614f-6d79-4c7d-ba68-35f0872e7a6a",
   "metadata": {},
   "source": [
    "El proceso de indexación en numpy es similar al de las listas en python. Cada número implica buscar la posición en cada dimensión del array"
   ]
  },
  {
   "cell_type": "code",
   "execution_count": 61,
   "id": "9736e946-5188-4e14-afef-81b468aa4fe8",
   "metadata": {},
   "outputs": [
    {
     "name": "stdout",
     "output_type": "stream",
     "text": [
      "a = 13\n",
      "b[2] =  3\n",
      "c[1] = [5 6 7 8]\n",
      "d[1] = [[ 9 10 11 12]\n",
      " [13 14 15 16]]\n"
     ]
    }
   ],
   "source": [
    "print(\"a =\",a)\n",
    "print(\"b[2] = \",b[2])\n",
    "print(\"c[1] =\",c[1])\n",
    "print(\"d[1] =\",d[1])"
   ]
  },
  {
   "cell_type": "code",
   "execution_count": 62,
   "id": "5b751353-72ad-4ec0-b378-d643126c4605",
   "metadata": {},
   "outputs": [
    {
     "name": "stdout",
     "output_type": "stream",
     "text": [
      "a = 13\n",
      "b[2] = 3\n",
      "c[1,2] = 7\n",
      "d[1,0,2] = 11\n"
     ]
    }
   ],
   "source": [
    "print(\"a =\",a)\n",
    "print(\"b[2] =\",b[2])\n",
    "print(\"c[1,2] =\",c[1,2])\n",
    "print(\"d[1,0,2] =\",d[1,0,2])"
   ]
  },
  {
   "cell_type": "markdown",
   "id": "96a23af4-82f4-40f8-8c02-8cd6d014b5ab",
   "metadata": {
    "slideshow": {
     "slide_type": "subslide"
    },
    "tags": []
   },
   "source": [
    "Similarmente podemos segmentar **arrays** como en el las listas de python,"
   ]
  },
  {
   "cell_type": "code",
   "execution_count": 63,
   "id": "9c9b1284-a993-4601-b79b-62efc6bf7899",
   "metadata": {},
   "outputs": [
    {
     "name": "stdout",
     "output_type": "stream",
     "text": [
      "[2 3 4]\n",
      "[6 7]\n"
     ]
    }
   ],
   "source": [
    "print(b[1:4]) #b = [1 2 3 4] \n",
    "print(c[1,1:3]) #c = [[1 2 3 4][5 6 7 8]] "
   ]
  },
  {
   "cell_type": "markdown",
   "id": "7376e051-78af-488b-9941-5d4dc618ef2b",
   "metadata": {
    "slideshow": {
     "slide_type": "slide"
    },
    "tags": []
   },
   "source": [
    "## Diferentes tipos de datos en los arrays"
   ]
  },
  {
   "cell_type": "markdown",
   "id": "32ca679d-183a-4e80-a482-22a4154e93df",
   "metadata": {},
   "source": [
    "Los arrays no están limitados a números enteros, pueden también tener cadenas, booleanos, o de punto flotante."
   ]
  },
  {
   "cell_type": "code",
   "execution_count": 64,
   "id": "da0903c7-0860-4991-899d-f13eac8b9e33",
   "metadata": {},
   "outputs": [
    {
     "name": "stdout",
     "output_type": "stream",
     "text": [
      "<U7\n"
     ]
    }
   ],
   "source": [
    "frutas = np.array(['Manzana', 'Naranja', 'Uva']) #cadenas\n",
    "print(frutas.dtype)"
   ]
  },
  {
   "cell_type": "markdown",
   "id": "2ece0140-c968-4497-8dc6-a8140cb0b76d",
   "metadata": {
    "slideshow": {
     "slide_type": "subslide"
    },
    "tags": []
   },
   "source": [
    "Podemos manipular el tipo de los datos del array dentro de la función de creación del array `np.array`, siempre y cuando el cambio sea posible. Por ejemplo podemos pasar enteros a cadenas (integers a strings) pero no viceversa."
   ]
  },
  {
   "cell_type": "code",
   "execution_count": 65,
   "id": "63e97b16-360e-4026-a257-78c251cd9609",
   "metadata": {},
   "outputs": [
    {
     "name": "stdout",
     "output_type": "stream",
     "text": [
      "|S3\n",
      "[b'6' b'1' b'2' b'4' b'623' b'8']\n"
     ]
    }
   ],
   "source": [
    "number_to_string=np.array([6,1,2,4,623,8], dtype='S') #b denota un string\n",
    "print(number_to_string.dtype)\n",
    "print(number_to_string)"
   ]
  },
  {
   "cell_type": "code",
   "execution_count": 66,
   "id": "663e5cb2-7ad5-4b05-a446-42c9c9c62537",
   "metadata": {},
   "outputs": [
    {
     "name": "stdout",
     "output_type": "stream",
     "text": [
      "hay un error en su lógica\n"
     ]
    }
   ],
   "source": [
    "try:\n",
    "    error_array = np.array(['a', '2', '3'], dtype='i')\n",
    "except:\n",
    "    print(\"hay un error en su lógica\")"
   ]
  },
  {
   "cell_type": "markdown",
   "id": "d01b6e92-2c74-4423-a9f3-c720b1e23b44",
   "metadata": {},
   "source": [
    "Podemos también cambiar el tipo en arrays ya existentes"
   ]
  },
  {
   "cell_type": "code",
   "execution_count": 67,
   "id": "8f667f4d-e16b-4a53-854c-556f6662b479",
   "metadata": {},
   "outputs": [
    {
     "name": "stdout",
     "output_type": "stream",
     "text": [
      "[1 2 3]\n"
     ]
    }
   ],
   "source": [
    "floating_array = np.array([1.1, 2.1, 3.1]) #punto flotante\n",
    "\n",
    "int_array = floating_array.astype('i')\n",
    "print(int_array)"
   ]
  },
  {
   "cell_type": "markdown",
   "id": "671ecfa0-8c23-4d6b-80ff-0e293646e8a8",
   "metadata": {
    "slideshow": {
     "slide_type": "slide"
    },
    "tags": []
   },
   "source": [
    "## Forma de los arrays"
   ]
  },
  {
   "cell_type": "markdown",
   "id": "cef84f82-fbb5-4151-834d-15e329bab2c7",
   "metadata": {},
   "source": [
    "La forma es distinta a la dimensión. Esta se define como el número de elementos de la dimensión. "
   ]
  },
  {
   "cell_type": "code",
   "execution_count": 68,
   "id": "7ad1369a-4c51-4bee-9aba-23734053b718",
   "metadata": {},
   "outputs": [
    {
     "name": "stdout",
     "output_type": "stream",
     "text": [
      "()\n",
      "(4,)\n",
      "(2, 4)\n",
      "(2, 2, 4)\n"
     ]
    }
   ],
   "source": [
    "print(a.shape) # a = 13 \n",
    "print(b.shape) # b = [1 2 3 4] \n",
    "print(c.shape) # c = [[1 2 3 4][5 6 7 8]] \n",
    "print(d.shape) # d = [[[ 1  2  3  4][ 5  6  7  8]] [[ 9 10 11 12][13 14 15 16]]] "
   ]
  },
  {
   "cell_type": "markdown",
   "id": "73e34ffe-7f88-413f-859c-818c3c5b5134",
   "metadata": {
    "slideshow": {
     "slide_type": "subslide"
    },
    "tags": []
   },
   "source": [
    "### Reformar arrays\n",
    "\n",
    "Podemos cambiar la forma de los arrays. Esto significa aumentar el número de dimensiones o cambiar cuantos elementos hay por dimensión."
   ]
  },
  {
   "cell_type": "code",
   "execution_count": 69,
   "id": "d82d2bc8-99b8-491e-9d5e-5587e31dc3f1",
   "metadata": {},
   "outputs": [
    {
     "name": "stdout",
     "output_type": "stream",
     "text": [
      "c = [[1 2 3 4]\n",
      " [5 6 7 8]] \n",
      "\n",
      "c_1D = [[1 2 3 4 5 6 7 8]] \n",
      "\n",
      "c_4D = [[1 2]\n",
      " [3 4]\n",
      " [5 6]\n",
      " [7 8]] \n",
      "\n"
     ]
    }
   ],
   "source": [
    "print(\"c =\",c,\"\\n\")\n",
    "c_1D=c.reshape(1,8)\n",
    "print(\"c_1D =\",c_1D,\"\\n\")\n",
    "c_4D=c.reshape(4,2)\n",
    "print(\"c_4D =\",c_4D,\"\\n\")"
   ]
  },
  {
   "cell_type": "markdown",
   "id": "bd3dd554-12df-4445-85fd-6dbab9b59078",
   "metadata": {
    "slideshow": {
     "slide_type": "subslide"
    },
    "tags": []
   },
   "source": [
    "¿Podemos hacer cualquier cambio en la forma? Si, mientras las que se quieren conseguir coincidan con la cantidad de elementos."
   ]
  },
  {
   "cell_type": "code",
   "execution_count": 70,
   "id": "d3a944e3-f680-46a0-8e29-eff011ae2745",
   "metadata": {},
   "outputs": [
    {
     "name": "stdout",
     "output_type": "stream",
     "text": [
      "[[[ 1  2  3  4]\n",
      "  [ 5  6  7  8]]\n",
      "\n",
      " [[ 9 10 11 12]\n",
      "  [13 14 15 16]]]\n"
     ]
    }
   ],
   "source": [
    "print(d)"
   ]
  },
  {
   "cell_type": "markdown",
   "id": "e5e76d65-7a3e-4581-b151-b414afa72e38",
   "metadata": {},
   "source": [
    "`d` es un array con 16 elementos, así que podemos hacer reshape con tamaños por ejemplo 1x16, 4x4, 8x2, 2x4x2 Por ejemplo, no podemos reformar un arrey a 3x5."
   ]
  },
  {
   "cell_type": "code",
   "execution_count": 71,
   "id": "bda86b81-f240-4a0a-84cf-47b05ccc1ec1",
   "metadata": {},
   "outputs": [
    {
     "name": "stdout",
     "output_type": "stream",
     "text": [
      "Hay un error en sus operaciones\n"
     ]
    }
   ],
   "source": [
    "try:\n",
    "    d.reshape(3,5)\n",
    "except:\n",
    "    print('Hay un error en sus operaciones')"
   ]
  },
  {
   "cell_type": "code",
   "execution_count": 72,
   "id": "76392d4a-5a89-4630-bea5-8575ce67a160",
   "metadata": {
    "slideshow": {
     "slide_type": "subslide"
    },
    "tags": []
   },
   "outputs": [
    {
     "data": {
      "text/plain": [
       "array([[[[ 1,  2],\n",
       "         [ 3,  4]],\n",
       "\n",
       "        [[ 5,  6],\n",
       "         [ 7,  8]]],\n",
       "\n",
       "\n",
       "       [[[ 9, 10],\n",
       "         [11, 12]],\n",
       "\n",
       "        [[13, 14],\n",
       "         [15, 16]]]])"
      ]
     },
     "execution_count": 72,
     "metadata": {},
     "output_type": "execute_result"
    }
   ],
   "source": [
    "d.reshape(2,2,2,2)"
   ]
  },
  {
   "cell_type": "markdown",
   "id": "13ec61ac-929b-4c98-8be1-9dcd5046f5cc",
   "metadata": {
    "slideshow": {
     "slide_type": "slide"
    },
    "tags": []
   },
   "source": [
    "### Dimensión desconocida"
   ]
  },
  {
   "cell_type": "markdown",
   "id": "4faca0be-5685-410f-9183-32a042ed2e5e",
   "metadata": {},
   "source": [
    "Podemos definir el cambio de forma con una dimensión la cual no sabemos el tamaño. Numpy se encargará de definir el tamaño que mejor se ajuste."
   ]
  },
  {
   "cell_type": "code",
   "execution_count": 73,
   "id": "53733b5a-7bd7-4a1c-8f56-6d62c4bf21fa",
   "metadata": {},
   "outputs": [
    {
     "data": {
      "text/plain": [
       "array([[1, 2, 3],\n",
       "       [4, 5, 6],\n",
       "       [7, 8, 9]])"
      ]
     },
     "execution_count": 73,
     "metadata": {},
     "output_type": "execute_result"
    }
   ],
   "source": [
    "arr = np.array([1, 2, 3, 4, 5, 6, 7, 8, 9])\n",
    "arr.reshape(3,-1)"
   ]
  },
  {
   "cell_type": "markdown",
   "id": "55031f7f-026c-4aff-ac37-c0fafdc62294",
   "metadata": {},
   "source": [
    "Podemos usar la dimensión desconocida para \"aplanar\" el array a una dimensión."
   ]
  },
  {
   "cell_type": "code",
   "execution_count": 74,
   "id": "5b62fe5e-2958-4ef0-8faa-96e083dbe08a",
   "metadata": {},
   "outputs": [
    {
     "data": {
      "text/plain": [
       "array([ 1,  2,  3,  4,  5,  6,  7,  8,  9, 10, 11, 12, 13, 14, 15, 16])"
      ]
     },
     "execution_count": 74,
     "metadata": {},
     "output_type": "execute_result"
    }
   ],
   "source": [
    "d.reshape(-1)"
   ]
  },
  {
   "cell_type": "markdown",
   "id": "7ec15b7d-0da7-4921-9ac7-c297c5b9acba",
   "metadata": {
    "slideshow": {
     "slide_type": "slide"
    },
    "tags": []
   },
   "source": [
    "### Transpuesta"
   ]
  },
  {
   "cell_type": "markdown",
   "id": "318db4ff-02d8-4d99-a783-13a6d11d8131",
   "metadata": {},
   "source": [
    "Para transponer el array utilizamos `.T`"
   ]
  },
  {
   "cell_type": "code",
   "execution_count": 75,
   "id": "8075c528-2c88-43ed-a280-c8b190653b2d",
   "metadata": {},
   "outputs": [
    {
     "name": "stdout",
     "output_type": "stream",
     "text": [
      "c = [[1 2 3 4]\n",
      " [5 6 7 8]] \n",
      "\n",
      "c.T = [[1 5]\n",
      " [2 6]\n",
      " [3 7]\n",
      " [4 8]]\n"
     ]
    }
   ],
   "source": [
    "print(\"c =\",c,\"\\n\")\n",
    "print(\"c.T =\",c.T)"
   ]
  },
  {
   "cell_type": "markdown",
   "id": "11f18b62-7311-46f3-8ac4-a19f54832628",
   "metadata": {
    "slideshow": {
     "slide_type": "slide"
    },
    "tags": []
   },
   "source": [
    "## Iterar arrays"
   ]
  },
  {
   "cell_type": "markdown",
   "id": "a8b60fe6-18c4-4206-a65a-93a5f2880742",
   "metadata": {},
   "source": [
    "Podemos usar los métodos tradicionales para iterar."
   ]
  },
  {
   "cell_type": "code",
   "execution_count": 76,
   "id": "d85f7463-1347-49da-af15-98e6baadf825",
   "metadata": {},
   "outputs": [
    {
     "name": "stdout",
     "output_type": "stream",
     "text": [
      "[[1 2 3 4]\n",
      " [5 6 7 8]]\n",
      "[[ 9 10 11 12]\n",
      " [13 14 15 16]]\n"
     ]
    }
   ],
   "source": [
    "for x in d:\n",
    "    print(x)"
   ]
  },
  {
   "cell_type": "markdown",
   "id": "38b23cd8-9844-43c5-9ef0-04f184a2e4bb",
   "metadata": {
    "slideshow": {
     "slide_type": "subslide"
    },
    "tags": []
   },
   "source": [
    "Si queremos iterar cada elemento, necesitamos un `for` por cada dimensión"
   ]
  },
  {
   "cell_type": "code",
   "execution_count": 77,
   "id": "e88e0b1d-c007-449f-835d-a0071c3a0a8d",
   "metadata": {},
   "outputs": [
    {
     "name": "stdout",
     "output_type": "stream",
     "text": [
      "1\n",
      "2\n",
      "3\n",
      "4\n",
      "5\n",
      "6\n",
      "7\n",
      "8\n",
      "9\n",
      "10\n",
      "11\n",
      "12\n",
      "13\n",
      "14\n",
      "15\n",
      "16\n"
     ]
    }
   ],
   "source": [
    "for x in d:\n",
    "    for y in x:\n",
    "        for z in y:\n",
    "            print(z)"
   ]
  },
  {
   "cell_type": "markdown",
   "id": "453bb510-cc39-4ac0-b168-f2cdf07d7eb4",
   "metadata": {
    "slideshow": {
     "slide_type": "subslide"
    },
    "tags": []
   },
   "source": [
    "Esto por supuesto no es óptimo. Así que numpy tiene la función `nditer()` para estos casos."
   ]
  },
  {
   "cell_type": "code",
   "execution_count": 78,
   "id": "d2cbf7d9-b910-4028-9c05-33876077579b",
   "metadata": {},
   "outputs": [
    {
     "name": "stdout",
     "output_type": "stream",
     "text": [
      "1\n",
      "2\n",
      "3\n",
      "4\n",
      "5\n",
      "6\n",
      "7\n",
      "8\n",
      "9\n",
      "10\n",
      "11\n",
      "12\n",
      "13\n",
      "14\n",
      "15\n",
      "16\n"
     ]
    }
   ],
   "source": [
    "for x in np.nditer(d):\n",
    "    print(x)"
   ]
  },
  {
   "cell_type": "markdown",
   "id": "528f542c-18a0-4521-938f-a95dc4963b63",
   "metadata": {
    "slideshow": {
     "slide_type": "slide"
    },
    "tags": []
   },
   "source": [
    "## Aplicar operaciones entre arrays"
   ]
  },
  {
   "cell_type": "markdown",
   "id": "53eb34de-a48e-4492-a48f-7e90e604bc5d",
   "metadata": {},
   "source": [
    "*numpy* tiene sus propias formas de aplicar operaciones:"
   ]
  },
  {
   "cell_type": "markdown",
   "id": "b4d0d3c7-d9e8-40d8-97f6-8516ab029ff8",
   "metadata": {
    "slideshow": {
     "slide_type": "subslide"
    },
    "tags": []
   },
   "source": [
    "### Suma\n",
    "\n",
    "*numpy* tiene dos funciones, `np.add()` y `np.sum()`. El primero se aplica entre argumentos, el segundo se aplica en n elementos para que se haga la suma, es necesario que ambos arrays tengan la misma forma"
   ]
  },
  {
   "cell_type": "code",
   "execution_count": 79,
   "id": "6e26f32f-58e4-44ac-8782-dc54b3f0ffa8",
   "metadata": {},
   "outputs": [
    {
     "data": {
      "text/plain": [
       "array([[7, 7, 7],\n",
       "       [7, 7, 7]])"
      ]
     },
     "execution_count": 79,
     "metadata": {},
     "output_type": "execute_result"
    }
   ],
   "source": [
    "arr1=np.array([[1,2,3],\n",
    "               [4,5,6]])\n",
    "arr2=np.array([[6,5,4],\n",
    "               [3,2,1]])\n",
    "np.add(arr1,arr2)"
   ]
  },
  {
   "cell_type": "code",
   "execution_count": 80,
   "id": "fbbc994e-8b33-4708-9a38-b91b84bd8c69",
   "metadata": {},
   "outputs": [
    {
     "name": "stdout",
     "output_type": "stream",
     "text": [
      "42\n",
      "48\n"
     ]
    }
   ],
   "source": [
    "arr3=np.array([[1,1,1],[1,1,1]])\n",
    "print(np.sum([arr1,arr2]))\n",
    "print(np.sum([arr1,arr2,arr3]))"
   ]
  },
  {
   "cell_type": "markdown",
   "id": "b2f0e0c1-48ec-4afa-b48a-0abd6dc8abba",
   "metadata": {
    "slideshow": {
     "slide_type": "subslide"
    },
    "tags": []
   },
   "source": [
    "Si aplicamos un eje en `np.sum()`, se aplica la suma en ese mismo eje. Por ejemplo, con eje 0, se obtienen los mismos resultados que `np.add()`"
   ]
  },
  {
   "cell_type": "code",
   "execution_count": 81,
   "id": "c284e3af-2272-4dbe-ad95-fad757d722b4",
   "metadata": {},
   "outputs": [
    {
     "data": {
      "text/plain": [
       "array([[8, 8, 8],\n",
       "       [8, 8, 8]])"
      ]
     },
     "execution_count": 81,
     "metadata": {},
     "output_type": "execute_result"
    }
   ],
   "source": [
    "np.sum([arr1,arr2, arr3],axis=0)"
   ]
  },
  {
   "cell_type": "code",
   "execution_count": 82,
   "id": "8ed84255-9bfd-4e66-932b-42ee094d182c",
   "metadata": {},
   "outputs": [
    {
     "data": {
      "text/plain": [
       "array([[5, 7, 9],\n",
       "       [9, 7, 5],\n",
       "       [2, 2, 2]])"
      ]
     },
     "execution_count": 82,
     "metadata": {},
     "output_type": "execute_result"
    }
   ],
   "source": [
    "np.sum([arr1,arr2, arr3],axis=1)"
   ]
  },
  {
   "cell_type": "markdown",
   "id": "4384eb6c-b579-4471-b775-52d01a6b0403",
   "metadata": {
    "slideshow": {
     "slide_type": "subslide"
    },
    "tags": []
   },
   "source": [
    "### Multiplicación"
   ]
  },
  {
   "cell_type": "markdown",
   "id": "f2df187e-0c45-44fd-94ac-59c25197d2b9",
   "metadata": {},
   "source": [
    "El primer caso de multiplicación es `np.prod()`, que funciona similar que `np.sum()`"
   ]
  },
  {
   "cell_type": "code",
   "execution_count": 83,
   "id": "1c51f18b-f38f-46cb-992d-d466a46ac831",
   "metadata": {},
   "outputs": [
    {
     "name": "stdout",
     "output_type": "stream",
     "text": [
      "arr1=\n",
      " [[1 2 3]\n",
      " [4 5 6]] \n",
      "\n",
      "arr2=\n",
      " [[6 5 4]\n",
      " [3 2 1]] \n",
      "\n",
      "518400 \n",
      "\n",
      "[[ 6 10 12]\n",
      " [12 10  6]] \n",
      "\n",
      "[[ 4 10 18]\n",
      " [18 10  4]]\n"
     ]
    }
   ],
   "source": [
    "print(\"arr1=\\n\",arr1,\"\\n\")\n",
    "print(\"arr2=\\n\",arr2,\"\\n\")\n",
    "print(np.prod([arr1,arr2]),\"\\n\")\n",
    "print(np.prod([arr1,arr2],axis=0),\"\\n\")\n",
    "print(np.prod([arr1,arr2],axis=1))"
   ]
  },
  {
   "cell_type": "markdown",
   "id": "f1bb4096-e4c5-4c79-af72-e75411d165b5",
   "metadata": {
    "slideshow": {
     "slide_type": "subslide"
    },
    "tags": []
   },
   "source": [
    "### Multiplicación Matricial"
   ]
  },
  {
   "cell_type": "markdown",
   "id": "5144e9a6-4f35-494a-b7af-f0dbac42952a",
   "metadata": {},
   "source": [
    "Para la multiplicación de matrices usamos `np.matmul()` o `np.dot()`. hay que tener en cuenta la forma de las matrices"
   ]
  },
  {
   "cell_type": "code",
   "execution_count": 84,
   "id": "67c54331-67c1-415c-bed7-a4360c9d25bb",
   "metadata": {},
   "outputs": [
    {
     "data": {
      "text/plain": [
       "array([[28, 10],\n",
       "       [73, 28]])"
      ]
     },
     "execution_count": 84,
     "metadata": {},
     "output_type": "execute_result"
    }
   ],
   "source": [
    "np.matmul(arr1, arr2.T)"
   ]
  },
  {
   "cell_type": "code",
   "execution_count": 85,
   "id": "a9ca6fca-b675-490e-a3bd-016a34419a5f",
   "metadata": {},
   "outputs": [
    {
     "data": {
      "text/plain": [
       "array([[28, 10],\n",
       "       [73, 28]])"
      ]
     },
     "execution_count": 85,
     "metadata": {},
     "output_type": "execute_result"
    }
   ],
   "source": [
    "np.dot(arr1, arr2.T)"
   ]
  },
  {
   "cell_type": "markdown",
   "id": "e8c13557-fe96-4a55-afeb-28417850016c",
   "metadata": {
    "slideshow": {
     "slide_type": "subslide"
    },
    "tags": []
   },
   "source": [
    "Se comportan distinto con matrices de dos dimensiones, para otros casos hacen cosas distintas"
   ]
  },
  {
   "cell_type": "code",
   "execution_count": 86,
   "id": "f80831ac-58a9-4bd7-b5ad-a887177ca873",
   "metadata": {},
   "outputs": [
    {
     "name": "stdout",
     "output_type": "stream",
     "text": [
      "d =\n",
      " [[[ 1  2  3  4]\n",
      "  [ 5  6  7  8]]\n",
      "\n",
      " [[ 9 10 11 12]\n",
      "  [13 14 15 16]]] \n",
      "\n",
      "d.reshape =\n",
      " [[[ 1  2]\n",
      "  [ 3  4]\n",
      "  [ 5  6]\n",
      "  [ 7  8]]\n",
      "\n",
      " [[ 9 10]\n",
      "  [11 12]\n",
      "  [13 14]\n",
      "  [15 16]]] \n",
      "\n"
     ]
    },
    {
     "data": {
      "text/plain": [
       "array([[[[ 50,  60],\n",
       "         [130, 140]],\n",
       "\n",
       "        [[114, 140],\n",
       "         [322, 348]]],\n",
       "\n",
       "\n",
       "       [[[178, 220],\n",
       "         [514, 556]],\n",
       "\n",
       "        [[242, 300],\n",
       "         [706, 764]]]])"
      ]
     },
     "execution_count": 86,
     "metadata": {},
     "output_type": "execute_result"
    }
   ],
   "source": [
    "print(\"d =\\n\",d,\"\\n\") #2,2,4\n",
    "print(\"d.reshape =\\n\",d.reshape(2,4,2),\"\\n\") #2,4,2\n",
    "np.dot(d,d.reshape(2,4,2)) #2,2,2,2"
   ]
  },
  {
   "cell_type": "markdown",
   "id": "5c5c337d-ceca-400d-bdb9-b147778e5ced",
   "metadata": {
    "slideshow": {
     "slide_type": "subslide"
    },
    "tags": []
   },
   "source": [
    "Con *matmul* no se pueden multiplicar escalares **c.A** (c escalar, A matriz), además Matmul hace las multiplicaciones matriz a matriz (matrices como elementos), de ahí la diferencia con *dot*, donde este toma los números dentro de las matrices como elementos."
   ]
  },
  {
   "cell_type": "code",
   "execution_count": 87,
   "id": "d720650f-6f6e-4cd7-879c-0eb1fd76640e",
   "metadata": {},
   "outputs": [
    {
     "data": {
      "text/plain": [
       "array([[[ 50,  60],\n",
       "        [114, 140]],\n",
       "\n",
       "       [[514, 556],\n",
       "        [706, 764]]])"
      ]
     },
     "execution_count": 87,
     "metadata": {},
     "output_type": "execute_result"
    }
   ],
   "source": [
    "np.matmul(d,d.reshape(2,4,2))"
   ]
  },
  {
   "cell_type": "markdown",
   "id": "3e47bfe9-581e-4ec4-83b2-a4402853dd42",
   "metadata": {
    "slideshow": {
     "slide_type": "slide"
    },
    "tags": []
   },
   "source": [
    "# <span style=\"color:red\"><center>Manejo de Datos en Pandas</center></span>"
   ]
  },
  {
   "cell_type": "markdown",
   "id": "9cc94855-447e-44dd-99ee-91e69e0b54d4",
   "metadata": {
    "id": "--yl3E28USV0",
    "tags": []
   },
   "source": [
    "## **¿Qué es?**"
   ]
  },
  {
   "cell_type": "markdown",
   "id": "92bdb56a-90ee-4a48-8712-66c5a75dba2d",
   "metadata": {
    "id": "I3BqaExXUXqJ"
   },
   "source": [
    "Pandas es una librería de python destinada al análisis y manipulación de datos. Para obtener más información de ella, pueden revisar este [link](https://pandas.pydata.org/)."
   ]
  },
  {
   "cell_type": "code",
   "execution_count": 88,
   "id": "bcc2e2ed-5fee-4710-8cf1-6678ea5a9d9b",
   "metadata": {
    "id": "ETNODbT9UnIV"
   },
   "outputs": [],
   "source": [
    "import pandas as pd"
   ]
  },
  {
   "cell_type": "markdown",
   "id": "745f9e21-34bf-48b4-a92e-d714ffb49525",
   "metadata": {
    "id": "jpUyTyMxUi-t"
   },
   "source": [
    "### **¿Cómo importar datos?**"
   ]
  },
  {
   "cell_type": "markdown",
   "id": "09061d5b-f78c-4034-96e6-ae9c4fe0eb04",
   "metadata": {
    "id": "yDzCmP7cYGzE"
   },
   "source": [
    "Para leer los datos la estructura básica es *pd.read_tipo-archivo*. Si estamos en colab y queremos utilizar algunos datos que están en nuestro google drive podemos utilizar:\n",
    "\n",
    "\n",
    "```\n",
    "      from google.colab import drive\n",
    "      drive.mount('/content/gdrive')\n",
    "```"
   ]
  },
  {
   "cell_type": "code",
   "execution_count": 89,
   "id": "8cbe5946-9adb-4c3a-a07a-66258fc168f6",
   "metadata": {
    "colab": {
     "base_uri": "https://localhost:8080/"
    },
    "id": "w7qw_WJwVDtn",
    "outputId": "a65d6486-9088-4ae3-c35d-f9fdc87afd07"
   },
   "outputs": [],
   "source": [
    "#from google.colab import ##drive correr solo en colab\n",
    "#drive.mount('/content/gdrive')\n",
    "counties= pd.read_excel(\"../datos/counties.xlsx\")#cambiar dirección"
   ]
  },
  {
   "cell_type": "markdown",
   "id": "20ce3e27-9f1c-47a9-a330-6c07b22ab8f6",
   "metadata": {
    "id": "Qaq5QnlUYvk7",
    "slideshow": {
     "slide_type": "subslide"
    },
    "tags": []
   },
   "source": [
    "Para tener una idea de qué variables y datos tengo en lo base de datos, sólo debemos llamarla."
   ]
  },
  {
   "cell_type": "code",
   "execution_count": 90,
   "id": "edcb1401-d134-4cab-824c-b96ccc0e5b16",
   "metadata": {
    "colab": {
     "base_uri": "https://localhost:8080/",
     "height": 419
    },
    "id": "ke38Y4qqU6lS",
    "outputId": "ff9f5711-e549-4e52-fca6-cf78b88b35b6"
   },
   "outputs": [
    {
     "data": {
      "text/html": [
       "<div>\n",
       "<style scoped>\n",
       "    .dataframe tbody tr th:only-of-type {\n",
       "        vertical-align: middle;\n",
       "    }\n",
       "\n",
       "    .dataframe tbody tr th {\n",
       "        vertical-align: top;\n",
       "    }\n",
       "\n",
       "    .dataframe thead th {\n",
       "        text-align: right;\n",
       "    }\n",
       "</style>\n",
       "<table border=\"1\" class=\"dataframe\">\n",
       "  <thead>\n",
       "    <tr style=\"text-align: right;\">\n",
       "      <th></th>\n",
       "      <th>codestate</th>\n",
       "      <th>codecounty</th>\n",
       "      <th>county</th>\n",
       "      <th>population</th>\n",
       "      <th>area</th>\n",
       "    </tr>\n",
       "  </thead>\n",
       "  <tbody>\n",
       "    <tr>\n",
       "      <th>0</th>\n",
       "      <td>1</td>\n",
       "      <td>1001</td>\n",
       "      <td>Auta#%&amp;()uga</td>\n",
       "      <td>54571.0</td>\n",
       "      <td>594.436000</td>\n",
       "    </tr>\n",
       "    <tr>\n",
       "      <th>1</th>\n",
       "      <td>1</td>\n",
       "      <td>1003</td>\n",
       "      <td>Baldwin#%&amp;()  ?</td>\n",
       "      <td>182265.0</td>\n",
       "      <td>1589.784000</td>\n",
       "    </tr>\n",
       "    <tr>\n",
       "      <th>2</th>\n",
       "      <td>1</td>\n",
       "      <td>1005</td>\n",
       "      <td>Barbour</td>\n",
       "      <td>27457.0</td>\n",
       "      <td>884.876000</td>\n",
       "    </tr>\n",
       "    <tr>\n",
       "      <th>3</th>\n",
       "      <td>1</td>\n",
       "      <td>1007</td>\n",
       "      <td>Bi#%&amp;()bb</td>\n",
       "      <td>22915.0</td>\n",
       "      <td>622.582000</td>\n",
       "    </tr>\n",
       "    <tr>\n",
       "      <th>4</th>\n",
       "      <td>1</td>\n",
       "      <td>1009</td>\n",
       "      <td>Blount  ?</td>\n",
       "      <td>57322.0</td>\n",
       "      <td>644.776000</td>\n",
       "    </tr>\n",
       "    <tr>\n",
       "      <th>...</th>\n",
       "      <td>...</td>\n",
       "      <td>...</td>\n",
       "      <td>...</td>\n",
       "      <td>...</td>\n",
       "      <td>...</td>\n",
       "    </tr>\n",
       "    <tr>\n",
       "      <th>3229</th>\n",
       "      <td>72</td>\n",
       "      <td>72151</td>\n",
       "      <td>Yabucoa</td>\n",
       "      <td>37941.0</td>\n",
       "      <td>55.215000</td>\n",
       "    </tr>\n",
       "    <tr>\n",
       "      <th>3230</th>\n",
       "      <td>72</td>\n",
       "      <td>72153</td>\n",
       "      <td>Ya_uco</td>\n",
       "      <td>42043.0</td>\n",
       "      <td>68.192000</td>\n",
       "    </tr>\n",
       "    <tr>\n",
       "      <th>3231</th>\n",
       "      <td>78</td>\n",
       "      <td>78010</td>\n",
       "      <td>; St. Croix ?</td>\n",
       "      <td>50601.0</td>\n",
       "      <td>83.345868</td>\n",
       "    </tr>\n",
       "    <tr>\n",
       "      <th>3232</th>\n",
       "      <td>78</td>\n",
       "      <td>78020</td>\n",
       "      <td>St. John</td>\n",
       "      <td>4170.0</td>\n",
       "      <td>19.689867</td>\n",
       "    </tr>\n",
       "    <tr>\n",
       "      <th>3233</th>\n",
       "      <td>78</td>\n",
       "      <td>78030</td>\n",
       "      <td>St. Thomas</td>\n",
       "      <td>51634.0</td>\n",
       "      <td>31.313503</td>\n",
       "    </tr>\n",
       "  </tbody>\n",
       "</table>\n",
       "<p>3234 rows × 5 columns</p>\n",
       "</div>"
      ],
      "text/plain": [
       "      codestate  codecounty                 county  population         area\n",
       "0             1        1001          Auta#%&()uga      54571.0   594.436000\n",
       "1             1        1003   Baldwin#%&()  ?         182265.0  1589.784000\n",
       "2             1        1005               Barbour      27457.0   884.876000\n",
       "3             1        1007             Bi#%&()bb      22915.0   622.582000\n",
       "4             1        1009         Blount  ?          57322.0   644.776000\n",
       "...         ...         ...                    ...         ...          ...\n",
       "3229         72       72151               Yabucoa      37941.0    55.215000\n",
       "3230         72       72153                Ya_uco      42043.0    68.192000\n",
       "3231         78       78010     ; St. Croix ?          50601.0    83.345868\n",
       "3232         78       78020               St. John      4170.0    19.689867\n",
       "3233         78       78030             St. Thomas     51634.0    31.313503\n",
       "\n",
       "[3234 rows x 5 columns]"
      ]
     },
     "execution_count": 90,
     "metadata": {},
     "output_type": "execute_result"
    }
   ],
   "source": [
    "counties"
   ]
  },
  {
   "cell_type": "markdown",
   "id": "8ebc8ad7-0be6-415b-ae49-1c8f5d22694e",
   "metadata": {
    "id": "QC4MKt1VY32I",
    "slideshow": {
     "slide_type": "subslide"
    },
    "tags": []
   },
   "source": [
    "En lo anterior veiamos todas las variables con las 5 primeras y 5 últimas filas. Pero, podemos ver una cantidad  determinada de registros tanto del inicio de la tabla como del final. Utlizando *.head()* y *.tail()* respectivamente."
   ]
  },
  {
   "cell_type": "code",
   "execution_count": 91,
   "id": "a3d18cf9-4dc0-46a2-8524-6efe64349752",
   "metadata": {
    "colab": {
     "base_uri": "https://localhost:8080/",
     "height": 142
    },
    "id": "urd2HbgEWXv5",
    "outputId": "6041d85e-7113-4697-a236-345824a6f0ab"
   },
   "outputs": [
    {
     "data": {
      "text/html": [
       "<div>\n",
       "<style scoped>\n",
       "    .dataframe tbody tr th:only-of-type {\n",
       "        vertical-align: middle;\n",
       "    }\n",
       "\n",
       "    .dataframe tbody tr th {\n",
       "        vertical-align: top;\n",
       "    }\n",
       "\n",
       "    .dataframe thead th {\n",
       "        text-align: right;\n",
       "    }\n",
       "</style>\n",
       "<table border=\"1\" class=\"dataframe\">\n",
       "  <thead>\n",
       "    <tr style=\"text-align: right;\">\n",
       "      <th></th>\n",
       "      <th>codestate</th>\n",
       "      <th>codecounty</th>\n",
       "      <th>county</th>\n",
       "      <th>population</th>\n",
       "      <th>area</th>\n",
       "    </tr>\n",
       "  </thead>\n",
       "  <tbody>\n",
       "    <tr>\n",
       "      <th>0</th>\n",
       "      <td>1</td>\n",
       "      <td>1001</td>\n",
       "      <td>Auta#%&amp;()uga</td>\n",
       "      <td>54571.0</td>\n",
       "      <td>594.436</td>\n",
       "    </tr>\n",
       "    <tr>\n",
       "      <th>1</th>\n",
       "      <td>1</td>\n",
       "      <td>1003</td>\n",
       "      <td>Baldwin#%&amp;()  ?</td>\n",
       "      <td>182265.0</td>\n",
       "      <td>1589.784</td>\n",
       "    </tr>\n",
       "    <tr>\n",
       "      <th>2</th>\n",
       "      <td>1</td>\n",
       "      <td>1005</td>\n",
       "      <td>Barbour</td>\n",
       "      <td>27457.0</td>\n",
       "      <td>884.876</td>\n",
       "    </tr>\n",
       "  </tbody>\n",
       "</table>\n",
       "</div>"
      ],
      "text/plain": [
       "   codestate  codecounty                county  population      area\n",
       "0          1        1001         Auta#%&()uga      54571.0   594.436\n",
       "1          1        1003  Baldwin#%&()  ?         182265.0  1589.784\n",
       "2          1        1005              Barbour      27457.0   884.876"
      ]
     },
     "execution_count": 91,
     "metadata": {},
     "output_type": "execute_result"
    }
   ],
   "source": [
    "counties.head(3) #por defecto salen 5 primeros"
   ]
  },
  {
   "cell_type": "code",
   "execution_count": 92,
   "id": "e3b15309-08f0-4c91-a653-9c94298cf3c1",
   "metadata": {
    "colab": {
     "base_uri": "https://localhost:8080/",
     "height": 111
    },
    "id": "XsenjD3JWkQN",
    "outputId": "09d8576e-da8e-4dea-9667-268f20fdd27b"
   },
   "outputs": [
    {
     "data": {
      "text/html": [
       "<div>\n",
       "<style scoped>\n",
       "    .dataframe tbody tr th:only-of-type {\n",
       "        vertical-align: middle;\n",
       "    }\n",
       "\n",
       "    .dataframe tbody tr th {\n",
       "        vertical-align: top;\n",
       "    }\n",
       "\n",
       "    .dataframe thead th {\n",
       "        text-align: right;\n",
       "    }\n",
       "</style>\n",
       "<table border=\"1\" class=\"dataframe\">\n",
       "  <thead>\n",
       "    <tr style=\"text-align: right;\">\n",
       "      <th></th>\n",
       "      <th>codestate</th>\n",
       "      <th>codecounty</th>\n",
       "      <th>county</th>\n",
       "      <th>population</th>\n",
       "      <th>area</th>\n",
       "    </tr>\n",
       "  </thead>\n",
       "  <tbody>\n",
       "    <tr>\n",
       "      <th>3232</th>\n",
       "      <td>78</td>\n",
       "      <td>78020</td>\n",
       "      <td>St. John</td>\n",
       "      <td>4170.0</td>\n",
       "      <td>19.689867</td>\n",
       "    </tr>\n",
       "    <tr>\n",
       "      <th>3233</th>\n",
       "      <td>78</td>\n",
       "      <td>78030</td>\n",
       "      <td>St. Thomas</td>\n",
       "      <td>51634.0</td>\n",
       "      <td>31.313503</td>\n",
       "    </tr>\n",
       "  </tbody>\n",
       "</table>\n",
       "</div>"
      ],
      "text/plain": [
       "      codestate  codecounty      county  population       area\n",
       "3232         78       78020    St. John      4170.0  19.689867\n",
       "3233         78       78030  St. Thomas     51634.0  31.313503"
      ]
     },
     "execution_count": 92,
     "metadata": {},
     "output_type": "execute_result"
    }
   ],
   "source": [
    "counties.tail(2)"
   ]
  },
  {
   "cell_type": "markdown",
   "id": "fedbef3a-6fb3-4ac3-aa6c-a07555bbddb9",
   "metadata": {
    "id": "ZexVZppTZeIY",
    "slideshow": {
     "slide_type": "subslide"
    },
    "tags": []
   },
   "source": [
    "Si aparte de ver solamente la tabla, queremos más información de la base de datos, por ejemplo sus dimensiones y tipo de variables podemos  utilizar lo siguiente:"
   ]
  },
  {
   "cell_type": "code",
   "execution_count": 93,
   "id": "115df5b5-bdd1-499b-9bec-a131be51c68c",
   "metadata": {
    "colab": {
     "base_uri": "https://localhost:8080/"
    },
    "id": "pb6R6Sk1WRS1",
    "outputId": "8c1b1843-3418-4cc2-f4c8-fc1223ef68d7"
   },
   "outputs": [
    {
     "name": "stdout",
     "output_type": "stream",
     "text": [
      "<class 'pandas.core.frame.DataFrame'>\n",
      "RangeIndex: 3234 entries, 0 to 3233\n",
      "Data columns (total 5 columns):\n",
      " #   Column      Non-Null Count  Dtype  \n",
      "---  ------      --------------  -----  \n",
      " 0   codestate   3234 non-null   int64  \n",
      " 1   codecounty  3234 non-null   int64  \n",
      " 2   county      3234 non-null   object \n",
      " 3   population  3232 non-null   float64\n",
      " 4   area        3234 non-null   float64\n",
      "dtypes: float64(2), int64(2), object(1)\n",
      "memory usage: 126.5+ KB\n",
      "\n",
      "\n",
      "La forma de la base de datos es: (3234, 5)\n"
     ]
    }
   ],
   "source": [
    "counties.info()\n",
    "print(\"\\n\")\n",
    "print(\"La forma de la base de datos es:\",counties.shape)  #shape:forma de un array"
   ]
  },
  {
   "cell_type": "code",
   "execution_count": 94,
   "id": "7b0efb99-342d-4e70-b9d9-0b9121320a86",
   "metadata": {
    "colab": {
     "base_uri": "https://localhost:8080/"
    },
    "id": "14k3sgunWqWk",
    "outputId": "aac57289-e15c-47f0-b8e8-ca12a626d8bd",
    "slideshow": {
     "slide_type": "subslide"
    },
    "tags": []
   },
   "outputs": [
    {
     "name": "stdout",
     "output_type": "stream",
     "text": [
      "codestate       int64\n",
      "codecounty      int64\n",
      "county         object\n",
      "population    float64\n",
      "area          float64\n",
      "dtype: object\n",
      "\n",
      "\n",
      "         codestate    codecounty    population           area\n",
      "count  3234.000000   3234.000000  3.232000e+03    3234.000000\n",
      "mean     31.441868  31544.737786  9.679656e+04    1093.361817\n",
      "std      16.411236  16425.545223  3.088044e+05    3564.706999\n",
      "min       1.000000   1001.000000  1.700000e+01       0.031696\n",
      "25%      19.000000  19039.500000  1.129700e+04     416.360000\n",
      "50%      30.000000  30038.000000  2.607550e+04     602.977500\n",
      "75%      46.000000  46128.500000  6.566050e+04     913.884500\n",
      "max      78.000000  78030.000000  9.818605e+06  145504.789000\n",
      "\n",
      "\n",
      "          codestate    codecounty    county    population           area\n",
      "count   3234.000000   3234.000000      3234  3.232000e+03    3234.000000\n",
      "unique          NaN           NaN      2625           NaN            NaN\n",
      "top             NaN           NaN  Lincoln            NaN            NaN\n",
      "freq            NaN           NaN        14           NaN            NaN\n",
      "mean      31.441868  31544.737786       NaN  9.679656e+04    1093.361817\n",
      "std       16.411236  16425.545223       NaN  3.088044e+05    3564.706999\n",
      "min        1.000000   1001.000000       NaN  1.700000e+01       0.031696\n",
      "25%       19.000000  19039.500000       NaN  1.129700e+04     416.360000\n",
      "50%       30.000000  30038.000000       NaN  2.607550e+04     602.977500\n",
      "75%       46.000000  46128.500000       NaN  6.566050e+04     913.884500\n",
      "max       78.000000  78030.000000       NaN  9.818605e+06  145504.789000\n"
     ]
    }
   ],
   "source": [
    "print(counties.dtypes) #tipo de objeto en cada columna\n",
    "print(\"\\n\")\n",
    "print(counties.describe())\n",
    "print(\"\\n\")\n",
    "print(counties.describe(include=\"all\")) #summary, si no se pone el include solo aparece de las variables numéricas"
   ]
  },
  {
   "cell_type": "markdown",
   "id": "15674820-838d-44d1-bb20-04d8411cb69e",
   "metadata": {
    "id": "_zvcDFcHXLOX",
    "slideshow": {
     "slide_type": "slide"
    },
    "tags": []
   },
   "source": [
    "### **Seleccionar subconjuntos de una base de datos**"
   ]
  },
  {
   "cell_type": "markdown",
   "id": "494b8f22-4caf-4601-a65d-d14889f0dc6a",
   "metadata": {
    "id": "wAfaMuO1Z0yS"
   },
   "source": [
    "### Escoger columnas"
   ]
  },
  {
   "cell_type": "markdown",
   "id": "d92e728a-6f8a-41c1-9645-2162bcd43495",
   "metadata": {
    "id": "kl8bD-0YZx9X"
   },
   "source": [
    "Para ver el nombre de las columnas que existen, podemos utilizar *.columns*."
   ]
  },
  {
   "cell_type": "code",
   "execution_count": 95,
   "id": "8d341ea9-598f-4df2-bfa6-e868f0450709",
   "metadata": {
    "colab": {
     "base_uri": "https://localhost:8080/"
    },
    "id": "0LZ_7Nb-XVxK",
    "outputId": "165d5b6b-522b-4ed6-ea01-0b94b0e8de1c"
   },
   "outputs": [
    {
     "data": {
      "text/plain": [
       "Index(['codestate', 'codecounty', 'county', 'population', 'area'], dtype='object')"
      ]
     },
     "execution_count": 95,
     "metadata": {},
     "output_type": "execute_result"
    }
   ],
   "source": [
    "counties.columns"
   ]
  },
  {
   "cell_type": "markdown",
   "id": "5972555e-6838-492d-b828-dac0d39ddafc",
   "metadata": {
    "id": "ZQ9QlKdFX2ak"
   },
   "source": [
    "Escoger una columna específica o un conjunto de ellas"
   ]
  },
  {
   "cell_type": "code",
   "execution_count": 96,
   "id": "9a0d6721-b38c-497f-866c-43dc3983dc25",
   "metadata": {
    "id": "E7qXeiNSXm-a"
   },
   "outputs": [],
   "source": [
    "condado = counties[\"county\"]"
   ]
  },
  {
   "cell_type": "code",
   "execution_count": 97,
   "id": "37cbe0dc-dee9-4a4c-9ba8-033d70d04a34",
   "metadata": {
    "colab": {
     "base_uri": "https://localhost:8080/"
    },
    "id": "3hfa1pljYd06",
    "outputId": "3444be49-3507-40e3-99df-a2033d4cf963"
   },
   "outputs": [
    {
     "name": "stdout",
     "output_type": "stream",
     "text": [
      "(3234,)\n",
      "(3234,)\n",
      "<class 'pandas.core.series.Series'>\n"
     ]
    }
   ],
   "source": [
    "print(condado.shape) #array unidimensional con 3234 elementos\n",
    "print(counties[\"county\"].shape)\n",
    "print(type(condado))"
   ]
  },
  {
   "cell_type": "code",
   "execution_count": 98,
   "id": "b1b933d1-5ac8-44c0-9df6-fb5c7906c741",
   "metadata": {
    "colab": {
     "base_uri": "https://localhost:8080/"
    },
    "id": "vhvtzm4yaMlc",
    "outputId": "41c6784a-fa99-40fd-fe12-74b704377a55",
    "slideshow": {
     "slide_type": "subslide"
    },
    "tags": []
   },
   "outputs": [
    {
     "name": "stdout",
     "output_type": "stream",
     "text": [
      "      codecounty                 county\n",
      "0           1001          Auta#%&()uga \n",
      "1           1003   Baldwin#%&()  ?     \n",
      "2           1005               Barbour \n",
      "3           1007             Bi#%&()bb \n",
      "4           1009         Blount  ?     \n",
      "...          ...                    ...\n",
      "3229       72151               Yabucoa \n",
      "3230       72153                Ya_uco \n",
      "3231       78010     ; St. Croix ?     \n",
      "3232       78020               St. John\n",
      "3233       78030             St. Thomas\n",
      "\n",
      "[3234 rows x 2 columns]\n",
      "<class 'pandas.core.frame.DataFrame'>\n"
     ]
    }
   ],
   "source": [
    "codi_condado=counties[[\"codecounty\",\"county\"]]\n",
    "print(codi_condado)\n",
    "print(type(codi_condado))"
   ]
  },
  {
   "cell_type": "markdown",
   "id": "503c7505-a22d-4b9c-a773-d318dc2e2107",
   "metadata": {
    "id": "iluJhOUgZ48R",
    "slideshow": {
     "slide_type": "slide"
    },
    "tags": []
   },
   "source": [
    "## Escoger filas"
   ]
  },
  {
   "cell_type": "markdown",
   "id": "e0f6a726-f5ec-49b8-b37a-68e7c041cd45",
   "metadata": {
    "id": "F-eAWEusaWmY"
   },
   "source": [
    "Podemos escoger ciertas filas a través de su posición. utilizando *.iloc*"
   ]
  },
  {
   "cell_type": "code",
   "execution_count": 99,
   "id": "93575c4d-e76e-4246-8e70-10aba1286edc",
   "metadata": {
    "id": "aFOooZB5bYsv"
   },
   "outputs": [],
   "source": [
    "from seaborn import load_dataset"
   ]
  },
  {
   "cell_type": "code",
   "execution_count": 100,
   "id": "ded4d498-b39c-4fa5-8c1d-b47cde26c5fd",
   "metadata": {
    "colab": {
     "base_uri": "https://localhost:8080/"
    },
    "id": "vEfryMcNZ6Rc",
    "outputId": "65108665-8aea-44b2-9885-4e9beaa24aff"
   },
   "outputs": [
    {
     "name": "stdout",
     "output_type": "stream",
     "text": [
      "   codestate  codecounty         county  population     area\n",
      "0          1        1001  Auta#%&()uga      54571.0  594.436\n",
      "<class 'pandas.core.frame.DataFrame'>\n"
     ]
    }
   ],
   "source": [
    "print(counties.iloc[0:1,])\n",
    "print(type(counties.iloc[0:1,]))"
   ]
  },
  {
   "cell_type": "code",
   "execution_count": 101,
   "id": "e7efd033-5344-488d-81f0-6c04ec2e6960",
   "metadata": {
    "colab": {
     "base_uri": "https://localhost:8080/"
    },
    "id": "n4hayCXQbppm",
    "outputId": "fec81298-ea75-49c7-b2e9-8d9db0fdcfc3"
   },
   "outputs": [
    {
     "name": "stdout",
     "output_type": "stream",
     "text": [
      "    codecounty                 county\n",
      "8         1017     ; Chambers  ?     \n",
      "9         1019              Cherokee \n",
      "10        1021             ; Chilton \n",
      "11        1023               Choctaw \n"
     ]
    }
   ],
   "source": [
    "print(counties.iloc[8:12,1:3])"
   ]
  },
  {
   "cell_type": "markdown",
   "id": "7dae4a9f-4fd7-4143-87e0-f372047e7b79",
   "metadata": {
    "id": "kWzWN3Dtb8Yl",
    "slideshow": {
     "slide_type": "subslide"
    },
    "tags": []
   },
   "source": [
    "O también escoger filas con base a alguna condicion o característica específica."
   ]
  },
  {
   "cell_type": "code",
   "execution_count": 102,
   "id": "1fc42134-0e7b-4a7b-a915-3748e792badd",
   "metadata": {
    "colab": {
     "base_uri": "https://localhost:8080/",
     "height": 204
    },
    "id": "2KLtpDRdcAxO",
    "outputId": "2c918fe7-caed-4de5-a774-7d764e82aa8d"
   },
   "outputs": [
    {
     "data": {
      "text/html": [
       "<div>\n",
       "<style scoped>\n",
       "    .dataframe tbody tr th:only-of-type {\n",
       "        vertical-align: middle;\n",
       "    }\n",
       "\n",
       "    .dataframe tbody tr th {\n",
       "        vertical-align: top;\n",
       "    }\n",
       "\n",
       "    .dataframe thead th {\n",
       "        text-align: right;\n",
       "    }\n",
       "</style>\n",
       "<table border=\"1\" class=\"dataframe\">\n",
       "  <thead>\n",
       "    <tr style=\"text-align: right;\">\n",
       "      <th></th>\n",
       "      <th>codestate</th>\n",
       "      <th>codecounty</th>\n",
       "      <th>county</th>\n",
       "      <th>population</th>\n",
       "      <th>area</th>\n",
       "    </tr>\n",
       "  </thead>\n",
       "  <tbody>\n",
       "    <tr>\n",
       "      <th>3229</th>\n",
       "      <td>72</td>\n",
       "      <td>72151</td>\n",
       "      <td>Yabucoa</td>\n",
       "      <td>37941.0</td>\n",
       "      <td>55.215000</td>\n",
       "    </tr>\n",
       "    <tr>\n",
       "      <th>3230</th>\n",
       "      <td>72</td>\n",
       "      <td>72153</td>\n",
       "      <td>Ya_uco</td>\n",
       "      <td>42043.0</td>\n",
       "      <td>68.192000</td>\n",
       "    </tr>\n",
       "    <tr>\n",
       "      <th>3231</th>\n",
       "      <td>78</td>\n",
       "      <td>78010</td>\n",
       "      <td>; St. Croix ?</td>\n",
       "      <td>50601.0</td>\n",
       "      <td>83.345868</td>\n",
       "    </tr>\n",
       "    <tr>\n",
       "      <th>3232</th>\n",
       "      <td>78</td>\n",
       "      <td>78020</td>\n",
       "      <td>St. John</td>\n",
       "      <td>4170.0</td>\n",
       "      <td>19.689867</td>\n",
       "    </tr>\n",
       "    <tr>\n",
       "      <th>3233</th>\n",
       "      <td>78</td>\n",
       "      <td>78030</td>\n",
       "      <td>St. Thomas</td>\n",
       "      <td>51634.0</td>\n",
       "      <td>31.313503</td>\n",
       "    </tr>\n",
       "  </tbody>\n",
       "</table>\n",
       "</div>"
      ],
      "text/plain": [
       "      codestate  codecounty                 county  population       area\n",
       "3229         72       72151               Yabucoa      37941.0  55.215000\n",
       "3230         72       72153                Ya_uco      42043.0  68.192000\n",
       "3231         78       78010     ; St. Croix ?          50601.0  83.345868\n",
       "3232         78       78020               St. John      4170.0  19.689867\n",
       "3233         78       78030             St. Thomas     51634.0  31.313503"
      ]
     },
     "execution_count": 102,
     "metadata": {},
     "output_type": "execute_result"
    }
   ],
   "source": [
    "counties.tail()"
   ]
  },
  {
   "cell_type": "code",
   "execution_count": 103,
   "id": "14517691-59d2-4dce-8e92-d6852cd24139",
   "metadata": {
    "colab": {
     "base_uri": "https://localhost:8080/"
    },
    "id": "MCWLpBvBeEO9",
    "outputId": "5ccdca98-4412-4ae9-8de1-bd446d2afe89"
   },
   "outputs": [
    {
     "data": {
      "text/plain": [
       "0       False\n",
       "1       False\n",
       "2       False\n",
       "3       False\n",
       "4       False\n",
       "        ...  \n",
       "3229    False\n",
       "3230    False\n",
       "3231     True\n",
       "3232     True\n",
       "3233     True\n",
       "Name: codestate, Length: 3234, dtype: bool"
      ]
     },
     "execution_count": 103,
     "metadata": {},
     "output_type": "execute_result"
    }
   ],
   "source": [
    "counties[\"codestate\"] > 72 #Verdadero o falso si cumple la condición"
   ]
  },
  {
   "cell_type": "code",
   "execution_count": 104,
   "id": "6fe549ef-106e-4c39-98a3-de64e6e78f2c",
   "metadata": {
    "colab": {
     "base_uri": "https://localhost:8080/"
    },
    "id": "HuP0xHljcuuk",
    "outputId": "3321f270-0a43-46a1-b098-c1515a0e2a4c"
   },
   "outputs": [
    {
     "name": "stdout",
     "output_type": "stream",
     "text": [
      "<class 'pandas.core.frame.DataFrame'>\n",
      "Int64Index: 3 entries, 3231 to 3233\n",
      "Data columns (total 5 columns):\n",
      " #   Column      Non-Null Count  Dtype  \n",
      "---  ------      --------------  -----  \n",
      " 0   codestate   3 non-null      int64  \n",
      " 1   codecounty  3 non-null      int64  \n",
      " 2   county      3 non-null      object \n",
      " 3   population  3 non-null      float64\n",
      " 4   area        3 non-null      float64\n",
      "dtypes: float64(2), int64(2), object(1)\n",
      "memory usage: 144.0+ bytes\n"
     ]
    }
   ],
   "source": [
    "codsat72 = counties[counties[\"codestate\"] > 72] # Llama aquellos cuyo valor es verdadero\n",
    "codsat72.info()"
   ]
  },
  {
   "cell_type": "markdown",
   "id": "4c1b91c5-5a1a-4972-bf69-cba5885fcf35",
   "metadata": {
    "id": "Y6Atc2zvy6HP",
    "slideshow": {
     "slide_type": "slide"
    },
    "tags": []
   },
   "source": [
    "## Manipulación datos textuales (Limpieza)"
   ]
  },
  {
   "cell_type": "markdown",
   "id": "8033108d-1634-464c-979b-52d957b2fdb1",
   "metadata": {
    "id": "r_KAz4gxzNHD"
   },
   "source": [
    "Para realizarle limpieza a columna *county* de la base de datos counties, podemos utilizar lo siguiente:\n",
    "\n",
    "* **lower:**Poner en minúscula todo el texto.\n",
    "* **replace:**Remplazar ciertos valores por otros.\n",
    "* **strip:**Eliminar los espacios al principio y al final de la cadena.\n",
    "* **title:**Poner primera letra de cada palabra en mayúscula."
   ]
  },
  {
   "cell_type": "code",
   "execution_count": 105,
   "id": "22f92a01-85ef-408f-923c-513cf166b935",
   "metadata": {
    "id": "aQjkSm5zzgWp",
    "slideshow": {
     "slide_type": "subslide"
    },
    "tags": []
   },
   "outputs": [
    {
     "name": "stderr",
     "output_type": "stream",
     "text": [
      "/tmp/ipykernel_36266/207899732.py:1: FutureWarning: The default value of regex will change from True to False in a future version.\n",
      "  counties[\"county\"] = (counties[\"county\"]\n"
     ]
    }
   ],
   "source": [
    "counties[\"county\"] = (counties[\"county\"]\n",
    "                            .str.lower()\n",
    "                            .str.replace(\"[^a-záéíóúüñ ]\",\"\")\n",
    "                            .str.replace(\" +\",\" \")\n",
    "                            .str.strip()\n",
    "                            .str.title()\n",
    "                           ) "
   ]
  },
  {
   "cell_type": "code",
   "execution_count": 106,
   "id": "110e9103-c22c-4bac-bf57-3efe9fa18aa9",
   "metadata": {
    "colab": {
     "base_uri": "https://localhost:8080/"
    },
    "id": "cQZQGImM1cRM",
    "outputId": "e44b1ec1-0316-4e6f-e1e4-1daeab6b5b22"
   },
   "outputs": [
    {
     "name": "stdout",
     "output_type": "stream",
     "text": [
      "      codestate  codecounty     county  population         area\n",
      "0             1        1001    Autauga     54571.0   594.436000\n",
      "1             1        1003    Baldwin    182265.0  1589.784000\n",
      "2             1        1005    Barbour     27457.0   884.876000\n",
      "3             1        1007       Bibb     22915.0   622.582000\n",
      "4             1        1009     Blount     57322.0   644.776000\n",
      "...         ...         ...        ...         ...          ...\n",
      "3229         72       72151    Yabucoa     37941.0    55.215000\n",
      "3230         72       72153      Yauco     42043.0    68.192000\n",
      "3231         78       78010   St Croix     50601.0    83.345868\n",
      "3232         78       78020    St John      4170.0    19.689867\n",
      "3233         78       78030  St Thomas     51634.0    31.313503\n",
      "\n",
      "[3234 rows x 5 columns]\n"
     ]
    }
   ],
   "source": [
    "print(counties)"
   ]
  },
  {
   "cell_type": "markdown",
   "id": "890ff75c-98b8-4186-8866-533c7913c2d8",
   "metadata": {
    "id": "tIMVgKLV2yRB",
    "slideshow": {
     "slide_type": "slide"
    },
    "tags": []
   },
   "source": [
    "## **Creación de columnas a partir de otras**"
   ]
  },
  {
   "cell_type": "code",
   "execution_count": 107,
   "id": "206f6f0d-703a-4f57-959b-4b5a7f030281",
   "metadata": {
    "colab": {
     "base_uri": "https://localhost:8080/"
    },
    "id": "9PPLxl1s24YT",
    "outputId": "30ed1f63-e00f-4a32-fe55-4dc6202f7aaf"
   },
   "outputs": [
    {
     "name": "stdout",
     "output_type": "stream",
     "text": [
      "         densidad  population         area\n",
      "0       91.802986     54571.0   594.436000\n",
      "1      114.647650    182265.0  1589.784000\n",
      "2       31.029206     27457.0   884.876000\n",
      "3       36.806397     22915.0   622.582000\n",
      "4       88.902192     57322.0   644.776000\n",
      "...           ...         ...          ...\n",
      "3229   687.150231     37941.0    55.215000\n",
      "3230   616.538597     42043.0    68.192000\n",
      "3231   607.120676     50601.0    83.345868\n",
      "3232   211.784062      4170.0    19.689867\n",
      "3233  1648.937201     51634.0    31.313503\n",
      "\n",
      "[3234 rows x 3 columns]\n"
     ]
    }
   ],
   "source": [
    "counties[\"densidad\"]= counties[\"population\"]/counties[\"area\"]\n",
    "print(counties[[\"densidad\",\"population\",\"area\"]])"
   ]
  },
  {
   "cell_type": "markdown",
   "id": "f4355b52-9a29-4f9a-9f55-239d170db0c6",
   "metadata": {
    "id": "8AL49oG6dmFC",
    "slideshow": {
     "slide_type": "subslide"
    },
    "tags": []
   },
   "source": [
    "### Renombrar columnas"
   ]
  },
  {
   "cell_type": "code",
   "execution_count": 108,
   "id": "4ea20fde-bc31-4018-8abe-035dce514464",
   "metadata": {
    "colab": {
     "base_uri": "https://localhost:8080/"
    },
    "id": "ewrd1B4w4uNu",
    "outputId": "8c9ce259-9174-4d20-a239-cb97c8ad0e6b"
   },
   "outputs": [
    {
     "name": "stdout",
     "output_type": "stream",
     "text": [
      "Index(['codestate', 'codecounty', 'county', 'population', 'area', 'densidad'], dtype='object')\n",
      "Index(['codestate', 'codecounty', 'county', 'population', 'area',\n",
      "       'densidad_pob'],\n",
      "      dtype='object')\n"
     ]
    }
   ],
   "source": [
    "print(counties.columns)\n",
    "counties.rename(columns={\"densidad\":\"densidad_pob\"},inplace=True) #renombrar columna\n",
    "print(counties.columns) #Verificación"
   ]
  },
  {
   "cell_type": "markdown",
   "id": "53ce694b-c1e6-4d63-b40e-059c1be1e255",
   "metadata": {
    "id": "4UHdmkDo5Io2",
    "slideshow": {
     "slide_type": "subslide"
    },
    "tags": []
   },
   "source": [
    "### **Modificar tipo de dato de una columna**"
   ]
  },
  {
   "cell_type": "code",
   "execution_count": 109,
   "id": "f1cbea0e-8b5b-464f-89e5-e519b19262ec",
   "metadata": {
    "colab": {
     "base_uri": "https://localhost:8080/"
    },
    "id": "2lnOEwUI5AYo",
    "outputId": "858856ef-06bc-42d6-e169-f94fd80ff419"
   },
   "outputs": [
    {
     "name": "stdout",
     "output_type": "stream",
     "text": [
      "<class 'pandas.core.frame.DataFrame'>\n",
      "RangeIndex: 3234 entries, 0 to 3233\n",
      "Data columns (total 6 columns):\n",
      " #   Column        Non-Null Count  Dtype  \n",
      "---  ------        --------------  -----  \n",
      " 0   codestate     3234 non-null   int64  \n",
      " 1   codecounty    3234 non-null   int64  \n",
      " 2   county        3234 non-null   object \n",
      " 3   population    3232 non-null   float64\n",
      " 4   area          3234 non-null   float64\n",
      " 5   densidad_pob  3232 non-null   float64\n",
      "dtypes: float64(3), int64(2), object(1)\n",
      "memory usage: 151.7+ KB\n",
      "None\n",
      "\n",
      "\n",
      "<class 'pandas.core.frame.DataFrame'>\n",
      "RangeIndex: 3234 entries, 0 to 3233\n",
      "Data columns (total 6 columns):\n",
      " #   Column        Non-Null Count  Dtype  \n",
      "---  ------        --------------  -----  \n",
      " 0   codestate     3234 non-null   float64\n",
      " 1   codecounty    3234 non-null   int64  \n",
      " 2   county        3234 non-null   object \n",
      " 3   population    3232 non-null   float64\n",
      " 4   area          3234 non-null   float64\n",
      " 5   densidad_pob  3232 non-null   float64\n",
      "dtypes: float64(4), int64(1), object(1)\n",
      "memory usage: 151.7+ KB\n",
      "None\n"
     ]
    }
   ],
   "source": [
    "print(counties.info())\n",
    "print(\"\\n\")\n",
    "counties[\"codestate\"]=counties[\"codestate\"].astype(\"float\")\n",
    "print(counties.info())"
   ]
  },
  {
   "cell_type": "markdown",
   "id": "77917d03-1b4e-4a8e-9e63-6739cde325b3",
   "metadata": {
    "id": "ZfVG-6vg5wb6",
    "slideshow": {
     "slide_type": "slide"
    },
    "tags": []
   },
   "source": [
    "### **Eliminar filas y columnas**"
   ]
  },
  {
   "cell_type": "markdown",
   "id": "cc5b52cc-ab59-4ccc-b2f0-4e347fe8fc3e",
   "metadata": {
    "id": "pFzdWnnkfW2D"
   },
   "source": [
    "Eliminación filas, puede ser por posición o que cumpla una característica."
   ]
  },
  {
   "cell_type": "code",
   "execution_count": 110,
   "id": "d80bd3a5-aff7-4504-878b-1ffa42439b3f",
   "metadata": {
    "colab": {
     "base_uri": "https://localhost:8080/"
    },
    "id": "qk8rcvr67BaZ",
    "outputId": "a13ec9be-d4c4-4cee-8c16-8a3310bf03a3"
   },
   "outputs": [
    {
     "name": "stdout",
     "output_type": "stream",
     "text": [
      "(3234, 6)\n",
      "(3231, 6)\n"
     ]
    }
   ],
   "source": [
    "print(counties.shape)\n",
    "counties = counties.drop(counties.iloc[0:3,].index)\n",
    "counties = counties.drop(counties[counties['codecounty']==70].index)\n",
    "print(counties.shape)"
   ]
  },
  {
   "cell_type": "code",
   "execution_count": 111,
   "id": "318e3794-8910-426e-8f1e-70b26fc346a5",
   "metadata": {
    "colab": {
     "base_uri": "https://localhost:8080/"
    },
    "id": "FYZTnrdE7esV",
    "outputId": "284a10c7-ccdf-46d1-e98f-a7bc3b4c3590"
   },
   "outputs": [
    {
     "data": {
      "text/plain": [
       "Index(['codestate', 'codecounty', 'county', 'population', 'area'], dtype='object')"
      ]
     },
     "execution_count": 111,
     "metadata": {},
     "output_type": "execute_result"
    }
   ],
   "source": [
    "counties.drop(['densidad_pob'], axis=1,inplace=True) #inplace=True, para que me modifique la BD\n",
    "counties.columns"
   ]
  },
  {
   "cell_type": "markdown",
   "id": "9a9bc63f-7b19-4722-a338-332d8b184bbc",
   "metadata": {
    "slideshow": {
     "slide_type": "slide"
    },
    "tags": []
   },
   "source": [
    "## Modificar tablas\n",
    "\n",
    "es posible hacer cambios de orden y estructura en las tablas de pandas."
   ]
  },
  {
   "cell_type": "code",
   "execution_count": 112,
   "id": "77a6805c-b1ff-41c3-ace9-a73af5d934a2",
   "metadata": {},
   "outputs": [],
   "source": [
    "folder_path=\"/home/thejarmanitor/Documents/Jupyter/Curso-Basico-IA/datos/\""
   ]
  },
  {
   "cell_type": "code",
   "execution_count": 113,
   "id": "9eafb290-d827-4b3b-827e-f44a411c3b04",
   "metadata": {},
   "outputs": [
    {
     "data": {
      "text/html": [
       "<div>\n",
       "<style scoped>\n",
       "    .dataframe tbody tr th:only-of-type {\n",
       "        vertical-align: middle;\n",
       "    }\n",
       "\n",
       "    .dataframe tbody tr th {\n",
       "        vertical-align: top;\n",
       "    }\n",
       "\n",
       "    .dataframe thead th {\n",
       "        text-align: right;\n",
       "    }\n",
       "</style>\n",
       "<table border=\"1\" class=\"dataframe\">\n",
       "  <thead>\n",
       "    <tr style=\"text-align: right;\">\n",
       "      <th></th>\n",
       "      <th>year</th>\n",
       "      <th>democrat</th>\n",
       "      <th>republic</th>\n",
       "      <th>other</th>\n",
       "      <th>codecounty</th>\n",
       "    </tr>\n",
       "  </thead>\n",
       "  <tbody>\n",
       "    <tr>\n",
       "      <th>0</th>\n",
       "      <td>2000</td>\n",
       "      <td>4942</td>\n",
       "      <td>11993</td>\n",
       "      <td>273</td>\n",
       "      <td>1001</td>\n",
       "    </tr>\n",
       "    <tr>\n",
       "      <th>1</th>\n",
       "      <td>2000</td>\n",
       "      <td>13997</td>\n",
       "      <td>40872</td>\n",
       "      <td>1611</td>\n",
       "      <td>1003</td>\n",
       "    </tr>\n",
       "    <tr>\n",
       "      <th>2</th>\n",
       "      <td>2000</td>\n",
       "      <td>5188</td>\n",
       "      <td>5096</td>\n",
       "      <td>111</td>\n",
       "      <td>1005</td>\n",
       "    </tr>\n",
       "    <tr>\n",
       "      <th>3</th>\n",
       "      <td>2000</td>\n",
       "      <td>2710</td>\n",
       "      <td>4273</td>\n",
       "      <td>118</td>\n",
       "      <td>1007</td>\n",
       "    </tr>\n",
       "    <tr>\n",
       "      <th>4</th>\n",
       "      <td>2000</td>\n",
       "      <td>4977</td>\n",
       "      <td>12667</td>\n",
       "      <td>329</td>\n",
       "      <td>1009</td>\n",
       "    </tr>\n",
       "  </tbody>\n",
       "</table>\n",
       "</div>"
      ],
      "text/plain": [
       "   year  democrat  republic  other  codecounty\n",
       "0  2000      4942     11993    273        1001\n",
       "1  2000     13997     40872   1611        1003\n",
       "2  2000      5188      5096    111        1005\n",
       "3  2000      2710      4273    118        1007\n",
       "4  2000      4977     12667    329        1009"
      ]
     },
     "execution_count": 113,
     "metadata": {},
     "output_type": "execute_result"
    }
   ],
   "source": [
    "elections=pd.read_excel(folder_path+\"elections.xlsx\")\n",
    "elections.head(5)"
   ]
  },
  {
   "cell_type": "markdown",
   "id": "90a8da12-f85c-418b-bd45-37951169ee88",
   "metadata": {
    "slideshow": {
     "slide_type": "subslide"
    },
    "tags": []
   },
   "source": [
    "organicemos los datos descendentemente depende de la cantidad de votos democratas"
   ]
  },
  {
   "cell_type": "code",
   "execution_count": 114,
   "id": "5b63b924-13d1-4f54-8465-393900b37c8f",
   "metadata": {},
   "outputs": [
    {
     "data": {
      "text/html": [
       "<div>\n",
       "<style scoped>\n",
       "    .dataframe tbody tr th:only-of-type {\n",
       "        vertical-align: middle;\n",
       "    }\n",
       "\n",
       "    .dataframe tbody tr th {\n",
       "        vertical-align: top;\n",
       "    }\n",
       "\n",
       "    .dataframe thead th {\n",
       "        text-align: right;\n",
       "    }\n",
       "</style>\n",
       "<table border=\"1\" class=\"dataframe\">\n",
       "  <thead>\n",
       "    <tr style=\"text-align: right;\">\n",
       "      <th></th>\n",
       "      <th>year</th>\n",
       "      <th>democrat</th>\n",
       "      <th>republic</th>\n",
       "      <th>other</th>\n",
       "      <th>codecounty</th>\n",
       "    </tr>\n",
       "  </thead>\n",
       "  <tbody>\n",
       "    <tr>\n",
       "      <th>12626</th>\n",
       "      <td>2016</td>\n",
       "      <td>2464364</td>\n",
       "      <td>769743</td>\n",
       "      <td>200201</td>\n",
       "      <td>6037</td>\n",
       "    </tr>\n",
       "    <tr>\n",
       "      <th>6400</th>\n",
       "      <td>2008</td>\n",
       "      <td>2295853</td>\n",
       "      <td>956425</td>\n",
       "      <td>65970</td>\n",
       "      <td>6037</td>\n",
       "    </tr>\n",
       "    <tr>\n",
       "      <th>9513</th>\n",
       "      <td>2012</td>\n",
       "      <td>2216903</td>\n",
       "      <td>885333</td>\n",
       "      <td>78831</td>\n",
       "      <td>6037</td>\n",
       "    </tr>\n",
       "    <tr>\n",
       "      <th>3287</th>\n",
       "      <td>2004</td>\n",
       "      <td>1907736</td>\n",
       "      <td>1076225</td>\n",
       "      <td>37686</td>\n",
       "      <td>6037</td>\n",
       "    </tr>\n",
       "    <tr>\n",
       "      <th>175</th>\n",
       "      <td>2000</td>\n",
       "      <td>1710505</td>\n",
       "      <td>871930</td>\n",
       "      <td>112719</td>\n",
       "      <td>6037</td>\n",
       "    </tr>\n",
       "    <tr>\n",
       "      <th>...</th>\n",
       "      <td>...</td>\n",
       "      <td>...</td>\n",
       "      <td>...</td>\n",
       "      <td>...</td>\n",
       "      <td>...</td>\n",
       "    </tr>\n",
       "    <tr>\n",
       "      <th>11981</th>\n",
       "      <td>2012</td>\n",
       "      <td>9</td>\n",
       "      <td>54</td>\n",
       "      <td>1</td>\n",
       "      <td>48301</td>\n",
       "    </tr>\n",
       "    <tr>\n",
       "      <th>8852</th>\n",
       "      <td>2008</td>\n",
       "      <td>8</td>\n",
       "      <td>151</td>\n",
       "      <td>4</td>\n",
       "      <td>48269</td>\n",
       "    </tr>\n",
       "    <tr>\n",
       "      <th>11965</th>\n",
       "      <td>2012</td>\n",
       "      <td>5</td>\n",
       "      <td>139</td>\n",
       "      <td>1</td>\n",
       "      <td>48269</td>\n",
       "    </tr>\n",
       "    <tr>\n",
       "      <th>15078</th>\n",
       "      <td>2016</td>\n",
       "      <td>5</td>\n",
       "      <td>149</td>\n",
       "      <td>5</td>\n",
       "      <td>48269</td>\n",
       "    </tr>\n",
       "    <tr>\n",
       "      <th>15094</th>\n",
       "      <td>2016</td>\n",
       "      <td>4</td>\n",
       "      <td>58</td>\n",
       "      <td>3</td>\n",
       "      <td>48301</td>\n",
       "    </tr>\n",
       "  </tbody>\n",
       "</table>\n",
       "<p>15563 rows × 5 columns</p>\n",
       "</div>"
      ],
      "text/plain": [
       "       year  democrat  republic   other  codecounty\n",
       "12626  2016   2464364    769743  200201        6037\n",
       "6400   2008   2295853    956425   65970        6037\n",
       "9513   2012   2216903    885333   78831        6037\n",
       "3287   2004   1907736   1076225   37686        6037\n",
       "175    2000   1710505    871930  112719        6037\n",
       "...     ...       ...       ...     ...         ...\n",
       "11981  2012         9        54       1       48301\n",
       "8852   2008         8       151       4       48269\n",
       "11965  2012         5       139       1       48269\n",
       "15078  2016         5       149       5       48269\n",
       "15094  2016         4        58       3       48301\n",
       "\n",
       "[15563 rows x 5 columns]"
      ]
     },
     "execution_count": 114,
     "metadata": {},
     "output_type": "execute_result"
    }
   ],
   "source": [
    "elections.sort_values([\"democrat\"], ascending=False)"
   ]
  },
  {
   "cell_type": "markdown",
   "id": "dd55fada-a780-4aa4-be40-18b7563704d0",
   "metadata": {},
   "source": [
    "usando `groupby()` podemos juntar los datos por año y sumarlos para tener el total de votos por año"
   ]
  },
  {
   "cell_type": "code",
   "execution_count": 115,
   "id": "adb46987-893e-4724-bccf-5ec3c3a95e01",
   "metadata": {},
   "outputs": [
    {
     "data": {
      "text/html": [
       "<div>\n",
       "<style scoped>\n",
       "    .dataframe tbody tr th:only-of-type {\n",
       "        vertical-align: middle;\n",
       "    }\n",
       "\n",
       "    .dataframe tbody tr th {\n",
       "        vertical-align: top;\n",
       "    }\n",
       "\n",
       "    .dataframe thead th {\n",
       "        text-align: right;\n",
       "    }\n",
       "</style>\n",
       "<table border=\"1\" class=\"dataframe\">\n",
       "  <thead>\n",
       "    <tr style=\"text-align: right;\">\n",
       "      <th></th>\n",
       "      <th>democrat</th>\n",
       "      <th>republic</th>\n",
       "    </tr>\n",
       "    <tr>\n",
       "      <th>year</th>\n",
       "      <th></th>\n",
       "      <th></th>\n",
       "    </tr>\n",
       "  </thead>\n",
       "  <tbody>\n",
       "    <tr>\n",
       "      <th>2000</th>\n",
       "      <td>50922964</td>\n",
       "      <td>50290498</td>\n",
       "    </tr>\n",
       "    <tr>\n",
       "      <th>2004</th>\n",
       "      <td>58614073</td>\n",
       "      <td>61603653</td>\n",
       "    </tr>\n",
       "    <tr>\n",
       "      <th>2008</th>\n",
       "      <td>69204582</td>\n",
       "      <td>59703000</td>\n",
       "    </tr>\n",
       "    <tr>\n",
       "      <th>2012</th>\n",
       "      <td>65508961</td>\n",
       "      <td>60460609</td>\n",
       "    </tr>\n",
       "    <tr>\n",
       "      <th>2016</th>\n",
       "      <td>65626398</td>\n",
       "      <td>62790289</td>\n",
       "    </tr>\n",
       "  </tbody>\n",
       "</table>\n",
       "</div>"
      ],
      "text/plain": [
       "      democrat  republic\n",
       "year                    \n",
       "2000  50922964  50290498\n",
       "2004  58614073  61603653\n",
       "2008  69204582  59703000\n",
       "2012  65508961  60460609\n",
       "2016  65626398  62790289"
      ]
     },
     "execution_count": 115,
     "metadata": {},
     "output_type": "execute_result"
    }
   ],
   "source": [
    "elections.groupby('year')[['democrat', 'republic']].sum()"
   ]
  },
  {
   "cell_type": "markdown",
   "id": "1d2f5076-37ec-4db6-8280-14a93204b2ec",
   "metadata": {
    "slideshow": {
     "slide_type": "subslide"
    },
    "tags": []
   },
   "source": [
    "Podemos aplicar ambos métodos en un mismo código"
   ]
  },
  {
   "cell_type": "code",
   "execution_count": 116,
   "id": "0ffadb87-890a-4b16-b941-1d9b1d3011ba",
   "metadata": {},
   "outputs": [
    {
     "data": {
      "text/html": [
       "<div>\n",
       "<style scoped>\n",
       "    .dataframe tbody tr th:only-of-type {\n",
       "        vertical-align: middle;\n",
       "    }\n",
       "\n",
       "    .dataframe tbody tr th {\n",
       "        vertical-align: top;\n",
       "    }\n",
       "\n",
       "    .dataframe thead th {\n",
       "        text-align: right;\n",
       "    }\n",
       "</style>\n",
       "<table border=\"1\" class=\"dataframe\">\n",
       "  <thead>\n",
       "    <tr style=\"text-align: right;\">\n",
       "      <th></th>\n",
       "      <th>democrat</th>\n",
       "      <th>republic</th>\n",
       "    </tr>\n",
       "    <tr>\n",
       "      <th>year</th>\n",
       "      <th></th>\n",
       "      <th></th>\n",
       "    </tr>\n",
       "  </thead>\n",
       "  <tbody>\n",
       "    <tr>\n",
       "      <th>2008</th>\n",
       "      <td>69204582</td>\n",
       "      <td>59703000</td>\n",
       "    </tr>\n",
       "    <tr>\n",
       "      <th>2016</th>\n",
       "      <td>65626398</td>\n",
       "      <td>62790289</td>\n",
       "    </tr>\n",
       "    <tr>\n",
       "      <th>2012</th>\n",
       "      <td>65508961</td>\n",
       "      <td>60460609</td>\n",
       "    </tr>\n",
       "    <tr>\n",
       "      <th>2004</th>\n",
       "      <td>58614073</td>\n",
       "      <td>61603653</td>\n",
       "    </tr>\n",
       "    <tr>\n",
       "      <th>2000</th>\n",
       "      <td>50922964</td>\n",
       "      <td>50290498</td>\n",
       "    </tr>\n",
       "  </tbody>\n",
       "</table>\n",
       "</div>"
      ],
      "text/plain": [
       "      democrat  republic\n",
       "year                    \n",
       "2008  69204582  59703000\n",
       "2016  65626398  62790289\n",
       "2012  65508961  60460609\n",
       "2004  58614073  61603653\n",
       "2000  50922964  50290498"
      ]
     },
     "metadata": {},
     "output_type": "display_data"
    }
   ],
   "source": [
    "elections_sort=(elections.groupby('year')[['democrat', 'republic']]\n",
    "                .sum()\n",
    "                .sort_values('democrat', ascending=False))\n",
    "display(elections_sort)"
   ]
  },
  {
   "cell_type": "markdown",
   "id": "de80bb30-48b4-444c-b2f8-6b25a088377d",
   "metadata": {
    "slideshow": {
     "slide_type": "slide"
    },
    "tags": []
   },
   "source": [
    "## Series  de tiempo y time stamps"
   ]
  },
  {
   "cell_type": "markdown",
   "id": "3dc8ba52-383f-4f87-a6b7-bd3b3986ee07",
   "metadata": {},
   "source": [
    "Existe un tipo de datos llamado \"timestamp\" que se usa para medir registros de tiempo. Es posible pasar strings a este tipo de dato en diferentes formatos y trabajar con este usándolo como indice"
   ]
  },
  {
   "cell_type": "code",
   "execution_count": 117,
   "id": "3f1ca01e-b171-465f-bdb9-bd58ee58b5d7",
   "metadata": {},
   "outputs": [
    {
     "data": {
      "text/html": [
       "<div>\n",
       "<style scoped>\n",
       "    .dataframe tbody tr th:only-of-type {\n",
       "        vertical-align: middle;\n",
       "    }\n",
       "\n",
       "    .dataframe tbody tr th {\n",
       "        vertical-align: top;\n",
       "    }\n",
       "\n",
       "    .dataframe thead th {\n",
       "        text-align: right;\n",
       "    }\n",
       "</style>\n",
       "<table border=\"1\" class=\"dataframe\">\n",
       "  <thead>\n",
       "    <tr style=\"text-align: right;\">\n",
       "      <th></th>\n",
       "      <th>Time</th>\n",
       "      <th>R1</th>\n",
       "      <th>R2</th>\n",
       "      <th>R3</th>\n",
       "    </tr>\n",
       "  </thead>\n",
       "  <tbody>\n",
       "    <tr>\n",
       "      <th>0</th>\n",
       "      <td>Jan-79</td>\n",
       "      <td>26.64</td>\n",
       "      <td>15.50</td>\n",
       "      <td>11.15</td>\n",
       "    </tr>\n",
       "    <tr>\n",
       "      <th>1</th>\n",
       "      <td>Feb-79</td>\n",
       "      <td>27.20</td>\n",
       "      <td>16.58</td>\n",
       "      <td>10.62</td>\n",
       "    </tr>\n",
       "    <tr>\n",
       "      <th>2</th>\n",
       "      <td>Mar-79</td>\n",
       "      <td>27.87</td>\n",
       "      <td>18.85</td>\n",
       "      <td>9.02</td>\n",
       "    </tr>\n",
       "    <tr>\n",
       "      <th>3</th>\n",
       "      <td>Apr-79</td>\n",
       "      <td>23.22</td>\n",
       "      <td>17.23</td>\n",
       "      <td>5.99</td>\n",
       "    </tr>\n",
       "    <tr>\n",
       "      <th>4</th>\n",
       "      <td>May-79</td>\n",
       "      <td>23.27</td>\n",
       "      <td>16.04</td>\n",
       "      <td>7.23</td>\n",
       "    </tr>\n",
       "  </tbody>\n",
       "</table>\n",
       "</div>"
      ],
      "text/plain": [
       "     Time     R1     R2     R3\n",
       "0  Jan-79  26.64  15.50  11.15\n",
       "1  Feb-79  27.20  16.58  10.62\n",
       "2  Mar-79  27.87  18.85   9.02\n",
       "3  Apr-79  23.22  17.23   5.99\n",
       "4  May-79  23.27  16.04   7.23"
      ]
     },
     "execution_count": 117,
     "metadata": {},
     "output_type": "execute_result"
    }
   ],
   "source": [
    "airrpm=pd.read_csv(folder_path+'airrpm.txt', header=None, delimiter= '\\s+', decimal=\",\")\n",
    "airrpm.columns=[\"Time\", \"R1\", \"R2\", \"R3\"]\n",
    "airrpm.head()"
   ]
  },
  {
   "cell_type": "markdown",
   "id": "18126c67-07c6-4518-8bf9-10ee35e70773",
   "metadata": {
    "slideshow": {
     "slide_type": "subslide"
    },
    "tags": []
   },
   "source": [
    "La variable \"Time\" en este momento es un string. Pero podemos transformarlo usando `to_datetime()`. Para obtener más información de qué se podría poner en `format`, pueden revisar este [link](https://docs.python.org/3/library/datetime.html#strftime-and-strptime-behavior)"
   ]
  },
  {
   "cell_type": "code",
   "execution_count": 118,
   "id": "0e39230b-cb37-46a4-868e-c2c8b592e417",
   "metadata": {},
   "outputs": [
    {
     "data": {
      "text/html": [
       "<div>\n",
       "<style scoped>\n",
       "    .dataframe tbody tr th:only-of-type {\n",
       "        vertical-align: middle;\n",
       "    }\n",
       "\n",
       "    .dataframe tbody tr th {\n",
       "        vertical-align: top;\n",
       "    }\n",
       "\n",
       "    .dataframe thead th {\n",
       "        text-align: right;\n",
       "    }\n",
       "</style>\n",
       "<table border=\"1\" class=\"dataframe\">\n",
       "  <thead>\n",
       "    <tr style=\"text-align: right;\">\n",
       "      <th></th>\n",
       "      <th>R1</th>\n",
       "      <th>R2</th>\n",
       "      <th>R3</th>\n",
       "    </tr>\n",
       "    <tr>\n",
       "      <th>Time</th>\n",
       "      <th></th>\n",
       "      <th></th>\n",
       "      <th></th>\n",
       "    </tr>\n",
       "  </thead>\n",
       "  <tbody>\n",
       "    <tr>\n",
       "      <th>1979-01-01</th>\n",
       "      <td>26.64</td>\n",
       "      <td>15.50</td>\n",
       "      <td>11.15</td>\n",
       "    </tr>\n",
       "    <tr>\n",
       "      <th>1979-02-01</th>\n",
       "      <td>27.20</td>\n",
       "      <td>16.58</td>\n",
       "      <td>10.62</td>\n",
       "    </tr>\n",
       "    <tr>\n",
       "      <th>1979-03-01</th>\n",
       "      <td>27.87</td>\n",
       "      <td>18.85</td>\n",
       "      <td>9.02</td>\n",
       "    </tr>\n",
       "    <tr>\n",
       "      <th>1979-04-01</th>\n",
       "      <td>23.22</td>\n",
       "      <td>17.23</td>\n",
       "      <td>5.99</td>\n",
       "    </tr>\n",
       "    <tr>\n",
       "      <th>1979-05-01</th>\n",
       "      <td>23.27</td>\n",
       "      <td>16.04</td>\n",
       "      <td>7.23</td>\n",
       "    </tr>\n",
       "  </tbody>\n",
       "</table>\n",
       "</div>"
      ],
      "text/plain": [
       "               R1     R2     R3\n",
       "Time                           \n",
       "1979-01-01  26.64  15.50  11.15\n",
       "1979-02-01  27.20  16.58  10.62\n",
       "1979-03-01  27.87  18.85   9.02\n",
       "1979-04-01  23.22  17.23   5.99\n",
       "1979-05-01  23.27  16.04   7.23"
      ]
     },
     "execution_count": 118,
     "metadata": {},
     "output_type": "execute_result"
    }
   ],
   "source": [
    "airrpm['Time']=pd.to_datetime(airrpm['Time'], format='%b-%y')\n",
    "airrpm.index=airrpm['Time']\n",
    "airrpm=airrpm.drop(['Time'], axis=1)\n",
    "airrpm.head()"
   ]
  },
  {
   "cell_type": "markdown",
   "id": "6910c21e-fbc3-41e4-8816-1fa43b43ff99",
   "metadata": {
    "slideshow": {
     "slide_type": "subslide"
    },
    "tags": []
   },
   "source": [
    "Definiendo la fecha como índice, podemos extraer información con respecto al año y respecto al mes"
   ]
  },
  {
   "cell_type": "code",
   "execution_count": 119,
   "id": "2aac64c6-85d6-4faf-9f66-9ccb1f830840",
   "metadata": {},
   "outputs": [
    {
     "data": {
      "text/html": [
       "<div>\n",
       "<style scoped>\n",
       "    .dataframe tbody tr th:only-of-type {\n",
       "        vertical-align: middle;\n",
       "    }\n",
       "\n",
       "    .dataframe tbody tr th {\n",
       "        vertical-align: top;\n",
       "    }\n",
       "\n",
       "    .dataframe thead th {\n",
       "        text-align: right;\n",
       "    }\n",
       "</style>\n",
       "<table border=\"1\" class=\"dataframe\">\n",
       "  <thead>\n",
       "    <tr style=\"text-align: right;\">\n",
       "      <th></th>\n",
       "      <th>count</th>\n",
       "      <th>mean</th>\n",
       "      <th>std</th>\n",
       "      <th>min</th>\n",
       "      <th>25%</th>\n",
       "      <th>50%</th>\n",
       "      <th>75%</th>\n",
       "      <th>max</th>\n",
       "    </tr>\n",
       "    <tr>\n",
       "      <th>Time</th>\n",
       "      <th></th>\n",
       "      <th></th>\n",
       "      <th></th>\n",
       "      <th></th>\n",
       "      <th></th>\n",
       "      <th></th>\n",
       "      <th></th>\n",
       "      <th></th>\n",
       "    </tr>\n",
       "  </thead>\n",
       "  <tbody>\n",
       "    <tr>\n",
       "      <th>1</th>\n",
       "      <td>26.0</td>\n",
       "      <td>43.736538</td>\n",
       "      <td>9.778402</td>\n",
       "      <td>26.64</td>\n",
       "      <td>36.6575</td>\n",
       "      <td>44.82</td>\n",
       "      <td>51.86</td>\n",
       "      <td>59.36</td>\n",
       "    </tr>\n",
       "    <tr>\n",
       "      <th>2</th>\n",
       "      <td>25.0</td>\n",
       "      <td>43.680800</td>\n",
       "      <td>9.983696</td>\n",
       "      <td>27.20</td>\n",
       "      <td>35.5400</td>\n",
       "      <td>44.74</td>\n",
       "      <td>52.73</td>\n",
       "      <td>59.74</td>\n",
       "    </tr>\n",
       "    <tr>\n",
       "      <th>3</th>\n",
       "      <td>25.0</td>\n",
       "      <td>44.514400</td>\n",
       "      <td>10.363336</td>\n",
       "      <td>27.87</td>\n",
       "      <td>35.7000</td>\n",
       "      <td>45.01</td>\n",
       "      <td>53.26</td>\n",
       "      <td>60.10</td>\n",
       "    </tr>\n",
       "    <tr>\n",
       "      <th>4</th>\n",
       "      <td>25.0</td>\n",
       "      <td>44.287200</td>\n",
       "      <td>10.480331</td>\n",
       "      <td>23.22</td>\n",
       "      <td>36.6100</td>\n",
       "      <td>45.63</td>\n",
       "      <td>52.79</td>\n",
       "      <td>60.49</td>\n",
       "    </tr>\n",
       "    <tr>\n",
       "      <th>5</th>\n",
       "      <td>25.0</td>\n",
       "      <td>43.891600</td>\n",
       "      <td>10.524814</td>\n",
       "      <td>23.27</td>\n",
       "      <td>34.6000</td>\n",
       "      <td>45.11</td>\n",
       "      <td>52.57</td>\n",
       "      <td>60.36</td>\n",
       "    </tr>\n",
       "    <tr>\n",
       "      <th>6</th>\n",
       "      <td>25.0</td>\n",
       "      <td>45.655600</td>\n",
       "      <td>10.586951</td>\n",
       "      <td>27.30</td>\n",
       "      <td>35.4200</td>\n",
       "      <td>47.29</td>\n",
       "      <td>54.55</td>\n",
       "      <td>61.88</td>\n",
       "    </tr>\n",
       "    <tr>\n",
       "      <th>7</th>\n",
       "      <td>25.0</td>\n",
       "      <td>46.478400</td>\n",
       "      <td>10.333910</td>\n",
       "      <td>29.28</td>\n",
       "      <td>38.2700</td>\n",
       "      <td>47.79</td>\n",
       "      <td>54.94</td>\n",
       "      <td>63.02</td>\n",
       "    </tr>\n",
       "    <tr>\n",
       "      <th>8</th>\n",
       "      <td>25.0</td>\n",
       "      <td>46.773600</td>\n",
       "      <td>10.613169</td>\n",
       "      <td>27.27</td>\n",
       "      <td>38.8600</td>\n",
       "      <td>48.06</td>\n",
       "      <td>55.39</td>\n",
       "      <td>63.71</td>\n",
       "    </tr>\n",
       "    <tr>\n",
       "      <th>9</th>\n",
       "      <td>25.0</td>\n",
       "      <td>44.202400</td>\n",
       "      <td>9.731246</td>\n",
       "      <td>27.13</td>\n",
       "      <td>37.2600</td>\n",
       "      <td>46.39</td>\n",
       "      <td>51.83</td>\n",
       "      <td>59.54</td>\n",
       "    </tr>\n",
       "    <tr>\n",
       "      <th>10</th>\n",
       "      <td>25.0</td>\n",
       "      <td>44.433200</td>\n",
       "      <td>10.093832</td>\n",
       "      <td>26.97</td>\n",
       "      <td>37.8500</td>\n",
       "      <td>45.89</td>\n",
       "      <td>51.56</td>\n",
       "      <td>60.26</td>\n",
       "    </tr>\n",
       "    <tr>\n",
       "      <th>11</th>\n",
       "      <td>25.0</td>\n",
       "      <td>43.841200</td>\n",
       "      <td>9.923719</td>\n",
       "      <td>26.19</td>\n",
       "      <td>37.3300</td>\n",
       "      <td>45.50</td>\n",
       "      <td>51.02</td>\n",
       "      <td>59.21</td>\n",
       "    </tr>\n",
       "    <tr>\n",
       "      <th>12</th>\n",
       "      <td>25.0</td>\n",
       "      <td>44.600400</td>\n",
       "      <td>9.573277</td>\n",
       "      <td>27.32</td>\n",
       "      <td>38.7500</td>\n",
       "      <td>45.33</td>\n",
       "      <td>51.98</td>\n",
       "      <td>57.65</td>\n",
       "    </tr>\n",
       "  </tbody>\n",
       "</table>\n",
       "</div>"
      ],
      "text/plain": [
       "      count       mean        std    min      25%    50%    75%    max\n",
       "Time                                                                  \n",
       "1      26.0  43.736538   9.778402  26.64  36.6575  44.82  51.86  59.36\n",
       "2      25.0  43.680800   9.983696  27.20  35.5400  44.74  52.73  59.74\n",
       "3      25.0  44.514400  10.363336  27.87  35.7000  45.01  53.26  60.10\n",
       "4      25.0  44.287200  10.480331  23.22  36.6100  45.63  52.79  60.49\n",
       "5      25.0  43.891600  10.524814  23.27  34.6000  45.11  52.57  60.36\n",
       "6      25.0  45.655600  10.586951  27.30  35.4200  47.29  54.55  61.88\n",
       "7      25.0  46.478400  10.333910  29.28  38.2700  47.79  54.94  63.02\n",
       "8      25.0  46.773600  10.613169  27.27  38.8600  48.06  55.39  63.71\n",
       "9      25.0  44.202400   9.731246  27.13  37.2600  46.39  51.83  59.54\n",
       "10     25.0  44.433200  10.093832  26.97  37.8500  45.89  51.56  60.26\n",
       "11     25.0  43.841200   9.923719  26.19  37.3300  45.50  51.02  59.21\n",
       "12     25.0  44.600400   9.573277  27.32  38.7500  45.33  51.98  57.65"
      ]
     },
     "execution_count": 119,
     "metadata": {},
     "output_type": "execute_result"
    }
   ],
   "source": [
    "airrpm.groupby([airrpm.index.month])['R1'].describe()"
   ]
  },
  {
   "cell_type": "code",
   "execution_count": 120,
   "id": "8ec7f546-a1f6-4801-b69b-0d4ee745305e",
   "metadata": {
    "slideshow": {
     "slide_type": "subslide"
    },
    "tags": []
   },
   "outputs": [
    {
     "data": {
      "text/html": [
       "<div>\n",
       "<style scoped>\n",
       "    .dataframe tbody tr th:only-of-type {\n",
       "        vertical-align: middle;\n",
       "    }\n",
       "\n",
       "    .dataframe tbody tr th {\n",
       "        vertical-align: top;\n",
       "    }\n",
       "\n",
       "    .dataframe thead th {\n",
       "        text-align: right;\n",
       "    }\n",
       "</style>\n",
       "<table border=\"1\" class=\"dataframe\">\n",
       "  <thead>\n",
       "    <tr style=\"text-align: right;\">\n",
       "      <th></th>\n",
       "      <th>R1</th>\n",
       "      <th>R2</th>\n",
       "      <th>R3</th>\n",
       "    </tr>\n",
       "    <tr>\n",
       "      <th>Time</th>\n",
       "      <th></th>\n",
       "      <th></th>\n",
       "      <th></th>\n",
       "    </tr>\n",
       "  </thead>\n",
       "  <tbody>\n",
       "    <tr>\n",
       "      <th>1979</th>\n",
       "      <td>328.83</td>\n",
       "      <td>210.49</td>\n",
       "      <td>118.34</td>\n",
       "    </tr>\n",
       "    <tr>\n",
       "      <th>1980</th>\n",
       "      <td>340.95</td>\n",
       "      <td>200.92</td>\n",
       "      <td>140.05</td>\n",
       "    </tr>\n",
       "    <tr>\n",
       "      <th>1981</th>\n",
       "      <td>341.96</td>\n",
       "      <td>198.53</td>\n",
       "      <td>143.45</td>\n",
       "    </tr>\n",
       "    <tr>\n",
       "      <th>1982</th>\n",
       "      <td>355.17</td>\n",
       "      <td>210.23</td>\n",
       "      <td>144.91</td>\n",
       "    </tr>\n",
       "    <tr>\n",
       "      <th>1983</th>\n",
       "      <td>374.03</td>\n",
       "      <td>226.76</td>\n",
       "      <td>147.26</td>\n",
       "    </tr>\n",
       "    <tr>\n",
       "      <th>1984</th>\n",
       "      <td>415.88</td>\n",
       "      <td>243.71</td>\n",
       "      <td>172.18</td>\n",
       "    </tr>\n",
       "    <tr>\n",
       "      <th>1985</th>\n",
       "      <td>440.43</td>\n",
       "      <td>271.80</td>\n",
       "      <td>168.61</td>\n",
       "    </tr>\n",
       "    <tr>\n",
       "      <th>1986</th>\n",
       "      <td>492.37</td>\n",
       "      <td>302.20</td>\n",
       "      <td>190.18</td>\n",
       "    </tr>\n",
       "    <tr>\n",
       "      <th>1987</th>\n",
       "      <td>522.07</td>\n",
       "      <td>324.58</td>\n",
       "      <td>197.52</td>\n",
       "    </tr>\n",
       "    <tr>\n",
       "      <th>1988</th>\n",
       "      <td>530.25</td>\n",
       "      <td>328.69</td>\n",
       "      <td>201.57</td>\n",
       "    </tr>\n",
       "  </tbody>\n",
       "</table>\n",
       "</div>"
      ],
      "text/plain": [
       "          R1      R2      R3\n",
       "Time                        \n",
       "1979  328.83  210.49  118.34\n",
       "1980  340.95  200.92  140.05\n",
       "1981  341.96  198.53  143.45\n",
       "1982  355.17  210.23  144.91\n",
       "1983  374.03  226.76  147.26\n",
       "1984  415.88  243.71  172.18\n",
       "1985  440.43  271.80  168.61\n",
       "1986  492.37  302.20  190.18\n",
       "1987  522.07  324.58  197.52\n",
       "1988  530.25  328.69  201.57"
      ]
     },
     "execution_count": 120,
     "metadata": {},
     "output_type": "execute_result"
    }
   ],
   "source": [
    "airrpm.groupby([airrpm.index.year]).sum().head(10)"
   ]
  },
  {
   "cell_type": "markdown",
   "id": "d7c64c2f-f343-4808-ba0c-3af4aa8ec599",
   "metadata": {
    "slideshow": {
     "slide_type": "slide"
    },
    "tags": []
   },
   "source": [
    "# <span style=\"color:red\"><center>Introducción al Procesamiento Paralelo<center></span>"
   ]
  },
  {
   "cell_type": "markdown",
   "id": "a5846291-d76f-46fe-9729-ca80364acc63",
   "metadata": {
    "tags": []
   },
   "source": [
    "<img src=\"http://dask.readthedocs.io/en/latest/_images/dask_horizontal.svg\"\n",
    "     align=\"right\"\n",
    "     width=\"30%\"\n",
    "     alt=\"Dask logo\\\">\n",
    "\n",
    "# Paralelización con `dask.delayed`"
   ]
  },
  {
   "cell_type": "markdown",
   "id": "624fcad1-ead2-4e77-92cc-b2b102062d0f",
   "metadata": {},
   "source": [
    "En esta sección paralelizamos el código de estilo de ciclos de ejecución  con Dask y `dask.delayed`. A menudo, esta es la única función que necesitará para convertir funciones y usarlas con Dask.\n",
    "\n",
    "Esta es una forma sencilla de usar `dask` para paralelizar bases de código existentes o construir [sistemas complejos] (https://blog.dask.org/2018/02/09/credit-models-with-dask). "
   ]
  },
  {
   "cell_type": "code",
   "execution_count": 121,
   "id": "f2066189-e79d-4905-b169-44fbf4856200",
   "metadata": {
    "slideshow": {
     "slide_type": "skip"
    },
    "tags": []
   },
   "outputs": [],
   "source": [
    "from dask.distributed import Client\n",
    "\n",
    "client = Client(n_workers=4)"
   ]
  },
  {
   "cell_type": "markdown",
   "id": "e46d51d9-070e-4193-bef9-8314aac8f2a2",
   "metadata": {
    "slideshow": {
     "slide_type": "slide"
    },
    "tags": []
   },
   "source": [
    "## <span style=\"color:blue\">Bases</span>"
   ]
  },
  {
   "cell_type": "markdown",
   "id": "41a4e0a3-6a4e-49a0-b92f-a475837e0c5f",
   "metadata": {},
   "source": [
    "Primero hagamos algunas funciones de juguete, `inc` y` add`, que duerman un rato para simular el trabajo. Luego, ejecutaremos estas funciones normalmente.\n",
    "\n",
    "En la siguiente sección, paralelizaremos este código."
   ]
  },
  {
   "cell_type": "code",
   "execution_count": 122,
   "id": "89e9c1c7-1a67-47a6-be37-6cd124335833",
   "metadata": {},
   "outputs": [],
   "source": [
    "from time import sleep\n",
    "\n",
    "def inc(x):\n",
    "    sleep(1)\n",
    "    return x+1\n",
    "\n",
    "def add(x, y):\n",
    "    sleep(1)\n",
    "    return(x+y)\n"
   ]
  },
  {
   "cell_type": "markdown",
   "id": "9fa3238b-26f1-4aae-a385-e73e39d3f932",
   "metadata": {
    "slideshow": {
     "slide_type": "subslide"
    },
    "tags": []
   },
   "source": [
    "Calculamos el tiempo de ejecución de este código normal usando el comando mágico `%% time`, que es una función especial del Jupyter Notebook."
   ]
  },
  {
   "cell_type": "code",
   "execution_count": 123,
   "id": "98957d7c-f902-4715-9092-8dd3055df98d",
   "metadata": {},
   "outputs": [
    {
     "name": "stdout",
     "output_type": "stream",
     "text": [
      "CPU times: user 105 ms, sys: 24.1 ms, total: 129 ms\n",
      "Wall time: 3 s\n"
     ]
    }
   ],
   "source": [
    "%%time\n",
    "# esto debe tomar 3 segundos para correr debido a que\n",
    "# llamamos cada función de manera secuencial, una después de la otra.\n",
    "\n",
    "x = inc(1)\n",
    "y = inc(3)\n",
    "z = add(x, y)"
   ]
  },
  {
   "cell_type": "markdown",
   "id": "ca23d9e3-eb51-483f-83a8-5910915cd210",
   "metadata": {
    "slideshow": {
     "slide_type": "slide"
    },
    "tags": []
   },
   "source": [
    "## <span style=\"color:blue\">Paralelización usando dask.delayed</span>"
   ]
  },
  {
   "cell_type": "markdown",
   "id": "fade68a4-f42a-4e97-a044-003933e68a52",
   "metadata": {},
   "source": [
    "Esas dos llamadas de incremento se pueden llamar en paralelo, porque son totalmente independientes entre sí.\n",
    "\n",
    "Transformaremos las funciones *inc* y *add* usando la función `dask.delayed`. Cuando llamamos a la versión retrasada pasando los argumentos, exactamente como antes, la función original todavía no se llama, por lo que la ejecución de la celda finaliza muy rápidamente. En su lugar, se crea un objeto retrasado, que realiza un seguimiento de la función a llamar y los argumentos que se le pasan."
   ]
  },
  {
   "cell_type": "code",
   "execution_count": 124,
   "id": "6b83a6a4-2d55-4553-91fe-ea63647c2ff8",
   "metadata": {},
   "outputs": [],
   "source": [
    "from dask import delayed"
   ]
  },
  {
   "cell_type": "code",
   "execution_count": 125,
   "id": "ac040943-baf7-4143-b0c5-a9b254fa0814",
   "metadata": {},
   "outputs": [
    {
     "name": "stdout",
     "output_type": "stream",
     "text": [
      "CPU times: user 553 µs, sys: 63 µs, total: 616 µs\n",
      "Wall time: 458 µs\n"
     ]
    }
   ],
   "source": [
    "%%time\n",
    "\n",
    "# Esto corre inmediatamente, todo lo que hace es construir un grafo\n",
    "x = delayed(inc)(1)\n",
    "y = delayed(inc)(2)\n",
    "z = delayed(add)(x,y)"
   ]
  },
  {
   "cell_type": "markdown",
   "id": "4f6ab9b0-fef2-494b-91bb-a49f4c365213",
   "metadata": {
    "slideshow": {
     "slide_type": "skip"
    },
    "tags": []
   },
   "source": [
    "## <span style=\"color:blue\">Cerrar el cliente</span>"
   ]
  },
  {
   "cell_type": "markdown",
   "id": "3c248ae5-d720-4e58-bc4f-a550a6c94246",
   "metadata": {},
   "source": [
    "Recuerden cerrar el cliente para acabar con el kernel y se recuperen los recursos del computador"
   ]
  },
  {
   "cell_type": "code",
   "execution_count": 126,
   "id": "b702b70c-2ba0-42ac-a4b5-a82e0d815ab1",
   "metadata": {},
   "outputs": [],
   "source": [
    "client.close()"
   ]
  },
  {
   "cell_type": "code",
   "execution_count": null,
   "id": "51c81015-0515-439e-80cc-6b0d98503689",
   "metadata": {},
   "outputs": [],
   "source": []
  }
 ],
 "metadata": {
  "kernelspec": {
   "display_name": "Python 3 (ipykernel)",
   "language": "python",
   "name": "python3"
  },
  "language_info": {
   "codemirror_mode": {
    "name": "ipython",
    "version": 3
   },
   "file_extension": ".py",
   "mimetype": "text/x-python",
   "name": "python",
   "nbconvert_exporter": "python",
   "pygments_lexer": "ipython3",
   "version": "3.9.10"
  }
 },
 "nbformat": 4,
 "nbformat_minor": 5
}
