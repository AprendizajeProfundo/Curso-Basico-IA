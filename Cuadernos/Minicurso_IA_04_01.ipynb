{
 "cells": [
  {
   "cell_type": "markdown",
   "id": "810405a1-2210-417e-ae59-ab242d1ec6c0",
   "metadata": {
    "slideshow": {
     "slide_type": "slide"
    },
    "tags": []
   },
   "source": [
    "<figure>\n",
    "<img src=\"../Imagenes/logo-final-ap.png\"  width=\"80\" height=\"80\" align=\"left\"/> \n",
    "</figure>\n",
    "\n",
    "# <span style=\"color:blue\"><left>Aprendizaje Profundo</left></span>"
   ]
  },
  {
   "cell_type": "markdown",
   "id": "28f7fc31-df30-4653-a932-c8a2a49da5f7",
   "metadata": {
    "tags": []
   },
   "source": [
    "# <span style=\"color:red\"><center>Minicurso  de Inteligencia Artificial<center></span>"
   ]
  },
  {
   "cell_type": "markdown",
   "id": "a70bf7b2-6518-4760-93f1-413603d8363a",
   "metadata": {
    "tags": []
   },
   "source": [
    "## <span style=\"color:Green\"><center>Introducción a la visión artificial<center></span>"
   ]
  },
  {
   "cell_type": "markdown",
   "id": "cf1bf8ca-ed77-4511-b916-74d499d399aa",
   "metadata": {
    "slideshow": {
     "slide_type": "slide"
    },
    "tags": []
   },
   "source": [
    "##   <span style=\"color:blue\">Profesores</span>"
   ]
  },
  {
   "cell_type": "markdown",
   "id": "5f63beb7-5612-4237-af9c-934e353b89ee",
   "metadata": {},
   "source": [
    "1. Alvaro  Montenegro, PhD, ammontenegrod@unal.edu.co\n",
    "2. Daniel  Montenegro, Msc, dextronomo@gmail.com \n",
    "1. Oleg Jarma, Estadístico, ojarmam@unal.edu.co "
   ]
  },
  {
   "cell_type": "markdown",
   "id": "9ec3523f-4489-4d0d-984e-7930518a7826",
   "metadata": {
    "slideshow": {
     "slide_type": "slide"
    },
    "tags": []
   },
   "source": [
    "##   <span style=\"color:blue\">Asesora Medios y Marketing digital</span>\n",
    " "
   ]
  },
  {
   "cell_type": "markdown",
   "id": "6793e764-4797-4ed2-a9c0-b462ecd80a33",
   "metadata": {
    "tags": []
   },
   "source": [
    "4. Maria del Pilar Montenegro, pmontenegro88@gmail.com "
   ]
  },
  {
   "cell_type": "markdown",
   "id": "13cb34f6-40c2-4275-b305-ed02e20e068e",
   "metadata": {
    "slideshow": {
     "slide_type": "slide"
    },
    "tags": []
   },
   "source": [
    "## <span style=\"color:blue\">Asistentes</span>"
   ]
  },
  {
   "cell_type": "markdown",
   "id": "b9f4eee0-a400-427d-97b2-b909f6b88686",
   "metadata": {},
   "source": [
    "1. Nayibe Yesenia Arias, naariasc@unal.edu.co\n",
    "1. Venus Celeste Puertas, vpuertasg@unal.edu.co "
   ]
  },
  {
   "cell_type": "markdown",
   "id": "a5bbcf4c-0268-4b0d-8c61-a5a9a56c1b95",
   "metadata": {
    "slideshow": {
     "slide_type": "slide"
    },
    "tags": []
   },
   "source": [
    "## <span style=\"color:blue\">Introducción</span>"
   ]
  },
  {
   "cell_type": "code",
   "execution_count": null,
   "id": "b24fbfef-fac6-4b18-8877-caf222367a96",
   "metadata": {},
   "outputs": [],
   "source": []
  },
  {
   "cell_type": "markdown",
   "id": "122e5caf-e2a1-4874-a53c-149e6054283c",
   "metadata": {},
   "source": [
    "Los seres vivos, particularmente los humanos, tenemos capacidades increibles que, en muchos casos, damos por sentado. Una de estas es la vista"
   ]
  },
  {
   "cell_type": "markdown",
   "id": "cdc207ec-d071-429d-b216-98b4bf609245",
   "metadata": {},
   "source": [
    "<figure>\n",
    "<center>\n",
    "<img src=\"../Imagenes/city.jpg\" width=\"400\" height=\"400\" align=\"left\"/>\n",
    "</center>\n",
    "</figure>\n",
    "\n",
    "Viendo una sola imagen somos capaces de suponer/inferir muchas cosas. ¿Qué ejemplos pueden pensar?\n",
    "\n",
    "Para los humanos, esta tarea de describir, comparar, diferenciar es muy sencilla. Los computadores pueden hacer eso sin algo, o mucha, ayuda.\n",
    "\n",
    "Supongamos que conectamos una cámara al computador y queremos obtener toda la información que podamos sobre lo que se capture. Necesitamos métodos que permitan que pueda diferenciar bordes, colores, identificar objetos, entre otro montón de cosas. Eso es lo que busca la visión artificial"
   ]
  },
  {
   "cell_type": "markdown",
   "id": "b05529ae-1f39-4450-b18b-d2018b32382b",
   "metadata": {
    "slideshow": {
     "slide_type": "subslide"
    },
    "tags": []
   },
   "source": [
    "<figure>\n",
    "<center>\n",
    "<img src=\"../Imagenes/CNN_arquitecture.png\" width=\"600\" height=\"400\"/>\n",
    "</center>\n",
    "</figure>\n",
    "\n",
    "El mayor de los avances en el campo de la visión por computadora es el uso de bases de datos y Redes Convolucionales"
   ]
  },
  {
   "cell_type": "markdown",
   "id": "7cc7ad31-dda5-4109-882b-361a568d7193",
   "metadata": {
    "slideshow": {
     "slide_type": "slide"
    },
    "tags": []
   },
   "source": [
    "## <span style=\"color:blue\">Aplicaciones</span>"
   ]
  },
  {
   "cell_type": "markdown",
   "id": "1136a92b-7a80-40d1-908d-72493b63d314",
   "metadata": {
    "tags": []
   },
   "source": [
    "### Rastreo de contornos\n",
    "<figure>\n",
    "<center>\n",
    "<img src=\"../Imagenes/contour_detection.gif\" width=\"300\" height=\"300\"/>\n",
    "</center>\n",
    "</figure>"
   ]
  },
  {
   "cell_type": "markdown",
   "id": "c5b7c4fd-3b93-4374-bcd8-486a2fae9770",
   "metadata": {
    "slideshow": {
     "slide_type": "subslide"
    },
    "tags": []
   },
   "source": [
    "### Reconocimiento Facial\n",
    "<figure>\n",
    "<center>\n",
    "<img src=\"../Imagenes/facial_detection.gif\" width=\"400\" height=\"400\"/>\n",
    "</center>\n",
    "</figure>"
   ]
  },
  {
   "cell_type": "markdown",
   "id": "c6312d61-768d-4f0a-82fd-841b2f375331",
   "metadata": {
    "slideshow": {
     "slide_type": "subslide"
    },
    "tags": []
   },
   "source": [
    "### Detección de objetos\n",
    "<figure>\n",
    "<center>\n",
    "<img src=\"../Imagenes/object_detection.gif\" width=\"400\" height=\"400\"/>\n",
    "</center>\n",
    "</figure>"
   ]
  },
  {
   "cell_type": "markdown",
   "id": "ce3e1170-ecdf-4941-ac62-86aaf31f7930",
   "metadata": {
    "slideshow": {
     "slide_type": "subslide"
    },
    "tags": []
   },
   "source": [
    "### Estimación de poses\n",
    "<figure>\n",
    "<center>\n",
    "<img src=\"../Imagenes/body_pose.gif\" width=\"200\" height=\"400\"/>\n",
    "</center>\n",
    "</figure>"
   ]
  },
  {
   "cell_type": "markdown",
   "id": "247e2dbc-b5d2-4ce1-867f-8066954bef39",
   "metadata": {
    "slideshow": {
     "slide_type": "slide"
    },
    "tags": []
   },
   "source": [
    "## <span style=\"color:blue\">Convolución: El mayor aliado</span>"
   ]
  },
  {
   "cell_type": "markdown",
   "id": "eb3c6985-5d89-403c-ba4c-b5afc0355179",
   "metadata": {},
   "source": [
    "Las imagenes pueden representarse por números a través de ciertas codificaciones. Si una imágen está en escala de grises, cada pixel puede aplicarse como un número de 0 a 255\n",
    "\n",
    "<figure>\n",
    "<center>\n",
    "<img src=\"../Imagenes/imagematrix.png\" width=\"600\" height=\"400\"/>\n",
    "</center>\n",
    "</figure>\n",
    "\n",
    "Esta puede ser una forma adecuada para que el computador comprenda el concepto de imágen, pero esto se vuelve cada vez más complicado si las imagenes son más grandes."
   ]
  },
  {
   "cell_type": "markdown",
   "id": "698f59cb-9425-480e-b362-ac7fc1367784",
   "metadata": {
    "slideshow": {
     "slide_type": "subslide"
    },
    "tags": []
   },
   "source": [
    "Y esto solo empeora cuando se tratan de imágenes a color, que tienen muchos tipos codificación, como el RGB\n",
    "\n",
    "<figure>\n",
    "<center>\n",
    "<img src=\"../Imagenes/RGB.png\" width=\"200\" height=\"400\"/>\n",
    "</center>\n",
    "</figure>\n",
    "\n",
    "Aquí no se tiene un número por pixel, sino 3. Teniendo esto tres matrices con información a procesar."
   ]
  },
  {
   "cell_type": "markdown",
   "id": "df77db18-f050-4e08-9670-25347fd741e1",
   "metadata": {
    "slideshow": {
     "slide_type": "subslide"
    },
    "tags": []
   },
   "source": [
    "A razón de esto, se busca una forma de poder obtener ciertas características de una manera óptima. De aquí salen las convoluciones\n",
    "\n",
    "¿Qué es una convolución? se puede pensar como una multiplicación especial de matrices. Se tiene  la matriz inicial de datos y una segunda matriz llamada \"kernel\". El kernel va a irse \"moviendo\" a través de la matriz de datos y hace una multiplicación de los datos. Depende del kernel, es posible obtener diferentes caraterísticas. Razón por la que el proceso puede repetirse varias veces con diferentes kernel para generar un \"mapa de características\".  Luego de este proceso se aplica una operación en el kernel para representar la información obtenida, este proceso final se conoce como \"pooling\".\n",
    "\n",
    "<figure>\n",
    "<center>\n",
    "<img src=\"../Imagenes/convolution1.gif\" width=\"400\" height=\"400\"/>\n",
    "</center>\n",
    "</figure>"
   ]
  },
  {
   "cell_type": "markdown",
   "id": "5c62e59f-fb58-4beb-abbd-7a101e493221",
   "metadata": {
    "slideshow": {
     "slide_type": "subslide"
    },
    "tags": []
   },
   "source": [
    "<figure>\n",
    "<center>\n",
    "<img src=\"../Imagenes/Image-convolution.png\" width=\"800\" height=\"400\"/>\n",
    "</center>\n",
    "</figure>\n"
   ]
  },
  {
   "cell_type": "markdown",
   "id": "c5758429-d976-4eb5-969f-17d96a0a7130",
   "metadata": {
    "slideshow": {
     "slide_type": "slide"
    },
    "tags": []
   },
   "source": [
    "## <span style=\"color:blue\">Redes Neuronales con capas convolucionales</span>"
   ]
  },
  {
   "cell_type": "markdown",
   "id": "6e21b17b-51f9-47f0-9701-37f02246d8b4",
   "metadata": {},
   "source": [
    "Utilizando las convoluciones como pasos en la red neuronal, complicamos un poco más el proceso a favor de obtener mayor información. La estructura básica de una red neuronal convolucional \"básica\" para clasificación es parecida a lo siguiente\n",
    "\n",
    "<figure>\n",
    "<center>\n",
    "<img src=\"../Imagenes/CNN_structure.png\" width=\"400\" height=\"400\"/>\n",
    "</center>\n",
    "</figure>"
   ]
  },
  {
   "cell_type": "markdown",
   "id": "e472b5fb-5a03-4072-9dc7-846ee0aa94c7",
   "metadata": {
    "slideshow": {
     "slide_type": "slide"
    },
    "tags": []
   },
   "source": [
    "## <span style=\"color:blue\">Ejemplo práctico: Clasificación con redes convolucionales</span>"
   ]
  },
  {
   "cell_type": "markdown",
   "id": "c315d2f9-c5d2-4946-9b04-0ca0b6e92ffc",
   "metadata": {
    "tags": []
   },
   "source": [
    "[Ejemplo de red neuronal con convoluciones(html)](../Presentaciones/CNN_01_FashionMNIST.html)"
   ]
  },
  {
   "cell_type": "markdown",
   "id": "3b6787dc-27bd-4fa5-87a5-4083d6db5613",
   "metadata": {
    "slideshow": {
     "slide_type": "skip"
    },
    "tags": []
   },
   "source": [
    "[Ejemplo de red neuronal con convoluciones(cuaderno)](../Cuadernos/CNN_01_FashionMNIST.ipynb)"
   ]
  }
 ],
 "metadata": {
  "kernelspec": {
   "display_name": "Python 3 (ipykernel)",
   "language": "python",
   "name": "python3"
  },
  "language_info": {
   "codemirror_mode": {
    "name": "ipython",
    "version": 3
   },
   "file_extension": ".py",
   "mimetype": "text/x-python",
   "name": "python",
   "nbconvert_exporter": "python",
   "pygments_lexer": "ipython3",
   "version": "3.9.10"
  }
 },
 "nbformat": 4,
 "nbformat_minor": 5
}
