{
 "cells": [
  {
   "cell_type": "markdown",
   "id": "f06fe6a3-6d23-4a66-a05a-a5a5dddbf11c",
   "metadata": {},
   "source": [
    "<figure>\n",
    "<img src=\"../Imagenes/logo_depto.png\"  width=\"150\" height=\"150\" align=\"left\"/> \n",
    "</figure>\n",
    "\n",
    "# <span style=\"color:blue\"><left>Inteligencia Artificial</left></span>"
   ]
  },
  {
   "cell_type": "markdown",
   "id": "3afa87d4-a848-4512-aebb-f7c2d7f516bc",
   "metadata": {},
   "source": [
    "# <span style=\"color:red\"><center>Syllabus</center></span>"
   ]
  },
  {
   "cell_type": "markdown",
   "id": "496e814a-f443-4647-ad11-2d278f147c6f",
   "metadata": {},
   "source": [
    "<center>Tópicos avanzados de estadística I (2026925) Grupo 1</center>"
   ]
  },
  {
   "cell_type": "markdown",
   "id": "8b7f626b-6f36-452a-b69a-20b7853f78bf",
   "metadata": {},
   "source": [
    "<figure>\n",
    "<center>\n",
    "<img src=\"../Imagenes/Ciclo IA.png\" width=\"600\" height=\"600\" align=\"center\"/>\n",
    "</center>\n",
    "</figure>\n",
    "\n",
    "Fuente: Alvaro Montenegro"
   ]
  },
  {
   "cell_type": "markdown",
   "id": "f4af15d9-dc34-47d1-8bc8-401920052965",
   "metadata": {
    "slideshow": {
     "slide_type": "slide"
    },
    "tags": []
   },
   "source": [
    "##   <span style=\"color:blue\">Profesor</span>"
   ]
  },
  {
   "cell_type": "markdown",
   "id": "4d2c8a67-b0bc-4917-91c3-58ec13903f67",
   "metadata": {},
   "source": [
    "- Alvaro  Montenegro, PhD, ammontenegrod@unal.edu.co"
   ]
  },
  {
   "cell_type": "markdown",
   "id": "f269d1fc-38b7-465f-a205-5aad1dd6d86c",
   "metadata": {},
   "source": [
    "## <span style=\"color:blue\">Referencias</span>"
   ]
  },
  {
   "cell_type": "markdown",
   "id": "c1d4e24b-b394-4339-aab7-2fd7adfe8544",
   "metadata": {},
   "source": [
    "1. [Alvaro Montenegro y Daniel Montenegro, Inteligencia Artificial y Aprendizaje Profundo, 2021](https://github.com/AprendizajeProfundo/Diplomado)\n",
    "1. [Alvaro Montenegro, Daniel Montenegro y Oleg Jarma, Inteligencia Artificial y Aprendizaje Profundo Avanzado, 2022](https://github.com/AprendizajeProfundo/Diplomado-Avanzado)\n",
    "1. [Dive into deep learning, 2022](https://d2l.ai/)\n"
   ]
  },
  {
   "cell_type": "markdown",
   "id": "a532f96c-9a92-4c87-873f-ef7ccbf74482",
   "metadata": {},
   "source": [
    "## <span style=\"color:blue\">Contenido</span>"
   ]
  },
  {
   "cell_type": "markdown",
   "id": "b5e038d1-69d9-4f84-b920-a1e43773486f",
   "metadata": {},
   "source": [
    "* [Objetivos](#Objetivos)\n",
    "* [Justificación](#Justificación)\n",
    "* [Metodología](#Metodología)\n",
    "* [Tecnologías](#Tecnologías)\n",
    "* [Evaluación](#Evaluación)\n",
    "* [Temas](#Temas)"
   ]
  },
  {
   "cell_type": "markdown",
   "id": "3b7fa999-0f4e-4ba5-8fc1-40d94046faf7",
   "metadata": {},
   "source": [
    "# <span style=\"color:blue\">Objetivos</span> "
   ]
  },
  {
   "cell_type": "markdown",
   "id": "47b77605-8505-4f22-a89c-1fa9d881e5f9",
   "metadata": {},
   "source": [
    "### Objetivo General"
   ]
  },
  {
   "cell_type": "markdown",
   "id": "9c3284e1-5d39-4768-9b77-65aeec042a9c",
   "metadata": {},
   "source": [
    "Es un programa de formación de alto nivel en inteligencia artificial que prepare a los asistentes para desarrollar, asesorar, dirigir proyectos de innovación científica y tecnológica  en sus trabajos, basados en las técnicas más modernas de manejo de información."
   ]
  },
  {
   "cell_type": "markdown",
   "id": "1c97df00-5aac-4e55-983a-f3fb46a31df3",
   "metadata": {},
   "source": [
    "### Objetivos específicos:"
   ]
  },
  {
   "cell_type": "markdown",
   "id": "319db9e6-1ca7-406a-867e-144c5589712c",
   "metadata": {},
   "source": [
    "* Introducir a los asistentes en los fundamentos teóricos y prácticos de la inteligencia artificial y el aprendizaje profundo.\n",
    "* Proporcionar los elementos de software que le permiten al asistente el desarrollo rápido y efectivo de productos basados en inteligencia artificial y aprendizaje profundo.\n",
    "* Incentivar el uso de la inteligencia artificial y el aprendizaje profundo como un factor de desarrollo importante en el país mediante la formación de personas altamente calificadas."
   ]
  },
  {
   "cell_type": "markdown",
   "id": "50324ab4-8fd8-4b3c-b591-b20b48e8963e",
   "metadata": {},
   "source": [
    "## <span style=\"color:blue\">Justificación</span> "
   ]
  },
  {
   "cell_type": "markdown",
   "id": "5c4e58df-4e05-40d0-bf8e-ca8256997678",
   "metadata": {},
   "source": [
    "La inteligencia artificial (IA) está constituida actualmente por un amplio conjunto de técnicas con las cuales se pretende imitar actividades humanas específicas que requieren algún tipo de entrenamiento o razonamiento básico, como por ejemplo la toma de decisiones a partir de la identificación de patrones específicos en grandes conjuntos de datos.\n",
    "\n",
    "Los primeros indicios de la IA pueden ubicarse con los antiguos pensadores griegos, pero el desarrollo actual solamente fue posible desde la última década del siglo pasado y vive actualmente su infancia dorada. Tal desarrollo se ha dado gracias por un lado al desarrollo de hardware avanzado, como las máquinas multi-núcleo, los dispositivos GPU y TPU actuales, y por el otro, al desarrollo de algoritmos matemáticos con profundas raíces en la estadística moderna, la teoría de la Información y la técnicas de optimización estocásticas en lo que se conoce como aprendizaje y profundo (AP) y más ampliamente como aprendizaje de máquinas.\n",
    "\n",
    "Las técnicas desarrolladas hasta nuestros días han demostrado ser tan poderosas y cautivantes, que prácticamente casi cualquier actividad humana resulta profundamente alterada  por su utilización.\n",
    "\n",
    "El gobierno nacional tiene dentro del plan nacional de desarrollo la capacitación en eśta área y el avance del desarrollo del país con  base en sus técnicas. Adicionalmente, el gobierno está muy interesado en el desarrollo de lo que se ha llamado economía naranja, la cual propone el apoyo a iniciativas de innovación, muchas de  las cuales, se basan precisamente en la utilización de las técnicas de la IA y el AP.\n",
    "\n",
    "El Departamento de Estadística consciente de esta necesidad ofrece a sus estudiantes este curso con el propósito de contribuir directamente en la formación al más alto nivel de personas que deseen capacitarse en el área que más rápidamente está introduciendo cambios en la sociedad actual."
   ]
  },
  {
   "cell_type": "markdown",
   "id": "1e9efa93-5dfe-43e2-8216-b08f747dff1a",
   "metadata": {},
   "source": [
    "## <span style=\"color:blue\">Metodología</span> "
   ]
  },
  {
   "cell_type": "markdown",
   "id": "0e244542-a8f5-4695-bf65-d94462761873",
   "metadata": {},
   "source": [
    "Se desarrollará con base en 64 horas presenciales distribuidas en 16 semanas. Para aprobar el curso, los asistentes deben desarrollar un proyecto de aprendizaje profundo o inteligencia artificial, el cual podrá ser desarrollado por más de un asistente, con la asesoría del profesor. Los proyectos se irán evaluando a lo largo del curso. Para ello, los estudiantes crearán un repositorio de GitHub en donde se colocaran los avances semanales de su proyecto.\n",
    "\n",
    "Adicionalmente, el profesor dejará algunas tareas para complemenatr la evaluación y asignará exposiciones para ser presentadas a lo largo del curso."
   ]
  },
  {
   "cell_type": "markdown",
   "id": "4a9eae7c-99fc-4ea6-98f5-0c855bc20d54",
   "metadata": {},
   "source": [
    "## <span style=\"color:blue\">Tecnologías</span> "
   ]
  },
  {
   "cell_type": "markdown",
   "id": "c7932182-9834-43ad-83bd-5e090ec304b2",
   "metadata": {},
   "source": [
    "- Python 3.X\n",
    "- Tensorflow 2.X\n",
    "-  Pytorch 1.9\n",
    "- Keras: tf.Keras \n",
    "- Jupyter Lab\n",
    "- Nbviewer\n",
    "- Github\n",
    "- Google Colab\n",
    "- Google Drive\n",
    "- Open CV\n",
    "- Librosa\n",
    "- Nltk\n",
    "- Spacy\n",
    "- Gensim\n",
    "- HuggingFace 4.X"
   ]
  },
  {
   "cell_type": "markdown",
   "id": "34537923-bb25-4e05-bbe3-afcc9b436304",
   "metadata": {},
   "source": [
    "## <span style=\"color:blue\">Evaluación</span> "
   ]
  },
  {
   "cell_type": "markdown",
   "id": "ccbc28d1-4519-4193-b41b-021766c3781c",
   "metadata": {},
   "source": [
    "+ Tareas 10\\%\n",
    "+ Exposición 10\\%\n",
    "+ Proyecto de curso %70\\%\n",
    "+ Presentación del proyecto %10%"
   ]
  },
  {
   "cell_type": "markdown",
   "id": "6e695713-8f7a-4505-8912-95d9a121c14b",
   "metadata": {},
   "source": [
    "## <span style=\"color:blue\">Temas</span> "
   ]
  },
  {
   "cell_type": "markdown",
   "id": "496efd45-ce7b-4a07-aff5-a473d4ea6274",
   "metadata": {},
   "source": [
    "### Introdución al curso: 2 horas"
   ]
  },
  {
   "cell_type": "markdown",
   "id": "1339ee89-0bd2-4560-a854-e787f13c367e",
   "metadata": {},
   "source": [
    "* El ciclo de la IA\n",
    "<figure>\n",
    "<center>\n",
    "<img src=\"../Imagenes/Ciclo IA.png\" width=\"600\" height=\"600\" align=\"center\"/>\n",
    "</center>\n",
    "</figure>\n",
    "\n",
    "Fuente: Alvaro Montenegro"
   ]
  },
  {
   "cell_type": "markdown",
   "id": "ca6b29bb-eed2-4a22-9dcf-d8d36d8ae4b0",
   "metadata": {},
   "source": [
    "+ [Glide -video](https://www.youtube.com/watch?v=lfAGGhnH-aE)\n",
    "+ [Glide- paper](https://arxiv.org/pdf/2112.10741.pdf)\n",
    "+ [Glide-github](https://github.com/openai/glide-text2im)"
   ]
  },
  {
   "cell_type": "markdown",
   "id": "c29798d1-0fb4-49f4-8416-05b6aeb821d1",
   "metadata": {},
   "source": [
    "### Introducción a Programación: 10 horas"
   ]
  },
  {
   "cell_type": "markdown",
   "id": "e20af27a-8cb8-4a44-abc7-cb0d1dbfdfa5",
   "metadata": {},
   "source": [
    "* Entornos  de Programación y desarrollo:  Python, Anaconda, Jupyterlab, Github, nbviewer, Binder, Tensorflow, Pytorch, Keras, \n",
    "* Desarrollo en la nube:  Google Colab\n",
    "* Introducción a Python\n",
    "* Objetos en Python\n",
    "* Tipos de variables\n",
    "* Estructuras de control\n",
    "* Funciones\n",
    "* Clases y objetos\n",
    "* Métodos y propiedades\n",
    "* Herencia\n",
    "* Clases abstractas, jerarquías\n",
    "* Sobrecarga de funciones y operadores\n",
    "* Protocolos: contextos\n",
    "* Programación funcional. Funciones que generan funciones\n",
    "* Arreglos. Introducción a Numpy. Operaciones con arreglos\n",
    "* Tablas de datos: dataframes:con Pandas\n",
    "* Programación en Tensorflow 2 (Google)\n",
    "* Tensores. Álgebra de tensores\n",
    "* Conversión de arreglos Numpy en tensores de Tensorflow\n",
    "* Menejo de datos con tf.data.Dataset\n",
    "* Diferenciación automática con  tf.GradientTape\n",
    "* Entrenamiento e inferencia de modelos de IA con Tensorflow\n",
    "* Programación en Keras (tf.keras)\n",
    "* Perceptron Multicapa\n",
    "* Modelo Secuencial\n",
    "* API funcional\n",
    "* Primera red neuronal con tf.keras\n",
    "* Programación en Pytorch (Facebook)\n",
    "* Tensores. Algebra de tensores\n",
    "* Conversión de arreglos Numpy en tensores de Pytorch\n",
    "* Manejo de datos con DataSets y DataLoaders\n",
    "* Diferenciación automática con torch.autograd\n",
    "* Entrenamiento e inferencia de modelos de IA con Pytorch"
   ]
  },
  {
   "cell_type": "markdown",
   "id": "126be86c-2c49-4e0e-9fd8-6a301715ecd2",
   "metadata": {},
   "source": [
    "### Matemáticas de la IA: 4 horas"
   ]
  },
  {
   "cell_type": "markdown",
   "id": "db3d4f8f-4cc3-4fff-8bfe-52f07a01bbc4",
   "metadata": {},
   "source": [
    "* Tensores\n",
    "* Diferenciación automática\n",
    "* Optimización: gradiente descendiente estocástico"
   ]
  },
  {
   "cell_type": "markdown",
   "id": "0904c50b-1d47-4ef2-a003-3fdbaf6a7dc6",
   "metadata": {},
   "source": [
    "### Introducción a las Redes Neuronales: 4 Horas"
   ]
  },
  {
   "cell_type": "markdown",
   "id": "0af5a29e-211b-4c86-863e-62deea9eb6df",
   "metadata": {},
   "source": [
    "* Capas de Entrada\n",
    "*  Capas de Salida\n",
    "* Capas Ocultas\n",
    "* Perceptron Multicapa\n",
    "* Implementación en Keras\n",
    "* Modelo Secuencial de Keras\n",
    "* API funcional de Keras\n",
    "* Subclassing en Keras\n",
    "* Diseño de redes neuronales\n",
    "* Regularización: L1, L2, Dropout\n",
    "* Grafos de las redes: Tensorboard\n",
    "* Preparación de datos de entrenamientos, prueba y validación\n",
    "* Optimizadores, métricas.\n",
    "* Compilación. \n",
    "* Modo entrenamiento.\n",
    "* Modo inferencia: validación, predicción.\n",
    "* Modelamiento con Pytorch"
   ]
  },
  {
   "cell_type": "markdown",
   "id": "10b4516f-18ea-4a58-8ac2-8ffac9ec4ada",
   "metadata": {},
   "source": [
    "### Redes Recurrentes: 4 Horas"
   ]
  },
  {
   "cell_type": "markdown",
   "id": "1e33e7a0-d9ee-49df-b0e3-a1003d6fb01f",
   "metadata": {},
   "source": [
    "* Introducción\n",
    "* Datos Secuenciales\n",
    "* Redes con Memoria\n",
    "* Redes LSTM, GRU, Bidireccionales\n",
    "* Ejemplo Dummy de series de tiempo\n",
    "* Series de tiempo Univariadas: Predicción del precio de acciones\n",
    "* Series de tiempo Multivariadas: Predicción del clima\n",
    "* Bandas de confianza: Bootstrap\n",
    "* Series de tiempo muy largas"
   ]
  },
  {
   "cell_type": "markdown",
   "id": "3132fffb-cd8e-4cd3-8960-23d78c9e9af8",
   "metadata": {},
   "source": [
    "### Autocodificadores: 4 horas"
   ]
  },
  {
   "cell_type": "markdown",
   "id": "47d2ef51-21bf-47a5-968a-464a7c51d053",
   "metadata": {},
   "source": [
    "* Autocodificadores generales\n",
    "    * Codificadores\n",
    "    * Decodificadores\n",
    "    * Representación Latente\n",
    "    * Coloración de Imágenes\n",
    "    * Reducción de Ruido\n",
    "    * Limpieza de Imágenes\n",
    "* Autocodificadores variacionales\n",
    "    * Modelos Generativos\n",
    "    * Representación Latente"
   ]
  },
  {
   "cell_type": "markdown",
   "id": "ef030feb-1c71-4822-ab42-76ed14b415fb",
   "metadata": {},
   "source": [
    "### Visión Artificial : 18 horas"
   ]
  },
  {
   "cell_type": "markdown",
   "id": "2e159f00-2aa5-47db-8089-342aadbdbe23",
   "metadata": {},
   "source": [
    "* Tratamiento general de imágenes\n",
    "    * Filtros clásicos, \n",
    "    * Precesamiento, datos aumentados, etiquetado, organización de datos\n",
    "    * Convoluciones, pooling, padding, stride,\n",
    "    * Redes CNN;  visualización de las capas de una red convolucional\n",
    "    * Deep learning sobre imágenes: \n",
    "* Detección Facial usando OpenCV y CNN\n",
    "    * Aprendizaje Viola-Jones\n",
    "    * Predicción de puntos clave faciales\n",
    "    * Predicción 3D de puntos clave faciales\n",
    "* Arquitecturas modernas\n",
    "    * Alexnet, VGG16, Inception, Resnet, \n",
    "    * R-CNN, fast R-CNN, \n",
    "* Transferencia de conocimiento\n",
    "    * Guardando los modelos de Tensorflow y Pytorch\n",
    "    * Descargando pesos\n",
    "    * Decodificando predicciones\n",
    "    * Importando otras característica comunes\n",
    "    * Construyendo un modelo\n",
    "* Detección de objetos usando YOLO\n",
    "    * Introducción a YOLO\n",
    "    * Introducción a Darknet\n",
    "    * Entrenando sus propias imágenes con YOLO v3\n",
    "* Segmentación  Semántica (exposición)\n",
    "    * Tensorflow DeepLab para segmentación semántica\n",
    "    * Generación de imágenes artificiales usando DCGANs\n",
    "    * Transferencia de estilos\n",
    "* Reconocimiento de acciones (exposición)\n",
    "    * Estimación de poses humanas:\n",
    "    * OpenPose, Stacked-hourglass modelos, PoseNet\n",
    "* Detección de objetos(exposición)\n",
    "    * SSD\n",
    "    * R-FCN\n",
    "    * API de Tensorflow para detección de objetos\n",
    "* Tratamiento de Audios(exposición)\n",
    "    * Pre-procesamiento: Librosa\n",
    "    * Transformada de Fourier\n",
    "    * Trasformación de audios a imágenes\n",
    "    * Ejemplos completos aplicados\n",
    "* Tratamiento de Videos (exposición)\n",
    "    * Pre-procesamiento con Open CV\n",
    "    * Reducción de  cuadros (frames)\n",
    "    * Reducción a blanco y negro\n",
    "    * Ejemplos aplicados a análisis de sentimiento"
   ]
  },
  {
   "cell_type": "markdown",
   "id": "1a76c336-c66c-49b7-b0ee-374fe303aed2",
   "metadata": {},
   "source": [
    "### Redes Generativas Adversarias : 4 horas"
   ]
  },
  {
   "cell_type": "markdown",
   "id": "5f38588a-52af-4722-ac6d-65fc689a1321",
   "metadata": {},
   "source": [
    "* Redes Adversarias\n",
    "* Red falsificadora\n",
    "* Red discriminadora\n",
    "*  Fake Objects"
   ]
  },
  {
   "cell_type": "markdown",
   "id": "c256adf9-8631-43ea-b708-f724cfaca417",
   "metadata": {},
   "source": [
    "### Procesamiento de Lenguaje Natural: 18 horas"
   ]
  },
  {
   "cell_type": "markdown",
   "id": "fc6836cf-b169-4c23-b5a2-13024ccaf859",
   "metadata": {},
   "source": [
    "* Introducción al tratamiento clásico de textos\n",
    "* Generación de texto usando caracteres y redes recurrentes\n",
    "* Estado del arte en clasificación de documentos(2022)\n",
    "* Sumergimientos (embeddings)\n",
    "    * Modelos CBOW y Skipgram\n",
    "* Sumergimientos pre-entrenados\n",
    "    * Modelos seq2seq\n",
    "    * Modelos Glove,  word2vec, FastText\n",
    "    * Modelos de clasificación: Análisis de sentimiento-Tweets\n",
    "    * Calificación automática de ensayos y tests de preguntas abiertas\n",
    "* Modelos atencionales\n",
    "    * Introducción al concepto de atención\n",
    "    * Modelos seq2seq atencionales. Traductores clásicos\n",
    "    * Modelos auto-atencionales\n",
    "* Transformers\n",
    "    * Arquitectura transformer\n",
    "    * Traductor Inglés-Español\n",
    "    * Fundamentos de chatbots basados en transformers\n",
    "* Modelos BERT\n",
    "    * Modelos pre-entrenados y ajuste fino\n",
    "    * Introducción a HuggingFace.\n",
    "* Tareas de lenguaje Natural I (exposicion)\n",
    "    * Inferencia textual\n",
    "    * zero-shot\n",
    "    * Resumen de documentos\n",
    "* Tareas de lenguaje Natural II (exposicion)\n",
    "    *  Preguntas/Respuestas\n",
    "    * Traducción\n",
    "    * Generación de texto"
   ]
  },
  {
   "cell_type": "markdown",
   "id": "03757842-4544-4fc5-8502-fccb5521a1e9",
   "metadata": {},
   "source": [
    "### Exposiciones: 6 horas"
   ]
  },
  {
   "cell_type": "markdown",
   "id": "229b0812-d37a-41fb-bb35-42ccadc4d5bd",
   "metadata": {},
   "source": [
    "* Segmentación  Semántica\n",
    "* Reconocimiento de acciones\n",
    "* Tratamiento de Audios\n",
    "* Tratamiento de Videos\n",
    "* Detección de objetos\n",
    "* Tareas de lenguaje natural I\n",
    "* Tareas de lenguaje natural II"
   ]
  },
  {
   "cell_type": "markdown",
   "id": "9fdb5a57-55cd-4ee0-8d81-dee10ca56527",
   "metadata": {},
   "source": [
    "### Proyectos finales: 6 horas"
   ]
  },
  {
   "cell_type": "code",
   "execution_count": null,
   "id": "37b8a1e4-cc55-4f16-878f-d5ff87c3ca9d",
   "metadata": {},
   "outputs": [],
   "source": [
    "* Presentación de proyectos"
   ]
  },
  {
   "cell_type": "code",
   "execution_count": null,
   "id": "1f68b2ba-795b-4e6b-a6e0-c92dced8abc9",
   "metadata": {},
   "outputs": [],
   "source": []
  }
 ],
 "metadata": {
  "kernelspec": {
   "display_name": "Python 3 (ipykernel)",
   "language": "python",
   "name": "python3"
  },
  "language_info": {
   "name": ""
  }
 },
 "nbformat": 4,
 "nbformat_minor": 5
}
